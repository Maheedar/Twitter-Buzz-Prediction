{
 "cells": [
  {
   "cell_type": "markdown",
   "metadata": {
    "colab_type": "text",
    "id": "dB_dRBZ3JcUj"
   },
   "source": [
    "### <font color='red'> Buzz Prediction on Twitter\n",
    "\n",
    "Project Description:\n",
    "- Use same datasets as previous project.\n",
    "- Run all the models only on 10% data. Use code given in previous project for sampling.\n",
    "- Preprocess data: Explore data and apply data scaling.\n",
    "\n",
    "Regression Task:\n",
    "- Apply any two models with bagging and any two models with pasting.\n",
    "- Apply any two models with adaboost boosting\n",
    "- Apply one model with gradient boosting\n",
    "- Apply PCA on data and then apply all the models in previous project again on data you get from PCA. Compare your results with results in previous project. You don't need to apply all the models twice. Just copy the result table from previous project, prepare similar table for all the models after PCA and compare both tables. Does PCA help in getting better results?\n",
    "- Apply deep learning models covered in class\n",
    "\n",
    "Classification Task:\n",
    "- Apply four voting classifiers - two with hard voting and two with soft voting\n",
    "- Apply any two models with bagging and any two models with pasting.\n",
    "- Apply any two models with adaboost boosting\n",
    "- Apply one model with gradient boosting\n",
    "- Apply PCA on data and then apply all the models in previous project again on data you get from PCA. Compare your results with results in previous project. You don't need to apply all the models twice. Just copy the result table from previous project, prepare similar table for all the models after PCA and compare both tables. Does PCA help in getting better results?\n",
    "- Apply deep learning models covered in class\n"
   ]
  },
  {
   "cell_type": "code",
   "execution_count": 1,
   "metadata": {
    "colab": {
     "base_uri": "https://localhost:8080/",
     "height": 91,
     "resources": {
      "http://localhost:8080/nbextensions/google.colab/files.js": {
       "data": "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",
       "headers": [
        [
         "content-type",
         "application/javascript"
        ]
       ],
       "ok": true,
       "status": 200,
       "status_text": ""
      }
     }
    },
    "colab_type": "code",
    "id": "48dlGrr4JdUH",
    "outputId": "bc4a257b-3036-4e90-9eb2-462e8cdde6f7"
   },
   "outputs": [
    {
     "data": {
      "text/html": [
       "\n",
       "     <input type=\"file\" id=\"files-a302dfca-9e53-44dc-8ec1-3d0fc5ac705a\" name=\"files[]\" multiple disabled />\n",
       "     <output id=\"result-a302dfca-9e53-44dc-8ec1-3d0fc5ac705a\">\n",
       "      Upload widget is only available when the cell has been executed in the\n",
       "      current browser session. Please rerun this cell to enable.\n",
       "      </output>\n",
       "      <script src=\"/nbextensions/google.colab/files.js\"></script> "
      ],
      "text/plain": [
       "<IPython.core.display.HTML object>"
      ]
     },
     "metadata": {
      "tags": []
     },
     "output_type": "display_data"
    },
    {
     "name": "stdout",
     "output_type": "stream",
     "text": [
      "Saving Twitter.data to Twitter.data\n",
      "User uploaded file \"Twitter.data\" with length 283252207 bytes\n"
     ]
    }
   ],
   "source": [
    "#from google.colab import files\n",
    "\n",
    "#uploaded = files.upload()\n",
    "\n",
    "#for fn in uploaded.keys():\n",
    "#  print('User uploaded file \"{name}\" with length {length} bytes'.format(\n",
    "#      name=fn, length=len(uploaded[fn])))"
   ]
  },
  {
   "cell_type": "markdown",
   "metadata": {
    "colab_type": "text",
    "id": "eOZBBVl_JcUl"
   },
   "source": [
    "## Import Required Packages"
   ]
  },
  {
   "cell_type": "code",
   "execution_count": 1,
   "metadata": {
    "colab": {},
    "colab_type": "code",
    "id": "bCVaKnHPJcUl"
   },
   "outputs": [
    {
     "name": "stderr",
     "output_type": "stream",
     "text": [
      "C:\\Users\\mahee\\Anaconda3\\lib\\site-packages\\sklearn\\ensemble\\weight_boosting.py:29: DeprecationWarning: numpy.core.umath_tests is an internal NumPy module and should not be imported. It will be removed in a future NumPy release.\n",
      "  from numpy.core.umath_tests import inner1d\n"
     ]
    }
   ],
   "source": [
    "import numpy as np\n",
    "import pandas as pd\n",
    "from scipy import stats\n",
    "import matplotlib.pyplot as plt\n",
    "from matplotlib.cm import register_cmap\n",
    "import seaborn as sns\n",
    "%matplotlib inline\n",
    "import warnings\n",
    "warnings.filterwarnings('ignore')\n",
    "from sklearn.ensemble import BaggingRegressor\n",
    "from sklearn.model_selection import GridSearchCV\n",
    "from sklearn.linear_model import LinearRegression\n",
    "from sklearn.neighbors import KNeighborsRegressor\n",
    "from sklearn.ensemble import AdaBoostRegressor\n",
    "from  sklearn.ensemble import GradientBoostingRegressor\n",
    "from sklearn.decomposition import PCA\n",
    "from  sklearn.linear_model import Ridge\n",
    "from sklearn.linear_model import Lasso\n",
    "from sklearn.linear_model import SGDRegressor\n",
    "from sklearn.svm import LinearSVR\n",
    "from sklearn.svm import SVR\n",
    "from sklearn.pipeline import make_pipeline\n",
    "from sklearn.preprocessing  import PolynomialFeatures\n",
    "from sklearn.model_selection import train_test_split\n",
    "from sklearn.preprocessing import MinMaxScaler  # b/w 0 & 1"
   ]
  },
  {
   "cell_type": "markdown",
   "metadata": {
    "colab_type": "text",
    "id": "IMopN81QJcUp"
   },
   "source": [
    "## Read data into dataframe"
   ]
  },
  {
   "cell_type": "code",
   "execution_count": 2,
   "metadata": {
    "colab": {},
    "colab_type": "code",
    "id": "CS6pIHu1JcUq"
   },
   "outputs": [],
   "source": [
    "cols = ['NCD_0','NCD_1','NCD_2','NCD_3','NCD_4','NCD_5','NCD_6','AI_0','AI_1','AI_2','AI_3','AI_4','AI_5','AI_6','AS(NA)_0','AS(NA)_1','AS(NA)_2','AS(NA)_3','AS(NA)_4','AS(NA)_5','AS(NA)_6','BL_0','BL_1','BL_2','BL_3','BL_4','BL_5','BL_6','NAC_0','NAC_1','NAC_2','NAC_3','NAC_4','NAC_5','NAC_6','AS(NAC)_0','AS(NAC)_1','AS(NAC)_2','AS(NAC)_3','AS(NAC)_4','AS(NAC)_5','AS(NAC)_6','CS_0','CS_1','CS_2','CS_3','CS_4','CS_5','CS_6','AT_0','AT_1','AT_2','AT_3','AT_4','AT_5','AT_6','NA_0','NA_1','NA_2','NA_3','NA_4','NA_5','NA_6','ADL_0','ADL_1','ADL_2','ADL_3','ADL_4','ADL_5','ADL_6','NAD_0','NAD_1','NAD_2','NAD_3','NAD_4','NAD_5','NAD_6','Anotation']\n",
    "df = pd.read_csv('Twitter.data', header = None)\n",
    "df.columns = cols"
   ]
  },
  {
   "cell_type": "code",
   "execution_count": 3,
   "metadata": {
    "colab": {},
    "colab_type": "code",
    "id": "1twAFgrzJcUu",
    "outputId": "3d71f336-fa18-4746-f4a0-5aa96612a066"
   },
   "outputs": [
    {
     "data": {
      "text/html": [
       "<div>\n",
       "<style scoped>\n",
       "    .dataframe tbody tr th:only-of-type {\n",
       "        vertical-align: middle;\n",
       "    }\n",
       "\n",
       "    .dataframe tbody tr th {\n",
       "        vertical-align: top;\n",
       "    }\n",
       "\n",
       "    .dataframe thead th {\n",
       "        text-align: right;\n",
       "    }\n",
       "</style>\n",
       "<table border=\"1\" class=\"dataframe\">\n",
       "  <thead>\n",
       "    <tr style=\"text-align: right;\">\n",
       "      <th></th>\n",
       "      <th>NCD_0</th>\n",
       "      <th>NCD_1</th>\n",
       "      <th>NCD_2</th>\n",
       "      <th>NCD_3</th>\n",
       "      <th>NCD_4</th>\n",
       "      <th>NCD_5</th>\n",
       "      <th>NCD_6</th>\n",
       "      <th>AI_0</th>\n",
       "      <th>AI_1</th>\n",
       "      <th>AI_2</th>\n",
       "      <th>...</th>\n",
       "      <th>ADL_5</th>\n",
       "      <th>ADL_6</th>\n",
       "      <th>NAD_0</th>\n",
       "      <th>NAD_1</th>\n",
       "      <th>NAD_2</th>\n",
       "      <th>NAD_3</th>\n",
       "      <th>NAD_4</th>\n",
       "      <th>NAD_5</th>\n",
       "      <th>NAD_6</th>\n",
       "      <th>Anotation</th>\n",
       "    </tr>\n",
       "  </thead>\n",
       "  <tbody>\n",
       "    <tr>\n",
       "      <th>0</th>\n",
       "      <td>0</td>\n",
       "      <td>2</td>\n",
       "      <td>0</td>\n",
       "      <td>0</td>\n",
       "      <td>1</td>\n",
       "      <td>1</td>\n",
       "      <td>1</td>\n",
       "      <td>0</td>\n",
       "      <td>1</td>\n",
       "      <td>0</td>\n",
       "      <td>...</td>\n",
       "      <td>1.0</td>\n",
       "      <td>1.0</td>\n",
       "      <td>0</td>\n",
       "      <td>2</td>\n",
       "      <td>0</td>\n",
       "      <td>0</td>\n",
       "      <td>1</td>\n",
       "      <td>1</td>\n",
       "      <td>1</td>\n",
       "      <td>0.0</td>\n",
       "    </tr>\n",
       "    <tr>\n",
       "      <th>1</th>\n",
       "      <td>2</td>\n",
       "      <td>1</td>\n",
       "      <td>0</td>\n",
       "      <td>0</td>\n",
       "      <td>0</td>\n",
       "      <td>0</td>\n",
       "      <td>4</td>\n",
       "      <td>2</td>\n",
       "      <td>1</td>\n",
       "      <td>0</td>\n",
       "      <td>...</td>\n",
       "      <td>0.0</td>\n",
       "      <td>1.0</td>\n",
       "      <td>2</td>\n",
       "      <td>1</td>\n",
       "      <td>0</td>\n",
       "      <td>0</td>\n",
       "      <td>0</td>\n",
       "      <td>0</td>\n",
       "      <td>4</td>\n",
       "      <td>0.5</td>\n",
       "    </tr>\n",
       "    <tr>\n",
       "      <th>2</th>\n",
       "      <td>1</td>\n",
       "      <td>0</td>\n",
       "      <td>0</td>\n",
       "      <td>0</td>\n",
       "      <td>0</td>\n",
       "      <td>4</td>\n",
       "      <td>1</td>\n",
       "      <td>1</td>\n",
       "      <td>0</td>\n",
       "      <td>0</td>\n",
       "      <td>...</td>\n",
       "      <td>1.0</td>\n",
       "      <td>1.0</td>\n",
       "      <td>1</td>\n",
       "      <td>0</td>\n",
       "      <td>0</td>\n",
       "      <td>0</td>\n",
       "      <td>0</td>\n",
       "      <td>4</td>\n",
       "      <td>1</td>\n",
       "      <td>0.0</td>\n",
       "    </tr>\n",
       "    <tr>\n",
       "      <th>3</th>\n",
       "      <td>1</td>\n",
       "      <td>0</td>\n",
       "      <td>0</td>\n",
       "      <td>1</td>\n",
       "      <td>0</td>\n",
       "      <td>0</td>\n",
       "      <td>1</td>\n",
       "      <td>1</td>\n",
       "      <td>0</td>\n",
       "      <td>0</td>\n",
       "      <td>...</td>\n",
       "      <td>0.0</td>\n",
       "      <td>1.0</td>\n",
       "      <td>1</td>\n",
       "      <td>0</td>\n",
       "      <td>0</td>\n",
       "      <td>1</td>\n",
       "      <td>0</td>\n",
       "      <td>0</td>\n",
       "      <td>1</td>\n",
       "      <td>2.5</td>\n",
       "    </tr>\n",
       "    <tr>\n",
       "      <th>4</th>\n",
       "      <td>0</td>\n",
       "      <td>1</td>\n",
       "      <td>0</td>\n",
       "      <td>0</td>\n",
       "      <td>1</td>\n",
       "      <td>2</td>\n",
       "      <td>3</td>\n",
       "      <td>0</td>\n",
       "      <td>1</td>\n",
       "      <td>0</td>\n",
       "      <td>...</td>\n",
       "      <td>1.0</td>\n",
       "      <td>1.0</td>\n",
       "      <td>0</td>\n",
       "      <td>1</td>\n",
       "      <td>0</td>\n",
       "      <td>0</td>\n",
       "      <td>1</td>\n",
       "      <td>2</td>\n",
       "      <td>3</td>\n",
       "      <td>0.5</td>\n",
       "    </tr>\n",
       "  </tbody>\n",
       "</table>\n",
       "<p>5 rows × 78 columns</p>\n",
       "</div>"
      ],
      "text/plain": [
       "   NCD_0  NCD_1  NCD_2  NCD_3  NCD_4  NCD_5  NCD_6  AI_0  AI_1  AI_2  \\\n",
       "0      0      2      0      0      1      1      1     0     1     0   \n",
       "1      2      1      0      0      0      0      4     2     1     0   \n",
       "2      1      0      0      0      0      4      1     1     0     0   \n",
       "3      1      0      0      1      0      0      1     1     0     0   \n",
       "4      0      1      0      0      1      2      3     0     1     0   \n",
       "\n",
       "     ...      ADL_5  ADL_6  NAD_0  NAD_1  NAD_2  NAD_3  NAD_4  NAD_5  NAD_6  \\\n",
       "0    ...        1.0    1.0      0      2      0      0      1      1      1   \n",
       "1    ...        0.0    1.0      2      1      0      0      0      0      4   \n",
       "2    ...        1.0    1.0      1      0      0      0      0      4      1   \n",
       "3    ...        0.0    1.0      1      0      0      1      0      0      1   \n",
       "4    ...        1.0    1.0      0      1      0      0      1      2      3   \n",
       "\n",
       "   Anotation  \n",
       "0        0.0  \n",
       "1        0.5  \n",
       "2        0.0  \n",
       "3        2.5  \n",
       "4        0.5  \n",
       "\n",
       "[5 rows x 78 columns]"
      ]
     },
     "execution_count": 3,
     "metadata": {},
     "output_type": "execute_result"
    }
   ],
   "source": [
    "df.head()"
   ]
  },
  {
   "cell_type": "code",
   "execution_count": 4,
   "metadata": {
    "colab": {},
    "colab_type": "code",
    "id": "i2Jzya6qJcU0",
    "outputId": "9d021dcc-e086-4568-a23f-3b1f556bc749"
   },
   "outputs": [
    {
     "data": {
      "text/html": [
       "<div>\n",
       "<style scoped>\n",
       "    .dataframe tbody tr th:only-of-type {\n",
       "        vertical-align: middle;\n",
       "    }\n",
       "\n",
       "    .dataframe tbody tr th {\n",
       "        vertical-align: top;\n",
       "    }\n",
       "\n",
       "    .dataframe thead th {\n",
       "        text-align: right;\n",
       "    }\n",
       "</style>\n",
       "<table border=\"1\" class=\"dataframe\">\n",
       "  <thead>\n",
       "    <tr style=\"text-align: right;\">\n",
       "      <th></th>\n",
       "      <th>NCD_0</th>\n",
       "      <th>NCD_1</th>\n",
       "      <th>NCD_2</th>\n",
       "      <th>NCD_3</th>\n",
       "      <th>NCD_4</th>\n",
       "      <th>NCD_5</th>\n",
       "      <th>NCD_6</th>\n",
       "      <th>AI_0</th>\n",
       "      <th>AI_1</th>\n",
       "      <th>AI_2</th>\n",
       "      <th>...</th>\n",
       "      <th>ADL_5</th>\n",
       "      <th>ADL_6</th>\n",
       "      <th>NAD_0</th>\n",
       "      <th>NAD_1</th>\n",
       "      <th>NAD_2</th>\n",
       "      <th>NAD_3</th>\n",
       "      <th>NAD_4</th>\n",
       "      <th>NAD_5</th>\n",
       "      <th>NAD_6</th>\n",
       "      <th>Anotation</th>\n",
       "    </tr>\n",
       "  </thead>\n",
       "  <tbody>\n",
       "    <tr>\n",
       "      <th>count</th>\n",
       "      <td>583250.000000</td>\n",
       "      <td>583250.000000</td>\n",
       "      <td>583250.000000</td>\n",
       "      <td>583250.000000</td>\n",
       "      <td>583250.000000</td>\n",
       "      <td>583250.000000</td>\n",
       "      <td>583250.000000</td>\n",
       "      <td>583250.000000</td>\n",
       "      <td>583250.000000</td>\n",
       "      <td>583250.000000</td>\n",
       "      <td>...</td>\n",
       "      <td>583250.000000</td>\n",
       "      <td>583250.000000</td>\n",
       "      <td>583250.000000</td>\n",
       "      <td>583250.000000</td>\n",
       "      <td>583250.000000</td>\n",
       "      <td>583250.000000</td>\n",
       "      <td>583250.000000</td>\n",
       "      <td>583250.000000</td>\n",
       "      <td>583250.000000</td>\n",
       "      <td>583250.000000</td>\n",
       "    </tr>\n",
       "    <tr>\n",
       "      <th>mean</th>\n",
       "      <td>140.339640</td>\n",
       "      <td>136.770147</td>\n",
       "      <td>159.679271</td>\n",
       "      <td>181.592091</td>\n",
       "      <td>201.097445</td>\n",
       "      <td>220.175371</td>\n",
       "      <td>219.388214</td>\n",
       "      <td>71.038051</td>\n",
       "      <td>69.829631</td>\n",
       "      <td>82.198203</td>\n",
       "      <td>...</td>\n",
       "      <td>1.136688</td>\n",
       "      <td>1.140372</td>\n",
       "      <td>140.789860</td>\n",
       "      <td>137.181270</td>\n",
       "      <td>160.105922</td>\n",
       "      <td>182.057440</td>\n",
       "      <td>201.596482</td>\n",
       "      <td>220.705900</td>\n",
       "      <td>219.936864</td>\n",
       "      <td>191.279493</td>\n",
       "    </tr>\n",
       "    <tr>\n",
       "      <th>std</th>\n",
       "      <td>431.772639</td>\n",
       "      <td>432.305129</td>\n",
       "      <td>502.057428</td>\n",
       "      <td>574.883713</td>\n",
       "      <td>630.448432</td>\n",
       "      <td>669.205930</td>\n",
       "      <td>672.182204</td>\n",
       "      <td>196.876718</td>\n",
       "      <td>202.199758</td>\n",
       "      <td>239.523042</td>\n",
       "      <td>...</td>\n",
       "      <td>1.432327</td>\n",
       "      <td>1.552313</td>\n",
       "      <td>432.624954</td>\n",
       "      <td>433.026611</td>\n",
       "      <td>502.774408</td>\n",
       "      <td>575.658022</td>\n",
       "      <td>631.258318</td>\n",
       "      <td>670.050977</td>\n",
       "      <td>673.032541</td>\n",
       "      <td>612.352354</td>\n",
       "    </tr>\n",
       "    <tr>\n",
       "      <th>min</th>\n",
       "      <td>0.000000</td>\n",
       "      <td>0.000000</td>\n",
       "      <td>0.000000</td>\n",
       "      <td>0.000000</td>\n",
       "      <td>0.000000</td>\n",
       "      <td>0.000000</td>\n",
       "      <td>0.000000</td>\n",
       "      <td>0.000000</td>\n",
       "      <td>0.000000</td>\n",
       "      <td>0.000000</td>\n",
       "      <td>...</td>\n",
       "      <td>0.000000</td>\n",
       "      <td>0.000000</td>\n",
       "      <td>0.000000</td>\n",
       "      <td>0.000000</td>\n",
       "      <td>0.000000</td>\n",
       "      <td>0.000000</td>\n",
       "      <td>0.000000</td>\n",
       "      <td>0.000000</td>\n",
       "      <td>0.000000</td>\n",
       "      <td>0.000000</td>\n",
       "    </tr>\n",
       "    <tr>\n",
       "      <th>25%</th>\n",
       "      <td>3.000000</td>\n",
       "      <td>3.000000</td>\n",
       "      <td>4.000000</td>\n",
       "      <td>4.000000</td>\n",
       "      <td>5.000000</td>\n",
       "      <td>6.000000</td>\n",
       "      <td>6.000000</td>\n",
       "      <td>2.000000</td>\n",
       "      <td>2.000000</td>\n",
       "      <td>2.000000</td>\n",
       "      <td>...</td>\n",
       "      <td>1.000000</td>\n",
       "      <td>1.000000</td>\n",
       "      <td>3.000000</td>\n",
       "      <td>3.000000</td>\n",
       "      <td>4.000000</td>\n",
       "      <td>4.000000</td>\n",
       "      <td>5.000000</td>\n",
       "      <td>6.000000</td>\n",
       "      <td>6.000000</td>\n",
       "      <td>4.500000</td>\n",
       "    </tr>\n",
       "    <tr>\n",
       "      <th>50%</th>\n",
       "      <td>18.000000</td>\n",
       "      <td>17.000000</td>\n",
       "      <td>21.000000</td>\n",
       "      <td>24.000000</td>\n",
       "      <td>27.000000</td>\n",
       "      <td>31.000000</td>\n",
       "      <td>30.000000</td>\n",
       "      <td>11.000000</td>\n",
       "      <td>11.000000</td>\n",
       "      <td>13.000000</td>\n",
       "      <td>...</td>\n",
       "      <td>1.000000</td>\n",
       "      <td>1.000000</td>\n",
       "      <td>18.000000</td>\n",
       "      <td>17.000000</td>\n",
       "      <td>21.000000</td>\n",
       "      <td>24.000000</td>\n",
       "      <td>27.000000</td>\n",
       "      <td>31.000000</td>\n",
       "      <td>31.000000</td>\n",
       "      <td>25.500000</td>\n",
       "    </tr>\n",
       "    <tr>\n",
       "      <th>75%</th>\n",
       "      <td>104.000000</td>\n",
       "      <td>100.000000</td>\n",
       "      <td>115.000000</td>\n",
       "      <td>131.000000</td>\n",
       "      <td>147.000000</td>\n",
       "      <td>166.000000</td>\n",
       "      <td>164.000000</td>\n",
       "      <td>59.000000</td>\n",
       "      <td>57.000000</td>\n",
       "      <td>65.000000</td>\n",
       "      <td>...</td>\n",
       "      <td>1.090909</td>\n",
       "      <td>1.091296</td>\n",
       "      <td>104.000000</td>\n",
       "      <td>101.000000</td>\n",
       "      <td>115.000000</td>\n",
       "      <td>131.000000</td>\n",
       "      <td>148.000000</td>\n",
       "      <td>167.000000</td>\n",
       "      <td>165.000000</td>\n",
       "      <td>139.000000</td>\n",
       "    </tr>\n",
       "    <tr>\n",
       "      <th>max</th>\n",
       "      <td>24210.000000</td>\n",
       "      <td>29574.000000</td>\n",
       "      <td>37505.000000</td>\n",
       "      <td>72366.000000</td>\n",
       "      <td>79079.000000</td>\n",
       "      <td>79079.000000</td>\n",
       "      <td>79079.000000</td>\n",
       "      <td>18654.000000</td>\n",
       "      <td>22035.000000</td>\n",
       "      <td>29402.000000</td>\n",
       "      <td>...</td>\n",
       "      <td>262.000000</td>\n",
       "      <td>295.000000</td>\n",
       "      <td>24301.000000</td>\n",
       "      <td>29574.000000</td>\n",
       "      <td>37505.000000</td>\n",
       "      <td>72366.000000</td>\n",
       "      <td>79083.000000</td>\n",
       "      <td>79083.000000</td>\n",
       "      <td>79083.000000</td>\n",
       "      <td>75724.500000</td>\n",
       "    </tr>\n",
       "  </tbody>\n",
       "</table>\n",
       "<p>8 rows × 78 columns</p>\n",
       "</div>"
      ],
      "text/plain": [
       "               NCD_0          NCD_1          NCD_2          NCD_3  \\\n",
       "count  583250.000000  583250.000000  583250.000000  583250.000000   \n",
       "mean      140.339640     136.770147     159.679271     181.592091   \n",
       "std       431.772639     432.305129     502.057428     574.883713   \n",
       "min         0.000000       0.000000       0.000000       0.000000   \n",
       "25%         3.000000       3.000000       4.000000       4.000000   \n",
       "50%        18.000000      17.000000      21.000000      24.000000   \n",
       "75%       104.000000     100.000000     115.000000     131.000000   \n",
       "max     24210.000000   29574.000000   37505.000000   72366.000000   \n",
       "\n",
       "               NCD_4          NCD_5          NCD_6           AI_0  \\\n",
       "count  583250.000000  583250.000000  583250.000000  583250.000000   \n",
       "mean      201.097445     220.175371     219.388214      71.038051   \n",
       "std       630.448432     669.205930     672.182204     196.876718   \n",
       "min         0.000000       0.000000       0.000000       0.000000   \n",
       "25%         5.000000       6.000000       6.000000       2.000000   \n",
       "50%        27.000000      31.000000      30.000000      11.000000   \n",
       "75%       147.000000     166.000000     164.000000      59.000000   \n",
       "max     79079.000000   79079.000000   79079.000000   18654.000000   \n",
       "\n",
       "                AI_1           AI_2      ...                ADL_5  \\\n",
       "count  583250.000000  583250.000000      ...        583250.000000   \n",
       "mean       69.829631      82.198203      ...             1.136688   \n",
       "std       202.199758     239.523042      ...             1.432327   \n",
       "min         0.000000       0.000000      ...             0.000000   \n",
       "25%         2.000000       2.000000      ...             1.000000   \n",
       "50%        11.000000      13.000000      ...             1.000000   \n",
       "75%        57.000000      65.000000      ...             1.090909   \n",
       "max     22035.000000   29402.000000      ...           262.000000   \n",
       "\n",
       "               ADL_6          NAD_0          NAD_1          NAD_2  \\\n",
       "count  583250.000000  583250.000000  583250.000000  583250.000000   \n",
       "mean        1.140372     140.789860     137.181270     160.105922   \n",
       "std         1.552313     432.624954     433.026611     502.774408   \n",
       "min         0.000000       0.000000       0.000000       0.000000   \n",
       "25%         1.000000       3.000000       3.000000       4.000000   \n",
       "50%         1.000000      18.000000      17.000000      21.000000   \n",
       "75%         1.091296     104.000000     101.000000     115.000000   \n",
       "max       295.000000   24301.000000   29574.000000   37505.000000   \n",
       "\n",
       "               NAD_3          NAD_4          NAD_5          NAD_6  \\\n",
       "count  583250.000000  583250.000000  583250.000000  583250.000000   \n",
       "mean      182.057440     201.596482     220.705900     219.936864   \n",
       "std       575.658022     631.258318     670.050977     673.032541   \n",
       "min         0.000000       0.000000       0.000000       0.000000   \n",
       "25%         4.000000       5.000000       6.000000       6.000000   \n",
       "50%        24.000000      27.000000      31.000000      31.000000   \n",
       "75%       131.000000     148.000000     167.000000     165.000000   \n",
       "max     72366.000000   79083.000000   79083.000000   79083.000000   \n",
       "\n",
       "           Anotation  \n",
       "count  583250.000000  \n",
       "mean      191.279493  \n",
       "std       612.352354  \n",
       "min         0.000000  \n",
       "25%         4.500000  \n",
       "50%        25.500000  \n",
       "75%       139.000000  \n",
       "max     75724.500000  \n",
       "\n",
       "[8 rows x 78 columns]"
      ]
     },
     "execution_count": 4,
     "metadata": {},
     "output_type": "execute_result"
    }
   ],
   "source": [
    "df.describe()"
   ]
  },
  {
   "cell_type": "code",
   "execution_count": 5,
   "metadata": {
    "colab": {},
    "colab_type": "code",
    "id": "bCGtw5Q8JcU4",
    "outputId": "de438182-2a2a-47e5-c7bc-37e61b2fae48"
   },
   "outputs": [
    {
     "data": {
      "text/plain": [
       "<matplotlib.axes._subplots.AxesSubplot at 0x27a8bb82668>"
      ]
     },
     "execution_count": 5,
     "metadata": {},
     "output_type": "execute_result"
    },
    {
     "data": {
      "image/png": "[encoded data removed]",
      "text/plain": [
       "<Figure size 1512x288 with 1 Axes>"
      ]
     },
     "metadata": {
      "needs_background": "light"
     },
     "output_type": "display_data"
    }
   ],
   "source": [
    "#exploring the data to check statistical dispersion\n",
    "df.boxplot(column = cols[0:14], rot = 70, figsize= (21, 4))"
   ]
  },
  {
   "cell_type": "code",
   "execution_count": 6,
   "metadata": {
    "colab": {
     "base_uri": "https://localhost:8080/",
     "height": 35
    },
    "colab_type": "code",
    "id": "aVk_UdJ9JcU8",
    "outputId": "333e3c41-d4f3-4009-864b-aec750d2d230"
   },
   "outputs": [
    {
     "data": {
      "text/plain": [
       "(46660, 77)"
      ]
     },
     "execution_count": 6,
     "metadata": {},
     "output_type": "execute_result"
    }
   ],
   "source": [
    "_, sample_data, _, sample_target = train_test_split(df.iloc[:, 0:-1], df.iloc[:, -1], random_state = 0, test_size = 0.1)\n",
    "X_train_1, X_test_1, y_train, y_test = train_test_split(sample_data, sample_target, random_state = 0, test_size = 0.2)\n",
    "scaler = MinMaxScaler()\n",
    "X_train_mm = pd.DataFrame(scaler.fit_transform(X_train_1))\n",
    "X_test_mm = pd.DataFrame(scaler.transform(X_test_1))\n",
    "#X_train = X_train_mm\n",
    "#X_test = X_test_mm\n",
    "X_train_mm.shape\n"
   ]
  },
  {
   "cell_type": "markdown",
   "metadata": {
    "colab_type": "text",
    "id": "z2P6aaoIJcVA"
   },
   "source": [
    "## 1. Bagging & Pasting"
   ]
  },
  {
   "cell_type": "markdown",
   "metadata": {},
   "source": [
    "### Bagging\n",
    "* Bootstrap aggregating, also called bagging, is a machine learning ensemble algorithm. It also reduces variance and helps to avoid overfitting.\n",
    "* It involves having each model in the ensemble vote with equal weight.\n",
    "\n",
    "### Pasting\n",
    "* In case of Pasting, the same process applies, only difference being that pasting doesn’t allow training instances to be sampled several times for the same predictors."
   ]
  },
  {
   "cell_type": "markdown",
   "metadata": {
    "colab_type": "text",
    "id": "9aFpzPMdJcVB"
   },
   "source": [
    "### Linear Regression - Bagging"
   ]
  },
  {
   "cell_type": "code",
   "execution_count": 7,
   "metadata": {
    "colab": {},
    "colab_type": "code",
    "id": "t88sovTjJcVC",
    "outputId": "137a4e40-990a-4302-f479-e7c5200af987"
   },
   "outputs": [
    {
     "name": "stdout",
     "output_type": "stream",
     "text": [
      "Linear Regression - Train score: 0.87\n",
      "Linear Regression - Test score: 0.88\n"
     ]
    }
   ],
   "source": [
    "from sklearn.ensemble import BaggingRegressor\n",
    "from sklearn.linear_model import LinearRegression\n",
    "\n",
    "lreg = LinearRegression()\n",
    "bag_lreg = BaggingRegressor(lreg, n_estimators=500, max_samples=100, bootstrap=True, n_jobs=-1, random_state=0)\n",
    "\n",
    "bag_lreg.fit(X_train_mm, y_train)\n",
    "y_pred = bag_lreg.predict(X_test_mm)\n",
    "\n",
    "print('Linear Regression - Train score: {:.2f}'.format(bag_lreg.score(X_train_mm, y_train)))\n",
    "print('Linear Regression - Test score: {:.2f}'.format(bag_lreg.score(X_test_mm, y_test)))"
   ]
  },
  {
   "cell_type": "markdown",
   "metadata": {
    "colab_type": "text",
    "id": "rmvunlOvJcVH"
   },
   "source": [
    "### Linear Regression - Pasting"
   ]
  },
  {
   "cell_type": "code",
   "execution_count": 8,
   "metadata": {
    "colab": {},
    "colab_type": "code",
    "id": "LZte5QQZJcVI",
    "outputId": "1dcf250f-738e-497b-a8c8-b0da792acc2b"
   },
   "outputs": [
    {
     "name": "stdout",
     "output_type": "stream",
     "text": [
      "Linear Regression - Train score: 0.87\n",
      "Linear Regression - Test score: 0.88\n"
     ]
    }
   ],
   "source": [
    "from sklearn.ensemble import BaggingRegressor\n",
    "#LINEAR REGRESSION with the normal equation\n",
    "from sklearn.model_selection import GridSearchCV\n",
    "from sklearn.linear_model import LinearRegression\n",
    "\n",
    "lreg = LinearRegression()\n",
    "pas_lreg = BaggingRegressor(lreg, n_estimators=500, max_samples=100, bootstrap=False, n_jobs=-1, random_state=0)\n",
    "\n",
    "pas_lreg.fit(X_train_mm, y_train)\n",
    "y_pred = pas_lreg.predict(X_test_mm)\n",
    "\n",
    "print('Linear Regression - Train score: {:.2f}'.format(bag_lreg.score(X_train_mm, y_train)))\n",
    "print('Linear Regression - Test score: {:.2f}'.format(bag_lreg.score(X_test_mm, y_test)))"
   ]
  },
  {
   "cell_type": "markdown",
   "metadata": {
    "colab_type": "text",
    "id": "UGCI0Ud-JcVL"
   },
   "source": [
    "### KNN Regression - Bagging"
   ]
  },
  {
   "cell_type": "code",
   "execution_count": 9,
   "metadata": {
    "colab": {},
    "colab_type": "code",
    "id": "XtTf0iD9JcVM",
    "outputId": "315d4d6b-4727-423b-959c-bf6a543bbc1b"
   },
   "outputs": [
    {
     "name": "stdout",
     "output_type": "stream",
     "text": [
      "KNN Regression - Train score: 0.50\n",
      "KNN Regression - Test score: 0.55\n"
     ]
    }
   ],
   "source": [
    "from sklearn.neighbors import KNeighborsRegressor\n",
    "\n",
    "knreg = KNeighborsRegressor(n_neighbors = 3)\n",
    "bag_knreg = BaggingRegressor(knreg, n_estimators=500, max_samples=100, bootstrap=True, n_jobs=-1, random_state=0)\n",
    "\n",
    "bag_knreg.fit(X_train_mm, y_train)\n",
    "y_pred = bag_knreg.predict(X_test_mm)\n",
    "\n",
    "print('KNN Regression - Train score: {:.2f}'.format(bag_knreg.score(X_train_mm, y_train)))\n",
    "print('KNN Regression - Test score: {:.2f}'.format(bag_knreg.score(X_test_mm, y_test)))"
   ]
  },
  {
   "cell_type": "markdown",
   "metadata": {
    "colab_type": "text",
    "id": "SyuDXxgRJcVP"
   },
   "source": [
    "### KNN Regression - Pasting"
   ]
  },
  {
   "cell_type": "code",
   "execution_count": 10,
   "metadata": {
    "colab": {},
    "colab_type": "code",
    "id": "DqF66gOJJcVR",
    "outputId": "124e67c2-3bc2-44c1-9b85-b689f1341cc0"
   },
   "outputs": [
    {
     "name": "stdout",
     "output_type": "stream",
     "text": [
      "KNN Regression - Train score: 0.50\n",
      "KNN Regression - Test score: 0.55\n"
     ]
    }
   ],
   "source": [
    "from sklearn.neighbors import KNeighborsRegressor\n",
    "\n",
    "knreg = KNeighborsRegressor(n_neighbors = 3)\n",
    "pas_knreg = BaggingRegressor(knreg, n_estimators=500, max_samples=100, bootstrap=False, n_jobs=-1, random_state=0)\n",
    "\n",
    "pas_knreg.fit(X_train_mm, y_train)\n",
    "y_pred = pas_knreg.predict(X_test_mm)\n",
    "\n",
    "print('KNN Regression - Train score: {:.2f}'.format(bag_knreg.score(X_train_mm, y_train)))\n",
    "print('KNN Regression - Test score: {:.2f}'.format(bag_knreg.score(X_test_mm, y_test)))"
   ]
  },
  {
   "cell_type": "markdown",
   "metadata": {
    "colab_type": "text",
    "id": "NNuYnq-bJcVV"
   },
   "source": [
    "## Adaboosting\n",
    "\n",
    "* It focuses on Regression problems and aims to convert a set of weak regressors into a strong one."
   ]
  },
  {
   "cell_type": "markdown",
   "metadata": {
    "colab_type": "text",
    "id": "tNjZ6lDMJcVW"
   },
   "source": [
    "### Linear Regression - Adaboosting"
   ]
  },
  {
   "cell_type": "code",
   "execution_count": 11,
   "metadata": {
    "colab": {},
    "colab_type": "code",
    "id": "Jl0UjGkZJcVX",
    "outputId": "a5f3228f-b648-447c-db42-85b2125b2b84"
   },
   "outputs": [
    {
     "name": "stdout",
     "output_type": "stream",
     "text": [
      "Linear Regression - Train score: 0.92\n",
      "Linear Regression - Test score: 0.90\n"
     ]
    }
   ],
   "source": [
    "from sklearn.ensemble import AdaBoostRegressor\n",
    "\n",
    "ada_lreg = AdaBoostRegressor(LinearRegression(), n_estimators=200, learning_rate=0.5, random_state=0)\n",
    "ada_lreg.fit(X_train_mm, y_train)\n",
    "\n",
    "print('Linear Regression - Train score: {:.2f}'.format(ada_lreg.score(X_train_mm, y_train)))\n",
    "print('Linear Regression - Test score: {:.2f}'.format(ada_lreg.score(X_test_mm, y_test)))"
   ]
  },
  {
   "cell_type": "markdown",
   "metadata": {
    "colab_type": "text",
    "id": "ntWyzVaIJcVb"
   },
   "source": [
    "### Ridge - Adaboosting"
   ]
  },
  {
   "cell_type": "code",
   "execution_count": 12,
   "metadata": {
    "colab": {},
    "colab_type": "code",
    "id": "NDChhuZ7JcVc",
    "outputId": "60e85629-9ad4-44a4-e157-12c14dc7a471"
   },
   "outputs": [
    {
     "name": "stdout",
     "output_type": "stream",
     "text": [
      "KNN Regression - Train score: 0.94\n",
      "KNN Regression - Test score: 0.92\n"
     ]
    }
   ],
   "source": [
    "from sklearn.ensemble import AdaBoostRegressor\n",
    "ridge = Ridge(alpha= 0.001, fit_intercept=True, normalize = True)\n",
    "ada_ridge = AdaBoostRegressor(ridge, n_estimators=200, learning_rate=0.5, random_state=0)\n",
    "ada_ridge.fit(X_train_mm, y_train)\n",
    "\n",
    "print('KNN Regression - Train score: {:.2f}'.format(ada_ridge.score(X_train_mm, y_train)))\n",
    "print('KNN Regression - Test score: {:.2f}'.format(ada_ridge.score(X_test_mm, y_test)))"
   ]
  },
  {
   "cell_type": "markdown",
   "metadata": {
    "colab_type": "text",
    "id": "GQwVlixYJcVi"
   },
   "source": [
    "## Gradient Boosting\n",
    "* The idea is to use the weak learning method several times, each one refocused on the examples that the previous ones found to have higher errors."
   ]
  },
  {
   "cell_type": "code",
   "execution_count": 13,
   "metadata": {
    "colab": {},
    "colab_type": "code",
    "id": "Aw5YM9BiJcVj",
    "outputId": "c9763452-0dea-4fdc-b624-02bb3bba65de"
   },
   "outputs": [
    {
     "name": "stdout",
     "output_type": "stream",
     "text": [
      "Gradient Boosting Regressor - Train score: 0.86\n",
      "Gradient Boosting Regressor - Test score: 0.83\n"
     ]
    }
   ],
   "source": [
    "from  sklearn.ensemble import GradientBoostingRegressor\n",
    "\n",
    "gbrt = GradientBoostingRegressor(max_depth=2, n_estimators=3, learning_rate=1.0, random_state=0)\n",
    "gbrt.fit(X_train_mm, y_train)\n",
    "\n",
    "print('Gradient Boosting Regressor - Train score: {:.2f}'.format(gbrt.score(X_train_mm, y_train)))\n",
    "print('Gradient Boosting Regressor - Test score: {:.2f}'.format(gbrt.score(X_test_mm, y_test)))"
   ]
  },
  {
   "cell_type": "markdown",
   "metadata": {
    "colab_type": "text",
    "id": "S0Hv_3YhJcVn"
   },
   "source": [
    "## PCA"
   ]
  },
  {
   "cell_type": "markdown",
   "metadata": {},
   "source": [
    "PCA reduces number of dimensions by grouping possible correlated variables to uncorrelated Principle components.\n",
    "Though this handles the curse of dimensionality, it takes away the ability to interpret the model"
   ]
  },
  {
   "cell_type": "code",
   "execution_count": 5,
   "metadata": {
    "colab": {
     "base_uri": "https://localhost:8080/",
     "height": 35
    },
    "colab_type": "code",
    "id": "QtDvTy8cJcVo",
    "outputId": "1256e99a-fb7b-4d76-ab37-68251b46676d"
   },
   "outputs": [
    {
     "name": "stdout",
     "output_type": "stream",
     "text": [
      "dimensions: 7\n"
     ]
    }
   ],
   "source": [
    "from sklearn.decomposition import PCA\n",
    "\n",
    "X_final=df.iloc[:,:-1]\n",
    "\n",
    "pca = PCA()\n",
    "pca.fit(X_train_mm)\n",
    "\n",
    "cumsum = np.cumsum(pca.explained_variance_ratio_)\n",
    "d = np.argmax(cumsum >= 0.95) + 1\n",
    "print(\"dimensions: \" + str(d))"
   ]
  },
  {
   "cell_type": "code",
   "execution_count": 6,
   "metadata": {
    "colab": {
     "base_uri": "https://localhost:8080/",
     "height": 35
    },
    "colab_type": "code",
    "id": "e1FOqZPVJcVt",
    "outputId": "28450784-888d-4975-a4b2-e5ce0cf9c0b7"
   },
   "outputs": [
    {
     "name": "stdout",
     "output_type": "stream",
     "text": [
      "Number of components 7\n"
     ]
    }
   ],
   "source": [
    "pca = PCA(n_components=0.95)\n",
    "X_train = pd.DataFrame(pca.fit_transform(X_train_mm))\n",
    "X_test = pd.DataFrame(pca.transform(X_test_mm))\n",
    "\n",
    "print(\"Number of components \" + str(pca.n_components_))\n",
    "#print(\"\\n First Row :\")\n",
    "#print(X_reduced.iloc[1:5,:])\n",
    "#print(X_train_red.info(),X_test_red.info())"
   ]
  },
  {
   "cell_type": "markdown",
   "metadata": {
    "colab_type": "text",
    "id": "yZ2qr4g3JcV0"
   },
   "source": [
    "### LINEAR REGRESSION - PCA"
   ]
  },
  {
   "cell_type": "code",
   "execution_count": 0,
   "metadata": {
    "colab": {},
    "colab_type": "code",
    "id": "mx4PvMAKJcV1",
    "outputId": "51082473-463a-472e-eb97-38ecc0bd3454"
   },
   "outputs": [
    {
     "name": "stdout",
     "output_type": "stream",
     "text": [
      "Best Parameters : {}\n",
      "Best CV score   : 0.026\n"
     ]
    }
   ],
   "source": [
    "#LINEAR REGRESSION with the normal equation\n",
    "from sklearn.model_selection import GridSearchCV\n",
    "from sklearn.linear_model import LinearRegression\n",
    "\n",
    "lreg = LinearRegression()\n",
    "param_grid = {}\n",
    "grid_lreg = GridSearchCV(LinearRegression(), param_grid, cv=5, n_jobs= -1)\n",
    "grid_lreg.fit(X_train, y_train)\n",
    "\n",
    "print(\"Best Parameters : {}\".format(grid_lreg.best_params_))\n",
    "print(\"Best CV score   : {}\".format('%.3f'% grid_lreg.best_score_))"
   ]
  },
  {
   "cell_type": "code",
   "execution_count": 0,
   "metadata": {
    "colab": {},
    "colab_type": "code",
    "id": "VyxBQnrxJcV4",
    "outputId": "2c090c7f-0475-4a8b-cf3b-11b16c605903"
   },
   "outputs": [
    {
     "name": "stdout",
     "output_type": "stream",
     "text": [
      "Linear Regression Normal Eqn - Train Accuracy: 0.026\n",
      "Linear Regression Normal Eqn - Test Accuracy : 0.028 \n"
     ]
    }
   ],
   "source": [
    "lreg_train_accuracy = grid_lreg.best_estimator_.score(X_train, y_train)\n",
    "lreg_test_accuracy  = grid_lreg.best_estimator_.score(X_test, y_test)\n",
    "\n",
    "print('Linear Regression Normal Eqn - Train Accuracy: {}'.format('%.3f'%lreg_train_accuracy))\n",
    "print('Linear Regression Normal Eqn - Test Accuracy : {}'.format('%.3f '%lreg_test_accuracy))\n",
    "\n",
    "table = []\n",
    "table.append(['Linear Regression', grid_lreg.best_params_, lreg_train_accuracy, lreg_test_accuracy] )"
   ]
  },
  {
   "cell_type": "markdown",
   "metadata": {
    "colab_type": "text",
    "id": "BJZi1eO-JcV8"
   },
   "source": [
    "# KNN REGRESSION\n",
    "\n",
    "Regression based on k-nearest neighbors. The target is predicted by local interpolation of the targets associated of the nearest neighbors in the training set. When predicting the dependent variable for this dataset, KNN Regressor produces a score of greater than 0.9 in test accuracy, however there are other models with superior scores."
   ]
  },
  {
   "cell_type": "code",
   "execution_count": 0,
   "metadata": {
    "colab": {},
    "colab_type": "code",
    "id": "nOMh0k8fJcV9",
    "outputId": "9bb220b7-6174-41f1-fff6-0b1937a42ef0"
   },
   "outputs": [
    {
     "name": "stdout",
     "output_type": "stream",
     "text": [
      "Best Parameters : {'n_neighbors': 8}\n",
      "Best CV score   : 0.864\n"
     ]
    }
   ],
   "source": [
    "# KNN REGRESSION\n",
    "from sklearn.neighbors import KNeighborsRegressor\n",
    "\n",
    "kn_reg = KNeighborsRegressor()\n",
    "param_grid = {'n_neighbors': range(1,11)}\n",
    "grid_kn = GridSearchCV(kn_reg, param_grid=param_grid, cv = 5, n_jobs= -1, return_train_score= True)\n",
    "grid_kn.fit(X_train, y_train)\n",
    "\n",
    "print(\"Best Parameters : {}\".format(grid_kn.best_params_))\n",
    "print(\"Best CV score   : {}\".format('%.3f'% grid_kn.best_score_))"
   ]
  },
  {
   "cell_type": "code",
   "execution_count": 0,
   "metadata": {
    "colab": {},
    "colab_type": "code",
    "id": "7FTgI1PwJcWC",
    "outputId": "c42d4279-e55b-4ddb-e80f-780dde81f377"
   },
   "outputs": [
    {
     "data": {
      "text/plain": [
       "Text(0.5,1,'kn regressor scores')"
      ]
     },
     "execution_count": 11,
     "metadata": {
      "tags": []
     },
     "output_type": "execute_result"
    },
    {
     "data": {
      "image/png": "[encoded data removed]",
      "text/plain": [
       "<matplotlib.figure.Figure at 0x7f3b5318e128>"
      ]
     },
     "metadata": {
      "tags": []
     },
     "output_type": "display_data"
    }
   ],
   "source": [
    "x_axis = range(1,11)\n",
    "plt.plot(x_axis, grid_kn.cv_results_['mean_train_score'], '-o', label = 'Mean Train Score')\n",
    "plt.plot(x_axis, grid_kn.cv_results_['mean_test_score'], '-o', label = 'Mean Validation Score')\n",
    "plt.legend()\n",
    "plt.grid(True)\n",
    "plt.xlabel('k')\n",
    "plt.ylabel('Accuracy')\n",
    "plt.title('kn regressor scores')"
   ]
  },
  {
   "cell_type": "code",
   "execution_count": 0,
   "metadata": {
    "colab": {},
    "colab_type": "code",
    "id": "yo_zfiIxJcWH",
    "outputId": "283b333f-e720-4313-8cf3-0eec65dfcc1d"
   },
   "outputs": [
    {
     "name": "stdout",
     "output_type": "stream",
     "text": [
      "KN Regression - Train Accuracy: 0.892\n",
      "KN Regression - Test Accuracy : 0.891 \n"
     ]
    }
   ],
   "source": [
    "kn_train_accuracy = grid_kn.best_estimator_.score(X_train, y_train)\n",
    "kn_test_accuracy  = grid_kn.best_estimator_.score(X_test, y_test)\n",
    "\n",
    "print('KN Regression - Train Accuracy: {}'.format('%.3f'%kn_train_accuracy))\n",
    "print('KN Regression - Test Accuracy : {}'.format('%.3f '%kn_test_accuracy))\n",
    "\n",
    "table.append(['KN Regression', grid_kn.best_params_, kn_train_accuracy, kn_test_accuracy])"
   ]
  },
  {
   "cell_type": "code",
   "execution_count": 0,
   "metadata": {
    "colab": {},
    "colab_type": "code",
    "id": "edKbYg1zJcWK",
    "outputId": "7c806872-8f44-4292-f5f6-4aeffdb9776a"
   },
   "outputs": [
    {
     "name": "stdout",
     "output_type": "stream",
     "text": [
      "Best Parameters : {'alpha': 100, 'fit_intercept': True, 'normalize': False}\n",
      "Best CV score   : 0.026\n"
     ]
    }
   ],
   "source": [
    "# RIDGE\n",
    "from  sklearn.linear_model import Ridge\n",
    "\n",
    "powers = range(-3, 3)\n",
    "x_range = []\n",
    "for power in powers:\n",
    "    x_range.append(10 ** power)\n",
    "\n",
    "ridge = Ridge()\n",
    "param_grid = {'alpha': x_range, 'fit_intercept': [True, False], 'normalize': [True, False]}\n",
    "grid_ridge = GridSearchCV(ridge, param_grid, cv=5, n_jobs= -1)\n",
    "grid_ridge.fit(X_train, y_train)\n",
    "\n",
    "print(\"Best Parameters : {}\".format(grid_ridge.best_params_))\n",
    "print(\"Best CV score   : {}\".format('%.3f'% grid_ridge.best_score_))"
   ]
  },
  {
   "cell_type": "markdown",
   "metadata": {
    "colab_type": "text",
    "id": "VN1cDuh4JcWO"
   },
   "source": [
    "# RIDGE\n",
    "\n",
    "Ridge Regression (also called Tikhonov regularization) solves a regression model where the loss function is the linear least squares function  (with l2 regularization) as opposed to ordinary least squares. \n",
    "This model minimizes the objective function: ||y - Xw||^2_2 + alpha * ||w||^2_2\n",
    "\n",
    "Ridge Regression produced the second-best test score when prediciting the dependent variable in this dataset."
   ]
  },
  {
   "cell_type": "code",
   "execution_count": 0,
   "metadata": {
    "colab": {},
    "colab_type": "code",
    "id": "80HAGROaJcWO",
    "outputId": "31f33b9e-f38b-48c0-c71f-8d26e3c3be92"
   },
   "outputs": [
    {
     "name": "stdout",
     "output_type": "stream",
     "text": [
      "Best Parameters : {'alpha': 100, 'fit_intercept': True, 'normalize': False}\n",
      "Best CV score   : 0.026\n"
     ]
    }
   ],
   "source": [
    "# RIDGE\n",
    "from  sklearn.linear_model import Ridge\n",
    "\n",
    "powers = range(-3, 3)\n",
    "x_range = []\n",
    "for power in powers:\n",
    "    x_range.append(10 ** power)\n",
    "\n",
    "ridge = Ridge()\n",
    "param_grid = {'alpha': x_range, 'fit_intercept': [True, False], 'normalize': [True, False]}\n",
    "grid_ridge = GridSearchCV(ridge, param_grid, cv=5, n_jobs= -1)\n",
    "grid_ridge.fit(X_train, y_train)\n",
    "\n",
    "print(\"Best Parameters : {}\".format(grid_ridge.best_params_))\n",
    "print(\"Best CV score   : {}\".format('%.3f'% grid_ridge.best_score_))"
   ]
  },
  {
   "cell_type": "code",
   "execution_count": 0,
   "metadata": {
    "colab": {},
    "colab_type": "code",
    "id": "vCdXA77LJcWS",
    "outputId": "6a4c8ad2-eb73-4a74-fd10-6e0a700391b0"
   },
   "outputs": [
    {
     "name": "stdout",
     "output_type": "stream",
     "text": [
      "Ridge - Train Accuracy: 0.026\n",
      "Ridge - Test Accuracy : 0.028 \n"
     ]
    }
   ],
   "source": [
    "ridge_train_accuracy = grid_ridge.best_estimator_.score(X_train, y_train)\n",
    "ridge_test_accuracy  = grid_ridge.best_estimator_.score(X_test, y_test)\n",
    "\n",
    "print('Ridge - Train Accuracy: {}'.format('%.3f'%ridge_train_accuracy))\n",
    "print('Ridge - Test Accuracy : {}'.format('%.3f '%ridge_test_accuracy))\n",
    "\n",
    "table.append(['Ridge', grid_ridge.best_params_, ridge_train_accuracy, ridge_test_accuracy])"
   ]
  },
  {
   "cell_type": "code",
   "execution_count": 0,
   "metadata": {
    "colab": {},
    "colab_type": "code",
    "id": "pmmCDCA0JcWY",
    "outputId": "0ed5a57e-4e1f-4540-ac9f-e5a3417aeb61"
   },
   "outputs": [
    {
     "data": {
      "text/plain": [
       "Text(0.5,1,'Ridge CV Results')"
      ]
     },
     "execution_count": 16,
     "metadata": {
      "tags": []
     },
     "output_type": "execute_result"
    },
    {
     "data": {
      "image/png": "[encoded data removed]",
      "text/plain": [
       "<matplotlib.figure.Figure at 0x7f3b531b0898>"
      ]
     },
     "metadata": {
      "tags": []
     },
     "output_type": "display_data"
    }
   ],
   "source": [
    "plt.plot(np.arange(0, len(grid_ridge.cv_results_['mean_test_score'])), grid_ridge.cv_results_['mean_test_score'], '--', label = 'Mean Train Score')\n",
    "plt.plot(np.arange(0, len(grid_ridge.cv_results_['mean_train_score'])), grid_ridge.cv_results_['mean_train_score'], '-', label = 'Mean Validation Score')\n",
    "plt.legend()\n",
    "plt.grid(True)\n",
    "plt.xlabel('Hyperparameter combination')\n",
    "plt.ylabel('Accuracy')\n",
    "plt.title('Ridge CV Results')"
   ]
  },
  {
   "cell_type": "markdown",
   "metadata": {
    "colab_type": "text",
    "id": "wJmJBF2tJcWa"
   },
   "source": [
    "# LASSO\n",
    "\n",
    "LASSO or Least Absolute Shrinkage and Selection Operator is a Linear Model trained with L1 prior as regularizer.\n",
    "The optimization objective for Lasso is:\n",
    "(1 / (2 * n_samples)) * ||y - Xw||^2_2 + alpha * ||w||_1\n",
    "\n",
    "Compared to Ridge regression that can't zero out coefficients, the LASSO does both parameter shrinkage and variable selection automatically. (In Ridge, we either end up including all the coefficients in the model, or none of them at all)\n",
    "\n",
    "LASSO produces the best prections for the dependent variable in this dataset."
   ]
  },
  {
   "cell_type": "code",
   "execution_count": 0,
   "metadata": {
    "colab": {},
    "colab_type": "code",
    "id": "INRAqlFoJcWc",
    "outputId": "595508eb-eedf-4ff8-ce45-45aa1f8ba495"
   },
   "outputs": [
    {
     "name": "stdout",
     "output_type": "stream",
     "text": [
      "Best Parameters : {'alpha': 0.001, 'max_iter': 1000, 'selection': 'cyclic'}\n",
      "Best CV score   : 0.955\n"
     ]
    }
   ],
   "source": [
    "# LASSO\n",
    "\n",
    "from sklearn.linear_model import Lasso\n",
    "\n",
    "lasso = Lasso()\n",
    "param_grid = {'alpha': x_range, 'max_iter': [1000, 10000], 'selection': ['cyclic', 'random']}\n",
    "grid_lasso = GridSearchCV(lasso, param_grid, cv=5, n_jobs= -1)\n",
    "grid_lasso.fit(X_train_mm, y_train)\n",
    "\n",
    "print(\"Best Parameters : {}\".format(grid_lasso.best_params_))\n",
    "print(\"Best CV score   : {}\".format('%.3f'% grid_lasso.best_score_))"
   ]
  },
  {
   "cell_type": "code",
   "execution_count": 0,
   "metadata": {
    "colab": {},
    "colab_type": "code",
    "id": "czZPPSC1JcWe",
    "outputId": "c941d6f3-4fa4-4c9d-f5db-66bd116ce06b"
   },
   "outputs": [
    {
     "name": "stdout",
     "output_type": "stream",
     "text": [
      "LASSO - Train Accuracy: 0.960\n",
      "LASSO - Test Accuracy : 0.954 \n"
     ]
    }
   ],
   "source": [
    "lasso_train_accuracy = grid_lasso.best_estimator_.score(X_train_mm, y_train)\n",
    "lasso_test_accuracy  = grid_lasso.best_estimator_.score(X_test_mm, y_test)\n",
    "\n",
    "print('LASSO - Train Accuracy: {}'.format('%.3f'%lasso_train_accuracy))\n",
    "print('LASSO - Test Accuracy : {}'.format('%.3f '%lasso_test_accuracy))\n",
    "\n",
    "table.append(['LASSO', grid_lasso.best_params_, lasso_train_accuracy, lasso_test_accuracy])"
   ]
  },
  {
   "cell_type": "code",
   "execution_count": 0,
   "metadata": {
    "colab": {},
    "colab_type": "code",
    "id": "-pebMm1OJcWh",
    "outputId": "6425e913-988c-41ca-91fb-51185365dc36"
   },
   "outputs": [
    {
     "data": {
      "text/html": [
       "<div>\n",
       "<style>\n",
       "    .dataframe thead tr:only-child th {\n",
       "        text-align: right;\n",
       "    }\n",
       "\n",
       "    .dataframe thead th {\n",
       "        text-align: left;\n",
       "    }\n",
       "\n",
       "    .dataframe tbody tr th {\n",
       "        vertical-align: top;\n",
       "    }\n",
       "</style>\n",
       "<table border=\"1\" class=\"dataframe\">\n",
       "  <thead>\n",
       "    <tr style=\"text-align: right;\">\n",
       "      <th></th>\n",
       "      <th>alpha</th>\n",
       "      <th>max_iter</th>\n",
       "      <th>selection</th>\n",
       "    </tr>\n",
       "  </thead>\n",
       "  <tbody>\n",
       "    <tr>\n",
       "      <th>0</th>\n",
       "      <td>0.001</td>\n",
       "      <td>1000</td>\n",
       "      <td>cyclic</td>\n",
       "    </tr>\n",
       "    <tr>\n",
       "      <th>1</th>\n",
       "      <td>0.001</td>\n",
       "      <td>1000</td>\n",
       "      <td>random</td>\n",
       "    </tr>\n",
       "    <tr>\n",
       "      <th>2</th>\n",
       "      <td>0.001</td>\n",
       "      <td>10000</td>\n",
       "      <td>cyclic</td>\n",
       "    </tr>\n",
       "    <tr>\n",
       "      <th>3</th>\n",
       "      <td>0.001</td>\n",
       "      <td>10000</td>\n",
       "      <td>random</td>\n",
       "    </tr>\n",
       "    <tr>\n",
       "      <th>4</th>\n",
       "      <td>0.010</td>\n",
       "      <td>1000</td>\n",
       "      <td>cyclic</td>\n",
       "    </tr>\n",
       "    <tr>\n",
       "      <th>5</th>\n",
       "      <td>0.010</td>\n",
       "      <td>1000</td>\n",
       "      <td>random</td>\n",
       "    </tr>\n",
       "    <tr>\n",
       "      <th>6</th>\n",
       "      <td>0.010</td>\n",
       "      <td>10000</td>\n",
       "      <td>cyclic</td>\n",
       "    </tr>\n",
       "    <tr>\n",
       "      <th>7</th>\n",
       "      <td>0.010</td>\n",
       "      <td>10000</td>\n",
       "      <td>random</td>\n",
       "    </tr>\n",
       "    <tr>\n",
       "      <th>8</th>\n",
       "      <td>0.100</td>\n",
       "      <td>1000</td>\n",
       "      <td>cyclic</td>\n",
       "    </tr>\n",
       "    <tr>\n",
       "      <th>9</th>\n",
       "      <td>0.100</td>\n",
       "      <td>1000</td>\n",
       "      <td>random</td>\n",
       "    </tr>\n",
       "    <tr>\n",
       "      <th>10</th>\n",
       "      <td>0.100</td>\n",
       "      <td>10000</td>\n",
       "      <td>cyclic</td>\n",
       "    </tr>\n",
       "    <tr>\n",
       "      <th>11</th>\n",
       "      <td>0.100</td>\n",
       "      <td>10000</td>\n",
       "      <td>random</td>\n",
       "    </tr>\n",
       "    <tr>\n",
       "      <th>12</th>\n",
       "      <td>1.000</td>\n",
       "      <td>1000</td>\n",
       "      <td>cyclic</td>\n",
       "    </tr>\n",
       "    <tr>\n",
       "      <th>13</th>\n",
       "      <td>1.000</td>\n",
       "      <td>1000</td>\n",
       "      <td>random</td>\n",
       "    </tr>\n",
       "    <tr>\n",
       "      <th>14</th>\n",
       "      <td>1.000</td>\n",
       "      <td>10000</td>\n",
       "      <td>cyclic</td>\n",
       "    </tr>\n",
       "    <tr>\n",
       "      <th>15</th>\n",
       "      <td>1.000</td>\n",
       "      <td>10000</td>\n",
       "      <td>random</td>\n",
       "    </tr>\n",
       "    <tr>\n",
       "      <th>16</th>\n",
       "      <td>10.000</td>\n",
       "      <td>1000</td>\n",
       "      <td>cyclic</td>\n",
       "    </tr>\n",
       "    <tr>\n",
       "      <th>17</th>\n",
       "      <td>10.000</td>\n",
       "      <td>1000</td>\n",
       "      <td>random</td>\n",
       "    </tr>\n",
       "    <tr>\n",
       "      <th>18</th>\n",
       "      <td>10.000</td>\n",
       "      <td>10000</td>\n",
       "      <td>cyclic</td>\n",
       "    </tr>\n",
       "    <tr>\n",
       "      <th>19</th>\n",
       "      <td>10.000</td>\n",
       "      <td>10000</td>\n",
       "      <td>random</td>\n",
       "    </tr>\n",
       "    <tr>\n",
       "      <th>20</th>\n",
       "      <td>100.000</td>\n",
       "      <td>1000</td>\n",
       "      <td>cyclic</td>\n",
       "    </tr>\n",
       "    <tr>\n",
       "      <th>21</th>\n",
       "      <td>100.000</td>\n",
       "      <td>1000</td>\n",
       "      <td>random</td>\n",
       "    </tr>\n",
       "    <tr>\n",
       "      <th>22</th>\n",
       "      <td>100.000</td>\n",
       "      <td>10000</td>\n",
       "      <td>cyclic</td>\n",
       "    </tr>\n",
       "    <tr>\n",
       "      <th>23</th>\n",
       "      <td>100.000</td>\n",
       "      <td>10000</td>\n",
       "      <td>random</td>\n",
       "    </tr>\n",
       "  </tbody>\n",
       "</table>\n",
       "</div>"
      ],
      "text/plain": [
       "      alpha  max_iter selection\n",
       "0     0.001      1000    cyclic\n",
       "1     0.001      1000    random\n",
       "2     0.001     10000    cyclic\n",
       "3     0.001     10000    random\n",
       "4     0.010      1000    cyclic\n",
       "5     0.010      1000    random\n",
       "6     0.010     10000    cyclic\n",
       "7     0.010     10000    random\n",
       "8     0.100      1000    cyclic\n",
       "9     0.100      1000    random\n",
       "10    0.100     10000    cyclic\n",
       "11    0.100     10000    random\n",
       "12    1.000      1000    cyclic\n",
       "13    1.000      1000    random\n",
       "14    1.000     10000    cyclic\n",
       "15    1.000     10000    random\n",
       "16   10.000      1000    cyclic\n",
       "17   10.000      1000    random\n",
       "18   10.000     10000    cyclic\n",
       "19   10.000     10000    random\n",
       "20  100.000      1000    cyclic\n",
       "21  100.000      1000    random\n",
       "22  100.000     10000    cyclic\n",
       "23  100.000     10000    random"
      ]
     },
     "execution_count": 19,
     "metadata": {
      "tags": []
     },
     "output_type": "execute_result"
    },
    {
     "data": {
      "image/png": "[encoded data removed]",
      "text/plain": [
       "<matplotlib.figure.Figure at 0x7f3b531fc5f8>"
      ]
     },
     "metadata": {
      "tags": []
     },
     "output_type": "display_data"
    }
   ],
   "source": [
    "plt.plot(np.arange(0, len(grid_lasso.cv_results_['mean_test_score'])), grid_lasso.cv_results_['mean_test_score'], '--', label = 'Mean Train Score')\n",
    "plt.plot(np.arange(0, len(grid_lasso.cv_results_['mean_train_score'])), grid_lasso.cv_results_['mean_train_score'], '-', label = 'Mean Validation Score')\n",
    "plt.legend()\n",
    "plt.grid(True)\n",
    "plt.xlabel('Hyperparameter combination')\n",
    "plt.ylabel('Accuracy')\n",
    "plt.title('LASSO CV Results')\n",
    "pd.DataFrame(grid_lasso.cv_results_['params'])"
   ]
  },
  {
   "cell_type": "code",
   "execution_count": 0,
   "metadata": {
    "colab": {},
    "colab_type": "code",
    "id": "Rt6STjmSJcWk",
    "outputId": "0a5c0ef6-9c63-4c64-8194-eabbfdf0c353"
   },
   "outputs": [
    {
     "data": {
      "text/html": [
       "<div>\n",
       "<style>\n",
       "    .dataframe thead tr:only-child th {\n",
       "        text-align: right;\n",
       "    }\n",
       "\n",
       "    .dataframe thead th {\n",
       "        text-align: left;\n",
       "    }\n",
       "\n",
       "    .dataframe tbody tr th {\n",
       "        vertical-align: top;\n",
       "    }\n",
       "</style>\n",
       "<table border=\"1\" class=\"dataframe\">\n",
       "  <thead>\n",
       "    <tr style=\"text-align: right;\">\n",
       "      <th></th>\n",
       "      <th>alpha</th>\n",
       "      <th>max_iter</th>\n",
       "      <th>selection</th>\n",
       "    </tr>\n",
       "  </thead>\n",
       "  <tbody>\n",
       "    <tr>\n",
       "      <th>0</th>\n",
       "      <td>0.001</td>\n",
       "      <td>1000</td>\n",
       "      <td>cyclic</td>\n",
       "    </tr>\n",
       "    <tr>\n",
       "      <th>1</th>\n",
       "      <td>0.001</td>\n",
       "      <td>1000</td>\n",
       "      <td>random</td>\n",
       "    </tr>\n",
       "    <tr>\n",
       "      <th>2</th>\n",
       "      <td>0.001</td>\n",
       "      <td>10000</td>\n",
       "      <td>cyclic</td>\n",
       "    </tr>\n",
       "    <tr>\n",
       "      <th>3</th>\n",
       "      <td>0.001</td>\n",
       "      <td>10000</td>\n",
       "      <td>random</td>\n",
       "    </tr>\n",
       "    <tr>\n",
       "      <th>4</th>\n",
       "      <td>0.010</td>\n",
       "      <td>1000</td>\n",
       "      <td>cyclic</td>\n",
       "    </tr>\n",
       "    <tr>\n",
       "      <th>5</th>\n",
       "      <td>0.010</td>\n",
       "      <td>1000</td>\n",
       "      <td>random</td>\n",
       "    </tr>\n",
       "    <tr>\n",
       "      <th>6</th>\n",
       "      <td>0.010</td>\n",
       "      <td>10000</td>\n",
       "      <td>cyclic</td>\n",
       "    </tr>\n",
       "    <tr>\n",
       "      <th>7</th>\n",
       "      <td>0.010</td>\n",
       "      <td>10000</td>\n",
       "      <td>random</td>\n",
       "    </tr>\n",
       "    <tr>\n",
       "      <th>8</th>\n",
       "      <td>0.100</td>\n",
       "      <td>1000</td>\n",
       "      <td>cyclic</td>\n",
       "    </tr>\n",
       "    <tr>\n",
       "      <th>9</th>\n",
       "      <td>0.100</td>\n",
       "      <td>1000</td>\n",
       "      <td>random</td>\n",
       "    </tr>\n",
       "    <tr>\n",
       "      <th>10</th>\n",
       "      <td>0.100</td>\n",
       "      <td>10000</td>\n",
       "      <td>cyclic</td>\n",
       "    </tr>\n",
       "    <tr>\n",
       "      <th>11</th>\n",
       "      <td>0.100</td>\n",
       "      <td>10000</td>\n",
       "      <td>random</td>\n",
       "    </tr>\n",
       "    <tr>\n",
       "      <th>12</th>\n",
       "      <td>1.000</td>\n",
       "      <td>1000</td>\n",
       "      <td>cyclic</td>\n",
       "    </tr>\n",
       "    <tr>\n",
       "      <th>13</th>\n",
       "      <td>1.000</td>\n",
       "      <td>1000</td>\n",
       "      <td>random</td>\n",
       "    </tr>\n",
       "    <tr>\n",
       "      <th>14</th>\n",
       "      <td>1.000</td>\n",
       "      <td>10000</td>\n",
       "      <td>cyclic</td>\n",
       "    </tr>\n",
       "    <tr>\n",
       "      <th>15</th>\n",
       "      <td>1.000</td>\n",
       "      <td>10000</td>\n",
       "      <td>random</td>\n",
       "    </tr>\n",
       "    <tr>\n",
       "      <th>16</th>\n",
       "      <td>10.000</td>\n",
       "      <td>1000</td>\n",
       "      <td>cyclic</td>\n",
       "    </tr>\n",
       "    <tr>\n",
       "      <th>17</th>\n",
       "      <td>10.000</td>\n",
       "      <td>1000</td>\n",
       "      <td>random</td>\n",
       "    </tr>\n",
       "    <tr>\n",
       "      <th>18</th>\n",
       "      <td>10.000</td>\n",
       "      <td>10000</td>\n",
       "      <td>cyclic</td>\n",
       "    </tr>\n",
       "    <tr>\n",
       "      <th>19</th>\n",
       "      <td>10.000</td>\n",
       "      <td>10000</td>\n",
       "      <td>random</td>\n",
       "    </tr>\n",
       "    <tr>\n",
       "      <th>20</th>\n",
       "      <td>100.000</td>\n",
       "      <td>1000</td>\n",
       "      <td>cyclic</td>\n",
       "    </tr>\n",
       "    <tr>\n",
       "      <th>21</th>\n",
       "      <td>100.000</td>\n",
       "      <td>1000</td>\n",
       "      <td>random</td>\n",
       "    </tr>\n",
       "    <tr>\n",
       "      <th>22</th>\n",
       "      <td>100.000</td>\n",
       "      <td>10000</td>\n",
       "      <td>cyclic</td>\n",
       "    </tr>\n",
       "    <tr>\n",
       "      <th>23</th>\n",
       "      <td>100.000</td>\n",
       "      <td>10000</td>\n",
       "      <td>random</td>\n",
       "    </tr>\n",
       "  </tbody>\n",
       "</table>\n",
       "</div>"
      ],
      "text/plain": [
       "      alpha  max_iter selection\n",
       "0     0.001      1000    cyclic\n",
       "1     0.001      1000    random\n",
       "2     0.001     10000    cyclic\n",
       "3     0.001     10000    random\n",
       "4     0.010      1000    cyclic\n",
       "5     0.010      1000    random\n",
       "6     0.010     10000    cyclic\n",
       "7     0.010     10000    random\n",
       "8     0.100      1000    cyclic\n",
       "9     0.100      1000    random\n",
       "10    0.100     10000    cyclic\n",
       "11    0.100     10000    random\n",
       "12    1.000      1000    cyclic\n",
       "13    1.000      1000    random\n",
       "14    1.000     10000    cyclic\n",
       "15    1.000     10000    random\n",
       "16   10.000      1000    cyclic\n",
       "17   10.000      1000    random\n",
       "18   10.000     10000    cyclic\n",
       "19   10.000     10000    random\n",
       "20  100.000      1000    cyclic\n",
       "21  100.000      1000    random\n",
       "22  100.000     10000    cyclic\n",
       "23  100.000     10000    random"
      ]
     },
     "execution_count": 20,
     "metadata": {
      "tags": []
     },
     "output_type": "execute_result"
    },
    {
     "data": {
      "image/png": "[encoded data removed]",
      "text/plain": [
       "<matplotlib.figure.Figure at 0x7f3b40b2eb38>"
      ]
     },
     "metadata": {
      "tags": []
     },
     "output_type": "display_data"
    }
   ],
   "source": [
    "temp = pd.DataFrame(grid_lasso.cv_results_['params'])\n",
    "temp = temp.assign(mean_test_score = pd.DataFrame(grid_lasso.cv_results_['mean_test_score']))\n",
    "temp = temp.assign(mean_train_score = pd.DataFrame(grid_lasso.cv_results_['mean_train_score']))\n",
    "temp_1000 = temp.groupby('alpha')['mean_test_score', 'mean_train_score'].mean().reset_index()\n",
    "temp_1000\n",
    "plt.plot(temp_1000['alpha'], temp_1000['mean_train_score'], '--', label = 'Mean Train Score')\n",
    "plt.plot(temp_1000['alpha'], temp_1000['mean_test_score'], '-', label = 'Mean Validation Score')\n",
    "plt.legend()\n",
    "plt.grid(True)\n",
    "plt.xlabel('α')\n",
    "plt.xscale('log')\n",
    "plt.ylabel('Accuracy')\n",
    "plt.title('CV scores at different α')\n",
    "pd.DataFrame(grid_lasso.cv_results_['params'])"
   ]
  },
  {
   "cell_type": "markdown",
   "metadata": {
    "colab_type": "text",
    "id": "WOTdOIhFJcWn"
   },
   "source": [
    "# Stochastic Gradient Descent (SGD)\n",
    "\n",
    "SGD is an iterative method which minimizes the cost function with random individual samples. The gradient of the loss is estimated one sample at a time and the model is updated along the way with a decreasing  learning rate.\n",
    "\n",
    "When predicting the dependent variable for this dataset, SGD Regressor produces a score of greater than 0.9 in test accuracy, however there are other models with superior scores. The model performance improves with increased iterations and prediction scores are optimal when penalizing with l1 regularizer over l2."
   ]
  },
  {
   "cell_type": "code",
   "execution_count": 0,
   "metadata": {
    "colab": {},
    "colab_type": "code",
    "id": "VPkO9OPmJcWo",
    "outputId": "70489a94-9aef-43a4-89e6-985ec29c595f"
   },
   "outputs": [
    {
     "name": "stdout",
     "output_type": "stream",
     "text": [
      "Best Parameters : {'max_iter': 10000, 'penalty': 'l2'}\n",
      "Best CV score   : 0.026\n"
     ]
    }
   ],
   "source": [
    "from sklearn.linear_model import SGDRegressor\n",
    "\n",
    "sgd = SGDRegressor()\n",
    "param_grid = {'penalty': ['l1', 'l2'], 'max_iter': [1000, 10000, 100000]}\n",
    "grid_sgd = GridSearchCV(sgd, param_grid, cv=5, n_jobs= -1)\n",
    "grid_sgd.fit(X_train, y_train)\n",
    "\n",
    "print(\"Best Parameters : {}\".format(grid_sgd.best_params_))\n",
    "print(\"Best CV score   : {}\".format('%.3f'% grid_sgd.best_score_))"
   ]
  },
  {
   "cell_type": "code",
   "execution_count": 0,
   "metadata": {
    "colab": {},
    "colab_type": "code",
    "id": "phIp9MI2JcWu",
    "outputId": "4ae89159-28ea-4e81-a500-2378c148a684"
   },
   "outputs": [
    {
     "name": "stdout",
     "output_type": "stream",
     "text": [
      "SGD - Train Accuracy: 0.026\n",
      "SGD - Test Accuracy: 0.028 \n"
     ]
    }
   ],
   "source": [
    "sgd_train_accuracy = grid_sgd.best_estimator_.score(X_train, y_train)\n",
    "sgd_test_accuracy  = grid_sgd.best_estimator_.score(X_test, y_test)\n",
    "\n",
    "print('SGD - Train Accuracy: %.3f'%sgd_train_accuracy)\n",
    "print('SGD - Test Accuracy: %.3f '%sgd_test_accuracy)\n",
    "\n",
    "table.append(['Stochastic Gradient Discent', grid_sgd.best_params_, sgd_train_accuracy, sgd_test_accuracy])"
   ]
  },
  {
   "cell_type": "code",
   "execution_count": 0,
   "metadata": {
    "colab": {},
    "colab_type": "code",
    "id": "GNPJMyYYJcW1",
    "outputId": "54e61bd8-a16a-4a26-f8cb-ac98eda329d5"
   },
   "outputs": [
    {
     "data": {
      "text/html": [
       "<div>\n",
       "<style>\n",
       "    .dataframe thead tr:only-child th {\n",
       "        text-align: right;\n",
       "    }\n",
       "\n",
       "    .dataframe thead th {\n",
       "        text-align: left;\n",
       "    }\n",
       "\n",
       "    .dataframe tbody tr th {\n",
       "        vertical-align: top;\n",
       "    }\n",
       "</style>\n",
       "<table border=\"1\" class=\"dataframe\">\n",
       "  <thead>\n",
       "    <tr style=\"text-align: right;\">\n",
       "      <th></th>\n",
       "      <th>max_iter</th>\n",
       "      <th>penalty</th>\n",
       "    </tr>\n",
       "  </thead>\n",
       "  <tbody>\n",
       "    <tr>\n",
       "      <th>0</th>\n",
       "      <td>1000</td>\n",
       "      <td>l1</td>\n",
       "    </tr>\n",
       "    <tr>\n",
       "      <th>1</th>\n",
       "      <td>1000</td>\n",
       "      <td>l2</td>\n",
       "    </tr>\n",
       "    <tr>\n",
       "      <th>2</th>\n",
       "      <td>10000</td>\n",
       "      <td>l1</td>\n",
       "    </tr>\n",
       "    <tr>\n",
       "      <th>3</th>\n",
       "      <td>10000</td>\n",
       "      <td>l2</td>\n",
       "    </tr>\n",
       "    <tr>\n",
       "      <th>4</th>\n",
       "      <td>100000</td>\n",
       "      <td>l1</td>\n",
       "    </tr>\n",
       "    <tr>\n",
       "      <th>5</th>\n",
       "      <td>100000</td>\n",
       "      <td>l2</td>\n",
       "    </tr>\n",
       "  </tbody>\n",
       "</table>\n",
       "</div>"
      ],
      "text/plain": [
       "   max_iter penalty\n",
       "0      1000      l1\n",
       "1      1000      l2\n",
       "2     10000      l1\n",
       "3     10000      l2\n",
       "4    100000      l1\n",
       "5    100000      l2"
      ]
     },
     "execution_count": 23,
     "metadata": {
      "tags": []
     },
     "output_type": "execute_result"
    },
    {
     "data": {
      "image/png": "[encoded data removed]",
      "text/plain": [
       "<matplotlib.figure.Figure at 0x7f3b40a27358>"
      ]
     },
     "metadata": {
      "tags": []
     },
     "output_type": "display_data"
    }
   ],
   "source": [
    "plt.plot(np.arange(0, len(grid_sgd.cv_results_['mean_test_score'])), grid_sgd.cv_results_['mean_test_score'], '--', label = 'Mean Train Score')\n",
    "plt.plot(np.arange(0, len(grid_sgd.cv_results_['mean_train_score'])), grid_sgd.cv_results_['mean_train_score'], '-', label = 'Mean Validation Score')\n",
    "plt.legend()\n",
    "plt.grid(True)\n",
    "plt.xlabel('Hyperparameter combination')\n",
    "plt.ylabel('Accuracy')\n",
    "plt.title('SGD CV Results')\n",
    "pd.DataFrame(grid_sgd.cv_results_['params'])"
   ]
  },
  {
   "cell_type": "markdown",
   "metadata": {
    "colab_type": "text",
    "id": "fdjtAzGKJcW4"
   },
   "source": [
    "# Simple SVR\n",
    "\n",
    "Simple SVR is Linear Support Vector Regression (without kernels). This method tries to form a hyper-plane which accomodates as many points along its edges.\n",
    "\n",
    "According to sklearn, SVR with parameter kernel=’linear’, but implemented in terms of liblinear rather than libsvm, so it has more flexibility in the choice of penalties and loss functions and should scale better to large numbers of samples. This class supports both dense and sparse input.\n",
    "\n",
    "The model performed optimally when gamma = 1, epsilon =  0.1 and loss function set to \"squared_epsilon_insensitive\" (l2)"
   ]
  },
  {
   "cell_type": "code",
   "execution_count": 0,
   "metadata": {
    "colab": {},
    "colab_type": "code",
    "id": "DOHWcu9cJcW6",
    "outputId": "4277fafb-7c68-4220-bb17-bd2c773f49a2"
   },
   "outputs": [
    {
     "name": "stdout",
     "output_type": "stream",
     "text": [
      "Best Parameters : {'C': 0.01, 'epsilon': 0, 'loss': 'squared_epsilon_insensitive', 'max_iter': 1000}\n",
      "Best CV score   : 0.026\n"
     ]
    }
   ],
   "source": [
    "from sklearn.svm import LinearSVR\n",
    "\n",
    "powers = range(-2, 1)\n",
    "e_range = [0]\n",
    "c_range = []\n",
    "for power in powers:\n",
    "    e_range.append(10 ** power)\n",
    "    c_range.append(10 ** power)\n",
    "\n",
    "linear_svr = LinearSVR()\n",
    "param_grid = {'C': c_range, 'epsilon': e_range, 'loss': ['epsilon_insensitive', 'squared_epsilon_insensitive'], 'max_iter': [1000, 10000]}\n",
    "grid_linear_svr = GridSearchCV(linear_svr, param_grid, cv=5, n_jobs= -1)\n",
    "grid_linear_svr.fit(X_train, y_train)\n",
    "\n",
    "print(\"Best Parameters : {}\".format(grid_linear_svr.best_params_))\n",
    "print(\"Best CV score   : {}\".format('%.3f'% grid_linear_svr.best_score_))"
   ]
  },
  {
   "cell_type": "code",
   "execution_count": 0,
   "metadata": {
    "colab": {},
    "colab_type": "code",
    "id": "vFFqHi51JcW_",
    "outputId": "42e8fd69-d066-4848-835d-52b793a1a5e0"
   },
   "outputs": [
    {
     "name": "stdout",
     "output_type": "stream",
     "text": [
      "SVR_simple - Train Accuracy: 0.026\n",
      "SVR_simple - Test Accuracy: 0.028 \n"
     ]
    }
   ],
   "source": [
    "linear_svr_train_accuracy = grid_linear_svr.best_estimator_.score(X_train, y_train)\n",
    "linear_svr_test_accuracy  = grid_linear_svr.best_estimator_.score(X_test, y_test)\n",
    "\n",
    "print('SVR_simple - Train Accuracy: %.3f'%linear_svr_train_accuracy)\n",
    "print('SVR_simple - Test Accuracy: %.3f '%linear_svr_test_accuracy)\n",
    "\n",
    "table.append(['SVR Simple', grid_linear_svr.best_params_, linear_svr_train_accuracy, linear_svr_test_accuracy])"
   ]
  },
  {
   "cell_type": "code",
   "execution_count": 0,
   "metadata": {
    "colab": {},
    "colab_type": "code",
    "id": "xxm40iEVJcXC",
    "outputId": "52077650-bdc7-4058-d029-783b213a2649"
   },
   "outputs": [
    {
     "data": {
      "text/html": [
       "<div>\n",
       "<style>\n",
       "    .dataframe thead tr:only-child th {\n",
       "        text-align: right;\n",
       "    }\n",
       "\n",
       "    .dataframe thead th {\n",
       "        text-align: left;\n",
       "    }\n",
       "\n",
       "    .dataframe tbody tr th {\n",
       "        vertical-align: top;\n",
       "    }\n",
       "</style>\n",
       "<table border=\"1\" class=\"dataframe\">\n",
       "  <thead>\n",
       "    <tr style=\"text-align: right;\">\n",
       "      <th></th>\n",
       "      <th>C</th>\n",
       "      <th>epsilon</th>\n",
       "      <th>loss</th>\n",
       "      <th>max_iter</th>\n",
       "    </tr>\n",
       "  </thead>\n",
       "  <tbody>\n",
       "    <tr>\n",
       "      <th>0</th>\n",
       "      <td>0.01</td>\n",
       "      <td>0.00</td>\n",
       "      <td>epsilon_insensitive</td>\n",
       "      <td>1000</td>\n",
       "    </tr>\n",
       "    <tr>\n",
       "      <th>1</th>\n",
       "      <td>0.01</td>\n",
       "      <td>0.00</td>\n",
       "      <td>epsilon_insensitive</td>\n",
       "      <td>10000</td>\n",
       "    </tr>\n",
       "    <tr>\n",
       "      <th>2</th>\n",
       "      <td>0.01</td>\n",
       "      <td>0.00</td>\n",
       "      <td>squared_epsilon_insensitive</td>\n",
       "      <td>1000</td>\n",
       "    </tr>\n",
       "    <tr>\n",
       "      <th>3</th>\n",
       "      <td>0.01</td>\n",
       "      <td>0.00</td>\n",
       "      <td>squared_epsilon_insensitive</td>\n",
       "      <td>10000</td>\n",
       "    </tr>\n",
       "    <tr>\n",
       "      <th>4</th>\n",
       "      <td>0.01</td>\n",
       "      <td>0.01</td>\n",
       "      <td>epsilon_insensitive</td>\n",
       "      <td>1000</td>\n",
       "    </tr>\n",
       "    <tr>\n",
       "      <th>5</th>\n",
       "      <td>0.01</td>\n",
       "      <td>0.01</td>\n",
       "      <td>epsilon_insensitive</td>\n",
       "      <td>10000</td>\n",
       "    </tr>\n",
       "    <tr>\n",
       "      <th>6</th>\n",
       "      <td>0.01</td>\n",
       "      <td>0.01</td>\n",
       "      <td>squared_epsilon_insensitive</td>\n",
       "      <td>1000</td>\n",
       "    </tr>\n",
       "    <tr>\n",
       "      <th>7</th>\n",
       "      <td>0.01</td>\n",
       "      <td>0.01</td>\n",
       "      <td>squared_epsilon_insensitive</td>\n",
       "      <td>10000</td>\n",
       "    </tr>\n",
       "    <tr>\n",
       "      <th>8</th>\n",
       "      <td>0.01</td>\n",
       "      <td>0.10</td>\n",
       "      <td>epsilon_insensitive</td>\n",
       "      <td>1000</td>\n",
       "    </tr>\n",
       "    <tr>\n",
       "      <th>9</th>\n",
       "      <td>0.01</td>\n",
       "      <td>0.10</td>\n",
       "      <td>epsilon_insensitive</td>\n",
       "      <td>10000</td>\n",
       "    </tr>\n",
       "    <tr>\n",
       "      <th>10</th>\n",
       "      <td>0.01</td>\n",
       "      <td>0.10</td>\n",
       "      <td>squared_epsilon_insensitive</td>\n",
       "      <td>1000</td>\n",
       "    </tr>\n",
       "    <tr>\n",
       "      <th>11</th>\n",
       "      <td>0.01</td>\n",
       "      <td>0.10</td>\n",
       "      <td>squared_epsilon_insensitive</td>\n",
       "      <td>10000</td>\n",
       "    </tr>\n",
       "    <tr>\n",
       "      <th>12</th>\n",
       "      <td>0.01</td>\n",
       "      <td>1.00</td>\n",
       "      <td>epsilon_insensitive</td>\n",
       "      <td>1000</td>\n",
       "    </tr>\n",
       "    <tr>\n",
       "      <th>13</th>\n",
       "      <td>0.01</td>\n",
       "      <td>1.00</td>\n",
       "      <td>epsilon_insensitive</td>\n",
       "      <td>10000</td>\n",
       "    </tr>\n",
       "    <tr>\n",
       "      <th>14</th>\n",
       "      <td>0.01</td>\n",
       "      <td>1.00</td>\n",
       "      <td>squared_epsilon_insensitive</td>\n",
       "      <td>1000</td>\n",
       "    </tr>\n",
       "    <tr>\n",
       "      <th>15</th>\n",
       "      <td>0.01</td>\n",
       "      <td>1.00</td>\n",
       "      <td>squared_epsilon_insensitive</td>\n",
       "      <td>10000</td>\n",
       "    </tr>\n",
       "    <tr>\n",
       "      <th>16</th>\n",
       "      <td>0.10</td>\n",
       "      <td>0.00</td>\n",
       "      <td>epsilon_insensitive</td>\n",
       "      <td>1000</td>\n",
       "    </tr>\n",
       "    <tr>\n",
       "      <th>17</th>\n",
       "      <td>0.10</td>\n",
       "      <td>0.00</td>\n",
       "      <td>epsilon_insensitive</td>\n",
       "      <td>10000</td>\n",
       "    </tr>\n",
       "    <tr>\n",
       "      <th>18</th>\n",
       "      <td>0.10</td>\n",
       "      <td>0.00</td>\n",
       "      <td>squared_epsilon_insensitive</td>\n",
       "      <td>1000</td>\n",
       "    </tr>\n",
       "    <tr>\n",
       "      <th>19</th>\n",
       "      <td>0.10</td>\n",
       "      <td>0.00</td>\n",
       "      <td>squared_epsilon_insensitive</td>\n",
       "      <td>10000</td>\n",
       "    </tr>\n",
       "    <tr>\n",
       "      <th>20</th>\n",
       "      <td>0.10</td>\n",
       "      <td>0.01</td>\n",
       "      <td>epsilon_insensitive</td>\n",
       "      <td>1000</td>\n",
       "    </tr>\n",
       "    <tr>\n",
       "      <th>21</th>\n",
       "      <td>0.10</td>\n",
       "      <td>0.01</td>\n",
       "      <td>epsilon_insensitive</td>\n",
       "      <td>10000</td>\n",
       "    </tr>\n",
       "    <tr>\n",
       "      <th>22</th>\n",
       "      <td>0.10</td>\n",
       "      <td>0.01</td>\n",
       "      <td>squared_epsilon_insensitive</td>\n",
       "      <td>1000</td>\n",
       "    </tr>\n",
       "    <tr>\n",
       "      <th>23</th>\n",
       "      <td>0.10</td>\n",
       "      <td>0.01</td>\n",
       "      <td>squared_epsilon_insensitive</td>\n",
       "      <td>10000</td>\n",
       "    </tr>\n",
       "    <tr>\n",
       "      <th>24</th>\n",
       "      <td>0.10</td>\n",
       "      <td>0.10</td>\n",
       "      <td>epsilon_insensitive</td>\n",
       "      <td>1000</td>\n",
       "    </tr>\n",
       "    <tr>\n",
       "      <th>25</th>\n",
       "      <td>0.10</td>\n",
       "      <td>0.10</td>\n",
       "      <td>epsilon_insensitive</td>\n",
       "      <td>10000</td>\n",
       "    </tr>\n",
       "    <tr>\n",
       "      <th>26</th>\n",
       "      <td>0.10</td>\n",
       "      <td>0.10</td>\n",
       "      <td>squared_epsilon_insensitive</td>\n",
       "      <td>1000</td>\n",
       "    </tr>\n",
       "    <tr>\n",
       "      <th>27</th>\n",
       "      <td>0.10</td>\n",
       "      <td>0.10</td>\n",
       "      <td>squared_epsilon_insensitive</td>\n",
       "      <td>10000</td>\n",
       "    </tr>\n",
       "    <tr>\n",
       "      <th>28</th>\n",
       "      <td>0.10</td>\n",
       "      <td>1.00</td>\n",
       "      <td>epsilon_insensitive</td>\n",
       "      <td>1000</td>\n",
       "    </tr>\n",
       "    <tr>\n",
       "      <th>29</th>\n",
       "      <td>0.10</td>\n",
       "      <td>1.00</td>\n",
       "      <td>epsilon_insensitive</td>\n",
       "      <td>10000</td>\n",
       "    </tr>\n",
       "    <tr>\n",
       "      <th>30</th>\n",
       "      <td>0.10</td>\n",
       "      <td>1.00</td>\n",
       "      <td>squared_epsilon_insensitive</td>\n",
       "      <td>1000</td>\n",
       "    </tr>\n",
       "    <tr>\n",
       "      <th>31</th>\n",
       "      <td>0.10</td>\n",
       "      <td>1.00</td>\n",
       "      <td>squared_epsilon_insensitive</td>\n",
       "      <td>10000</td>\n",
       "    </tr>\n",
       "    <tr>\n",
       "      <th>32</th>\n",
       "      <td>1.00</td>\n",
       "      <td>0.00</td>\n",
       "      <td>epsilon_insensitive</td>\n",
       "      <td>1000</td>\n",
       "    </tr>\n",
       "    <tr>\n",
       "      <th>33</th>\n",
       "      <td>1.00</td>\n",
       "      <td>0.00</td>\n",
       "      <td>epsilon_insensitive</td>\n",
       "      <td>10000</td>\n",
       "    </tr>\n",
       "    <tr>\n",
       "      <th>34</th>\n",
       "      <td>1.00</td>\n",
       "      <td>0.00</td>\n",
       "      <td>squared_epsilon_insensitive</td>\n",
       "      <td>1000</td>\n",
       "    </tr>\n",
       "    <tr>\n",
       "      <th>35</th>\n",
       "      <td>1.00</td>\n",
       "      <td>0.00</td>\n",
       "      <td>squared_epsilon_insensitive</td>\n",
       "      <td>10000</td>\n",
       "    </tr>\n",
       "    <tr>\n",
       "      <th>36</th>\n",
       "      <td>1.00</td>\n",
       "      <td>0.01</td>\n",
       "      <td>epsilon_insensitive</td>\n",
       "      <td>1000</td>\n",
       "    </tr>\n",
       "    <tr>\n",
       "      <th>37</th>\n",
       "      <td>1.00</td>\n",
       "      <td>0.01</td>\n",
       "      <td>epsilon_insensitive</td>\n",
       "      <td>10000</td>\n",
       "    </tr>\n",
       "    <tr>\n",
       "      <th>38</th>\n",
       "      <td>1.00</td>\n",
       "      <td>0.01</td>\n",
       "      <td>squared_epsilon_insensitive</td>\n",
       "      <td>1000</td>\n",
       "    </tr>\n",
       "    <tr>\n",
       "      <th>39</th>\n",
       "      <td>1.00</td>\n",
       "      <td>0.01</td>\n",
       "      <td>squared_epsilon_insensitive</td>\n",
       "      <td>10000</td>\n",
       "    </tr>\n",
       "    <tr>\n",
       "      <th>40</th>\n",
       "      <td>1.00</td>\n",
       "      <td>0.10</td>\n",
       "      <td>epsilon_insensitive</td>\n",
       "      <td>1000</td>\n",
       "    </tr>\n",
       "    <tr>\n",
       "      <th>41</th>\n",
       "      <td>1.00</td>\n",
       "      <td>0.10</td>\n",
       "      <td>epsilon_insensitive</td>\n",
       "      <td>10000</td>\n",
       "    </tr>\n",
       "    <tr>\n",
       "      <th>42</th>\n",
       "      <td>1.00</td>\n",
       "      <td>0.10</td>\n",
       "      <td>squared_epsilon_insensitive</td>\n",
       "      <td>1000</td>\n",
       "    </tr>\n",
       "    <tr>\n",
       "      <th>43</th>\n",
       "      <td>1.00</td>\n",
       "      <td>0.10</td>\n",
       "      <td>squared_epsilon_insensitive</td>\n",
       "      <td>10000</td>\n",
       "    </tr>\n",
       "    <tr>\n",
       "      <th>44</th>\n",
       "      <td>1.00</td>\n",
       "      <td>1.00</td>\n",
       "      <td>epsilon_insensitive</td>\n",
       "      <td>1000</td>\n",
       "    </tr>\n",
       "    <tr>\n",
       "      <th>45</th>\n",
       "      <td>1.00</td>\n",
       "      <td>1.00</td>\n",
       "      <td>epsilon_insensitive</td>\n",
       "      <td>10000</td>\n",
       "    </tr>\n",
       "    <tr>\n",
       "      <th>46</th>\n",
       "      <td>1.00</td>\n",
       "      <td>1.00</td>\n",
       "      <td>squared_epsilon_insensitive</td>\n",
       "      <td>1000</td>\n",
       "    </tr>\n",
       "    <tr>\n",
       "      <th>47</th>\n",
       "      <td>1.00</td>\n",
       "      <td>1.00</td>\n",
       "      <td>squared_epsilon_insensitive</td>\n",
       "      <td>10000</td>\n",
       "    </tr>\n",
       "  </tbody>\n",
       "</table>\n",
       "</div>"
      ],
      "text/plain": [
       "       C  epsilon                         loss  max_iter\n",
       "0   0.01     0.00          epsilon_insensitive      1000\n",
       "1   0.01     0.00          epsilon_insensitive     10000\n",
       "2   0.01     0.00  squared_epsilon_insensitive      1000\n",
       "3   0.01     0.00  squared_epsilon_insensitive     10000\n",
       "4   0.01     0.01          epsilon_insensitive      1000\n",
       "5   0.01     0.01          epsilon_insensitive     10000\n",
       "6   0.01     0.01  squared_epsilon_insensitive      1000\n",
       "7   0.01     0.01  squared_epsilon_insensitive     10000\n",
       "8   0.01     0.10          epsilon_insensitive      1000\n",
       "9   0.01     0.10          epsilon_insensitive     10000\n",
       "10  0.01     0.10  squared_epsilon_insensitive      1000\n",
       "11  0.01     0.10  squared_epsilon_insensitive     10000\n",
       "12  0.01     1.00          epsilon_insensitive      1000\n",
       "13  0.01     1.00          epsilon_insensitive     10000\n",
       "14  0.01     1.00  squared_epsilon_insensitive      1000\n",
       "15  0.01     1.00  squared_epsilon_insensitive     10000\n",
       "16  0.10     0.00          epsilon_insensitive      1000\n",
       "17  0.10     0.00          epsilon_insensitive     10000\n",
       "18  0.10     0.00  squared_epsilon_insensitive      1000\n",
       "19  0.10     0.00  squared_epsilon_insensitive     10000\n",
       "20  0.10     0.01          epsilon_insensitive      1000\n",
       "21  0.10     0.01          epsilon_insensitive     10000\n",
       "22  0.10     0.01  squared_epsilon_insensitive      1000\n",
       "23  0.10     0.01  squared_epsilon_insensitive     10000\n",
       "24  0.10     0.10          epsilon_insensitive      1000\n",
       "25  0.10     0.10          epsilon_insensitive     10000\n",
       "26  0.10     0.10  squared_epsilon_insensitive      1000\n",
       "27  0.10     0.10  squared_epsilon_insensitive     10000\n",
       "28  0.10     1.00          epsilon_insensitive      1000\n",
       "29  0.10     1.00          epsilon_insensitive     10000\n",
       "30  0.10     1.00  squared_epsilon_insensitive      1000\n",
       "31  0.10     1.00  squared_epsilon_insensitive     10000\n",
       "32  1.00     0.00          epsilon_insensitive      1000\n",
       "33  1.00     0.00          epsilon_insensitive     10000\n",
       "34  1.00     0.00  squared_epsilon_insensitive      1000\n",
       "35  1.00     0.00  squared_epsilon_insensitive     10000\n",
       "36  1.00     0.01          epsilon_insensitive      1000\n",
       "37  1.00     0.01          epsilon_insensitive     10000\n",
       "38  1.00     0.01  squared_epsilon_insensitive      1000\n",
       "39  1.00     0.01  squared_epsilon_insensitive     10000\n",
       "40  1.00     0.10          epsilon_insensitive      1000\n",
       "41  1.00     0.10          epsilon_insensitive     10000\n",
       "42  1.00     0.10  squared_epsilon_insensitive      1000\n",
       "43  1.00     0.10  squared_epsilon_insensitive     10000\n",
       "44  1.00     1.00          epsilon_insensitive      1000\n",
       "45  1.00     1.00          epsilon_insensitive     10000\n",
       "46  1.00     1.00  squared_epsilon_insensitive      1000\n",
       "47  1.00     1.00  squared_epsilon_insensitive     10000"
      ]
     },
     "execution_count": 26,
     "metadata": {
      "tags": []
     },
     "output_type": "execute_result"
    },
    {
     "data": {
      "image/png": "[encoded data removed]",
      "text/plain": [
       "<matplotlib.figure.Figure at 0x7f3b409e1c18>"
      ]
     },
     "metadata": {
      "tags": []
     },
     "output_type": "display_data"
    }
   ],
   "source": [
    "plt.plot(np.arange(0, len(grid_linear_svr.cv_results_['mean_test_score'])), grid_linear_svr.cv_results_['mean_test_score'], '--', label = 'Mean Train Score')\n",
    "plt.plot(np.arange(0, len(grid_linear_svr.cv_results_['mean_train_score'])), grid_linear_svr.cv_results_['mean_train_score'], '-', label = 'Mean Validation Score')\n",
    "plt.legend()\n",
    "plt.grid(True)\n",
    "plt.xlabel('Hyperparameter combination')\n",
    "plt.ylabel('Accuracy')\n",
    "plt.title('SVR Simple CV Results')\n",
    "pd.DataFrame(grid_linear_svr.cv_results_['params'])"
   ]
  },
  {
   "cell_type": "markdown",
   "metadata": {
    "colab_type": "text",
    "id": "gtjucMmHJcXF"
   },
   "source": [
    "# SVR kernel= 'linear'"
   ]
  },
  {
   "cell_type": "code",
   "execution_count": 0,
   "metadata": {
    "colab": {},
    "colab_type": "code",
    "id": "F9eE6MgUJcXF",
    "outputId": "21be411a-5326-4f25-99ff-61b1a3ae1d71"
   },
   "outputs": [
    {
     "name": "stdout",
     "output_type": "stream",
     "text": [
      "Best Parameters : {'C': 1, 'epsilon': 1}\n",
      "Best CV score   : -0.061\n"
     ]
    }
   ],
   "source": [
    "from sklearn.svm import SVR\n",
    "\n",
    "model1 = (SVR(kernel='linear'))\n",
    "\n",
    "param_grid = {'C': c_range, 'epsilon': e_range}\n",
    "grid_svr_l = GridSearchCV(model1, param_grid, cv=5, n_jobs= -1)\n",
    "grid_svr_l.fit(X_train, y_train)\n",
    "\n",
    "print(\"Best Parameters : {}\".format(grid_svr_l.best_params_))\n",
    "print(\"Best CV score   : {}\".format('%.3f'% grid_svr_l.best_score_))"
   ]
  },
  {
   "cell_type": "code",
   "execution_count": 0,
   "metadata": {
    "colab": {},
    "colab_type": "code",
    "id": "xv5PFfdvJcXL",
    "outputId": "736698f6-8664-4bbf-ad48-3978d8328679"
   },
   "outputs": [
    {
     "name": "stdout",
     "output_type": "stream",
     "text": [
      "SVR_kernel_linear - Train Accuracy: -0.059\n",
      "SVR_kernel_linear - Test Accuracy: -0.065 \n"
     ]
    }
   ],
   "source": [
    "svr_l_train_accuracy = grid_svr_l.best_estimator_.score(X_train, y_train)\n",
    "svr_l_test_accuracy  = grid_svr_l.best_estimator_.score(X_test, y_test)\n",
    "\n",
    "print('SVR_kernel_linear - Train Accuracy: %.3f'%svr_l_train_accuracy)\n",
    "print('SVR_kernel_linear - Test Accuracy: %.3f '%svr_l_test_accuracy)\n",
    "\n",
    "table.append(['SVR kernel = Linear', grid_svr_l.best_params_, svr_l_train_accuracy, svr_l_test_accuracy])"
   ]
  },
  {
   "cell_type": "code",
   "execution_count": 0,
   "metadata": {
    "colab": {},
    "colab_type": "code",
    "id": "IUjhqPuXJcXP",
    "outputId": "0c0a702c-50ad-4861-c603-8209d46c94bb"
   },
   "outputs": [
    {
     "data": {
      "text/html": [
       "<div>\n",
       "<style>\n",
       "    .dataframe thead tr:only-child th {\n",
       "        text-align: right;\n",
       "    }\n",
       "\n",
       "    .dataframe thead th {\n",
       "        text-align: left;\n",
       "    }\n",
       "\n",
       "    .dataframe tbody tr th {\n",
       "        vertical-align: top;\n",
       "    }\n",
       "</style>\n",
       "<table border=\"1\" class=\"dataframe\">\n",
       "  <thead>\n",
       "    <tr style=\"text-align: right;\">\n",
       "      <th></th>\n",
       "      <th>C</th>\n",
       "      <th>epsilon</th>\n",
       "    </tr>\n",
       "  </thead>\n",
       "  <tbody>\n",
       "    <tr>\n",
       "      <th>0</th>\n",
       "      <td>0.01</td>\n",
       "      <td>0.00</td>\n",
       "    </tr>\n",
       "    <tr>\n",
       "      <th>1</th>\n",
       "      <td>0.01</td>\n",
       "      <td>0.01</td>\n",
       "    </tr>\n",
       "    <tr>\n",
       "      <th>2</th>\n",
       "      <td>0.01</td>\n",
       "      <td>0.10</td>\n",
       "    </tr>\n",
       "    <tr>\n",
       "      <th>3</th>\n",
       "      <td>0.01</td>\n",
       "      <td>1.00</td>\n",
       "    </tr>\n",
       "    <tr>\n",
       "      <th>4</th>\n",
       "      <td>0.10</td>\n",
       "      <td>0.00</td>\n",
       "    </tr>\n",
       "    <tr>\n",
       "      <th>5</th>\n",
       "      <td>0.10</td>\n",
       "      <td>0.01</td>\n",
       "    </tr>\n",
       "    <tr>\n",
       "      <th>6</th>\n",
       "      <td>0.10</td>\n",
       "      <td>0.10</td>\n",
       "    </tr>\n",
       "    <tr>\n",
       "      <th>7</th>\n",
       "      <td>0.10</td>\n",
       "      <td>1.00</td>\n",
       "    </tr>\n",
       "    <tr>\n",
       "      <th>8</th>\n",
       "      <td>1.00</td>\n",
       "      <td>0.00</td>\n",
       "    </tr>\n",
       "    <tr>\n",
       "      <th>9</th>\n",
       "      <td>1.00</td>\n",
       "      <td>0.01</td>\n",
       "    </tr>\n",
       "    <tr>\n",
       "      <th>10</th>\n",
       "      <td>1.00</td>\n",
       "      <td>0.10</td>\n",
       "    </tr>\n",
       "    <tr>\n",
       "      <th>11</th>\n",
       "      <td>1.00</td>\n",
       "      <td>1.00</td>\n",
       "    </tr>\n",
       "  </tbody>\n",
       "</table>\n",
       "</div>"
      ],
      "text/plain": [
       "       C  epsilon\n",
       "0   0.01     0.00\n",
       "1   0.01     0.01\n",
       "2   0.01     0.10\n",
       "3   0.01     1.00\n",
       "4   0.10     0.00\n",
       "5   0.10     0.01\n",
       "6   0.10     0.10\n",
       "7   0.10     1.00\n",
       "8   1.00     0.00\n",
       "9   1.00     0.01\n",
       "10  1.00     0.10\n",
       "11  1.00     1.00"
      ]
     },
     "execution_count": 29,
     "metadata": {
      "tags": []
     },
     "output_type": "execute_result"
    },
    {
     "data": {
      "image/png": "[encoded data removed]",
      "text/plain": [
       "<matplotlib.figure.Figure at 0x7f3b40a20048>"
      ]
     },
     "metadata": {
      "tags": []
     },
     "output_type": "display_data"
    }
   ],
   "source": [
    "plt.plot(np.arange(0, len(grid_svr_l.cv_results_['mean_test_score'])), grid_svr_l.cv_results_['mean_test_score'], '--', label = 'Mean Train Score')\n",
    "plt.plot(np.arange(0, len(grid_svr_l.cv_results_['mean_train_score'])), grid_svr_l.cv_results_['mean_train_score'], '-', label = 'Mean Validation Score')\n",
    "plt.legend()\n",
    "plt.grid(True)\n",
    "plt.xlabel('Hyperparameter combination')\n",
    "plt.ylabel('Accuracy')\n",
    "plt.title('SVR Kernel Linear CV Results')\n",
    "pd.DataFrame(grid_svr_l.cv_results_['params'])"
   ]
  },
  {
   "cell_type": "markdown",
   "metadata": {
    "colab_type": "text",
    "id": "DL9TxVa_JcXR"
   },
   "source": [
    "# SVR kernel = 'rbf'"
   ]
  },
  {
   "cell_type": "code",
   "execution_count": 0,
   "metadata": {
    "colab": {},
    "colab_type": "code",
    "id": "xTC4o2o1JcXS",
    "outputId": "a38f46e3-4b08-4e8f-b5bf-0f712b8c53dc"
   },
   "outputs": [
    {
     "name": "stdout",
     "output_type": "stream",
     "text": [
      "Best Parameters : {'C': 1, 'epsilon': 1, 'gamma': 0.01, 'shrinking': False}\n",
      "Best CV score   : -0.064\n"
     ]
    }
   ],
   "source": [
    "model2 = (SVR(kernel='rbf'))\n",
    "\n",
    "param_grid = {'C': c_range, 'epsilon': e_range, 'gamma': [10**-2, 10**-3], 'shrinking': [True, False] }\n",
    "grid_svr_rbf = GridSearchCV(model2, param_grid, cv=5, n_jobs= -1)\n",
    "grid_svr_rbf.fit(X_train, y_train)\n",
    "\n",
    "print(\"Best Parameters : {}\".format(grid_svr_rbf.best_params_))\n",
    "print(\"Best CV score   : {}\".format('%.3f'% grid_svr_rbf.best_score_))"
   ]
  },
  {
   "cell_type": "code",
   "execution_count": 0,
   "metadata": {
    "colab": {},
    "colab_type": "code",
    "id": "CI2vjorkJcXU",
    "outputId": "4c34dd52-580d-4ee1-8d76-e92de7365e9f"
   },
   "outputs": [
    {
     "name": "stdout",
     "output_type": "stream",
     "text": [
      "SVR_RBF - Train Accuracy: -0.061\n",
      "SVR_RBF - Test Accuracy: -0.068 \n"
     ]
    }
   ],
   "source": [
    "svr_rbf_train_accuracy = grid_svr_rbf.best_estimator_.score(X_train, y_train)\n",
    "svr_rbf_test_accuracy  = grid_svr_rbf.best_estimator_.score(X_test, y_test)\n",
    "\n",
    "print('SVR_RBF - Train Accuracy: %.3f'%svr_rbf_train_accuracy)\n",
    "print('SVR_RBF - Test Accuracy: %.3f '%svr_rbf_test_accuracy)\n",
    "\n",
    "table.append(['SVR kernel = rbf', grid_svr_rbf.best_params_, svr_rbf_train_accuracy, svr_rbf_test_accuracy])"
   ]
  },
  {
   "cell_type": "markdown",
   "metadata": {
    "colab_type": "text",
    "id": "_XtUYsVGJcXa"
   },
   "source": [
    "# SVR kernel = 'poly'"
   ]
  },
  {
   "cell_type": "code",
   "execution_count": 0,
   "metadata": {
    "colab": {},
    "colab_type": "code",
    "id": "fsK4jtsWJcXa",
    "outputId": "92d067e6-f85b-4e8c-e890-adcd741ed398"
   },
   "outputs": [
    {
     "name": "stdout",
     "output_type": "stream",
     "text": [
      "Best Parameters : {}\n",
      "Best CV score   : 0.026\n"
     ]
    }
   ],
   "source": [
    "#LINEAR REGRESSION with the normal equation\n",
    "from sklearn.model_selection import GridSearchCV\n",
    "from sklearn.linear_model import LinearRegression\n",
    "\n",
    "lreg = LinearRegression()\n",
    "param_grid = {}\n",
    "grid_lreg = GridSearchCV(LinearRegression(), param_grid, cv=5, n_jobs= -1)\n",
    "grid_lreg.fit(X_train, y_train)\n",
    "\n",
    "print(\"Best Parameters : {}\".format(grid_lreg.best_params_))\n",
    "print(\"Best CV score   : {}\".format('%.3f'% grid_lreg.best_score_))"
   ]
  },
  {
   "cell_type": "code",
   "execution_count": 0,
   "metadata": {
    "colab": {},
    "colab_type": "code",
    "id": "rmRDeFpUJcXc",
    "outputId": "390dc4dd-0158-4666-8074-bd1d720eb430"
   },
   "outputs": [
    {
     "name": "stdout",
     "output_type": "stream",
     "text": [
      "Best Parameters : {'C': 1, 'degree': 1, 'epsilon': 1}\n",
      "Best CV score   : -0.061\n"
     ]
    }
   ],
   "source": [
    "model3 = (SVR(kernel='poly'))\n",
    "\n",
    "param_grid = {'C': c_range, 'epsilon': e_range, 'degree': [1, 2, 3]}\n",
    "grid_svr_poly = GridSearchCV(model3, param_grid, cv=5, n_jobs= -1)\n",
    "grid_svr_poly.fit(X_train, y_train)\n",
    "\n",
    "print(\"Best Parameters : {}\".format(grid_svr_poly.best_params_))\n",
    "print(\"Best CV score   : {}\".format('%.3f'% grid_svr_poly.best_score_))"
   ]
  },
  {
   "cell_type": "code",
   "execution_count": 0,
   "metadata": {
    "colab": {},
    "colab_type": "code",
    "id": "WjlDXvw1JcXf",
    "outputId": "459e1132-56fd-4cd4-c5c4-7e2498b67360"
   },
   "outputs": [
    {
     "name": "stdout",
     "output_type": "stream",
     "text": [
      "SVR_poly - Train Accuracy: -0.059\n",
      "SVR_poly - Test Accuracy: -0.065 \n"
     ]
    }
   ],
   "source": [
    "svr_poly_train_accuracy = grid_svr_poly.best_estimator_.score(X_train, y_train)\n",
    "svr_poly_test_accuracy  = grid_svr_poly.best_estimator_.score(X_test, y_test)\n",
    "\n",
    "print('SVR_poly - Train Accuracy: %.3f'%svr_poly_train_accuracy)\n",
    "print('SVR_poly - Test Accuracy: %.3f '%svr_poly_test_accuracy)\n",
    "\n",
    "table.append(['SVR kernel = poly', grid_svr_poly.best_params_, svr_poly_train_accuracy, svr_poly_test_accuracy])"
   ]
  },
  {
   "cell_type": "markdown",
   "metadata": {
    "colab_type": "text",
    "id": "FE7tp3qQJcXi"
   },
   "source": [
    "# Polynomial Regression\n",
    "We run a linear model after exponentially transforming the feature set. However this model performed poorly when using the 2nd and 3rd degree transformations of the feature set and was computationally demanding (impossible with available memory) to check higher degrees."
   ]
  },
  {
   "cell_type": "code",
   "execution_count": 0,
   "metadata": {
    "colab": {},
    "colab_type": "code",
    "id": "MJDuQy_GJcXi",
    "outputId": "a4b81a27-16ba-44a1-bd1a-a935177b7500"
   },
   "outputs": [
    {
     "name": "stdout",
     "output_type": "stream",
     "text": [
      "Best parameters: {'polynomialfeatures__degree': 2}\n",
      "Best cross-validation score: 0.38\n"
     ]
    }
   ],
   "source": [
    "from sklearn.pipeline import make_pipeline\n",
    "from sklearn.preprocessing  import PolynomialFeatures\n",
    "def PolynomialRegression(degree=2, **kwargs):\n",
    "    return make_pipeline(PolynomialFeatures(degree),\n",
    "                         LinearRegression(**kwargs))\n",
    "\n",
    "param_grid = {'polynomialfeatures__degree': np.arange(2,3)}\n",
    "\n",
    "grid_polyreg = GridSearchCV(PolynomialRegression(), param_grid, cv=5, n_jobs = -1)\n",
    "\n",
    "grid_polyreg.fit(X_train, y_train)\n",
    "print(\"Best parameters: {}\".format(grid_polyreg.best_params_))\n",
    "print(\"Best cross-validation score: {:.2f}\".format(grid_polyreg.best_score_))"
   ]
  },
  {
   "cell_type": "code",
   "execution_count": 0,
   "metadata": {
    "colab": {},
    "colab_type": "code",
    "id": "tNF38o3IJcXk",
    "outputId": "976dfd44-8dac-435d-b510-10fd1c81160c"
   },
   "outputs": [
    {
     "name": "stdout",
     "output_type": "stream",
     "text": [
      "Polynomial Regression - Train Accuracy: 0.389\n",
      "Polynomial Regression - Test Accuracy: 0.427 \n"
     ]
    }
   ],
   "source": [
    "polyreg_train_accuracy = grid_polyreg.best_estimator_.score(X_train, y_train)\n",
    "polyreg_test_accuracy = grid_polyreg.best_estimator_.score(X_test, y_test)\n",
    "\n",
    "print('Polynomial Regression - Train Accuracy: %.3f'%polyreg_train_accuracy)\n",
    "print('Polynomial Regression - Test Accuracy: %.3f '%polyreg_test_accuracy)\n",
    "table.append(['Polynomial Regression', grid_polyreg.best_params_, polyreg_train_accuracy, polyreg_test_accuracy])"
   ]
  },
  {
   "cell_type": "markdown",
   "metadata": {
    "colab_type": "text",
    "id": "oHRmPEenJcXq"
   },
   "source": [
    "# Train Test Score Comparison (10% stratified data)"
   ]
  },
  {
   "cell_type": "code",
   "execution_count": 0,
   "metadata": {
    "colab": {},
    "colab_type": "code",
    "id": "wIcvyhNHJcXq",
    "outputId": "542d46b1-2763-450d-8542-eb3654a6ef30"
   },
   "outputs": [
    {
     "data": {
      "text/html": [
       "<div>\n",
       "<style>\n",
       "    .dataframe thead tr:only-child th {\n",
       "        text-align: right;\n",
       "    }\n",
       "\n",
       "    .dataframe thead th {\n",
       "        text-align: left;\n",
       "    }\n",
       "\n",
       "    .dataframe tbody tr th {\n",
       "        vertical-align: top;\n",
       "    }\n",
       "</style>\n",
       "<table border=\"1\" class=\"dataframe\">\n",
       "  <thead>\n",
       "    <tr style=\"text-align: right;\">\n",
       "      <th></th>\n",
       "      <th>Model</th>\n",
       "      <th>Parameters</th>\n",
       "      <th>Training_Accuracy</th>\n",
       "      <th>Testing_Accuracy</th>\n",
       "      <th>difference</th>\n",
       "    </tr>\n",
       "  </thead>\n",
       "  <tbody>\n",
       "    <tr>\n",
       "      <th>3</th>\n",
       "      <td>LASSO</td>\n",
       "      <td>{'alpha': 0.001, 'max_iter': 1000, 'selection': 'cyclic'}</td>\n",
       "      <td>0.959941</td>\n",
       "      <td>0.954053</td>\n",
       "      <td>0.005888</td>\n",
       "    </tr>\n",
       "    <tr>\n",
       "      <th>1</th>\n",
       "      <td>KN Regression</td>\n",
       "      <td>{'n_neighbors': 8}</td>\n",
       "      <td>0.892313</td>\n",
       "      <td>0.891367</td>\n",
       "      <td>0.000946</td>\n",
       "    </tr>\n",
       "    <tr>\n",
       "      <th>9</th>\n",
       "      <td>Polynomial Regression</td>\n",
       "      <td>{'polynomialfeatures__degree': 2}</td>\n",
       "      <td>0.389272</td>\n",
       "      <td>0.427401</td>\n",
       "      <td>-0.038129</td>\n",
       "    </tr>\n",
       "    <tr>\n",
       "      <th>2</th>\n",
       "      <td>Ridge</td>\n",
       "      <td>{'alpha': 100, 'fit_intercept': True, 'normalize': False}</td>\n",
       "      <td>0.025666</td>\n",
       "      <td>0.028189</td>\n",
       "      <td>-0.002523</td>\n",
       "    </tr>\n",
       "    <tr>\n",
       "      <th>5</th>\n",
       "      <td>SVR Simple</td>\n",
       "      <td>{'C': 0.01, 'epsilon': 0, 'loss': 'squared_epsilon_insensitive', 'max_iter': 1000}</td>\n",
       "      <td>0.025670</td>\n",
       "      <td>0.028176</td>\n",
       "      <td>-0.002506</td>\n",
       "    </tr>\n",
       "    <tr>\n",
       "      <th>0</th>\n",
       "      <td>Linear Regression</td>\n",
       "      <td>{}</td>\n",
       "      <td>0.025672</td>\n",
       "      <td>0.028162</td>\n",
       "      <td>-0.002490</td>\n",
       "    </tr>\n",
       "    <tr>\n",
       "      <th>4</th>\n",
       "      <td>Stochastic Gradient Discent</td>\n",
       "      <td>{'max_iter': 10000, 'penalty': 'l2'}</td>\n",
       "      <td>0.025664</td>\n",
       "      <td>0.028160</td>\n",
       "      <td>-0.002496</td>\n",
       "    </tr>\n",
       "    <tr>\n",
       "      <th>6</th>\n",
       "      <td>SVR kernel = Linear</td>\n",
       "      <td>{'C': 1, 'epsilon': 1}</td>\n",
       "      <td>-0.058700</td>\n",
       "      <td>-0.064565</td>\n",
       "      <td>0.005866</td>\n",
       "    </tr>\n",
       "    <tr>\n",
       "      <th>8</th>\n",
       "      <td>SVR kernel = poly</td>\n",
       "      <td>{'C': 1, 'degree': 1, 'epsilon': 1}</td>\n",
       "      <td>-0.059147</td>\n",
       "      <td>-0.065059</td>\n",
       "      <td>0.005912</td>\n",
       "    </tr>\n",
       "    <tr>\n",
       "      <th>7</th>\n",
       "      <td>SVR kernel = rbf</td>\n",
       "      <td>{'C': 1, 'epsilon': 1, 'gamma': 0.01, 'shrinking': False}</td>\n",
       "      <td>-0.061419</td>\n",
       "      <td>-0.067568</td>\n",
       "      <td>0.006149</td>\n",
       "    </tr>\n",
       "  </tbody>\n",
       "</table>\n",
       "</div>"
      ],
      "text/plain": [
       "                         Model  \\\n",
       "3  LASSO                         \n",
       "1  KN Regression                 \n",
       "9  Polynomial Regression         \n",
       "2  Ridge                         \n",
       "5  SVR Simple                    \n",
       "0  Linear Regression             \n",
       "4  Stochastic Gradient Discent   \n",
       "6  SVR kernel = Linear           \n",
       "8  SVR kernel = poly             \n",
       "7  SVR kernel = rbf              \n",
       "\n",
       "                                                                           Parameters  \\\n",
       "3  {'alpha': 0.001, 'max_iter': 1000, 'selection': 'cyclic'}                            \n",
       "1  {'n_neighbors': 8}                                                                   \n",
       "9  {'polynomialfeatures__degree': 2}                                                    \n",
       "2  {'alpha': 100, 'fit_intercept': True, 'normalize': False}                            \n",
       "5  {'C': 0.01, 'epsilon': 0, 'loss': 'squared_epsilon_insensitive', 'max_iter': 1000}   \n",
       "0  {}                                                                                   \n",
       "4  {'max_iter': 10000, 'penalty': 'l2'}                                                 \n",
       "6  {'C': 1, 'epsilon': 1}                                                               \n",
       "8  {'C': 1, 'degree': 1, 'epsilon': 1}                                                  \n",
       "7  {'C': 1, 'epsilon': 1, 'gamma': 0.01, 'shrinking': False}                            \n",
       "\n",
       "   Training_Accuracy  Testing_Accuracy  difference  \n",
       "3  0.959941           0.954053          0.005888    \n",
       "1  0.892313           0.891367          0.000946    \n",
       "9  0.389272           0.427401         -0.038129    \n",
       "2  0.025666           0.028189         -0.002523    \n",
       "5  0.025670           0.028176         -0.002506    \n",
       "0  0.025672           0.028162         -0.002490    \n",
       "4  0.025664           0.028160         -0.002496    \n",
       "6 -0.058700          -0.064565          0.005866    \n",
       "8 -0.059147          -0.065059          0.005912    \n",
       "7 -0.061419          -0.067568          0.006149    "
      ]
     },
     "execution_count": 37,
     "metadata": {
      "tags": []
     },
     "output_type": "execute_result"
    }
   ],
   "source": [
    "pd.set_option('display.max_colwidth', 0)\n",
    "final_table = pd.DataFrame(table, columns= ['Model', 'Parameters', 'Training_Accuracy', 'Testing_Accuracy'])\n",
    "final_table['difference']=final_table['Training_Accuracy'] - final_table['Testing_Accuracy']\n",
    "final_table.sort_values('Testing_Accuracy', ascending = False)\n",
    "#final_table\n"
   ]
  },
  {
   "cell_type": "code",
   "execution_count": 0,
   "metadata": {
    "colab": {},
    "colab_type": "code",
    "id": "eCi1KgbuJcXs",
    "outputId": "9aeff7ea-1df3-4e2f-d59d-dcdbababfe4c"
   },
   "outputs": [
    {
     "data": {
      "text/html": [
       "<div>\n",
       "<style>\n",
       "    .dataframe thead tr:only-child th {\n",
       "        text-align: right;\n",
       "    }\n",
       "\n",
       "    .dataframe thead th {\n",
       "        text-align: left;\n",
       "    }\n",
       "\n",
       "    .dataframe tbody tr th {\n",
       "        vertical-align: top;\n",
       "    }\n",
       "</style>\n",
       "<table border=\"1\" class=\"dataframe\">\n",
       "  <thead>\n",
       "    <tr style=\"text-align: right;\">\n",
       "      <th></th>\n",
       "      <th>Model</th>\n",
       "      <th>Parameters</th>\n",
       "      <th>Training_Accuracy</th>\n",
       "      <th>Testing_Accuracy</th>\n",
       "      <th>train-test difference</th>\n",
       "    </tr>\n",
       "  </thead>\n",
       "  <tbody>\n",
       "    <tr>\n",
       "      <th>0</th>\n",
       "      <td>Linear Regression</td>\n",
       "      <td>{}</td>\n",
       "      <td>0.960391</td>\n",
       "      <td>0.954325</td>\n",
       "      <td>0.006066</td>\n",
       "    </tr>\n",
       "    <tr>\n",
       "      <th>1</th>\n",
       "      <td>KNN Regression</td>\n",
       "      <td>{'n_neighbors': 3}</td>\n",
       "      <td>0.958155</td>\n",
       "      <td>0.927733</td>\n",
       "      <td>0.030422</td>\n",
       "    </tr>\n",
       "    <tr>\n",
       "      <th>2</th>\n",
       "      <td>Ridge</td>\n",
       "      <td>{'alpha': 0.001, 'fit_intercept': True, 'normalize': True}</td>\n",
       "      <td>0.959970</td>\n",
       "      <td>0.954431</td>\n",
       "      <td>0.005539</td>\n",
       "    </tr>\n",
       "    <tr>\n",
       "      <th>3</th>\n",
       "      <td>LASSO</td>\n",
       "      <td>{'alpha': 0.001, 'max_iter': 1000, 'selection': 'cyclic'}</td>\n",
       "      <td>0.959941</td>\n",
       "      <td>0.954053</td>\n",
       "      <td>0.005888</td>\n",
       "    </tr>\n",
       "    <tr>\n",
       "      <th>4</th>\n",
       "      <td>SVR Simple</td>\n",
       "      <td>{'C': 1, 'epsilon': 0, 'loss': 'squared_epsilon_insensitive', 'max_iter': 10000}</td>\n",
       "      <td>0.958311</td>\n",
       "      <td>0.952182</td>\n",
       "      <td>0.006129</td>\n",
       "    </tr>\n",
       "    <tr>\n",
       "      <th>5</th>\n",
       "      <td>Polynomial Regression</td>\n",
       "      <td>{'polynomialfeatures__degree': 2}</td>\n",
       "      <td>0.982402</td>\n",
       "      <td>0.096465</td>\n",
       "      <td>0.885937</td>\n",
       "    </tr>\n",
       "    <tr>\n",
       "      <th>6</th>\n",
       "      <td>SVR kernel=Linear</td>\n",
       "      <td>{'C': 1, 'epsilon': 0}</td>\n",
       "      <td>0.287069</td>\n",
       "      <td>0.313899</td>\n",
       "      <td>-0.026830</td>\n",
       "    </tr>\n",
       "    <tr>\n",
       "      <th>7</th>\n",
       "      <td>SVR kernel=rbf</td>\n",
       "      <td>{'C': 1, 'epsilon': 1, 'gamma': 0.01, 'shrinking': False}</td>\n",
       "      <td>0.062719</td>\n",
       "      <td>0.070505</td>\n",
       "      <td>-0.007786</td>\n",
       "    </tr>\n",
       "    <tr>\n",
       "      <th>8</th>\n",
       "      <td>SVR kernel=Poly</td>\n",
       "      <td>{'C': 1, 'degree': 1, 'epsilon': 0.01}</td>\n",
       "      <td>-0.056494</td>\n",
       "      <td>-0.082018</td>\n",
       "      <td>0.025524</td>\n",
       "    </tr>\n",
       "    <tr>\n",
       "      <th>9</th>\n",
       "      <td>SGD</td>\n",
       "      <td>{'max_iter': 100000,'penalty': 'l2}</td>\n",
       "      <td>0.947808</td>\n",
       "      <td>0.916282</td>\n",
       "      <td>0.031526</td>\n",
       "    </tr>\n",
       "  </tbody>\n",
       "</table>\n",
       "</div>"
      ],
      "text/plain": [
       "                   Model  \\\n",
       "0  Linear Regression       \n",
       "1  KNN Regression          \n",
       "2  Ridge                   \n",
       "3  LASSO                   \n",
       "4  SVR Simple              \n",
       "5  Polynomial Regression   \n",
       "6  SVR kernel=Linear       \n",
       "7  SVR kernel=rbf          \n",
       "8  SVR kernel=Poly         \n",
       "9  SGD                     \n",
       "\n",
       "                                                                         Parameters  \\\n",
       "0  {}                                                                                 \n",
       "1  {'n_neighbors': 3}                                                                 \n",
       "2  {'alpha': 0.001, 'fit_intercept': True, 'normalize': True}                         \n",
       "3  {'alpha': 0.001, 'max_iter': 1000, 'selection': 'cyclic'}                          \n",
       "4  {'C': 1, 'epsilon': 0, 'loss': 'squared_epsilon_insensitive', 'max_iter': 10000}   \n",
       "5  {'polynomialfeatures__degree': 2}                                                  \n",
       "6  {'C': 1, 'epsilon': 0}                                                             \n",
       "7  {'C': 1, 'epsilon': 1, 'gamma': 0.01, 'shrinking': False}                          \n",
       "8  {'C': 1, 'degree': 1, 'epsilon': 0.01}                                             \n",
       "9  {'max_iter': 100000,'penalty': 'l2}                                                \n",
       "\n",
       "   Training_Accuracy  Testing_Accuracy  train-test difference  \n",
       "0  0.960391           0.954325          0.006066               \n",
       "1  0.958155           0.927733          0.030422               \n",
       "2  0.959970           0.954431          0.005539               \n",
       "3  0.959941           0.954053          0.005888               \n",
       "4  0.958311           0.952182          0.006129               \n",
       "5  0.982402           0.096465          0.885937               \n",
       "6  0.287069           0.313899         -0.026830               \n",
       "7  0.062719           0.070505         -0.007786               \n",
       "8 -0.056494          -0.082018          0.025524               \n",
       "9  0.947808           0.916282          0.031526               "
      ]
     },
     "execution_count": 38,
     "metadata": {
      "tags": []
     },
     "output_type": "execute_result"
    }
   ],
   "source": [
    "old_table = pd.DataFrame({'Model':['Linear Regression','KNN Regression','Ridge','LASSO','SVR Simple','Polynomial Regression','SVR kernel=Linear','SVR kernel=rbf','SVR kernel=Poly','SGD'], 'Parameters':[\"{}\",\"{'n_neighbors': 3}\",\"{'alpha': 0.001, 'fit_intercept': True, 'normalize': True}\",\"{'alpha': 0.001, 'max_iter': 1000, 'selection': 'cyclic'}\",\"{'C': 1, 'epsilon': 0, 'loss': 'squared_epsilon_insensitive', 'max_iter': 10000}\",\"{'polynomialfeatures__degree': 2}\",\"{'C': 1, 'epsilon': 0}\",\"{'C': 1, 'epsilon': 1, 'gamma': 0.01, 'shrinking': False}\",\"{'C': 1, 'degree': 1, 'epsilon': 0.01}\",\"{'max_iter': 100000,'penalty': 'l2}\"],'Train_Accuracy':[0.960391,0.958155,0.95997,0.959941,0.958311,0.982402,0.287069,0.062719,-0.056494,0.947808], 'Testing_Accuracy':[0.954325,0.927733,0.954431,0.954053,0.952182,0.096465,0.313899,0.070505,-0.082018,0.916282]})\n",
    "old_table.insert(2, 'Training_Accuracy', old_table['Train_Accuracy'])\n",
    "del old_table['Train_Accuracy']\n",
    "old_table['train-test difference']=old_table['Training_Accuracy']-old_table['Testing_Accuracy']\n",
    "old_table.sort_values(['Testing_Accuracy'], ascending = False)\n",
    "old_table"
   ]
  },
  {
   "cell_type": "code",
   "execution_count": 0,
   "metadata": {
    "colab": {},
    "colab_type": "code",
    "id": "yPuN3cQvJcXu",
    "outputId": "4b2601f3-9aad-43a8-ce51-03f3a4a8e987"
   },
   "outputs": [
    {
     "data": {
      "image/png": "[encoded data removed]",
      "text/plain": [
       "<matplotlib.figure.Figure at 0x7f3b40b6dcc0>"
      ]
     },
     "metadata": {
      "tags": []
     },
     "output_type": "display_data"
    }
   ],
   "source": [
    "plt.figure(1,figsize= (21, 4))\n",
    "plt.subplot(121)\n",
    "plt.title('TRAIN SCORES')\n",
    "plt.plot(np.arange(0, len(final_table['Model'])), final_table['Training_Accuracy'], '--',c='blue', label = 'With PCA')\n",
    "plt.plot(np.arange(0, len(old_table['Model'])), old_table['Training_Accuracy'], '--',c='brown', label = 'Without PCA')\n",
    "plt.legend()\n",
    "plt.grid(True)\n",
    "plt.subplot(122)\n",
    "plt.title('TEST SCORES')\n",
    "plt.plot(np.arange(0, len(final_table['Model'])), final_table['Testing_Accuracy'], '-', c='blue', label = 'With PCA')\n",
    "plt.plot(np.arange(0, len(old_table['Model'])), old_table['Testing_Accuracy'], '-', c='brown', label = 'Without PCA')\n",
    "plt.legend()\n",
    "plt.grid(True)"
   ]
  },
  {
   "cell_type": "code",
   "execution_count": 0,
   "metadata": {
    "colab": {},
    "colab_type": "code",
    "id": "kGS5gPJXJcXw",
    "outputId": "9a2f9fe9-fb61-42d8-d00e-a38c7c0fe863"
   },
   "outputs": [
    {
     "data": {
      "image/png": "[encoded data removed]",
      "text/plain": [
       "<matplotlib.figure.Figure at 0x7f3b5314cef0>"
      ]
     },
     "metadata": {
      "tags": []
     },
     "output_type": "display_data"
    }
   ],
   "source": [
    "plt.title('Models with PCA')\n",
    "plt.plot(np.arange(0, len(final_table['Model'])), final_table['Training_Accuracy'], '--',c='blue', label = 'Training Accuracy')\n",
    "plt.plot(np.arange(0, len(final_table['Model'])), final_table['Testing_Accuracy'], '-', c='green', label = 'Testing Accuracy')\n",
    "plt.legend()\n",
    "\n",
    "plt.grid(True)"
   ]
  },
  {
   "cell_type": "markdown",
   "metadata": {
    "colab_type": "text",
    "id": "eXxoAH1MJcXy"
   },
   "source": [
    "#### After PCA, except LASSO and KNN Regressor other models have performed poorly.\n",
    "###### The over best model after PCA is LASSO."
   ]
  },
  {
   "cell_type": "markdown",
   "metadata": {
    "colab_type": "text",
    "id": "nmBRgaxRJcXz"
   },
   "source": [
    "# Deep Learning Models"
   ]
  },
  {
   "cell_type": "code",
   "execution_count": 0,
   "metadata": {
    "colab": {},
    "colab_type": "code",
    "id": "drKtI8cROOXG"
   },
   "outputs": [],
   "source": [
    "from tensorflow.keras.models import Sequential\n",
    "from tensorflow.keras.layers import Dense\n",
    "import numpy\n",
    "\n",
    "# fix random seed for reproducibility\n",
    "numpy.random.seed(10)\n",
    "\n"
   ]
  },
  {
   "cell_type": "code",
   "execution_count": 36,
   "metadata": {
    "colab": {
     "base_uri": "https://localhost:8080/",
     "height": 35
    },
    "colab_type": "code",
    "id": "nneJXEpMT_4h",
    "outputId": "42b009c8-7538-41af-aebb-26db9a82e9ad"
   },
   "outputs": [
    {
     "data": {
      "text/plain": [
       "['/job:localhost/replica:0/task:0/device:GPU:0']"
      ]
     },
     "execution_count": 36,
     "metadata": {
      "tags": []
     },
     "output_type": "execute_result"
    }
   ],
   "source": [
    "from keras import backend as K\n",
    "K.tensorflow_backend._get_available_gpus()"
   ]
  },
  {
   "cell_type": "code",
   "execution_count": 0,
   "metadata": {
    "colab": {},
    "colab_type": "code",
    "id": "6SjDQA-2OQSv"
   },
   "outputs": [],
   "source": [
    "# create model\n",
    "model = Sequential()\n",
    "model.add(Dense(49, input_dim=d, kernel_initializer='normal', activation='relu'))\n",
    "model.add(Dense(7, kernel_initializer='normal'))\n",
    "model.add(Dense(1, kernel_initializer='normal'))"
   ]
  },
  {
   "cell_type": "code",
   "execution_count": 0,
   "metadata": {
    "colab": {},
    "colab_type": "code",
    "id": "12nAgtD8OUNl"
   },
   "outputs": [],
   "source": [
    "# Compile model\n",
    "model.compile(loss='mse', optimizer='sgd' , metrics = ['mse'])"
   ]
  },
  {
   "cell_type": "code",
   "execution_count": 75,
   "metadata": {
    "colab": {
     "base_uri": "https://localhost:8080/",
     "height": 3501
    },
    "colab_type": "code",
    "id": "qOhiZ136OV0v",
    "outputId": "488d6bbe-6f97-4de7-d0f4-40a65e705c93"
   },
   "outputs": [
    {
     "name": "stdout",
     "output_type": "stream",
     "text": [
      "Epoch 1/100\n",
      "46660/46660 [==============================] - 0s 2us/step - loss: nan - mean_squared_error: nan\n",
      "Epoch 2/100\n",
      "46660/46660 [==============================] - 0s 2us/step - loss: nan - mean_squared_error: nan\n",
      "Epoch 3/100\n",
      "46660/46660 [==============================] - 0s 2us/step - loss: nan - mean_squared_error: nan\n",
      "Epoch 4/100\n",
      "46660/46660 [==============================] - 0s 2us/step - loss: nan - mean_squared_error: nan\n",
      "Epoch 5/100\n",
      "46660/46660 [==============================] - 0s 2us/step - loss: nan - mean_squared_error: nan\n",
      "Epoch 6/100\n",
      "46660/46660 [==============================] - 0s 2us/step - loss: nan - mean_squared_error: nan\n",
      "Epoch 7/100\n",
      "46660/46660 [==============================] - 0s 2us/step - loss: nan - mean_squared_error: nan\n",
      "Epoch 8/100\n",
      "46660/46660 [==============================] - 0s 3us/step - loss: nan - mean_squared_error: nan\n",
      "Epoch 9/100\n",
      "46660/46660 [==============================] - 0s 2us/step - loss: nan - mean_squared_error: nan\n",
      "Epoch 10/100\n",
      "46660/46660 [==============================] - 0s 2us/step - loss: nan - mean_squared_error: nan\n",
      "Epoch 11/100\n",
      "46660/46660 [==============================] - 0s 2us/step - loss: nan - mean_squared_error: nan\n",
      "Epoch 12/100\n",
      "46660/46660 [==============================] - 0s 2us/step - loss: nan - mean_squared_error: nan\n",
      "Epoch 13/100\n",
      "46660/46660 [==============================] - 0s 2us/step - loss: nan - mean_squared_error: nan\n",
      "Epoch 14/100\n",
      "46660/46660 [==============================] - 0s 2us/step - loss: nan - mean_squared_error: nan\n",
      "Epoch 15/100\n",
      "46660/46660 [==============================] - 0s 2us/step - loss: nan - mean_squared_error: nan\n",
      "Epoch 16/100\n",
      "46660/46660 [==============================] - 0s 2us/step - loss: nan - mean_squared_error: nan\n",
      "Epoch 17/100\n",
      "46660/46660 [==============================] - 0s 3us/step - loss: nan - mean_squared_error: nan\n",
      "Epoch 18/100\n",
      "46660/46660 [==============================] - 0s 2us/step - loss: nan - mean_squared_error: nan\n",
      "Epoch 19/100\n",
      "46660/46660 [==============================] - 0s 2us/step - loss: nan - mean_squared_error: nan\n",
      "Epoch 20/100\n",
      "46660/46660 [==============================] - 0s 2us/step - loss: nan - mean_squared_error: nan\n",
      "Epoch 21/100\n",
      "46660/46660 [==============================] - 0s 2us/step - loss: nan - mean_squared_error: nan\n",
      "Epoch 22/100\n",
      "46660/46660 [==============================] - 0s 2us/step - loss: nan - mean_squared_error: nan\n",
      "Epoch 23/100\n",
      "46660/46660 [==============================] - 0s 2us/step - loss: nan - mean_squared_error: nan\n",
      "Epoch 24/100\n",
      "46660/46660 [==============================] - 0s 2us/step - loss: nan - mean_squared_error: nan\n",
      "Epoch 25/100\n",
      "46660/46660 [==============================] - 0s 2us/step - loss: nan - mean_squared_error: nan\n",
      "Epoch 26/100\n",
      "46660/46660 [==============================] - 0s 2us/step - loss: nan - mean_squared_error: nan\n",
      "Epoch 27/100\n",
      "46660/46660 [==============================] - 0s 3us/step - loss: nan - mean_squared_error: nan\n",
      "Epoch 28/100\n",
      "46660/46660 [==============================] - 0s 2us/step - loss: nan - mean_squared_error: nan\n",
      "Epoch 29/100\n",
      "46660/46660 [==============================] - 0s 2us/step - loss: nan - mean_squared_error: nan\n",
      "Epoch 30/100\n",
      "46660/46660 [==============================] - 0s 2us/step - loss: nan - mean_squared_error: nan\n",
      "Epoch 31/100\n",
      "46660/46660 [==============================] - 0s 2us/step - loss: nan - mean_squared_error: nan\n",
      "Epoch 32/100\n",
      "46660/46660 [==============================] - 0s 2us/step - loss: nan - mean_squared_error: nan\n",
      "Epoch 33/100\n",
      "46660/46660 [==============================] - 0s 2us/step - loss: nan - mean_squared_error: nan\n",
      "Epoch 34/100\n",
      "46660/46660 [==============================] - 0s 2us/step - loss: nan - mean_squared_error: nan\n",
      "Epoch 35/100\n",
      "46660/46660 [==============================] - 0s 2us/step - loss: nan - mean_squared_error: nan\n",
      "Epoch 36/100\n",
      "46660/46660 [==============================] - 0s 2us/step - loss: nan - mean_squared_error: nan\n",
      "Epoch 37/100\n",
      "46660/46660 [==============================] - 0s 3us/step - loss: nan - mean_squared_error: nan\n",
      "Epoch 38/100\n",
      "46660/46660 [==============================] - 0s 2us/step - loss: nan - mean_squared_error: nan\n",
      "Epoch 39/100\n",
      "46660/46660 [==============================] - 0s 2us/step - loss: nan - mean_squared_error: nan\n",
      "Epoch 40/100\n",
      "46660/46660 [==============================] - 0s 2us/step - loss: nan - mean_squared_error: nan\n",
      "Epoch 41/100\n",
      "46660/46660 [==============================] - 0s 2us/step - loss: nan - mean_squared_error: nan\n",
      "Epoch 42/100\n",
      "46660/46660 [==============================] - 0s 2us/step - loss: nan - mean_squared_error: nan\n",
      "Epoch 43/100\n",
      "46660/46660 [==============================] - 0s 2us/step - loss: nan - mean_squared_error: nan\n",
      "Epoch 44/100\n",
      "46660/46660 [==============================] - 0s 2us/step - loss: nan - mean_squared_error: nan\n",
      "Epoch 45/100\n",
      "46660/46660 [==============================] - 0s 2us/step - loss: nan - mean_squared_error: nan\n",
      "Epoch 46/100\n",
      "46660/46660 [==============================] - 0s 2us/step - loss: nan - mean_squared_error: nan\n",
      "Epoch 47/100\n",
      "46660/46660 [==============================] - 0s 3us/step - loss: nan - mean_squared_error: nan\n",
      "Epoch 48/100\n",
      "46660/46660 [==============================] - 0s 2us/step - loss: nan - mean_squared_error: nan\n",
      "Epoch 49/100\n",
      "46660/46660 [==============================] - 0s 2us/step - loss: nan - mean_squared_error: nan\n",
      "Epoch 50/100\n",
      "46660/46660 [==============================] - 0s 2us/step - loss: nan - mean_squared_error: nan\n",
      "Epoch 51/100\n",
      "46660/46660 [==============================] - 0s 2us/step - loss: nan - mean_squared_error: nan\n",
      "Epoch 52/100\n",
      "46660/46660 [==============================] - 0s 2us/step - loss: nan - mean_squared_error: nan\n",
      "Epoch 53/100\n",
      "46660/46660 [==============================] - 0s 2us/step - loss: nan - mean_squared_error: nan\n",
      "Epoch 54/100\n",
      "46660/46660 [==============================] - 0s 2us/step - loss: nan - mean_squared_error: nan\n",
      "Epoch 55/100\n",
      "46660/46660 [==============================] - 0s 2us/step - loss: nan - mean_squared_error: nan\n",
      "Epoch 56/100\n",
      "46660/46660 [==============================] - 0s 3us/step - loss: nan - mean_squared_error: nan\n",
      "Epoch 57/100\n",
      "46660/46660 [==============================] - 0s 2us/step - loss: nan - mean_squared_error: nan\n",
      "Epoch 58/100\n",
      "46660/46660 [==============================] - 0s 2us/step - loss: nan - mean_squared_error: nan\n",
      "Epoch 59/100\n",
      "46660/46660 [==============================] - 0s 2us/step - loss: nan - mean_squared_error: nan\n",
      "Epoch 60/100\n",
      "46660/46660 [==============================] - 0s 2us/step - loss: nan - mean_squared_error: nan\n",
      "Epoch 61/100\n",
      "46660/46660 [==============================] - 0s 2us/step - loss: nan - mean_squared_error: nan\n",
      "Epoch 62/100\n",
      "46660/46660 [==============================] - 0s 2us/step - loss: nan - mean_squared_error: nan\n",
      "Epoch 63/100\n",
      "46660/46660 [==============================] - 0s 2us/step - loss: nan - mean_squared_error: nan\n",
      "Epoch 64/100\n",
      "46660/46660 [==============================] - 0s 2us/step - loss: nan - mean_squared_error: nan\n",
      "Epoch 65/100\n",
      "46660/46660 [==============================] - 0s 2us/step - loss: nan - mean_squared_error: nan\n",
      "Epoch 66/100\n",
      "46660/46660 [==============================] - 0s 3us/step - loss: nan - mean_squared_error: nan\n",
      "Epoch 67/100\n",
      "46660/46660 [==============================] - 0s 2us/step - loss: nan - mean_squared_error: nan\n",
      "Epoch 68/100\n",
      "46660/46660 [==============================] - 0s 2us/step - loss: nan - mean_squared_error: nan\n",
      "Epoch 69/100\n",
      "46660/46660 [==============================] - 0s 2us/step - loss: nan - mean_squared_error: nan\n",
      "Epoch 70/100\n",
      "46660/46660 [==============================] - 0s 2us/step - loss: nan - mean_squared_error: nan\n",
      "Epoch 71/100\n",
      "46660/46660 [==============================] - 0s 2us/step - loss: nan - mean_squared_error: nan\n",
      "Epoch 72/100\n",
      "46660/46660 [==============================] - 0s 2us/step - loss: nan - mean_squared_error: nan\n",
      "Epoch 73/100\n",
      "46660/46660 [==============================] - 0s 2us/step - loss: nan - mean_squared_error: nan\n",
      "Epoch 74/100\n",
      "46660/46660 [==============================] - 0s 2us/step - loss: nan - mean_squared_error: nan\n",
      "Epoch 75/100\n",
      "46660/46660 [==============================] - 0s 2us/step - loss: nan - mean_squared_error: nan\n",
      "Epoch 76/100\n",
      "46660/46660 [==============================] - 0s 3us/step - loss: nan - mean_squared_error: nan\n",
      "Epoch 77/100\n",
      "46660/46660 [==============================] - 0s 2us/step - loss: nan - mean_squared_error: nan\n",
      "Epoch 78/100\n",
      "46660/46660 [==============================] - 0s 2us/step - loss: nan - mean_squared_error: nan\n",
      "Epoch 79/100\n",
      "46660/46660 [==============================] - 0s 2us/step - loss: nan - mean_squared_error: nan\n",
      "Epoch 80/100\n",
      "46660/46660 [==============================] - 0s 2us/step - loss: nan - mean_squared_error: nan\n",
      "Epoch 81/100\n",
      "46660/46660 [==============================] - 0s 2us/step - loss: nan - mean_squared_error: nan\n",
      "Epoch 82/100\n",
      "46660/46660 [==============================] - 0s 2us/step - loss: nan - mean_squared_error: nan\n",
      "Epoch 83/100\n",
      "46660/46660 [==============================] - 0s 2us/step - loss: nan - mean_squared_error: nan\n",
      "Epoch 84/100\n",
      "46660/46660 [==============================] - 0s 2us/step - loss: nan - mean_squared_error: nan\n",
      "Epoch 85/100\n",
      "46660/46660 [==============================] - 0s 2us/step - loss: nan - mean_squared_error: nan\n",
      "Epoch 86/100\n",
      "46660/46660 [==============================] - 0s 2us/step - loss: nan - mean_squared_error: nan\n",
      "Epoch 87/100\n",
      "46660/46660 [==============================] - 0s 2us/step - loss: nan - mean_squared_error: nan\n",
      "Epoch 88/100\n",
      "46660/46660 [==============================] - 0s 2us/step - loss: nan - mean_squared_error: nan\n",
      "Epoch 89/100\n",
      "46660/46660 [==============================] - 0s 2us/step - loss: nan - mean_squared_error: nan\n",
      "Epoch 90/100\n",
      "46660/46660 [==============================] - 0s 2us/step - loss: nan - mean_squared_error: nan\n",
      "Epoch 91/100\n",
      "46660/46660 [==============================] - 0s 2us/step - loss: nan - mean_squared_error: nan\n",
      "Epoch 92/100\n",
      "46660/46660 [==============================] - 0s 2us/step - loss: nan - mean_squared_error: nan\n",
      "Epoch 93/100\n",
      "46660/46660 [==============================] - 0s 2us/step - loss: nan - mean_squared_error: nan\n",
      "Epoch 94/100\n",
      "46660/46660 [==============================] - 0s 2us/step - loss: nan - mean_squared_error: nan\n",
      "Epoch 95/100\n",
      "46660/46660 [==============================] - 0s 3us/step - loss: nan - mean_squared_error: nan\n",
      "Epoch 96/100\n",
      "46660/46660 [==============================] - 0s 2us/step - loss: nan - mean_squared_error: nan\n",
      "Epoch 97/100\n",
      "46660/46660 [==============================] - 0s 2us/step - loss: nan - mean_squared_error: nan\n",
      "Epoch 98/100\n",
      "46660/46660 [==============================] - 0s 2us/step - loss: nan - mean_squared_error: nan\n",
      "Epoch 99/100\n",
      "46660/46660 [==============================] - 0s 2us/step - loss: nan - mean_squared_error: nan\n",
      "Epoch 100/100\n",
      "46660/46660 [==============================] - 0s 2us/step - loss: nan - mean_squared_error: nan\n"
     ]
    },
    {
     "data": {
      "text/plain": [
       "<tensorflow.python.keras.callbacks.History at 0x7fe2890a93c8>"
      ]
     },
     "execution_count": 75,
     "metadata": {
      "tags": []
     },
     "output_type": "execute_result"
    }
   ],
   "source": [
    "model.fit(X_train, y_train, epochs = 100, batch_size = 2000)"
   ]
  },
  {
   "cell_type": "code",
   "execution_count": 80,
   "metadata": {
    "colab": {
     "base_uri": "https://localhost:8080/",
     "height": 69
    },
    "colab_type": "code",
    "id": "z0pdCUwCOXXL",
    "outputId": "ee2f19c7-756a-40d5-8c5a-79316973a7f0"
   },
   "outputs": [
    {
     "name": "stdout",
     "output_type": "stream",
     "text": [
      "11665/11665 [==============================] - 1s 57us/step\n",
      "Test score: 345409.8394342049\n",
      "Test accuracy: 345409.8394342049\n"
     ]
    }
   ],
   "source": [
    "# Evaluate\n",
    "score, acc = nn_model_reg.evaluate(X_test, y_test)\n",
    "print('Test score:', score)\n",
    "print('Test accuracy:', acc)"
   ]
  },
  {
   "cell_type": "code",
   "execution_count": 77,
   "metadata": {
    "colab": {
     "base_uri": "https://localhost:8080/",
     "height": 52
    },
    "colab_type": "code",
    "id": "y8j277AeJcX2",
    "outputId": "9bb438cf-e1ed-4e01-df74-cbf3c53c3085"
   },
   "outputs": [
    {
     "name": "stdout",
     "output_type": "stream",
     "text": [
      "Train score: -0.00\n",
      "Test score: -0.00\n"
     ]
    }
   ],
   "source": [
    "# R2_Scores\n",
    "from sklearn.metrics import r2_score, recall_score, precision_score\n",
    "\n",
    "y_train_predict = nn_model_reg.predict(X_train)\n",
    "y_test_predict = nn_model_reg.predict(X_test)\n",
    "\n",
    "print('Train score: {:.2f}'.format(r2_score(y_train, y_train_predict)))\n",
    "print('Test score: {:.2f}'.format(r2_score(y_test, y_test_predict)))"
   ]
  },
  {
   "cell_type": "markdown",
   "metadata": {
    "colab": {},
    "colab_type": "code",
    "id": "8nHGaXZlUokL"
   },
   "source": [
    "### END ###"
   ]
  }
 ],
 "metadata": {
  "accelerator": "GPU",
  "colab": {
   "name": "Project3_Regression_Final.ipynb",
   "provenance": [],
   "version": "0.3.2"
  },
  "kernelspec": {
   "display_name": "Python 3",
   "language": "python",
   "name": "python3"
  },
  "language_info": {
   "codemirror_mode": {
    "name": "ipython",
    "version": 3
   },
   "file_extension": ".py",
   "mimetype": "text/x-python",
   "name": "python",
   "nbconvert_exporter": "python",
   "pygments_lexer": "ipython3",
   "version": "3.7.0"
  }
 },
 "nbformat": 4,
 "nbformat_minor": 1
}
