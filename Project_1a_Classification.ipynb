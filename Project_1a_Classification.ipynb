{
 "cells": [
  {
   "cell_type": "markdown",
   "metadata": {},
   "source": [
    "### <font color='red'> Project 2 : Buzz Prediction on Twitter\n",
    "\n",
    "Project Description:\n",
    "- There are two different datasets for Regression and Classification tasks. Right-most column in both the datasets is a dependent variable i.e. buzz.\n",
    "- Data description files are also provided for both the datasets.\n",
    "- Deciding which dataset is for which task is part of the project.\n",
    "- Read data into Jupyter notebook, use pandas to import data into a data frame.\n",
    "- Preprocess data: Explore data, check for missing data and apply data scaling. Justify the type of scaling used.\n",
    "\n",
    "Regression Task:\n",
    "- Apply all the regression models you've learned so far. If your model has a scaling parameter(s) use Grid Search to find the best scaling parameter. Use plots and graphs to help you get a better glimpse of the results. \n",
    "- Then use cross-validation to find average training and testing score. \n",
    "- Your submission should have at least the following regression models: KNN regressor, linear regression, Ridge, Lasso, polynomial regression, SVM both simple and with kernels. \n",
    "- Finally, find the best regressor for this dataset and train your model on the entire dataset using the best parameters and predict buzz for the test_set.\n",
    "\n",
    "Classification Task:\n",
    "- Decide about a good evaluation strategy and justify your choice.\n",
    "- Find best parameters for the following classification models: KNN classification, Logistic Regression, Linear Support Vector Machine, Kernelized Support Vector Machine, Decision Tree. \n",
    "- Which model gives the best results?\n"
   ]
  },
  {
   "cell_type": "markdown",
   "metadata": {},
   "source": [
    "## Importing Required Packages"
   ]
  },
  {
   "cell_type": "code",
   "execution_count": 30,
   "metadata": {},
   "outputs": [],
   "source": [
    "#import required packages\n",
    "import numpy as np\n",
    "import pandas as pd\n",
    "from scipy import stats\n",
    "import matplotlib.pyplot as plt\n",
    "from matplotlib.cm import register_cmap\n",
    "import seaborn as sns\n",
    "%matplotlib inline\n",
    "from sklearn.preprocessing import MinMaxScaler  # b/w 0 & 1\n",
    "from sklearn.preprocessing import StandardScaler # scaled using unit variance\n",
    "from sklearn.preprocessing import Normalizer # b/w -1 & +1 (l2)\n",
    "from sklearn.model_selection import train_test_split\n",
    "from sklearn.neighbors import KNeighborsRegressor\n",
    "from sklearn.model_selection import cross_val_score\n",
    "from sklearn.linear_model import SGDRegressor\n",
    "from  sklearn.preprocessing  import PolynomialFeatures\n",
    "from sklearn.svm import SVC\n",
    "from sklearn.model_selection import GridSearchCV\n",
    "from sklearn.metrics import roc_auc_score\n",
    "import warnings\n",
    "warnings.filterwarnings('ignore')"
   ]
  },
  {
   "cell_type": "markdown",
   "metadata": {},
   "source": [
    "## Reading Dataset into DataFrame"
   ]
  },
  {
   "cell_type": "code",
   "execution_count": 2,
   "metadata": {},
   "outputs": [
    {
     "name": "stdout",
     "output_type": "stream",
     "text": [
      "missing values:  0\n"
     ]
    },
    {
     "data": {
      "text/html": [
       "<div>\n",
       "<style>\n",
       "    .dataframe thead tr:only-child th {\n",
       "        text-align: right;\n",
       "    }\n",
       "\n",
       "    .dataframe thead th {\n",
       "        text-align: left;\n",
       "    }\n",
       "\n",
       "    .dataframe tbody tr th {\n",
       "        vertical-align: top;\n",
       "    }\n",
       "</style>\n",
       "<table border=\"1\" class=\"dataframe\">\n",
       "  <thead>\n",
       "    <tr style=\"text-align: right;\">\n",
       "      <th></th>\n",
       "      <th>NCD_0</th>\n",
       "      <th>NCD_1</th>\n",
       "      <th>NCD_2</th>\n",
       "      <th>NCD_3</th>\n",
       "      <th>NCD_4</th>\n",
       "      <th>NCD_5</th>\n",
       "      <th>NCD_6</th>\n",
       "      <th>AI_0</th>\n",
       "      <th>AI_1</th>\n",
       "      <th>AI_2</th>\n",
       "      <th>...</th>\n",
       "      <th>ADL_5</th>\n",
       "      <th>ADL_6</th>\n",
       "      <th>NAD_0</th>\n",
       "      <th>NAD_1</th>\n",
       "      <th>NAD_2</th>\n",
       "      <th>NAD_3</th>\n",
       "      <th>NAD_4</th>\n",
       "      <th>NAD_5</th>\n",
       "      <th>NAD_6</th>\n",
       "      <th>BUZZ</th>\n",
       "    </tr>\n",
       "  </thead>\n",
       "  <tbody>\n",
       "    <tr>\n",
       "      <th>0</th>\n",
       "      <td>889</td>\n",
       "      <td>939</td>\n",
       "      <td>960</td>\n",
       "      <td>805</td>\n",
       "      <td>805</td>\n",
       "      <td>1143</td>\n",
       "      <td>1121</td>\n",
       "      <td>549</td>\n",
       "      <td>613</td>\n",
       "      <td>587</td>\n",
       "      <td>...</td>\n",
       "      <td>1.0</td>\n",
       "      <td>1.0</td>\n",
       "      <td>889</td>\n",
       "      <td>939</td>\n",
       "      <td>960</td>\n",
       "      <td>805</td>\n",
       "      <td>805</td>\n",
       "      <td>1143</td>\n",
       "      <td>1121</td>\n",
       "      <td>1.0</td>\n",
       "    </tr>\n",
       "    <tr>\n",
       "      <th>1</th>\n",
       "      <td>542</td>\n",
       "      <td>473</td>\n",
       "      <td>504</td>\n",
       "      <td>626</td>\n",
       "      <td>647</td>\n",
       "      <td>795</td>\n",
       "      <td>832</td>\n",
       "      <td>366</td>\n",
       "      <td>288</td>\n",
       "      <td>318</td>\n",
       "      <td>...</td>\n",
       "      <td>1.0</td>\n",
       "      <td>1.0</td>\n",
       "      <td>542</td>\n",
       "      <td>473</td>\n",
       "      <td>504</td>\n",
       "      <td>626</td>\n",
       "      <td>647</td>\n",
       "      <td>795</td>\n",
       "      <td>832</td>\n",
       "      <td>1.0</td>\n",
       "    </tr>\n",
       "    <tr>\n",
       "      <th>2</th>\n",
       "      <td>92</td>\n",
       "      <td>99</td>\n",
       "      <td>196</td>\n",
       "      <td>100</td>\n",
       "      <td>184</td>\n",
       "      <td>79</td>\n",
       "      <td>162</td>\n",
       "      <td>66</td>\n",
       "      <td>59</td>\n",
       "      <td>118</td>\n",
       "      <td>...</td>\n",
       "      <td>1.0</td>\n",
       "      <td>1.0</td>\n",
       "      <td>92</td>\n",
       "      <td>99</td>\n",
       "      <td>196</td>\n",
       "      <td>100</td>\n",
       "      <td>184</td>\n",
       "      <td>79</td>\n",
       "      <td>162</td>\n",
       "      <td>0.0</td>\n",
       "    </tr>\n",
       "    <tr>\n",
       "      <th>3</th>\n",
       "      <td>90</td>\n",
       "      <td>87</td>\n",
       "      <td>92</td>\n",
       "      <td>344</td>\n",
       "      <td>184</td>\n",
       "      <td>848</td>\n",
       "      <td>184</td>\n",
       "      <td>83</td>\n",
       "      <td>78</td>\n",
       "      <td>76</td>\n",
       "      <td>...</td>\n",
       "      <td>1.0</td>\n",
       "      <td>1.0</td>\n",
       "      <td>90</td>\n",
       "      <td>87</td>\n",
       "      <td>92</td>\n",
       "      <td>344</td>\n",
       "      <td>184</td>\n",
       "      <td>848</td>\n",
       "      <td>184</td>\n",
       "      <td>1.0</td>\n",
       "    </tr>\n",
       "    <tr>\n",
       "      <th>4</th>\n",
       "      <td>169</td>\n",
       "      <td>98</td>\n",
       "      <td>101</td>\n",
       "      <td>90</td>\n",
       "      <td>96</td>\n",
       "      <td>95</td>\n",
       "      <td>185</td>\n",
       "      <td>141</td>\n",
       "      <td>68</td>\n",
       "      <td>85</td>\n",
       "      <td>...</td>\n",
       "      <td>1.0</td>\n",
       "      <td>1.0</td>\n",
       "      <td>169</td>\n",
       "      <td>98</td>\n",
       "      <td>101</td>\n",
       "      <td>90</td>\n",
       "      <td>96</td>\n",
       "      <td>95</td>\n",
       "      <td>185</td>\n",
       "      <td>1.0</td>\n",
       "    </tr>\n",
       "  </tbody>\n",
       "</table>\n",
       "<p>5 rows × 78 columns</p>\n",
       "</div>"
      ],
      "text/plain": [
       "   NCD_0  NCD_1  NCD_2  NCD_3  NCD_4  NCD_5  NCD_6  AI_0  AI_1  AI_2  ...   \\\n",
       "0    889    939    960    805    805   1143   1121   549   613   587  ...    \n",
       "1    542    473    504    626    647    795    832   366   288   318  ...    \n",
       "2     92     99    196    100    184     79    162    66    59   118  ...    \n",
       "3     90     87     92    344    184    848    184    83    78    76  ...    \n",
       "4    169     98    101     90     96     95    185   141    68    85  ...    \n",
       "\n",
       "   ADL_5  ADL_6  NAD_0  NAD_1  NAD_2  NAD_3  NAD_4  NAD_5  NAD_6  BUZZ  \n",
       "0    1.0    1.0    889    939    960    805    805   1143   1121   1.0  \n",
       "1    1.0    1.0    542    473    504    626    647    795    832   1.0  \n",
       "2    1.0    1.0     92     99    196    100    184     79    162   0.0  \n",
       "3    1.0    1.0     90     87     92    344    184    848    184   1.0  \n",
       "4    1.0    1.0    169     98    101     90     96     95    185   1.0  \n",
       "\n",
       "[5 rows x 78 columns]"
      ]
     },
     "execution_count": 2,
     "metadata": {},
     "output_type": "execute_result"
    }
   ],
   "source": [
    "#read data in dataframe\n",
    "cols = ['NCD_0','NCD_1','NCD_2','NCD_3','NCD_4','NCD_5','NCD_6','AI_0','AI_1','AI_2','AI_3','AI_4','AI_5','AI_6','AS(NA)_0','AS(NA)_1','AS(NA)_2','AS(NA)_3','AS(NA)_4','AS(NA)_5','AS(NA)_6','BL_0','BL_1','BL_2','BL_3','BL_4','BL_5','BL_6','NAC_0','NAC_1','NAC_2','NAC_3','NAC_4','NAC_5','NAC_6','AS(NAC)_0','AS(NAC)_1','AS(NAC)_2','AS(NAC)_3','AS(NAC)_4','AS(NAC)_5','AS(NAC)_6','CS_0','CS_1','CS_2','CS_3','CS_4','CS_5','CS_6','AT_0','AT_1','AT_2','AT_3','AT_4','AT_5','AT_6','NA_0','NA_1','NA_2','NA_3','NA_4','NA_5','NA_6','ADL_0','ADL_1','ADL_2','ADL_3','ADL_4','ADL_5','ADL_6','NAD_0','NAD_1','NAD_2','NAD_3','NAD_4','NAD_5','NAD_6','BUZZ']\n",
    "df = pd.read_csv('Twitter-Absolute-Sigma-500.data', header = None)\n",
    "df.columns = cols\n",
    "#check missing values\n",
    "null_data = df[df.isnull().any(axis=1)]\n",
    "print(\"missing values: \", len(null_data))\n",
    "df.head()"
   ]
  },
  {
   "cell_type": "code",
   "execution_count": 3,
   "metadata": {},
   "outputs": [
    {
     "data": {
      "text/plain": [
       "0.0    112932\n",
       "1.0     27775\n",
       "Name: BUZZ, dtype: int64"
      ]
     },
     "execution_count": 3,
     "metadata": {},
     "output_type": "execute_result"
    }
   ],
   "source": [
    "df.iloc[:,-1].value_counts()"
   ]
  },
  {
   "cell_type": "markdown",
   "metadata": {},
   "source": [
    "### Imbalanced Dataset\n",
    "The number of '1's is very less than the number of '0's"
   ]
  },
  {
   "cell_type": "markdown",
   "metadata": {},
   "source": [
    "### REDUCING DATASET SIZE to 10%\n",
    "For easy computation"
   ]
  },
  {
   "cell_type": "code",
   "execution_count": 59,
   "metadata": {},
   "outputs": [
    {
     "name": "stdout",
     "output_type": "stream",
     "text": [
      "(14071, 77) (14071,)\n"
     ]
    }
   ],
   "source": [
    "_, sample_data, _, sample_target = train_test_split(df.iloc[:,:-1], df.iloc[:,-1], shuffle = True, test_size = 0.1)\n",
    "print(sample_data.shape, sample_target.shape)"
   ]
  },
  {
   "cell_type": "markdown",
   "metadata": {},
   "source": [
    "#X=sample_data[0:100]\n",
    "#y=sample_target[0:100]\n",
    "print(X.shape, y.shape)"
   ]
  },
  {
   "cell_type": "markdown",
   "metadata": {},
   "source": [
    "### SCALING & SPLITTING TRAIN TEST SPLIT for computational ease\n",
    "We use MinMaxScaler to bring all attributes into the range of 0-1 and also for relative computation ease compared to Normalizer (L1 & L2)"
   ]
  },
  {
   "cell_type": "code",
   "execution_count": 61,
   "metadata": {},
   "outputs": [
    {
     "name": "stdout",
     "output_type": "stream",
     "text": [
      "(11256, 77) (2815, 77) (11256,) (2815,)\n"
     ]
    }
   ],
   "source": [
    "scaler = MinMaxScaler()\n",
    "X = pd.DataFrame(scaler.fit_transform(sample_data))\n",
    "X_train, X_test, y_train, y_test = train_test_split(X, sample_target, random_state = 0, test_size = 0.2)\n",
    "print(X_train.shape, X_test.shape, y_train.shape, y_test.shape)"
   ]
  },
  {
   "cell_type": "markdown",
   "metadata": {},
   "source": [
    "### KNN Classifier\n",
    "The k-NN classifcation algorithm is among the simplest machine learning algorithms where an object is classified by a majority vote of its neighbors based on the k closest training examples in the feature space."
   ]
  },
  {
   "cell_type": "code",
   "execution_count": 62,
   "metadata": {},
   "outputs": [
    {
     "name": "stdout",
     "output_type": "stream",
     "text": [
      "{'n_neighbors': [1, 2, 3, 4, 5, 6, 7, 8, 9, 10]}\n"
     ]
    }
   ],
   "source": [
    "param_grid = {'n_neighbors': list(range(1,11))}\n",
    "print(param_grid)"
   ]
  },
  {
   "cell_type": "code",
   "execution_count": 63,
   "metadata": {},
   "outputs": [
    {
     "name": "stdout",
     "output_type": "stream",
     "text": [
      "Best Parameters : {'n_neighbors': 10}\n",
      "Best cross validation score : 0.9807120743177823\n"
     ]
    }
   ],
   "source": [
    "from sklearn.neighbors import KNeighborsClassifier\n",
    "from sklearn.metrics import roc_auc_score\n",
    "train_score_array = []\n",
    "test_score_array = []\n",
    "\n",
    "grid_search = GridSearchCV(KNeighborsClassifier(), param_grid, cv=5, scoring='roc_auc', n_jobs = -1)\n",
    "grid_search.fit(X_train, y_train)\n",
    "print(\"Best Parameters : {}\".format(grid_search.best_params_))\n",
    "print(\"Best cross validation score : {}\".format(grid_search.best_score_))"
   ]
  },
  {
   "cell_type": "code",
   "execution_count": 64,
   "metadata": {},
   "outputs": [
    {
     "name": "stdout",
     "output_type": "stream",
     "text": [
      "KNN Classifier: Train Accuracy: 0.97\n",
      "KNN Classifier: Test Accuracy: 0.96 \n",
      "KNN Classifier: Train roc_auc_score: 0.94\n",
      "KNN Classifier: Test roc_auc_score: 0.92 \n"
     ]
    }
   ],
   "source": [
    "knn_acc_train = grid_search.best_estimator_.score(X_train, y_train)\n",
    "knn_acc_test = grid_search.best_estimator_.score(X_test, y_test)\n",
    "knn_auc_train = roc_auc_score(y_train,grid_search.predict(X_train))\n",
    "knn_auc_test = roc_auc_score(y_test,grid_search.predict(X_test))\n",
    "\n",
    "print('KNN Classifier: Train Accuracy: %.2f'%knn_acc_train)\n",
    "print('KNN Classifier: Test Accuracy: %.2f '%knn_acc_test)\n",
    "\n",
    "print('KNN Classifier: Train roc_auc_score: %.2f'%knn_auc_train)\n",
    "print('KNN Classifier: Test roc_auc_score: %.2f '%knn_auc_test)"
   ]
  },
  {
   "cell_type": "code",
   "execution_count": 65,
   "metadata": {},
   "outputs": [
    {
     "data": {
      "text/html": [
       "<div>\n",
       "<style>\n",
       "    .dataframe thead tr:only-child th {\n",
       "        text-align: right;\n",
       "    }\n",
       "\n",
       "    .dataframe thead th {\n",
       "        text-align: left;\n",
       "    }\n",
       "\n",
       "    .dataframe tbody tr th {\n",
       "        vertical-align: top;\n",
       "    }\n",
       "</style>\n",
       "<table border=\"1\" class=\"dataframe\">\n",
       "  <thead>\n",
       "    <tr style=\"text-align: right;\">\n",
       "      <th></th>\n",
       "      <th>n_neighbors</th>\n",
       "    </tr>\n",
       "  </thead>\n",
       "  <tbody>\n",
       "    <tr>\n",
       "      <th>0</th>\n",
       "      <td>1</td>\n",
       "    </tr>\n",
       "    <tr>\n",
       "      <th>1</th>\n",
       "      <td>2</td>\n",
       "    </tr>\n",
       "    <tr>\n",
       "      <th>2</th>\n",
       "      <td>3</td>\n",
       "    </tr>\n",
       "    <tr>\n",
       "      <th>3</th>\n",
       "      <td>4</td>\n",
       "    </tr>\n",
       "    <tr>\n",
       "      <th>4</th>\n",
       "      <td>5</td>\n",
       "    </tr>\n",
       "    <tr>\n",
       "      <th>5</th>\n",
       "      <td>6</td>\n",
       "    </tr>\n",
       "    <tr>\n",
       "      <th>6</th>\n",
       "      <td>7</td>\n",
       "    </tr>\n",
       "    <tr>\n",
       "      <th>7</th>\n",
       "      <td>8</td>\n",
       "    </tr>\n",
       "    <tr>\n",
       "      <th>8</th>\n",
       "      <td>9</td>\n",
       "    </tr>\n",
       "    <tr>\n",
       "      <th>9</th>\n",
       "      <td>10</td>\n",
       "    </tr>\n",
       "  </tbody>\n",
       "</table>\n",
       "</div>"
      ],
      "text/plain": [
       "   n_neighbors\n",
       "0            1\n",
       "1            2\n",
       "2            3\n",
       "3            4\n",
       "4            5\n",
       "5            6\n",
       "6            7\n",
       "7            8\n",
       "8            9\n",
       "9           10"
      ]
     },
     "execution_count": 65,
     "metadata": {},
     "output_type": "execute_result"
    },
    {
     "data": {
      "image/png": "[encoded data removed]",
      "text/plain": [
       "<matplotlib.figure.Figure at 0x7f6dd5703e80>"
      ]
     },
     "metadata": {},
     "output_type": "display_data"
    }
   ],
   "source": [
    "plt.plot(np.arange(0, len(grid_search.cv_results_['mean_test_score'])), grid_search.cv_results_['mean_test_score'], '--', label = 'Mean Train Score')\n",
    "plt.plot(np.arange(0, len(grid_search.cv_results_['mean_train_score'])), grid_search.cv_results_['mean_train_score'], '-', label = 'Mean Validation Score')\n",
    "plt.legend()\n",
    "plt.grid(True)\n",
    "plt.xlabel('k neigbors')\n",
    "plt.ylabel('Accuracy')\n",
    "plt.title('KNN CV Results')\n",
    "pd.DataFrame(grid_search.cv_results_['params'])"
   ]
  },
  {
   "cell_type": "markdown",
   "metadata": {},
   "source": [
    "### LOGISTIC REGRESSION\n",
    "Logistic Regression works with binary data, where either there is a BUZZ (1) or not (0).\n",
    "This model is based on the probability of an event occurring."
   ]
  },
  {
   "cell_type": "code",
   "execution_count": 66,
   "metadata": {},
   "outputs": [
    {
     "name": "stdout",
     "output_type": "stream",
     "text": [
      "Best Params : {'C': 10, 'penalty': 'l1'}\n",
      "Best cross validation score : 0.9926316308048907\n"
     ]
    }
   ],
   "source": [
    "from sklearn.linear_model import LogisticRegression\n",
    "from sklearn.metrics import roc_auc_score\n",
    "\n",
    "param_grid = {'penalty' : ['l1','l2'], 'C' : [0.001, 0.01, 0.1, 1, 10, 100]}\n",
    "log_grid = GridSearchCV(LogisticRegression(random_state = 0), param_grid, cv=5, scoring='roc_auc', n_jobs = -1)\n",
    "log_grid.fit(X_train, y_train)\n",
    "print(\"Best Params : {}\".format(log_grid.best_params_))\n",
    "print(\"Best cross validation score : {}\".format(log_grid.best_score_))"
   ]
  },
  {
   "cell_type": "code",
   "execution_count": 67,
   "metadata": {},
   "outputs": [
    {
     "name": "stdout",
     "output_type": "stream",
     "text": [
      "Logistic Regression: Train Accuracy: 0.97\n",
      "Logistic Regression: Test Accuracy: 0.96 \n",
      "Logistic Regression: Train roc_auc_score: 0.94\n",
      "Logistic Regression: Test roc_auc_score: 0.93 \n"
     ]
    }
   ],
   "source": [
    "log_reg_acc_train = log_grid.best_estimator_.score(X_train, y_train)\n",
    "log_reg_acc_test = log_grid.best_estimator_.score(X_test, y_test)\n",
    "log_reg_auc_train = roc_auc_score(y_train,log_grid.predict(X_train))\n",
    "log_reg_auc_test = roc_auc_score(y_test,log_grid.predict(X_test))\n",
    "\n",
    "print('Logistic Regression: Train Accuracy: %.2f'%log_reg_acc_train)\n",
    "print('Logistic Regression: Test Accuracy: %.2f '%log_reg_acc_test)\n",
    "print('Logistic Regression: Train roc_auc_score: %.2f'%log_reg_auc_train)\n",
    "print('Logistic Regression: Test roc_auc_score: %.2f '%log_reg_auc_test)"
   ]
  },
  {
   "cell_type": "code",
   "execution_count": 68,
   "metadata": {},
   "outputs": [
    {
     "data": {
      "text/html": [
       "<div>\n",
       "<style>\n",
       "    .dataframe thead tr:only-child th {\n",
       "        text-align: right;\n",
       "    }\n",
       "\n",
       "    .dataframe thead th {\n",
       "        text-align: left;\n",
       "    }\n",
       "\n",
       "    .dataframe tbody tr th {\n",
       "        vertical-align: top;\n",
       "    }\n",
       "</style>\n",
       "<table border=\"1\" class=\"dataframe\">\n",
       "  <thead>\n",
       "    <tr style=\"text-align: right;\">\n",
       "      <th></th>\n",
       "      <th>C</th>\n",
       "      <th>penalty</th>\n",
       "    </tr>\n",
       "  </thead>\n",
       "  <tbody>\n",
       "    <tr>\n",
       "      <th>0</th>\n",
       "      <td>0.001</td>\n",
       "      <td>l1</td>\n",
       "    </tr>\n",
       "    <tr>\n",
       "      <th>1</th>\n",
       "      <td>0.001</td>\n",
       "      <td>l2</td>\n",
       "    </tr>\n",
       "    <tr>\n",
       "      <th>2</th>\n",
       "      <td>0.010</td>\n",
       "      <td>l1</td>\n",
       "    </tr>\n",
       "    <tr>\n",
       "      <th>3</th>\n",
       "      <td>0.010</td>\n",
       "      <td>l2</td>\n",
       "    </tr>\n",
       "    <tr>\n",
       "      <th>4</th>\n",
       "      <td>0.100</td>\n",
       "      <td>l1</td>\n",
       "    </tr>\n",
       "    <tr>\n",
       "      <th>5</th>\n",
       "      <td>0.100</td>\n",
       "      <td>l2</td>\n",
       "    </tr>\n",
       "    <tr>\n",
       "      <th>6</th>\n",
       "      <td>1.000</td>\n",
       "      <td>l1</td>\n",
       "    </tr>\n",
       "    <tr>\n",
       "      <th>7</th>\n",
       "      <td>1.000</td>\n",
       "      <td>l2</td>\n",
       "    </tr>\n",
       "    <tr>\n",
       "      <th>8</th>\n",
       "      <td>10.000</td>\n",
       "      <td>l1</td>\n",
       "    </tr>\n",
       "    <tr>\n",
       "      <th>9</th>\n",
       "      <td>10.000</td>\n",
       "      <td>l2</td>\n",
       "    </tr>\n",
       "    <tr>\n",
       "      <th>10</th>\n",
       "      <td>100.000</td>\n",
       "      <td>l1</td>\n",
       "    </tr>\n",
       "    <tr>\n",
       "      <th>11</th>\n",
       "      <td>100.000</td>\n",
       "      <td>l2</td>\n",
       "    </tr>\n",
       "  </tbody>\n",
       "</table>\n",
       "</div>"
      ],
      "text/plain": [
       "          C penalty\n",
       "0     0.001      l1\n",
       "1     0.001      l2\n",
       "2     0.010      l1\n",
       "3     0.010      l2\n",
       "4     0.100      l1\n",
       "5     0.100      l2\n",
       "6     1.000      l1\n",
       "7     1.000      l2\n",
       "8    10.000      l1\n",
       "9    10.000      l2\n",
       "10  100.000      l1\n",
       "11  100.000      l2"
      ]
     },
     "execution_count": 68,
     "metadata": {},
     "output_type": "execute_result"
    },
    {
     "data": {
      "image/png": "[encoded data removed]",
      "text/plain": [
       "<matplotlib.figure.Figure at 0x7f6dd56fcdd8>"
      ]
     },
     "metadata": {},
     "output_type": "display_data"
    }
   ],
   "source": [
    "plt.plot(np.arange(0, len(log_grid.cv_results_['mean_test_score'])), log_grid.cv_results_['mean_test_score'], '--', label = 'Mean Train Score')\n",
    "plt.plot(np.arange(0, len(log_grid.cv_results_['mean_train_score'])), log_grid.cv_results_['mean_train_score'], '-', label = 'Mean Validation Score')\n",
    "plt.legend()\n",
    "plt.grid(True)\n",
    "plt.xlabel('Hyperparameter combinations')\n",
    "plt.ylabel('Accuracy')\n",
    "plt.title('Logistic Regression CV Results')\n",
    "pd.DataFrame(log_grid.cv_results_['params'])"
   ]
  },
  {
   "cell_type": "markdown",
   "metadata": {},
   "source": [
    "### SVC (LINEAR) KERNAL\n",
    "The objective of a Linear SVC (Support Vector Classifier) is to fit to the data you provide, returning a \"best fit\" hyperplane that divides, or categorizes, your data."
   ]
  },
  {
   "cell_type": "code",
   "execution_count": 69,
   "metadata": {},
   "outputs": [
    {
     "name": "stdout",
     "output_type": "stream",
     "text": [
      "Parameter grid:\n",
      "{'C': [0.001, 0.01, 0.1, 1, 10, 100]}\n",
      "Best parameters: {'C': 100}\n",
      "Best cross validation score: 0.99\n"
     ]
    }
   ],
   "source": [
    "param_grid = {'C': [0.001, 0.01, 0.1, 1, 10, 100]}\n",
    "print(\"Parameter grid:\\n{}\".format(param_grid))\n",
    "\n",
    "grid_search = GridSearchCV(SVC(kernel='linear'), param_grid, cv=5, scoring='roc_auc', n_jobs = -1)\n",
    "grid_search.fit(X_train, y_train)\n",
    "print(\"Best parameters: {}\".format(grid_search.best_params_))\n",
    "print(\"Best cross validation score: {:.2f}\".format(grid_search.best_score_))"
   ]
  },
  {
   "cell_type": "code",
   "execution_count": 70,
   "metadata": {},
   "outputs": [
    {
     "name": "stdout",
     "output_type": "stream",
     "text": [
      "Linear SVC - Train Accuracy: 0.97\n",
      "Linear SVC - Test Accuracy: 0.96 \n",
      "Linear SVC - Train roc_auc_score: 0.94\n",
      "Linear SVC - Test roc_auc_score: 0.93 \n"
     ]
    }
   ],
   "source": [
    "svmlin_acc_train = grid_search.best_estimator_.score(X_train, y_train)\n",
    "svmlin_acc_test = grid_search.best_estimator_.score(X_test, y_test)\n",
    "svmlin_auc_train = roc_auc_score(y_train,grid_search.predict(X_train))\n",
    "svmlin_auc_test = roc_auc_score(y_test,grid_search.predict(X_test))\n",
    "\n",
    "print('Linear SVC - Train Accuracy: %.2f'%svmlin_acc_train)\n",
    "print('Linear SVC - Test Accuracy: %.2f '%svmlin_acc_test)\n",
    "\n",
    "print('Linear SVC - Train roc_auc_score: %.2f'%svmlin_auc_train)\n",
    "print('Linear SVC - Test roc_auc_score: %.2f '%svmlin_auc_test)"
   ]
  },
  {
   "cell_type": "code",
   "execution_count": 71,
   "metadata": {},
   "outputs": [
    {
     "data": {
      "text/html": [
       "<div>\n",
       "<style>\n",
       "    .dataframe thead tr:only-child th {\n",
       "        text-align: right;\n",
       "    }\n",
       "\n",
       "    .dataframe thead th {\n",
       "        text-align: left;\n",
       "    }\n",
       "\n",
       "    .dataframe tbody tr th {\n",
       "        vertical-align: top;\n",
       "    }\n",
       "</style>\n",
       "<table border=\"1\" class=\"dataframe\">\n",
       "  <thead>\n",
       "    <tr style=\"text-align: right;\">\n",
       "      <th></th>\n",
       "      <th>C</th>\n",
       "    </tr>\n",
       "  </thead>\n",
       "  <tbody>\n",
       "    <tr>\n",
       "      <th>0</th>\n",
       "      <td>0.001</td>\n",
       "    </tr>\n",
       "    <tr>\n",
       "      <th>1</th>\n",
       "      <td>0.010</td>\n",
       "    </tr>\n",
       "    <tr>\n",
       "      <th>2</th>\n",
       "      <td>0.100</td>\n",
       "    </tr>\n",
       "    <tr>\n",
       "      <th>3</th>\n",
       "      <td>1.000</td>\n",
       "    </tr>\n",
       "    <tr>\n",
       "      <th>4</th>\n",
       "      <td>10.000</td>\n",
       "    </tr>\n",
       "    <tr>\n",
       "      <th>5</th>\n",
       "      <td>100.000</td>\n",
       "    </tr>\n",
       "  </tbody>\n",
       "</table>\n",
       "</div>"
      ],
      "text/plain": [
       "         C\n",
       "0    0.001\n",
       "1    0.010\n",
       "2    0.100\n",
       "3    1.000\n",
       "4   10.000\n",
       "5  100.000"
      ]
     },
     "execution_count": 71,
     "metadata": {},
     "output_type": "execute_result"
    },
    {
     "data": {
      "image/png": "[encoded data removed]",
      "text/plain": [
       "<matplotlib.figure.Figure at 0x7f6dd50306a0>"
      ]
     },
     "metadata": {},
     "output_type": "display_data"
    }
   ],
   "source": [
    "plt.plot(np.arange(0, len(grid_search.cv_results_['mean_test_score'])), grid_search.cv_results_['mean_test_score'], '--', label = 'Mean Train Score')\n",
    "plt.plot(np.arange(0, len(grid_search.cv_results_['mean_train_score'])), grid_search.cv_results_['mean_train_score'], '-', label = 'Mean Validation Score')\n",
    "plt.legend()\n",
    "plt.grid(True)\n",
    "plt.xlabel('Hyperparameter combinations')\n",
    "plt.ylabel('Accuracy')\n",
    "plt.title('Simple SVC CV Results')\n",
    "pd.DataFrame(grid_search.cv_results_['params'])"
   ]
  },
  {
   "cell_type": "markdown",
   "metadata": {},
   "source": [
    "### SVC (RADIAL BASIS FUNCTION) KERNAL"
   ]
  },
  {
   "cell_type": "code",
   "execution_count": 72,
   "metadata": {},
   "outputs": [
    {
     "name": "stdout",
     "output_type": "stream",
     "text": [
      "Parameter grid:\n",
      "{'C': [0.001, 0.01, 0.1, 1, 10, 100], 'gamma': [0.001, 0.01, 0.1, 1, 10, 100]}\n",
      "Best parameters: {'C': 100, 'gamma': 0.1}\n",
      "Best cross-validation score: 0.99\n"
     ]
    }
   ],
   "source": [
    "param_grid = {'C': [0.001, 0.01, 0.1, 1, 10, 100], 'gamma': [0.001, 0.01, 0.1, 1, 10, 100]}\n",
    "print(\"Parameter grid:\\n{}\".format(param_grid))\n",
    "\n",
    "grid_search = GridSearchCV(SVC(kernel='rbf'), param_grid, cv=5, scoring='roc_auc', n_jobs = -1)\n",
    "grid_search.fit(X_train, y_train)\n",
    "print(\"Best parameters: {}\".format(grid_search.best_params_))\n",
    "print(\"Best cross-validation score: {:.2f}\".format(grid_search.best_score_))"
   ]
  },
  {
   "cell_type": "code",
   "execution_count": 73,
   "metadata": {
    "collapsed": true
   },
   "outputs": [],
   "source": [
    "svmrbf_acc_train = grid_search.best_estimator_.score(X_train, y_train)\n",
    "svmrbf_acc_test = grid_search.best_estimator_.score(X_test, y_test)\n",
    "svmrbf_auc_train = roc_auc_score(y_train,grid_search.predict(X_train))\n",
    "svmrbf_auc_test = roc_auc_score(y_test,grid_search.predict(X_test))"
   ]
  },
  {
   "cell_type": "code",
   "execution_count": 74,
   "metadata": {},
   "outputs": [
    {
     "data": {
      "text/html": [
       "<div>\n",
       "<style>\n",
       "    .dataframe thead tr:only-child th {\n",
       "        text-align: right;\n",
       "    }\n",
       "\n",
       "    .dataframe thead th {\n",
       "        text-align: left;\n",
       "    }\n",
       "\n",
       "    .dataframe tbody tr th {\n",
       "        vertical-align: top;\n",
       "    }\n",
       "</style>\n",
       "<table border=\"1\" class=\"dataframe\">\n",
       "  <thead>\n",
       "    <tr style=\"text-align: right;\">\n",
       "      <th></th>\n",
       "      <th>C</th>\n",
       "      <th>gamma</th>\n",
       "    </tr>\n",
       "  </thead>\n",
       "  <tbody>\n",
       "    <tr>\n",
       "      <th>0</th>\n",
       "      <td>0.001</td>\n",
       "      <td>0.001</td>\n",
       "    </tr>\n",
       "    <tr>\n",
       "      <th>1</th>\n",
       "      <td>0.001</td>\n",
       "      <td>0.010</td>\n",
       "    </tr>\n",
       "    <tr>\n",
       "      <th>2</th>\n",
       "      <td>0.001</td>\n",
       "      <td>0.100</td>\n",
       "    </tr>\n",
       "    <tr>\n",
       "      <th>3</th>\n",
       "      <td>0.001</td>\n",
       "      <td>1.000</td>\n",
       "    </tr>\n",
       "    <tr>\n",
       "      <th>4</th>\n",
       "      <td>0.001</td>\n",
       "      <td>10.000</td>\n",
       "    </tr>\n",
       "    <tr>\n",
       "      <th>5</th>\n",
       "      <td>0.001</td>\n",
       "      <td>100.000</td>\n",
       "    </tr>\n",
       "    <tr>\n",
       "      <th>6</th>\n",
       "      <td>0.010</td>\n",
       "      <td>0.001</td>\n",
       "    </tr>\n",
       "    <tr>\n",
       "      <th>7</th>\n",
       "      <td>0.010</td>\n",
       "      <td>0.010</td>\n",
       "    </tr>\n",
       "    <tr>\n",
       "      <th>8</th>\n",
       "      <td>0.010</td>\n",
       "      <td>0.100</td>\n",
       "    </tr>\n",
       "    <tr>\n",
       "      <th>9</th>\n",
       "      <td>0.010</td>\n",
       "      <td>1.000</td>\n",
       "    </tr>\n",
       "    <tr>\n",
       "      <th>10</th>\n",
       "      <td>0.010</td>\n",
       "      <td>10.000</td>\n",
       "    </tr>\n",
       "    <tr>\n",
       "      <th>11</th>\n",
       "      <td>0.010</td>\n",
       "      <td>100.000</td>\n",
       "    </tr>\n",
       "    <tr>\n",
       "      <th>12</th>\n",
       "      <td>0.100</td>\n",
       "      <td>0.001</td>\n",
       "    </tr>\n",
       "    <tr>\n",
       "      <th>13</th>\n",
       "      <td>0.100</td>\n",
       "      <td>0.010</td>\n",
       "    </tr>\n",
       "    <tr>\n",
       "      <th>14</th>\n",
       "      <td>0.100</td>\n",
       "      <td>0.100</td>\n",
       "    </tr>\n",
       "    <tr>\n",
       "      <th>15</th>\n",
       "      <td>0.100</td>\n",
       "      <td>1.000</td>\n",
       "    </tr>\n",
       "    <tr>\n",
       "      <th>16</th>\n",
       "      <td>0.100</td>\n",
       "      <td>10.000</td>\n",
       "    </tr>\n",
       "    <tr>\n",
       "      <th>17</th>\n",
       "      <td>0.100</td>\n",
       "      <td>100.000</td>\n",
       "    </tr>\n",
       "    <tr>\n",
       "      <th>18</th>\n",
       "      <td>1.000</td>\n",
       "      <td>0.001</td>\n",
       "    </tr>\n",
       "    <tr>\n",
       "      <th>19</th>\n",
       "      <td>1.000</td>\n",
       "      <td>0.010</td>\n",
       "    </tr>\n",
       "    <tr>\n",
       "      <th>20</th>\n",
       "      <td>1.000</td>\n",
       "      <td>0.100</td>\n",
       "    </tr>\n",
       "    <tr>\n",
       "      <th>21</th>\n",
       "      <td>1.000</td>\n",
       "      <td>1.000</td>\n",
       "    </tr>\n",
       "    <tr>\n",
       "      <th>22</th>\n",
       "      <td>1.000</td>\n",
       "      <td>10.000</td>\n",
       "    </tr>\n",
       "    <tr>\n",
       "      <th>23</th>\n",
       "      <td>1.000</td>\n",
       "      <td>100.000</td>\n",
       "    </tr>\n",
       "    <tr>\n",
       "      <th>24</th>\n",
       "      <td>10.000</td>\n",
       "      <td>0.001</td>\n",
       "    </tr>\n",
       "    <tr>\n",
       "      <th>25</th>\n",
       "      <td>10.000</td>\n",
       "      <td>0.010</td>\n",
       "    </tr>\n",
       "    <tr>\n",
       "      <th>26</th>\n",
       "      <td>10.000</td>\n",
       "      <td>0.100</td>\n",
       "    </tr>\n",
       "    <tr>\n",
       "      <th>27</th>\n",
       "      <td>10.000</td>\n",
       "      <td>1.000</td>\n",
       "    </tr>\n",
       "    <tr>\n",
       "      <th>28</th>\n",
       "      <td>10.000</td>\n",
       "      <td>10.000</td>\n",
       "    </tr>\n",
       "    <tr>\n",
       "      <th>29</th>\n",
       "      <td>10.000</td>\n",
       "      <td>100.000</td>\n",
       "    </tr>\n",
       "    <tr>\n",
       "      <th>30</th>\n",
       "      <td>100.000</td>\n",
       "      <td>0.001</td>\n",
       "    </tr>\n",
       "    <tr>\n",
       "      <th>31</th>\n",
       "      <td>100.000</td>\n",
       "      <td>0.010</td>\n",
       "    </tr>\n",
       "    <tr>\n",
       "      <th>32</th>\n",
       "      <td>100.000</td>\n",
       "      <td>0.100</td>\n",
       "    </tr>\n",
       "    <tr>\n",
       "      <th>33</th>\n",
       "      <td>100.000</td>\n",
       "      <td>1.000</td>\n",
       "    </tr>\n",
       "    <tr>\n",
       "      <th>34</th>\n",
       "      <td>100.000</td>\n",
       "      <td>10.000</td>\n",
       "    </tr>\n",
       "    <tr>\n",
       "      <th>35</th>\n",
       "      <td>100.000</td>\n",
       "      <td>100.000</td>\n",
       "    </tr>\n",
       "  </tbody>\n",
       "</table>\n",
       "</div>"
      ],
      "text/plain": [
       "          C    gamma\n",
       "0     0.001    0.001\n",
       "1     0.001    0.010\n",
       "2     0.001    0.100\n",
       "3     0.001    1.000\n",
       "4     0.001   10.000\n",
       "5     0.001  100.000\n",
       "6     0.010    0.001\n",
       "7     0.010    0.010\n",
       "8     0.010    0.100\n",
       "9     0.010    1.000\n",
       "10    0.010   10.000\n",
       "11    0.010  100.000\n",
       "12    0.100    0.001\n",
       "13    0.100    0.010\n",
       "14    0.100    0.100\n",
       "15    0.100    1.000\n",
       "16    0.100   10.000\n",
       "17    0.100  100.000\n",
       "18    1.000    0.001\n",
       "19    1.000    0.010\n",
       "20    1.000    0.100\n",
       "21    1.000    1.000\n",
       "22    1.000   10.000\n",
       "23    1.000  100.000\n",
       "24   10.000    0.001\n",
       "25   10.000    0.010\n",
       "26   10.000    0.100\n",
       "27   10.000    1.000\n",
       "28   10.000   10.000\n",
       "29   10.000  100.000\n",
       "30  100.000    0.001\n",
       "31  100.000    0.010\n",
       "32  100.000    0.100\n",
       "33  100.000    1.000\n",
       "34  100.000   10.000\n",
       "35  100.000  100.000"
      ]
     },
     "execution_count": 74,
     "metadata": {},
     "output_type": "execute_result"
    },
    {
     "data": {
      "image/png": "[encoded data removed]",
      "text/plain": [
       "<matplotlib.figure.Figure at 0x7f6dd5703940>"
      ]
     },
     "metadata": {},
     "output_type": "display_data"
    }
   ],
   "source": [
    "plt.plot(np.arange(0, len(grid_search.cv_results_['mean_test_score'])), grid_search.cv_results_['mean_test_score'], '--', label = 'Mean Train Score')\n",
    "plt.plot(np.arange(0, len(grid_search.cv_results_['mean_train_score'])), grid_search.cv_results_['mean_train_score'], '-', label = 'Mean Validation Score')\n",
    "plt.legend()\n",
    "plt.grid(True)\n",
    "plt.xlabel('Hyperparameter combinations')\n",
    "plt.ylabel('Accuracy')\n",
    "plt.title('SVC kernel RBF CV Results')\n",
    "pd.DataFrame(grid_search.cv_results_['params'])"
   ]
  },
  {
   "cell_type": "markdown",
   "metadata": {},
   "source": [
    "### SVC (POLYNOMIAL) KERNAL"
   ]
  },
  {
   "cell_type": "code",
   "execution_count": 75,
   "metadata": {},
   "outputs": [
    {
     "name": "stdout",
     "output_type": "stream",
     "text": [
      "Parameter grid:\n",
      "{'C': [0.001, 0.01, 0.1, 1, 10, 100], 'degree': [1, 2, 3, 4]}\n",
      "Best parameters: {'C': 100, 'degree': 1}\n",
      "Best cross-validation score: 0.99\n"
     ]
    }
   ],
   "source": [
    "#POLYNOMIAL KERNAL\n",
    "param_grid = {'C': [0.001, 0.01, 0.1, 1, 10, 100], 'degree': [1,2,3,4]}\n",
    "print(\"Parameter grid:\\n{}\".format(param_grid))\n",
    "\n",
    "grid_search = GridSearchCV(SVC(kernel='poly'), param_grid, cv=5, scoring='roc_auc', n_jobs = -1)\n",
    "grid_search.fit(X_train, y_train)\n",
    "print(\"Best parameters: {}\".format(grid_search.best_params_))\n",
    "print(\"Best cross-validation score: {:.2f}\".format(grid_search.best_score_))"
   ]
  },
  {
   "cell_type": "code",
   "execution_count": 76,
   "metadata": {},
   "outputs": [
    {
     "name": "stdout",
     "output_type": "stream",
     "text": [
      "Polynomial SVC - Train Accuracy: 0.96\n",
      "Polynomial SVC - Test Accuracy: 0.95 \n",
      "Polynomial SVC - Train roc_auc_score: 0.91\n",
      "Polynomial SVC - Test roc_auc_score: 0.91 \n"
     ]
    }
   ],
   "source": [
    "svmpoly_acc_train = grid_search.best_estimator_.score(X_train, y_train)\n",
    "svmpoly_acc_test = grid_search.best_estimator_.score(X_test, y_test)\n",
    "svmpoly_auc_train = roc_auc_score(y_train,grid_search.predict(X_train))\n",
    "svmpoly_auc_test = roc_auc_score(y_test,grid_search.predict(X_test))\n",
    "\n",
    "print('Polynomial SVC - Train Accuracy: %.2f'%svmpoly_acc_train)\n",
    "print('Polynomial SVC - Test Accuracy: %.2f '%svmpoly_acc_test)\n",
    "\n",
    "print('Polynomial SVC - Train roc_auc_score: %.2f'%svmpoly_auc_train)\n",
    "print('Polynomial SVC - Test roc_auc_score: %.2f '%svmpoly_auc_test)"
   ]
  },
  {
   "cell_type": "code",
   "execution_count": 77,
   "metadata": {},
   "outputs": [
    {
     "data": {
      "text/html": [
       "<div>\n",
       "<style>\n",
       "    .dataframe thead tr:only-child th {\n",
       "        text-align: right;\n",
       "    }\n",
       "\n",
       "    .dataframe thead th {\n",
       "        text-align: left;\n",
       "    }\n",
       "\n",
       "    .dataframe tbody tr th {\n",
       "        vertical-align: top;\n",
       "    }\n",
       "</style>\n",
       "<table border=\"1\" class=\"dataframe\">\n",
       "  <thead>\n",
       "    <tr style=\"text-align: right;\">\n",
       "      <th></th>\n",
       "      <th>C</th>\n",
       "      <th>degree</th>\n",
       "    </tr>\n",
       "  </thead>\n",
       "  <tbody>\n",
       "    <tr>\n",
       "      <th>0</th>\n",
       "      <td>0.001</td>\n",
       "      <td>1</td>\n",
       "    </tr>\n",
       "    <tr>\n",
       "      <th>1</th>\n",
       "      <td>0.001</td>\n",
       "      <td>2</td>\n",
       "    </tr>\n",
       "    <tr>\n",
       "      <th>2</th>\n",
       "      <td>0.001</td>\n",
       "      <td>3</td>\n",
       "    </tr>\n",
       "    <tr>\n",
       "      <th>3</th>\n",
       "      <td>0.001</td>\n",
       "      <td>4</td>\n",
       "    </tr>\n",
       "    <tr>\n",
       "      <th>4</th>\n",
       "      <td>0.010</td>\n",
       "      <td>1</td>\n",
       "    </tr>\n",
       "    <tr>\n",
       "      <th>5</th>\n",
       "      <td>0.010</td>\n",
       "      <td>2</td>\n",
       "    </tr>\n",
       "    <tr>\n",
       "      <th>6</th>\n",
       "      <td>0.010</td>\n",
       "      <td>3</td>\n",
       "    </tr>\n",
       "    <tr>\n",
       "      <th>7</th>\n",
       "      <td>0.010</td>\n",
       "      <td>4</td>\n",
       "    </tr>\n",
       "    <tr>\n",
       "      <th>8</th>\n",
       "      <td>0.100</td>\n",
       "      <td>1</td>\n",
       "    </tr>\n",
       "    <tr>\n",
       "      <th>9</th>\n",
       "      <td>0.100</td>\n",
       "      <td>2</td>\n",
       "    </tr>\n",
       "    <tr>\n",
       "      <th>10</th>\n",
       "      <td>0.100</td>\n",
       "      <td>3</td>\n",
       "    </tr>\n",
       "    <tr>\n",
       "      <th>11</th>\n",
       "      <td>0.100</td>\n",
       "      <td>4</td>\n",
       "    </tr>\n",
       "    <tr>\n",
       "      <th>12</th>\n",
       "      <td>1.000</td>\n",
       "      <td>1</td>\n",
       "    </tr>\n",
       "    <tr>\n",
       "      <th>13</th>\n",
       "      <td>1.000</td>\n",
       "      <td>2</td>\n",
       "    </tr>\n",
       "    <tr>\n",
       "      <th>14</th>\n",
       "      <td>1.000</td>\n",
       "      <td>3</td>\n",
       "    </tr>\n",
       "    <tr>\n",
       "      <th>15</th>\n",
       "      <td>1.000</td>\n",
       "      <td>4</td>\n",
       "    </tr>\n",
       "    <tr>\n",
       "      <th>16</th>\n",
       "      <td>10.000</td>\n",
       "      <td>1</td>\n",
       "    </tr>\n",
       "    <tr>\n",
       "      <th>17</th>\n",
       "      <td>10.000</td>\n",
       "      <td>2</td>\n",
       "    </tr>\n",
       "    <tr>\n",
       "      <th>18</th>\n",
       "      <td>10.000</td>\n",
       "      <td>3</td>\n",
       "    </tr>\n",
       "    <tr>\n",
       "      <th>19</th>\n",
       "      <td>10.000</td>\n",
       "      <td>4</td>\n",
       "    </tr>\n",
       "    <tr>\n",
       "      <th>20</th>\n",
       "      <td>100.000</td>\n",
       "      <td>1</td>\n",
       "    </tr>\n",
       "    <tr>\n",
       "      <th>21</th>\n",
       "      <td>100.000</td>\n",
       "      <td>2</td>\n",
       "    </tr>\n",
       "    <tr>\n",
       "      <th>22</th>\n",
       "      <td>100.000</td>\n",
       "      <td>3</td>\n",
       "    </tr>\n",
       "    <tr>\n",
       "      <th>23</th>\n",
       "      <td>100.000</td>\n",
       "      <td>4</td>\n",
       "    </tr>\n",
       "  </tbody>\n",
       "</table>\n",
       "</div>"
      ],
      "text/plain": [
       "          C  degree\n",
       "0     0.001       1\n",
       "1     0.001       2\n",
       "2     0.001       3\n",
       "3     0.001       4\n",
       "4     0.010       1\n",
       "5     0.010       2\n",
       "6     0.010       3\n",
       "7     0.010       4\n",
       "8     0.100       1\n",
       "9     0.100       2\n",
       "10    0.100       3\n",
       "11    0.100       4\n",
       "12    1.000       1\n",
       "13    1.000       2\n",
       "14    1.000       3\n",
       "15    1.000       4\n",
       "16   10.000       1\n",
       "17   10.000       2\n",
       "18   10.000       3\n",
       "19   10.000       4\n",
       "20  100.000       1\n",
       "21  100.000       2\n",
       "22  100.000       3\n",
       "23  100.000       4"
      ]
     },
     "execution_count": 77,
     "metadata": {},
     "output_type": "execute_result"
    },
    {
     "data": {
      "image/png": "[encoded data removed]",
      "text/plain": [
       "<matplotlib.figure.Figure at 0x7f6dd504bc88>"
      ]
     },
     "metadata": {},
     "output_type": "display_data"
    }
   ],
   "source": [
    "plt.plot(np.arange(0, len(grid_search.cv_results_['mean_test_score'])), grid_search.cv_results_['mean_test_score'], '--', label = 'Mean Train Score')\n",
    "plt.plot(np.arange(0, len(grid_search.cv_results_['mean_train_score'])), grid_search.cv_results_['mean_train_score'], '-', label = 'Mean Validation Score')\n",
    "plt.legend()\n",
    "plt.grid(True)\n",
    "plt.xlabel('Hyperparameter combinations')\n",
    "plt.ylabel('Accuracy')\n",
    "plt.title('SVC poly RBF CV Results')\n",
    "pd.DataFrame(grid_search.cv_results_['params'])"
   ]
  },
  {
   "cell_type": "markdown",
   "metadata": {},
   "source": [
    "### DECISION TREE CLASSIFIER\n",
    "\n"
   ]
  },
  {
   "cell_type": "code",
   "execution_count": 78,
   "metadata": {},
   "outputs": [
    {
     "name": "stdout",
     "output_type": "stream",
     "text": [
      "Best Parameters : {'max_depth': 4}\n",
      "Best cross_val score : 0.9827589559763269\n"
     ]
    }
   ],
   "source": [
    "from sklearn.tree import DecisionTreeClassifier\n",
    "\n",
    "param_grid = {'max_depth':[1,2,3,4,5,6,7,8,9,10]}\n",
    "grid_search= GridSearchCV( DecisionTreeClassifier(random_state = 0),param_grid, cv=5, scoring='roc_auc', n_jobs = -1)\n",
    "grid_search.fit(X_train, y_train)\n",
    "print(\"Best Parameters : {}\".format(grid_search.best_params_))\n",
    "print(\"Best cross_val score : {}\".format(grid_search.best_score_))"
   ]
  },
  {
   "cell_type": "code",
   "execution_count": 79,
   "metadata": {},
   "outputs": [
    {
     "name": "stdout",
     "output_type": "stream",
     "text": [
      "Decision Tree - Train Accuracy: 0.97\n",
      "Decision Tree - Test Accuracy: 0.96 \n",
      "Decision Tree - Train roc_auc_score: 0.95\n",
      "Decision Tree - Test roc_auc_score: 0.9420626550 \n"
     ]
    }
   ],
   "source": [
    "tree_acc_train = grid_search.best_estimator_.score(X_train, y_train)\n",
    "tree_acc_test = grid_search.best_estimator_.score(X_test, y_test)\n",
    "tree_auc_train = roc_auc_score(y_train,grid_search.predict(X_train))\n",
    "tree_auc_test = roc_auc_score(y_test,grid_search.predict(X_test))\n",
    "\n",
    "print('Decision Tree - Train Accuracy: %.2f'%tree_acc_train)\n",
    "print('Decision Tree - Test Accuracy: %.2f '%tree_acc_test)\n",
    "\n",
    "print('Decision Tree - Train roc_auc_score: %.2f'%tree_auc_train)\n",
    "print('Decision Tree - Test roc_auc_score: %.10f '%tree_auc_test)"
   ]
  },
  {
   "cell_type": "code",
   "execution_count": 80,
   "metadata": {},
   "outputs": [
    {
     "data": {
      "text/html": [
       "<div>\n",
       "<style>\n",
       "    .dataframe thead tr:only-child th {\n",
       "        text-align: right;\n",
       "    }\n",
       "\n",
       "    .dataframe thead th {\n",
       "        text-align: left;\n",
       "    }\n",
       "\n",
       "    .dataframe tbody tr th {\n",
       "        vertical-align: top;\n",
       "    }\n",
       "</style>\n",
       "<table border=\"1\" class=\"dataframe\">\n",
       "  <thead>\n",
       "    <tr style=\"text-align: right;\">\n",
       "      <th></th>\n",
       "      <th>max_depth</th>\n",
       "    </tr>\n",
       "  </thead>\n",
       "  <tbody>\n",
       "    <tr>\n",
       "      <th>0</th>\n",
       "      <td>1</td>\n",
       "    </tr>\n",
       "    <tr>\n",
       "      <th>1</th>\n",
       "      <td>2</td>\n",
       "    </tr>\n",
       "    <tr>\n",
       "      <th>2</th>\n",
       "      <td>3</td>\n",
       "    </tr>\n",
       "    <tr>\n",
       "      <th>3</th>\n",
       "      <td>4</td>\n",
       "    </tr>\n",
       "    <tr>\n",
       "      <th>4</th>\n",
       "      <td>5</td>\n",
       "    </tr>\n",
       "    <tr>\n",
       "      <th>5</th>\n",
       "      <td>6</td>\n",
       "    </tr>\n",
       "    <tr>\n",
       "      <th>6</th>\n",
       "      <td>7</td>\n",
       "    </tr>\n",
       "    <tr>\n",
       "      <th>7</th>\n",
       "      <td>8</td>\n",
       "    </tr>\n",
       "    <tr>\n",
       "      <th>8</th>\n",
       "      <td>9</td>\n",
       "    </tr>\n",
       "    <tr>\n",
       "      <th>9</th>\n",
       "      <td>10</td>\n",
       "    </tr>\n",
       "  </tbody>\n",
       "</table>\n",
       "</div>"
      ],
      "text/plain": [
       "   max_depth\n",
       "0          1\n",
       "1          2\n",
       "2          3\n",
       "3          4\n",
       "4          5\n",
       "5          6\n",
       "6          7\n",
       "7          8\n",
       "8          9\n",
       "9         10"
      ]
     },
     "execution_count": 80,
     "metadata": {},
     "output_type": "execute_result"
    },
    {
     "data": {
      "image/png": "[encoded data removed]",
      "text/plain": [
       "<matplotlib.figure.Figure at 0x7f6dd56fe320>"
      ]
     },
     "metadata": {},
     "output_type": "display_data"
    }
   ],
   "source": [
    "plt.plot(np.arange(0, len(grid_search.cv_results_['mean_test_score'])), grid_search.cv_results_['mean_test_score'], '--', label = 'Mean Train Score')\n",
    "plt.plot(np.arange(0, len(grid_search.cv_results_['mean_train_score'])), grid_search.cv_results_['mean_train_score'], '-', label = 'Mean Validation Score')\n",
    "plt.legend()\n",
    "plt.grid(True)\n",
    "plt.xlabel('Hyperparameter combinations')\n",
    "plt.ylabel('Accuracy')\n",
    "plt.title('Decision Tree CV Results')\n",
    "pd.DataFrame(grid_search.cv_results_['params'])"
   ]
  },
  {
   "cell_type": "markdown",
   "metadata": {},
   "source": [
    "### FINAL TABLE with Test & Train Scores"
   ]
  },
  {
   "cell_type": "code",
   "execution_count": 81,
   "metadata": {},
   "outputs": [
    {
     "data": {
      "text/html": [
       "<div>\n",
       "<style>\n",
       "    .dataframe thead tr:only-child th {\n",
       "        text-align: right;\n",
       "    }\n",
       "\n",
       "    .dataframe thead th {\n",
       "        text-align: left;\n",
       "    }\n",
       "\n",
       "    .dataframe tbody tr th {\n",
       "        vertical-align: top;\n",
       "    }\n",
       "</style>\n",
       "<table border=\"1\" class=\"dataframe\">\n",
       "  <thead>\n",
       "    <tr style=\"text-align: right;\">\n",
       "      <th></th>\n",
       "      <th>Model</th>\n",
       "      <th>ROC-AUC_Score-Test</th>\n",
       "      <th>ROC-AUC_Score-Train</th>\n",
       "      <th>Test Accuracy</th>\n",
       "      <th>Train Accuracy</th>\n",
       "    </tr>\n",
       "  </thead>\n",
       "  <tbody>\n",
       "    <tr>\n",
       "      <th>0</th>\n",
       "      <td>KNN</td>\n",
       "      <td>0.923026</td>\n",
       "      <td>0.936309</td>\n",
       "      <td>0.957371</td>\n",
       "      <td>0.967395</td>\n",
       "    </tr>\n",
       "    <tr>\n",
       "      <th>1</th>\n",
       "      <td>Logistic</td>\n",
       "      <td>0.934122</td>\n",
       "      <td>0.935813</td>\n",
       "      <td>0.963766</td>\n",
       "      <td>0.966596</td>\n",
       "    </tr>\n",
       "    <tr>\n",
       "      <th>2</th>\n",
       "      <td>SVM Linear</td>\n",
       "      <td>0.932808</td>\n",
       "      <td>0.936604</td>\n",
       "      <td>0.962700</td>\n",
       "      <td>0.967306</td>\n",
       "    </tr>\n",
       "    <tr>\n",
       "      <th>3</th>\n",
       "      <td>SVM RBF</td>\n",
       "      <td>0.930209</td>\n",
       "      <td>0.934751</td>\n",
       "      <td>0.961634</td>\n",
       "      <td>0.966862</td>\n",
       "    </tr>\n",
       "    <tr>\n",
       "      <th>4</th>\n",
       "      <td>SVM Polynomial</td>\n",
       "      <td>0.912234</td>\n",
       "      <td>0.907070</td>\n",
       "      <td>0.954529</td>\n",
       "      <td>0.957001</td>\n",
       "    </tr>\n",
       "    <tr>\n",
       "      <th>5</th>\n",
       "      <td>Decision Tree</td>\n",
       "      <td>0.942063</td>\n",
       "      <td>0.950697</td>\n",
       "      <td>0.964121</td>\n",
       "      <td>0.970238</td>\n",
       "    </tr>\n",
       "  </tbody>\n",
       "</table>\n",
       "</div>"
      ],
      "text/plain": [
       "            Model  ROC-AUC_Score-Test  ROC-AUC_Score-Train  Test Accuracy  \\\n",
       "0             KNN            0.923026             0.936309       0.957371   \n",
       "1        Logistic            0.934122             0.935813       0.963766   \n",
       "2      SVM Linear            0.932808             0.936604       0.962700   \n",
       "3         SVM RBF            0.930209             0.934751       0.961634   \n",
       "4  SVM Polynomial            0.912234             0.907070       0.954529   \n",
       "5   Decision Tree            0.942063             0.950697       0.964121   \n",
       "\n",
       "   Train Accuracy  \n",
       "0        0.967395  \n",
       "1        0.966596  \n",
       "2        0.967306  \n",
       "3        0.966862  \n",
       "4        0.957001  \n",
       "5        0.970238  "
      ]
     },
     "execution_count": 81,
     "metadata": {},
     "output_type": "execute_result"
    }
   ],
   "source": [
    "finaltable=pd.DataFrame(\n",
    "    {'Model':['KNN','Logistic','SVM Linear','SVM RBF','SVM Polynomial','Decision Tree'],\n",
    "     'Train Accuracy':[knn_acc_train,log_reg_acc_train,svmlin_acc_train,svmrbf_acc_train,svmpoly_acc_train,tree_acc_train],\n",
    "     'Test Accuracy':[knn_acc_test,log_reg_acc_test,svmlin_acc_test,svmrbf_acc_test,svmpoly_acc_test,tree_acc_test],\n",
    "     'ROC-AUC_Score-Train':[knn_auc_train,log_reg_auc_train,svmlin_auc_train,svmrbf_auc_train,svmpoly_auc_train,tree_auc_train],\n",
    "     'ROC-AUC_Score-Test':[knn_auc_test,log_reg_auc_test,svmlin_auc_test,svmrbf_auc_test,svmpoly_auc_test,tree_auc_test]\n",
    "                        })\n",
    "finaltable"
   ]
  },
  {
   "cell_type": "markdown",
   "metadata": {},
   "source": [
    "The Dataset is unbalanced.\n",
    "So, it is best practice to check the relevant ROC-AUC_Score."
   ]
  },
  {
   "cell_type": "markdown",
   "metadata": {},
   "source": [
    "### Best regressor is DECISION TREE"
   ]
  },
  {
   "cell_type": "markdown",
   "metadata": {},
   "source": [
    "Splitting Total dataset into train and test and scaling with MinMaxScaler"
   ]
  },
  {
   "cell_type": "code",
   "execution_count": 82,
   "metadata": {},
   "outputs": [
    {
     "name": "stdout",
     "output_type": "stream",
     "text": [
      "(112565, 77) (28142, 77) (112565,) (28142,)\n"
     ]
    }
   ],
   "source": [
    "X_trainfinal, X_testfinal,y_trainfinal,y_testfinal = train_test_split(df.iloc[:,:-1], df.iloc[:,-1], random_state = 0,test_size=.2)\n",
    "print(X_trainfinal.shape,X_testfinal.shape,y_trainfinal.shape,y_testfinal.shape)"
   ]
  },
  {
   "cell_type": "code",
   "execution_count": 83,
   "metadata": {
    "collapsed": true
   },
   "outputs": [],
   "source": [
    "MMscaler= MinMaxScaler()\n",
    "X_trainfinal = MMscaler.fit_transform(X_trainfinal)\n",
    "X_testfinal = MMscaler.transform(X_testfinal)"
   ]
  },
  {
   "cell_type": "markdown",
   "metadata": {},
   "source": [
    "### Implementing DECISION TREE MODEL on training dataset with Best parameters (from Grid Search)"
   ]
  },
  {
   "cell_type": "code",
   "execution_count": 92,
   "metadata": {
    "collapsed": true
   },
   "outputs": [],
   "source": [
    "Treefinal = DecisionTreeClassifier(max_depth = 4, random_state = 0).fit(X_trainfinal, y_trainfinal)"
   ]
  },
  {
   "cell_type": "code",
   "execution_count": 93,
   "metadata": {},
   "outputs": [
    {
     "name": "stdout",
     "output_type": "stream",
     "text": [
      "Buzz Prediction Accuracy on Training Set: 0.97\n",
      "Buzz Prediction Accuracy on Test Set: 0.96 \n",
      "Buzz Prediction ROC AUC Score on Training Set: 0.94\n",
      "Buzz Prediction ROC AUC Score on Test Set: 0.94 \n"
     ]
    }
   ],
   "source": [
    "final_accuracy_train = Treefinal.score(X_trainfinal, y_trainfinal)\n",
    "final_accuracy_test = Treefinal.score(X_testfinal, y_testfinal)\n",
    "final_auc_train = roc_auc_score(y_trainfinal,Treefinal.predict(X_trainfinal))\n",
    "final_auc_test = roc_auc_score(y_testfinal,Treefinal.predict(X_testfinal))\n",
    "\n",
    "print('Buzz Prediction Accuracy on Training Set: %.2f'%final_accuracy_train)\n",
    "print('Buzz Prediction Accuracy on Test Set: %.2f '%final_accuracy_test)\n",
    "print('Buzz Prediction ROC AUC Score on Training Set: %.2f'%final_auc_train)\n",
    "print('Buzz Prediction ROC AUC Score on Test Set: %.2f '%final_auc_test)"
   ]
  },
  {
   "cell_type": "code",
   "execution_count": 115,
   "metadata": {},
   "outputs": [
    {
     "name": "stdout",
     "output_type": "stream",
     "text": [
      "Test score: 0.96\n",
      "\n",
      "Decision tree Confusion Matrix:\n"
     ]
    },
    {
     "data": {
      "text/html": [
       "<div>\n",
       "<style>\n",
       "    .dataframe thead tr:only-child th {\n",
       "        text-align: right;\n",
       "    }\n",
       "\n",
       "    .dataframe thead th {\n",
       "        text-align: left;\n",
       "    }\n",
       "\n",
       "    .dataframe tbody tr th {\n",
       "        vertical-align: top;\n",
       "    }\n",
       "</style>\n",
       "<table border=\"1\" class=\"dataframe\">\n",
       "  <thead>\n",
       "    <tr style=\"text-align: right;\">\n",
       "      <th></th>\n",
       "      <th>Predicted: No</th>\n",
       "      <th>Predicted: Yes</th>\n",
       "    </tr>\n",
       "  </thead>\n",
       "  <tbody>\n",
       "    <tr>\n",
       "      <th>Actual: No</th>\n",
       "      <td>22061</td>\n",
       "      <td>477</td>\n",
       "    </tr>\n",
       "    <tr>\n",
       "      <th>Actual: Yes</th>\n",
       "      <td>560</td>\n",
       "      <td>5044</td>\n",
       "    </tr>\n",
       "  </tbody>\n",
       "</table>\n",
       "</div>"
      ],
      "text/plain": [
       "             Predicted: No  Predicted: Yes\n",
       "Actual: No           22061             477\n",
       "Actual: Yes            560            5044"
      ]
     },
     "execution_count": 115,
     "metadata": {},
     "output_type": "execute_result"
    }
   ],
   "source": [
    "from sklearn.metrics import confusion_matrix\n",
    "\n",
    "#from sklearn.tree import DecisionTreeClassifier\n",
    "#Treefinal = DecisionTreeClassifier(max_depth=2).fit(X_trainfinal, y_trainfinal)\n",
    "pred_tree = Treefinal.predict(X_testfinal)\n",
    "print(\"Test score: {:.2f}\".format(Treefinal.score(X_testfinal, y_testfinal)))\n",
    "print(\"\\nDecision tree Confusion Matrix:\")\n",
    "pd.DataFrame(confusion_matrix(y_testfinal, pred_tree), columns= ['Predicted: No', 'Predicted: Yes'], index= ['Actual: No', 'Actual: Yes'])"
   ]
  },
  {
   "cell_type": "markdown",
   "metadata": {},
   "source": [
    "# Conclusion\n",
    "Decision Tree is the best classification algorithm to predict BUZZ with 96% accuracy."
   ]
  }
 ],
 "metadata": {
  "kernelspec": {
   "display_name": "Python 3",
   "language": "python",
   "name": "python3"
  },
  "language_info": {
   "codemirror_mode": {
    "name": "ipython",
    "version": 3
   },
   "file_extension": ".py",
   "mimetype": "text/x-python",
   "name": "python",
   "nbconvert_exporter": "python",
   "pygments_lexer": "ipython3",
   "version": "3.7.0"
  }
 },
 "nbformat": 4,
 "nbformat_minor": 2
}
