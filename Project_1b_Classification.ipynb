{
 "cells": [
  {
   "cell_type": "markdown",
   "metadata": {
    "colab_type": "text",
    "id": "kqq7AVOx9wmR"
   },
   "source": [
    "### <font color='red'> Buzz Prediction on Twitter\n",
    "\n",
    "Project Description:\n",
    "- Use same datasets as previous project.\n",
    "- Run all the models only on 10% data. Use code given in previous project for sampling.\n",
    "- Preprocess data: Explore data and apply data scaling.\n",
    "\n",
    "Regression Task:\n",
    "- Apply any two models with bagging and any two models with pasting.\n",
    "- Apply any two models with adaboost boosting\n",
    "- Apply one model with gradient boosting\n",
    "- Apply PCA on data and then apply all the models in previous project again on data you get from PCA. Compare your results with results in previous project. You don't need to apply all the models twice. Just copy the result table from previous project, prepare similar table for all the models after PCA and compare both tables. Does PCA help in getting better results?\n",
    "- Apply deep learning models covered in class\n",
    "\n",
    "Classification Task:\n",
    "- Apply four voting classifiers - two with hard voting and two with soft voting\n",
    "- Apply any two models with bagging and any two models with pasting.\n",
    "- Apply any two models with adaboost boosting\n",
    "- Apply one model with gradient boosting\n",
    "- Apply PCA on data and then apply all the models in previous project again on data you get from PCA. Compare your results with results in previous project. You don't need to apply all the models twice. Just copy the result table from previous project, prepare similar table for all the models after PCA and compare both tables. Does PCA help in getting better results?\n",
    "- Apply deep learning models covered in class\n"
   ]
  },
  {
   "cell_type": "code",
   "execution_count": 1,
   "metadata": {
    "colab": {
     "base_uri": "https://localhost:8080/",
     "height": 91,
     "resources": {
      "http://localhost:8080/nbextensions/google.colab/files.js": {
       "data": "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",
       "headers": [
        [
         "content-type",
         "application/javascript"
        ]
       ],
       "ok": true,
       "status": 200,
       "status_text": ""
      }
     }
    },
    "colab_type": "code",
    "id": "qIJ298en92Cv",
    "outputId": "7f2eebb4-0421-4037-e43a-40b24c61f5e5"
   },
   "outputs": [
    {
     "data": {
      "text/html": [
       "\n",
       "     <input type=\"file\" id=\"files-ca20186e-1295-417b-8532-87c1a07228c2\" name=\"files[]\" multiple disabled />\n",
       "     <output id=\"result-ca20186e-1295-417b-8532-87c1a07228c2\">\n",
       "      Upload widget is only available when the cell has been executed in the\n",
       "      current browser session. Please rerun this cell to enable.\n",
       "      </output>\n",
       "      <script src=\"/nbextensions/google.colab/files.js\"></script> "
      ],
      "text/plain": [
       "<IPython.core.display.HTML object>"
      ]
     },
     "metadata": {
      "tags": []
     },
     "output_type": "display_data"
    },
    {
     "name": "stdout",
     "output_type": "stream",
     "text": [
      "Saving Twitter-Absolute-Sigma-500.data to Twitter-Absolute-Sigma-500.data\n",
      "User uploaded file \"Twitter-Absolute-Sigma-500.data\" with length 68184546 bytes\n"
     ]
    }
   ],
   "source": [
    "#from google.colab import files\n",
    "\n",
    "#uploaded = files.upload()\n",
    "\n",
    "#for fn in uploaded.keys():\n",
    "#  print('User uploaded file \"{name}\" with length {length} bytes'.format(\n",
    "#      name=fn, length=len(uploaded[fn])))"
   ]
  },
  {
   "cell_type": "markdown",
   "metadata": {
    "colab_type": "text",
    "id": "cQYQq_Yx9wmT"
   },
   "source": [
    "## Import Required Packages"
   ]
  },
  {
   "cell_type": "code",
   "execution_count": 1,
   "metadata": {
    "colab": {},
    "colab_type": "code",
    "id": "TxTWXFQg9wmU"
   },
   "outputs": [
    {
     "name": "stderr",
     "output_type": "stream",
     "text": [
      "C:\\Users\\mahee\\Anaconda3\\lib\\site-packages\\sklearn\\ensemble\\weight_boosting.py:29: DeprecationWarning: numpy.core.umath_tests is an internal NumPy module and should not be imported. It will be removed in a future NumPy release.\n",
      "  from numpy.core.umath_tests import inner1d\n"
     ]
    }
   ],
   "source": [
    "import numpy as np\n",
    "import pandas as pd\n",
    "from scipy import stats\n",
    "import matplotlib.pyplot as plt\n",
    "from matplotlib.cm import register_cmap\n",
    "import seaborn as sns\n",
    "%matplotlib inline\n",
    "import warnings\n",
    "warnings.filterwarnings('ignore')\n",
    "from sklearn.model_selection import train_test_split\n",
    "from sklearn.preprocessing import MinMaxScaler  # b/w 0 & 1\n",
    "from sklearn.metrics import roc_auc_score\n",
    "from sklearn.ensemble import BaggingClassifier\n",
    "from sklearn.neighbors import KNeighborsClassifier\n",
    "from sklearn.tree import DecisionTreeClassifier\n",
    "from sklearn.ensemble import AdaBoostClassifier\n",
    "from sklearn.model_selection import train_test_split\n",
    "from sklearn.model_selection import cross_val_score\n",
    "from sklearn.linear_model import SGDRegressor\n",
    "from  sklearn.preprocessing  import PolynomialFeatures\n",
    "from sklearn.svm import SVC\n",
    "from sklearn.model_selection import GridSearchCV\n",
    "from sklearn.metrics import roc_auc_score\n",
    "from sklearn.decomposition import PCA\n",
    "from sklearn.linear_model import LogisticRegression"
   ]
  },
  {
   "cell_type": "markdown",
   "metadata": {
    "colab_type": "text",
    "id": "_6sK1lqE9wmZ"
   },
   "source": [
    "## Read data into dataframe"
   ]
  },
  {
   "cell_type": "code",
   "execution_count": 2,
   "metadata": {
    "colab": {},
    "colab_type": "code",
    "id": "mCRVgYid9wma"
   },
   "outputs": [],
   "source": [
    "\n",
    "cols = ['NCD_0','NCD_1','NCD_2','NCD_3','NCD_4','NCD_5','NCD_6','AI_0','AI_1','AI_2','AI_3','AI_4','AI_5','AI_6','AS(NA)_0','AS(NA)_1','AS(NA)_2','AS(NA)_3','AS(NA)_4','AS(NA)_5','AS(NA)_6','BL_0','BL_1','BL_2','BL_3','BL_4','BL_5','BL_6','NAC_0','NAC_1','NAC_2','NAC_3','NAC_4','NAC_5','NAC_6','AS(NAC)_0','AS(NAC)_1','AS(NAC)_2','AS(NAC)_3','AS(NAC)_4','AS(NAC)_5','AS(NAC)_6','CS_0','CS_1','CS_2','CS_3','CS_4','CS_5','CS_6','AT_0','AT_1','AT_2','AT_3','AT_4','AT_5','AT_6','NA_0','NA_1','NA_2','NA_3','NA_4','NA_5','NA_6','ADL_0','ADL_1','ADL_2','ADL_3','ADL_4','ADL_5','ADL_6','NAD_0','NAD_1','NAD_2','NAD_3','NAD_4','NAD_5','NAD_6','BUZZ']\n",
    "df = pd.read_csv('Twitter-Absolute-Sigma-500.data', header = None)\n",
    "df.columns = cols"
   ]
  },
  {
   "cell_type": "code",
   "execution_count": 3,
   "metadata": {
    "colab": {},
    "colab_type": "code",
    "id": "JbM6NbE09wmd",
    "outputId": "32328523-4229-4945-a32e-645dfbf323a5"
   },
   "outputs": [
    {
     "data": {
      "text/html": [
       "<div>\n",
       "<style scoped>\n",
       "    .dataframe tbody tr th:only-of-type {\n",
       "        vertical-align: middle;\n",
       "    }\n",
       "\n",
       "    .dataframe tbody tr th {\n",
       "        vertical-align: top;\n",
       "    }\n",
       "\n",
       "    .dataframe thead th {\n",
       "        text-align: right;\n",
       "    }\n",
       "</style>\n",
       "<table border=\"1\" class=\"dataframe\">\n",
       "  <thead>\n",
       "    <tr style=\"text-align: right;\">\n",
       "      <th></th>\n",
       "      <th>NCD_0</th>\n",
       "      <th>NCD_1</th>\n",
       "      <th>NCD_2</th>\n",
       "      <th>NCD_3</th>\n",
       "      <th>NCD_4</th>\n",
       "      <th>NCD_5</th>\n",
       "      <th>NCD_6</th>\n",
       "      <th>AI_0</th>\n",
       "      <th>AI_1</th>\n",
       "      <th>AI_2</th>\n",
       "      <th>...</th>\n",
       "      <th>ADL_5</th>\n",
       "      <th>ADL_6</th>\n",
       "      <th>NAD_0</th>\n",
       "      <th>NAD_1</th>\n",
       "      <th>NAD_2</th>\n",
       "      <th>NAD_3</th>\n",
       "      <th>NAD_4</th>\n",
       "      <th>NAD_5</th>\n",
       "      <th>NAD_6</th>\n",
       "      <th>BUZZ</th>\n",
       "    </tr>\n",
       "  </thead>\n",
       "  <tbody>\n",
       "    <tr>\n",
       "      <th>0</th>\n",
       "      <td>889</td>\n",
       "      <td>939</td>\n",
       "      <td>960</td>\n",
       "      <td>805</td>\n",
       "      <td>805</td>\n",
       "      <td>1143</td>\n",
       "      <td>1121</td>\n",
       "      <td>549</td>\n",
       "      <td>613</td>\n",
       "      <td>587</td>\n",
       "      <td>...</td>\n",
       "      <td>1.0</td>\n",
       "      <td>1.0</td>\n",
       "      <td>889</td>\n",
       "      <td>939</td>\n",
       "      <td>960</td>\n",
       "      <td>805</td>\n",
       "      <td>805</td>\n",
       "      <td>1143</td>\n",
       "      <td>1121</td>\n",
       "      <td>1.0</td>\n",
       "    </tr>\n",
       "    <tr>\n",
       "      <th>1</th>\n",
       "      <td>542</td>\n",
       "      <td>473</td>\n",
       "      <td>504</td>\n",
       "      <td>626</td>\n",
       "      <td>647</td>\n",
       "      <td>795</td>\n",
       "      <td>832</td>\n",
       "      <td>366</td>\n",
       "      <td>288</td>\n",
       "      <td>318</td>\n",
       "      <td>...</td>\n",
       "      <td>1.0</td>\n",
       "      <td>1.0</td>\n",
       "      <td>542</td>\n",
       "      <td>473</td>\n",
       "      <td>504</td>\n",
       "      <td>626</td>\n",
       "      <td>647</td>\n",
       "      <td>795</td>\n",
       "      <td>832</td>\n",
       "      <td>1.0</td>\n",
       "    </tr>\n",
       "    <tr>\n",
       "      <th>2</th>\n",
       "      <td>92</td>\n",
       "      <td>99</td>\n",
       "      <td>196</td>\n",
       "      <td>100</td>\n",
       "      <td>184</td>\n",
       "      <td>79</td>\n",
       "      <td>162</td>\n",
       "      <td>66</td>\n",
       "      <td>59</td>\n",
       "      <td>118</td>\n",
       "      <td>...</td>\n",
       "      <td>1.0</td>\n",
       "      <td>1.0</td>\n",
       "      <td>92</td>\n",
       "      <td>99</td>\n",
       "      <td>196</td>\n",
       "      <td>100</td>\n",
       "      <td>184</td>\n",
       "      <td>79</td>\n",
       "      <td>162</td>\n",
       "      <td>0.0</td>\n",
       "    </tr>\n",
       "    <tr>\n",
       "      <th>3</th>\n",
       "      <td>90</td>\n",
       "      <td>87</td>\n",
       "      <td>92</td>\n",
       "      <td>344</td>\n",
       "      <td>184</td>\n",
       "      <td>848</td>\n",
       "      <td>184</td>\n",
       "      <td>83</td>\n",
       "      <td>78</td>\n",
       "      <td>76</td>\n",
       "      <td>...</td>\n",
       "      <td>1.0</td>\n",
       "      <td>1.0</td>\n",
       "      <td>90</td>\n",
       "      <td>87</td>\n",
       "      <td>92</td>\n",
       "      <td>344</td>\n",
       "      <td>184</td>\n",
       "      <td>848</td>\n",
       "      <td>184</td>\n",
       "      <td>1.0</td>\n",
       "    </tr>\n",
       "    <tr>\n",
       "      <th>4</th>\n",
       "      <td>169</td>\n",
       "      <td>98</td>\n",
       "      <td>101</td>\n",
       "      <td>90</td>\n",
       "      <td>96</td>\n",
       "      <td>95</td>\n",
       "      <td>185</td>\n",
       "      <td>141</td>\n",
       "      <td>68</td>\n",
       "      <td>85</td>\n",
       "      <td>...</td>\n",
       "      <td>1.0</td>\n",
       "      <td>1.0</td>\n",
       "      <td>169</td>\n",
       "      <td>98</td>\n",
       "      <td>101</td>\n",
       "      <td>90</td>\n",
       "      <td>96</td>\n",
       "      <td>95</td>\n",
       "      <td>185</td>\n",
       "      <td>1.0</td>\n",
       "    </tr>\n",
       "  </tbody>\n",
       "</table>\n",
       "<p>5 rows × 78 columns</p>\n",
       "</div>"
      ],
      "text/plain": [
       "   NCD_0  NCD_1  NCD_2  NCD_3  NCD_4  NCD_5  NCD_6  AI_0  AI_1  AI_2  ...   \\\n",
       "0    889    939    960    805    805   1143   1121   549   613   587  ...    \n",
       "1    542    473    504    626    647    795    832   366   288   318  ...    \n",
       "2     92     99    196    100    184     79    162    66    59   118  ...    \n",
       "3     90     87     92    344    184    848    184    83    78    76  ...    \n",
       "4    169     98    101     90     96     95    185   141    68    85  ...    \n",
       "\n",
       "   ADL_5  ADL_6  NAD_0  NAD_1  NAD_2  NAD_3  NAD_4  NAD_5  NAD_6  BUZZ  \n",
       "0    1.0    1.0    889    939    960    805    805   1143   1121   1.0  \n",
       "1    1.0    1.0    542    473    504    626    647    795    832   1.0  \n",
       "2    1.0    1.0     92     99    196    100    184     79    162   0.0  \n",
       "3    1.0    1.0     90     87     92    344    184    848    184   1.0  \n",
       "4    1.0    1.0    169     98    101     90     96     95    185   1.0  \n",
       "\n",
       "[5 rows x 78 columns]"
      ]
     },
     "execution_count": 3,
     "metadata": {},
     "output_type": "execute_result"
    }
   ],
   "source": [
    "df.head()"
   ]
  },
  {
   "cell_type": "code",
   "execution_count": 4,
   "metadata": {
    "colab": {},
    "colab_type": "code",
    "id": "Vj2Yuj1u9wmi",
    "outputId": "c0328e4d-7dc9-41fc-b915-17b728ced891"
   },
   "outputs": [
    {
     "data": {
      "text/html": [
       "<div>\n",
       "<style scoped>\n",
       "    .dataframe tbody tr th:only-of-type {\n",
       "        vertical-align: middle;\n",
       "    }\n",
       "\n",
       "    .dataframe tbody tr th {\n",
       "        vertical-align: top;\n",
       "    }\n",
       "\n",
       "    .dataframe thead th {\n",
       "        text-align: right;\n",
       "    }\n",
       "</style>\n",
       "<table border=\"1\" class=\"dataframe\">\n",
       "  <thead>\n",
       "    <tr style=\"text-align: right;\">\n",
       "      <th></th>\n",
       "      <th>NCD_0</th>\n",
       "      <th>NCD_1</th>\n",
       "      <th>NCD_2</th>\n",
       "      <th>NCD_3</th>\n",
       "      <th>NCD_4</th>\n",
       "      <th>NCD_5</th>\n",
       "      <th>NCD_6</th>\n",
       "      <th>AI_0</th>\n",
       "      <th>AI_1</th>\n",
       "      <th>AI_2</th>\n",
       "      <th>...</th>\n",
       "      <th>ADL_5</th>\n",
       "      <th>ADL_6</th>\n",
       "      <th>NAD_0</th>\n",
       "      <th>NAD_1</th>\n",
       "      <th>NAD_2</th>\n",
       "      <th>NAD_3</th>\n",
       "      <th>NAD_4</th>\n",
       "      <th>NAD_5</th>\n",
       "      <th>NAD_6</th>\n",
       "      <th>BUZZ</th>\n",
       "    </tr>\n",
       "  </thead>\n",
       "  <tbody>\n",
       "    <tr>\n",
       "      <th>count</th>\n",
       "      <td>140707.000000</td>\n",
       "      <td>140707.000000</td>\n",
       "      <td>140707.000000</td>\n",
       "      <td>140707.000000</td>\n",
       "      <td>140707.000000</td>\n",
       "      <td>140707.000000</td>\n",
       "      <td>140707.000000</td>\n",
       "      <td>140707.000000</td>\n",
       "      <td>140707.000000</td>\n",
       "      <td>140707.000000</td>\n",
       "      <td>...</td>\n",
       "      <td>140707.000000</td>\n",
       "      <td>140707.000000</td>\n",
       "      <td>140707.000000</td>\n",
       "      <td>140707.000000</td>\n",
       "      <td>140707.000000</td>\n",
       "      <td>140707.000000</td>\n",
       "      <td>140707.000000</td>\n",
       "      <td>140707.000000</td>\n",
       "      <td>140707.000000</td>\n",
       "      <td>140707.000000</td>\n",
       "    </tr>\n",
       "    <tr>\n",
       "      <th>mean</th>\n",
       "      <td>172.279823</td>\n",
       "      <td>155.150625</td>\n",
       "      <td>165.464476</td>\n",
       "      <td>176.820549</td>\n",
       "      <td>186.937700</td>\n",
       "      <td>216.209208</td>\n",
       "      <td>243.866510</td>\n",
       "      <td>87.050154</td>\n",
       "      <td>78.639236</td>\n",
       "      <td>84.269574</td>\n",
       "      <td>...</td>\n",
       "      <td>1.113444</td>\n",
       "      <td>1.196131</td>\n",
       "      <td>172.838807</td>\n",
       "      <td>155.630878</td>\n",
       "      <td>165.938674</td>\n",
       "      <td>177.314810</td>\n",
       "      <td>187.463794</td>\n",
       "      <td>216.776294</td>\n",
       "      <td>244.479194</td>\n",
       "      <td>0.197396</td>\n",
       "    </tr>\n",
       "    <tr>\n",
       "      <th>std</th>\n",
       "      <td>509.872276</td>\n",
       "      <td>471.573236</td>\n",
       "      <td>495.360236</td>\n",
       "      <td>528.351277</td>\n",
       "      <td>560.331281</td>\n",
       "      <td>632.188378</td>\n",
       "      <td>707.402192</td>\n",
       "      <td>234.731748</td>\n",
       "      <td>218.448179</td>\n",
       "      <td>233.536510</td>\n",
       "      <td>...</td>\n",
       "      <td>1.374287</td>\n",
       "      <td>1.826150</td>\n",
       "      <td>510.937549</td>\n",
       "      <td>472.462733</td>\n",
       "      <td>496.233557</td>\n",
       "      <td>529.286514</td>\n",
       "      <td>561.309487</td>\n",
       "      <td>633.203935</td>\n",
       "      <td>708.436795</td>\n",
       "      <td>0.398035</td>\n",
       "    </tr>\n",
       "    <tr>\n",
       "      <th>min</th>\n",
       "      <td>0.000000</td>\n",
       "      <td>0.000000</td>\n",
       "      <td>0.000000</td>\n",
       "      <td>0.000000</td>\n",
       "      <td>0.000000</td>\n",
       "      <td>0.000000</td>\n",
       "      <td>0.000000</td>\n",
       "      <td>0.000000</td>\n",
       "      <td>0.000000</td>\n",
       "      <td>0.000000</td>\n",
       "      <td>...</td>\n",
       "      <td>0.000000</td>\n",
       "      <td>0.000000</td>\n",
       "      <td>0.000000</td>\n",
       "      <td>0.000000</td>\n",
       "      <td>0.000000</td>\n",
       "      <td>0.000000</td>\n",
       "      <td>0.000000</td>\n",
       "      <td>0.000000</td>\n",
       "      <td>0.000000</td>\n",
       "      <td>0.000000</td>\n",
       "    </tr>\n",
       "    <tr>\n",
       "      <th>25%</th>\n",
       "      <td>3.000000</td>\n",
       "      <td>2.000000</td>\n",
       "      <td>3.000000</td>\n",
       "      <td>3.000000</td>\n",
       "      <td>3.000000</td>\n",
       "      <td>4.000000</td>\n",
       "      <td>5.000000</td>\n",
       "      <td>2.000000</td>\n",
       "      <td>2.000000</td>\n",
       "      <td>2.000000</td>\n",
       "      <td>...</td>\n",
       "      <td>1.000000</td>\n",
       "      <td>1.000000</td>\n",
       "      <td>3.000000</td>\n",
       "      <td>2.000000</td>\n",
       "      <td>3.000000</td>\n",
       "      <td>3.000000</td>\n",
       "      <td>3.000000</td>\n",
       "      <td>4.000000</td>\n",
       "      <td>6.000000</td>\n",
       "      <td>0.000000</td>\n",
       "    </tr>\n",
       "    <tr>\n",
       "      <th>50%</th>\n",
       "      <td>22.000000</td>\n",
       "      <td>19.000000</td>\n",
       "      <td>20.000000</td>\n",
       "      <td>22.000000</td>\n",
       "      <td>23.000000</td>\n",
       "      <td>28.000000</td>\n",
       "      <td>33.000000</td>\n",
       "      <td>13.000000</td>\n",
       "      <td>11.000000</td>\n",
       "      <td>13.000000</td>\n",
       "      <td>...</td>\n",
       "      <td>1.000000</td>\n",
       "      <td>1.000000</td>\n",
       "      <td>22.000000</td>\n",
       "      <td>19.000000</td>\n",
       "      <td>21.000000</td>\n",
       "      <td>22.000000</td>\n",
       "      <td>23.000000</td>\n",
       "      <td>28.000000</td>\n",
       "      <td>33.000000</td>\n",
       "      <td>0.000000</td>\n",
       "    </tr>\n",
       "    <tr>\n",
       "      <th>75%</th>\n",
       "      <td>125.000000</td>\n",
       "      <td>112.000000</td>\n",
       "      <td>119.000000</td>\n",
       "      <td>126.000000</td>\n",
       "      <td>133.000000</td>\n",
       "      <td>161.000000</td>\n",
       "      <td>186.000000</td>\n",
       "      <td>70.000000</td>\n",
       "      <td>64.000000</td>\n",
       "      <td>67.000000</td>\n",
       "      <td>...</td>\n",
       "      <td>1.100000</td>\n",
       "      <td>1.119048</td>\n",
       "      <td>126.000000</td>\n",
       "      <td>113.000000</td>\n",
       "      <td>119.000000</td>\n",
       "      <td>127.000000</td>\n",
       "      <td>134.000000</td>\n",
       "      <td>162.000000</td>\n",
       "      <td>187.000000</td>\n",
       "      <td>0.000000</td>\n",
       "    </tr>\n",
       "    <tr>\n",
       "      <th>max</th>\n",
       "      <td>24210.000000</td>\n",
       "      <td>22899.000000</td>\n",
       "      <td>20495.000000</td>\n",
       "      <td>27007.000000</td>\n",
       "      <td>30957.000000</td>\n",
       "      <td>28603.000000</td>\n",
       "      <td>37505.000000</td>\n",
       "      <td>15105.000000</td>\n",
       "      <td>15730.000000</td>\n",
       "      <td>16389.000000</td>\n",
       "      <td>...</td>\n",
       "      <td>185.666672</td>\n",
       "      <td>295.000000</td>\n",
       "      <td>24301.000000</td>\n",
       "      <td>22980.000000</td>\n",
       "      <td>20495.000000</td>\n",
       "      <td>27071.000000</td>\n",
       "      <td>31028.000000</td>\n",
       "      <td>28697.000000</td>\n",
       "      <td>37505.000000</td>\n",
       "      <td>1.000000</td>\n",
       "    </tr>\n",
       "  </tbody>\n",
       "</table>\n",
       "<p>8 rows × 78 columns</p>\n",
       "</div>"
      ],
      "text/plain": [
       "               NCD_0          NCD_1          NCD_2          NCD_3  \\\n",
       "count  140707.000000  140707.000000  140707.000000  140707.000000   \n",
       "mean      172.279823     155.150625     165.464476     176.820549   \n",
       "std       509.872276     471.573236     495.360236     528.351277   \n",
       "min         0.000000       0.000000       0.000000       0.000000   \n",
       "25%         3.000000       2.000000       3.000000       3.000000   \n",
       "50%        22.000000      19.000000      20.000000      22.000000   \n",
       "75%       125.000000     112.000000     119.000000     126.000000   \n",
       "max     24210.000000   22899.000000   20495.000000   27007.000000   \n",
       "\n",
       "               NCD_4          NCD_5          NCD_6           AI_0  \\\n",
       "count  140707.000000  140707.000000  140707.000000  140707.000000   \n",
       "mean      186.937700     216.209208     243.866510      87.050154   \n",
       "std       560.331281     632.188378     707.402192     234.731748   \n",
       "min         0.000000       0.000000       0.000000       0.000000   \n",
       "25%         3.000000       4.000000       5.000000       2.000000   \n",
       "50%        23.000000      28.000000      33.000000      13.000000   \n",
       "75%       133.000000     161.000000     186.000000      70.000000   \n",
       "max     30957.000000   28603.000000   37505.000000   15105.000000   \n",
       "\n",
       "                AI_1           AI_2      ...                ADL_5  \\\n",
       "count  140707.000000  140707.000000      ...        140707.000000   \n",
       "mean       78.639236      84.269574      ...             1.113444   \n",
       "std       218.448179     233.536510      ...             1.374287   \n",
       "min         0.000000       0.000000      ...             0.000000   \n",
       "25%         2.000000       2.000000      ...             1.000000   \n",
       "50%        11.000000      13.000000      ...             1.000000   \n",
       "75%        64.000000      67.000000      ...             1.100000   \n",
       "max     15730.000000   16389.000000      ...           185.666672   \n",
       "\n",
       "               ADL_6          NAD_0          NAD_1          NAD_2  \\\n",
       "count  140707.000000  140707.000000  140707.000000  140707.000000   \n",
       "mean        1.196131     172.838807     155.630878     165.938674   \n",
       "std         1.826150     510.937549     472.462733     496.233557   \n",
       "min         0.000000       0.000000       0.000000       0.000000   \n",
       "25%         1.000000       3.000000       2.000000       3.000000   \n",
       "50%         1.000000      22.000000      19.000000      21.000000   \n",
       "75%         1.119048     126.000000     113.000000     119.000000   \n",
       "max       295.000000   24301.000000   22980.000000   20495.000000   \n",
       "\n",
       "               NAD_3          NAD_4          NAD_5          NAD_6  \\\n",
       "count  140707.000000  140707.000000  140707.000000  140707.000000   \n",
       "mean      177.314810     187.463794     216.776294     244.479194   \n",
       "std       529.286514     561.309487     633.203935     708.436795   \n",
       "min         0.000000       0.000000       0.000000       0.000000   \n",
       "25%         3.000000       3.000000       4.000000       6.000000   \n",
       "50%        22.000000      23.000000      28.000000      33.000000   \n",
       "75%       127.000000     134.000000     162.000000     187.000000   \n",
       "max     27071.000000   31028.000000   28697.000000   37505.000000   \n",
       "\n",
       "                BUZZ  \n",
       "count  140707.000000  \n",
       "mean        0.197396  \n",
       "std         0.398035  \n",
       "min         0.000000  \n",
       "25%         0.000000  \n",
       "50%         0.000000  \n",
       "75%         0.000000  \n",
       "max         1.000000  \n",
       "\n",
       "[8 rows x 78 columns]"
      ]
     },
     "execution_count": 4,
     "metadata": {},
     "output_type": "execute_result"
    }
   ],
   "source": [
    "df.describe()"
   ]
  },
  {
   "cell_type": "code",
   "execution_count": 5,
   "metadata": {
    "colab": {},
    "colab_type": "code",
    "id": "nC9NQUxy9wml",
    "outputId": "a5165ed6-4d22-4cb5-f135-e821ac9659e3"
   },
   "outputs": [
    {
     "data": {
      "text/plain": [
       "<matplotlib.axes._subplots.AxesSubplot at 0x127144b1630>"
      ]
     },
     "execution_count": 5,
     "metadata": {},
     "output_type": "execute_result"
    },
    {
     "data": {
      "image/png": "[encoded data removed]",
      "text/plain": [
       "<Figure size 1512x288 with 1 Axes>"
      ]
     },
     "metadata": {
      "needs_background": "light"
     },
     "output_type": "display_data"
    }
   ],
   "source": [
    "#exploring the data to check statistical dispersion\n",
    "df.boxplot(column = cols[0:14], rot = 70, figsize= (21, 4))"
   ]
  },
  {
   "cell_type": "code",
   "execution_count": 6,
   "metadata": {
    "colab": {},
    "colab_type": "code",
    "id": "XcacUPFw9wmq"
   },
   "outputs": [],
   "source": [
    "### For 10% data\n",
    "_, sample_data, _, sample_target = train_test_split(df.iloc[:, 0:-1], df.iloc[:, -1], random_state = 0, test_size = 0.1)\n",
    "#X_train_1, X_test_1, y_train, y_test = train_test_split(sample_data, sample_target, random_state = 0, test_size = 0.2)"
   ]
  },
  {
   "cell_type": "code",
   "execution_count": 7,
   "metadata": {
    "colab": {
     "base_uri": "https://localhost:8080/",
     "height": 35
    },
    "colab_type": "code",
    "id": "-On6pjA69wmt",
    "outputId": "a7921a41-3b01-4434-9c84-a180cd5b2f53"
   },
   "outputs": [
    {
     "data": {
      "text/plain": [
       "(11256, 77)"
      ]
     },
     "execution_count": 7,
     "metadata": {},
     "output_type": "execute_result"
    }
   ],
   "source": [
    "\n",
    "X_train_1, X_test_1, y_train, y_test = train_test_split(sample_data, sample_target, random_state = 0, test_size = 0.2)\n",
    "scaler = MinMaxScaler()\n",
    "X_train_mm = pd.DataFrame(scaler.fit_transform(X_train_1))\n",
    "X_test_mm = pd.DataFrame(scaler.transform(X_test_1))\n",
    "#X_train = X_train_mm\n",
    "#X_test = X_test_mm\n",
    "X_train_mm.shape"
   ]
  },
  {
   "cell_type": "markdown",
   "metadata": {
    "colab_type": "text",
    "id": "Cd2627qv9wmz"
   },
   "source": [
    "### No. of '1's and '0's reveal that that dataset is imbalanced"
   ]
  },
  {
   "cell_type": "code",
   "execution_count": 8,
   "metadata": {
    "colab": {
     "base_uri": "https://localhost:8080/",
     "height": 69
    },
    "colab_type": "code",
    "id": "e1JKF7Od9wm0",
    "outputId": "29b3a89c-cc0b-4280-dca0-b5e9f2636e6b"
   },
   "outputs": [
    {
     "data": {
      "text/plain": [
       "0.0    11253\n",
       "1.0     2818\n",
       "Name: BUZZ, dtype: int64"
      ]
     },
     "execution_count": 8,
     "metadata": {},
     "output_type": "execute_result"
    }
   ],
   "source": [
    "sample_target.value_counts()"
   ]
  },
  {
   "cell_type": "markdown",
   "metadata": {
    "colab_type": "text",
    "id": "D0Udw_HS9wm6"
   },
   "source": [
    "## 1. Bagging & Pasting"
   ]
  },
  {
   "cell_type": "markdown",
   "metadata": {},
   "source": [
    "### Bagging\n",
    "* Bootstrap aggregating, also called bagging, is a machine learning ensemble algorithm. It also reduces variance and helps to avoid overfitting.\n",
    "* It involves having each model in the ensemble vote with equal weight.\n",
    "\n",
    "### Pasting\n",
    "* In case of Pasting, the same process applies, only difference being that pasting doesn’t allow training instances to be sampled several times for the same predictors."
   ]
  },
  {
   "cell_type": "markdown",
   "metadata": {
    "colab_type": "text",
    "id": "EZ4KNTPS9wm7"
   },
   "source": [
    "### Decision Tree - Bagging"
   ]
  },
  {
   "cell_type": "code",
   "execution_count": 9,
   "metadata": {
    "colab": {},
    "colab_type": "code",
    "id": "A9pOWgyz9wm8",
    "outputId": "7c898362-730c-439d-eee4-a17d68a2ce27"
   },
   "outputs": [
    {
     "name": "stdout",
     "output_type": "stream",
     "text": [
      "Decision Tree - Train score: 0.96\n",
      "Decision Tree - Test score: 0.96\n",
      "Decision Tree - Train roc_auc_score: 0.94\n",
      "Decision Tree - Test roc_auc_score: 0.9367106398 \n"
     ]
    }
   ],
   "source": [
    "from sklearn.ensemble import BaggingClassifier\n",
    "from sklearn.tree import DecisionTreeClassifier\n",
    "\n",
    "dt_clf = DecisionTreeClassifier(max_depth=4,random_state=0)\n",
    "bag_clf = BaggingClassifier(dt_clf, n_estimators=500, max_samples=100, bootstrap=True, n_jobs=-1, random_state=0)\n",
    "\n",
    "bag_clf.fit(X_train_mm, y_train)\n",
    "\n",
    "bag_tree_acc_train = bag_clf.score(X_train_mm, y_train)\n",
    "bag_tree_acc_test = bag_clf.score(X_test_mm, y_test)\n",
    "bag_tree_auc_train = roc_auc_score(y_train,bag_clf.predict(X_train_mm))\n",
    "bag_tree_auc_test = roc_auc_score(y_test,bag_clf.predict(X_test_mm))\n",
    "\n",
    "print('Decision Tree - Train score: %.2f'%bag_tree_acc_train)\n",
    "print('Decision Tree - Test score: %.2f'%bag_tree_acc_train)\n",
    "print('Decision Tree - Train roc_auc_score: %.2f'%bag_tree_auc_train)\n",
    "print('Decision Tree - Test roc_auc_score: %.10f '%bag_tree_auc_test)"
   ]
  },
  {
   "cell_type": "markdown",
   "metadata": {
    "colab_type": "text",
    "id": "j88r9lKK9wm_"
   },
   "source": [
    "### Decision Tree - Pasting"
   ]
  },
  {
   "cell_type": "code",
   "execution_count": 10,
   "metadata": {
    "colab": {},
    "colab_type": "code",
    "id": "w6ov20tw9wnC",
    "outputId": "e62cf81a-16a5-47e6-a286-ae9cc81a6718"
   },
   "outputs": [
    {
     "name": "stdout",
     "output_type": "stream",
     "text": [
      "Decision Tree - Train score: 0.96\n",
      "Decision Tree - Test score: 0.96\n",
      "Decision Tree - Train roc_auc_score: 0.94\n",
      "Decision Tree - Test roc_auc_score: 0.9364891068 \n"
     ]
    }
   ],
   "source": [
    "from sklearn.ensemble import BaggingClassifier\n",
    "from sklearn.tree import DecisionTreeClassifier\n",
    "\n",
    "dt_clf = DecisionTreeClassifier(max_depth=4,random_state=0)\n",
    "pas_clf = BaggingClassifier(dt_clf, n_estimators=500, max_samples=100, bootstrap=False, n_jobs=-1, random_state=0)\n",
    "\n",
    "pas_clf.fit(X_train_mm, y_train)\n",
    "\n",
    "pas_tree_acc_train = pas_clf.score(X_train_mm, y_train)\n",
    "pas_tree_acc_test = pas_clf.score(X_test_mm, y_test)\n",
    "pas_tree_auc_train = roc_auc_score(y_train,pas_clf.predict(X_train_mm))\n",
    "pas_tree_auc_test = roc_auc_score(y_test,pas_clf.predict(X_test_mm))\n",
    "\n",
    "print('Decision Tree - Train score: %.2f'%pas_tree_acc_train)\n",
    "print('Decision Tree - Test score: %.2f'%pas_tree_acc_train)\n",
    "print('Decision Tree - Train roc_auc_score: %.2f'%pas_tree_auc_train)\n",
    "print('Decision Tree - Test roc_auc_score: %.10f '%pas_tree_auc_test)"
   ]
  },
  {
   "cell_type": "markdown",
   "metadata": {
    "colab_type": "text",
    "id": "XnzS9EJv9wnK"
   },
   "source": [
    "### KNN Classifier - Bagging"
   ]
  },
  {
   "cell_type": "code",
   "execution_count": 11,
   "metadata": {
    "colab": {},
    "colab_type": "code",
    "id": "ri6Z7MQL9wnM",
    "outputId": "437ee0db-f494-4462-9328-c0a034517f49"
   },
   "outputs": [
    {
     "name": "stdout",
     "output_type": "stream",
     "text": [
      "## KNN Classifier - Bagging\n",
      "Decision Tree - Train score: 0.95\n",
      "Decision Tree - Test score: 0.95\n",
      "Decision Tree - Train roc_auc_score: 0.89\n",
      "Decision Tree - Test roc_auc_score: 0.8885053748 \n"
     ]
    }
   ],
   "source": [
    "from sklearn.neighbors import KNeighborsClassifier\n",
    "kn_clf=KNeighborsClassifier(n_neighbors=10)\n",
    "bag_kn_clf = BaggingClassifier(kn_clf, n_estimators=500, max_samples=100, bootstrap=True, n_jobs=-1, random_state=0)\n",
    "                               \n",
    "bag_kn_clf.fit(X_train_mm, y_train)\n",
    "\n",
    "bag_knn_acc_train = bag_kn_clf.score(X_train_mm, y_train)\n",
    "bag_knn_acc_test = bag_kn_clf.score(X_test_mm, y_test)\n",
    "bag_knn_auc_train = roc_auc_score(y_train,bag_kn_clf.predict(X_train_mm))\n",
    "bag_knn_auc_test = roc_auc_score(y_test,bag_kn_clf.predict(X_test_mm))\n",
    "print('## KNN Classifier - Bagging')\n",
    "print('Decision Tree - Train score: %.2f'%bag_knn_acc_train)\n",
    "print('Decision Tree - Test score: %.2f'%bag_knn_acc_train)\n",
    "print('Decision Tree - Train roc_auc_score: %.2f'%bag_knn_auc_train)\n",
    "print('Decision Tree - Test roc_auc_score: %.10f '%bag_knn_auc_test)"
   ]
  },
  {
   "cell_type": "markdown",
   "metadata": {
    "colab_type": "text",
    "id": "2mhpJMjq9wnO"
   },
   "source": [
    "### KNN Classifier - Pasting"
   ]
  },
  {
   "cell_type": "code",
   "execution_count": 12,
   "metadata": {
    "colab": {},
    "colab_type": "code",
    "id": "50Gqi3JM9wnP",
    "outputId": "857769e8-551b-4eae-a8f3-755589ae7f1b"
   },
   "outputs": [
    {
     "name": "stdout",
     "output_type": "stream",
     "text": [
      "## KNN Classifier - Pasting:\n",
      "Decision Tree - Train score: 0.95\n",
      "Decision Tree - Test score: 0.95\n",
      "Decision Tree - Train roc_auc_score: 0.89\n",
      "Decision Tree - Test roc_auc_score: 0.8885053748 \n"
     ]
    }
   ],
   "source": [
    "from sklearn.neighbors import KNeighborsClassifier\n",
    "kn_clf=KNeighborsClassifier(n_neighbors=10)\n",
    "pas_kn_clf = BaggingClassifier(kn_clf, n_estimators=500, max_samples=100, bootstrap=False, n_jobs=-1, random_state=0)\n",
    "\n",
    "pas_kn_clf.fit(X_train_mm, y_train)\n",
    "\n",
    "pas_knn_acc_train = pas_kn_clf.score(X_train_mm, y_train)\n",
    "pas_knn_acc_test = pas_kn_clf.score(X_test_mm, y_test)\n",
    "pas_knn_auc_train = roc_auc_score(y_train,pas_kn_clf.predict(X_train_mm))\n",
    "pas_knn_auc_test = roc_auc_score(y_test,pas_kn_clf.predict(X_test_mm))\n",
    "\n",
    "print('## KNN Classifier - Pasting:')\n",
    "print('Decision Tree - Train score: %.2f'%pas_knn_acc_train)\n",
    "print('Decision Tree - Test score: %.2f'%pas_knn_acc_train)\n",
    "print('Decision Tree - Train roc_auc_score: %.2f'%pas_knn_auc_train)\n",
    "print('Decision Tree - Test roc_auc_score: %.10f '%pas_knn_auc_test)"
   ]
  },
  {
   "cell_type": "markdown",
   "metadata": {
    "colab_type": "text",
    "id": "7tAHUy1m9wnS"
   },
   "source": [
    "## Adaboosting\n",
    "\n",
    "* It focuses on classification problems and aims to convert a set of weak classifiers into a strong one."
   ]
  },
  {
   "cell_type": "markdown",
   "metadata": {
    "colab_type": "text",
    "id": "g6nSaLsv9wnT"
   },
   "source": [
    "### Decision Tree - Adaboosting"
   ]
  },
  {
   "cell_type": "code",
   "execution_count": 13,
   "metadata": {
    "colab": {},
    "colab_type": "code",
    "id": "m_Aj7A7k9wnU",
    "outputId": "ec6e5dd2-2a7a-40fc-89ed-b4a05a4aae72"
   },
   "outputs": [
    {
     "name": "stdout",
     "output_type": "stream",
     "text": [
      "Decision Tree - Train score: 1.00\n",
      "Decision Tree - Test score: 1.00\n",
      "Decision Tree - Train roc_auc_score: 1.00\n",
      "Decision Tree - Test roc_auc_score: 0.9320286707 \n"
     ]
    }
   ],
   "source": [
    "from sklearn.ensemble import AdaBoostClassifier\n",
    "\n",
    "dt_clf = DecisionTreeClassifier(max_depth=4,random_state=0)\n",
    "ada_dt_clf = AdaBoostClassifier(dt_clf, n_estimators=200, algorithm=\"SAMME.R\", learning_rate=0.5, random_state=0)\n",
    "ada_dt_clf.fit(X_train_mm, y_train)\n",
    "\n",
    "ada_tree_acc_train = ada_dt_clf.score(X_train_mm, y_train)\n",
    "ada_tree_acc_test = ada_dt_clf.score(X_test_mm, y_test)\n",
    "ada_tree_auc_train = roc_auc_score(y_train,ada_dt_clf.predict(X_train_mm))\n",
    "ada_tree_auc_test = roc_auc_score(y_test,ada_dt_clf.predict(X_test_mm))\n",
    "\n",
    "print('Decision Tree - Train score: %.2f'%ada_tree_acc_train)\n",
    "print('Decision Tree - Test score: %.2f'%ada_tree_acc_train)\n",
    "print('Decision Tree - Train roc_auc_score: %.2f'%ada_tree_auc_train)\n",
    "print('Decision Tree - Test roc_auc_score: %.10f '%ada_tree_auc_test)"
   ]
  },
  {
   "cell_type": "markdown",
   "metadata": {
    "colab_type": "text",
    "id": "VoTIA9U29wnX"
   },
   "source": [
    "### Logistic - Adaboosting"
   ]
  },
  {
   "cell_type": "code",
   "execution_count": 15,
   "metadata": {
    "colab": {},
    "colab_type": "code",
    "id": "2QyaaiG99wnY",
    "outputId": "4419d15a-9054-4943-c00d-ee21a9295df5"
   },
   "outputs": [
    {
     "name": "stdout",
     "output_type": "stream",
     "text": [
      "Decision Tree - Train score: 0.80\n",
      "Decision Tree - Test score: 0.80\n",
      "Decision Tree - Train roc_auc_score: 0.50\n",
      "Decision Tree - Test roc_auc_score: 0.5000000000 \n"
     ]
    }
   ],
   "source": [
    "from sklearn.ensemble import AdaBoostClassifier\n",
    "from sklearn.svm import SVC\n",
    "log_reg = LogisticRegression(C=10, penalty='l1', random_state = 0)\n",
    "ada_log_reg = AdaBoostClassifier(log_reg, n_estimators=200, algorithm=\"SAMME\", learning_rate=0.5, random_state=0)\n",
    "ada_log_reg.fit(X_train_mm, y_train)\n",
    "\n",
    "ada_log_acc_train = ada_log_reg.score(X_train_mm, y_train)\n",
    "ada_log_acc_test = ada_log_reg.score(X_test_mm, y_test)\n",
    "ada_log_auc_train = roc_auc_score(y_train,ada_log_reg.predict(X_train_mm))\n",
    "ada_log_auc_test = roc_auc_score(y_test,ada_log_reg.predict(X_test_mm))\n",
    "\n",
    "print('Decision Tree - Train score: %.2f'%ada_log_acc_train)\n",
    "print('Decision Tree - Test score: %.2f'%ada_log_acc_test)\n",
    "print('Decision Tree - Train roc_auc_score: %.2f'%ada_log_auc_train)\n",
    "print('Decision Tree - Test roc_auc_score: %.10f '%ada_log_auc_test)"
   ]
  },
  {
   "cell_type": "markdown",
   "metadata": {
    "colab_type": "text",
    "id": "_0W-S54K9wnb"
   },
   "source": [
    "## Gradient Boosting\n",
    "* The idea is to use the weak learning method several times, each one refocused on the examples that the previous ones found difficult and misclassified."
   ]
  },
  {
   "cell_type": "code",
   "execution_count": 16,
   "metadata": {
    "colab": {},
    "colab_type": "code",
    "id": "MdFwh9gZ9wnd",
    "outputId": "a9640e64-cd2e-4b48-b79b-bea3a89b1ec8"
   },
   "outputs": [
    {
     "name": "stdout",
     "output_type": "stream",
     "text": [
      "Decision Tree - Train score: 0.96\n",
      "Decision Tree - Test score: 0.96\n",
      "Decision Tree - Train roc_auc_score: 0.92\n",
      "Decision Tree - Test roc_auc_score: 0.9171692846 \n"
     ]
    }
   ],
   "source": [
    "from sklearn.ensemble import GradientBoostingClassifier\n",
    "\n",
    "gbc = GradientBoostingClassifier(random_state=0, learning_rate=0.01)\n",
    "gbc.fit(X_train_mm, y_train)\n",
    "\n",
    "gbc_acc_train = gbc.score(X_train_mm, y_train)\n",
    "gbc_acc_test = gbc.score(X_test_mm, y_test)\n",
    "gbc_auc_train = roc_auc_score(y_train,gbc.predict(X_train_mm))\n",
    "gbc_auc_test = roc_auc_score(y_test,gbc.predict(X_test_mm))\n",
    "\n",
    "print('Decision Tree - Train score: %.2f'%gbc_acc_train)\n",
    "print('Decision Tree - Test score: %.2f'%gbc_acc_test)\n",
    "print('Decision Tree - Train roc_auc_score: %.2f'%gbc_auc_train)\n",
    "print('Decision Tree - Test roc_auc_score: %.10f '%gbc_auc_test)"
   ]
  },
  {
   "cell_type": "markdown",
   "metadata": {
    "colab_type": "text",
    "id": "KJjuJA0S9wng"
   },
   "source": [
    "# Voting Classifier"
   ]
  },
  {
   "cell_type": "code",
   "execution_count": 17,
   "metadata": {
    "colab": {},
    "colab_type": "code",
    "id": "QE5wXeJc9wng"
   },
   "outputs": [],
   "source": [
    "from sklearn.neighbors import KNeighborsClassifier\n",
    "from sklearn.ensemble import VotingClassifier\n",
    "from sklearn.linear_model import LogisticRegression\n",
    "from sklearn.svm import SVC"
   ]
  },
  {
   "cell_type": "markdown",
   "metadata": {
    "colab_type": "text",
    "id": "PwtGtbdU9wnj"
   },
   "source": [
    "## Hard Voting - KNN & Logistic\n",
    "* Hard voting is where a model is selected from an ensemble to make the final prediction by a simple majority vote for accuracy."
   ]
  },
  {
   "cell_type": "code",
   "execution_count": 18,
   "metadata": {
    "colab": {},
    "colab_type": "code",
    "id": "pjYaNGkD9wnj",
    "outputId": "54df98c2-a06c-401b-cd47-fcd46ad7e995"
   },
   "outputs": [
    {
     "name": "stdout",
     "output_type": "stream",
     "text": [
      "LogisticRegression 0.9623445825932504\n",
      "KNeighborsClassifier 0.9595026642984015\n",
      "VotingClassifier 0.9587921847246892\n"
     ]
    },
    {
     "name": "stderr",
     "output_type": "stream",
     "text": [
      "C:\\Users\\mahee\\Anaconda3\\lib\\site-packages\\sklearn\\preprocessing\\label.py:151: DeprecationWarning: The truth value of an empty array is ambiguous. Returning False, but in future this will result in an error. Use `array.size > 0` to check that an array is not empty.\n",
      "  if diff:\n"
     ]
    }
   ],
   "source": [
    "log_clf = LogisticRegression(C=10, penalty= 'l1', random_state=0)\n",
    "log_clf.fit(X_train_mm, y_train)\n",
    "knn_clf = KNeighborsClassifier(n_neighbors=10)\n",
    "knn_clf.fit(X_train_mm, y_train)\n",
    "\n",
    "hard_voting_clf = VotingClassifier(estimators=[('lr', log_clf), ('knn', knn_clf)], voting='hard')\n",
    "hard_voting_clf.fit(X_train_mm, y_train)\n",
    "\n",
    "from sklearn.metrics import accuracy_score\n",
    "for clf in (log_clf, knn_clf, hard_voting_clf):\n",
    "    clf.fit(X_train_mm, y_train)\n",
    "    y_pred = clf.predict(X_test_mm)\n",
    "    print(clf.__class__.__name__, accuracy_score(y_test, y_pred))"
   ]
  },
  {
   "cell_type": "markdown",
   "metadata": {},
   "source": [
    "## Hard Voting - SVC (Linear) & Logistic"
   ]
  },
  {
   "cell_type": "code",
   "execution_count": 20,
   "metadata": {},
   "outputs": [
    {
     "name": "stdout",
     "output_type": "stream",
     "text": [
      "LogisticRegression 0.9623445825932504\n",
      "SVC 0.9626998223801065\n",
      "VotingClassifier 0.9626998223801065\n"
     ]
    },
    {
     "name": "stderr",
     "output_type": "stream",
     "text": [
      "C:\\Users\\mahee\\Anaconda3\\lib\\site-packages\\sklearn\\preprocessing\\label.py:151: DeprecationWarning: The truth value of an empty array is ambiguous. Returning False, but in future this will result in an error. Use `array.size > 0` to check that an array is not empty.\n",
      "  if diff:\n"
     ]
    }
   ],
   "source": [
    "\n",
    "svc_clf = SVC(kernel='linear',C= 100)\n",
    "svc_clf.fit(X_train_mm, y_train)\n",
    "log_clf = LogisticRegression(C=10, penalty= 'l1', random_state=0)\n",
    "log_clf.fit(X_train_mm, y_train)\n",
    "\n",
    "\n",
    "\n",
    "hard_voting_clf = VotingClassifier(estimators=[('lr', log_clf), ('knn', svc_clf)], voting='hard')\n",
    "hard_voting_clf.fit(X_train_mm, y_train)\n",
    "\n",
    "from sklearn.metrics import accuracy_score\n",
    "for clf in (log_clf, svc_clf, hard_voting_clf):\n",
    "    clf.fit(X_train_mm, y_train)\n",
    "    y_pred = clf.predict(X_test_mm)\n",
    "    print(clf.__class__.__name__, accuracy_score(y_test, y_pred))"
   ]
  },
  {
   "cell_type": "markdown",
   "metadata": {
    "colab_type": "text",
    "id": "Lyn0ISA69wnm"
   },
   "source": [
    "## Soft Voting - KNN & Logistic\n",
    "* Soft Voting can only be done when all your classifiers can calculate probabilities for the outcomes.\n",
    "* Soft voting arrives at the best result by averaging out the probabilities calculated by individual algorithms."
   ]
  },
  {
   "cell_type": "code",
   "execution_count": 19,
   "metadata": {
    "colab": {},
    "colab_type": "code",
    "id": "eRWaw2SH9wnn",
    "outputId": "03390ae5-f99b-4f37-c7d1-ae8bfab0dbce"
   },
   "outputs": [
    {
     "name": "stdout",
     "output_type": "stream",
     "text": [
      "LogisticRegression 0.9623445825932504\n",
      "KNeighborsClassifier 0.9595026642984015\n",
      "VotingClassifier 0.9609236234458259\n"
     ]
    },
    {
     "name": "stderr",
     "output_type": "stream",
     "text": [
      "C:\\Users\\mahee\\Anaconda3\\lib\\site-packages\\sklearn\\preprocessing\\label.py:151: DeprecationWarning: The truth value of an empty array is ambiguous. Returning False, but in future this will result in an error. Use `array.size > 0` to check that an array is not empty.\n",
      "  if diff:\n"
     ]
    }
   ],
   "source": [
    "log_clf = LogisticRegression(C=10, penalty= 'l1', random_state=0)\n",
    "log_clf.fit(X_train_mm, y_train)\n",
    "knn_clf = KNeighborsClassifier(n_neighbors=10)\n",
    "knn_clf.fit(X_train_mm, y_train)\n",
    "\n",
    "soft_voting_clf = VotingClassifier(estimators=[('lr', log_clf), ('knn', knn_clf)], voting='soft')\n",
    "soft_voting_clf.fit(X_train_mm, y_train)\n",
    "\n",
    "from sklearn.metrics import accuracy_score\n",
    "for clf in (log_clf, knn_clf, soft_voting_clf):\n",
    "    clf.fit(X_train_mm, y_train)\n",
    "    y_pred = clf.predict(X_test_mm)\n",
    "    print(clf.__class__.__name__, accuracy_score(y_test, y_pred))"
   ]
  },
  {
   "cell_type": "markdown",
   "metadata": {},
   "source": [
    "## Soft Voting - SVC (Linear) & Logistic"
   ]
  },
  {
   "cell_type": "code",
   "execution_count": 23,
   "metadata": {},
   "outputs": [
    {
     "name": "stdout",
     "output_type": "stream",
     "text": [
      "LogisticRegression 0.9623445825932504\n",
      "SVC 0.9626998223801065\n",
      "VotingClassifier 0.9623445825932504\n"
     ]
    },
    {
     "name": "stderr",
     "output_type": "stream",
     "text": [
      "C:\\Users\\mahee\\Anaconda3\\lib\\site-packages\\sklearn\\preprocessing\\label.py:151: DeprecationWarning: The truth value of an empty array is ambiguous. Returning False, but in future this will result in an error. Use `array.size > 0` to check that an array is not empty.\n",
      "  if diff:\n"
     ]
    }
   ],
   "source": [
    "\n",
    "svc_clf = SVC(kernel='linear',C= 100,probability=True)\n",
    "svc_clf.fit(X_train_mm, y_train)\n",
    "log_clf = LogisticRegression(C=10, penalty= 'l1', random_state=0)\n",
    "log_clf.fit(X_train_mm, y_train)\n",
    "\n",
    "\n",
    "\n",
    "hard_voting_clf = VotingClassifier(estimators=[('lr', log_clf), ('knn', svc_clf)], voting='soft')\n",
    "hard_voting_clf.fit(X_train_mm, y_train)\n",
    "\n",
    "from sklearn.metrics import accuracy_score\n",
    "for clf in (log_clf, svc_clf, hard_voting_clf):\n",
    "    clf.fit(X_train_mm, y_train)\n",
    "    y_pred = clf.predict(X_test_mm)\n",
    "    print(clf.__class__.__name__, accuracy_score(y_test, y_pred))"
   ]
  },
  {
   "cell_type": "markdown",
   "metadata": {
    "colab_type": "text",
    "id": "7mbXO9ui9wnq"
   },
   "source": [
    "* Apply PCA on data and then apply all the models in project 2 again on data you get from PCA.\n",
    "* Compare your results with results in project 2. You don't need to apply all the models twice. Just copy the result table from project 2, prepare similar table for all the models after PCA and compare both tables. Does PCA help in getting better results?\n",
    "* Apply deep learning models covered in class"
   ]
  },
  {
   "cell_type": "markdown",
   "metadata": {
    "colab_type": "text",
    "id": "AVc1VHjS9wnq"
   },
   "source": [
    "# PCA"
   ]
  },
  {
   "cell_type": "markdown",
   "metadata": {},
   "source": [
    "PCA reduces number of dimensions by grouping possible correlated variables to uncorrelated Principle components.\n",
    "Though this handles the curse of dimensionality, it takes away the ability to interpret the model"
   ]
  },
  {
   "cell_type": "code",
   "execution_count": 9,
   "metadata": {
    "colab": {
     "base_uri": "https://localhost:8080/",
     "height": 35
    },
    "colab_type": "code",
    "id": "6xx-5Hu19wnu",
    "outputId": "66dd2028-33dd-42cf-afd7-cccbe2d57a5f"
   },
   "outputs": [
    {
     "name": "stdout",
     "output_type": "stream",
     "text": [
      "dimensions: 7\n"
     ]
    }
   ],
   "source": [
    "from sklearn.decomposition import PCA\n",
    "\n",
    "X_final=df.iloc[:,:-1]\n",
    "\n",
    "\n",
    "pca = PCA()\n",
    "pca.fit(X_train_mm)\n",
    "\n",
    "cumsum = np.cumsum(pca.explained_variance_ratio_)\n",
    "d = np.argmax(cumsum >= 0.95) + 1\n",
    "print(\"dimensions: \" + str(d))"
   ]
  },
  {
   "cell_type": "code",
   "execution_count": 10,
   "metadata": {
    "colab": {
     "base_uri": "https://localhost:8080/",
     "height": 35
    },
    "colab_type": "code",
    "id": "xkNfsCOv9wny",
    "outputId": "646169fc-eb27-4495-f9b3-d172ec132593"
   },
   "outputs": [
    {
     "name": "stdout",
     "output_type": "stream",
     "text": [
      "Number of components 7\n"
     ]
    }
   ],
   "source": [
    "pca = PCA(n_components=0.95)\n",
    "X_train = pd.DataFrame(pca.fit_transform(X_train_mm))\n",
    "X_test = pd.DataFrame(pca.transform(X_test_mm))\n",
    "\n",
    "print(\"Number of components \" + str(pca.n_components_))\n",
    "#print(\"\\n First Row :\")\n",
    "#print(X_reduced.iloc[1:5,:])\n",
    "#print(X_train_red.info(),X_test_red.info())"
   ]
  },
  {
   "cell_type": "markdown",
   "metadata": {
    "colab_type": "text",
    "id": "Gn1du9t29wn1"
   },
   "source": [
    "## KNN Classifier\n",
    "The k-NN classifcation algorithm is among the simplest machine learning algorithms where an object is classified by a majority vote of its neighbors based on the k closest training examples in the feature space."
   ]
  },
  {
   "cell_type": "code",
   "execution_count": 0,
   "metadata": {
    "colab": {},
    "colab_type": "code",
    "id": "i8xhJOB_9wn2",
    "outputId": "ce380f4c-231d-4615-824b-04405fc5b8ec"
   },
   "outputs": [
    {
     "name": "stdout",
     "output_type": "stream",
     "text": [
      "{'n_neighbors': [1, 2, 3, 4, 5, 6, 7, 8, 9, 10]}\n"
     ]
    }
   ],
   "source": [
    "param_grid = {'n_neighbors': list(range(1,11))}\n",
    "print(param_grid)"
   ]
  },
  {
   "cell_type": "code",
   "execution_count": 0,
   "metadata": {
    "colab": {},
    "colab_type": "code",
    "id": "L1Ap8Aab9wn5",
    "outputId": "86032f3b-c90d-4acf-88fc-4dba3f14c9ab"
   },
   "outputs": [
    {
     "name": "stdout",
     "output_type": "stream",
     "text": [
      "Best Parameters : {'n_neighbors': 10}\n",
      "Best cross validation score : 0.9738544392979319\n",
      "KNN Classifier: Train Accuracy: 0.9595\n",
      "KNN Classifier: Test Accuracy: 0.9524 \n",
      "KNN Classifier: Train roc_auc_score: 0.9311\n",
      "KNN Classifier: Test roc_auc_score: 0.9150 \n"
     ]
    }
   ],
   "source": [
    "from sklearn.neighbors import KNeighborsClassifier\n",
    "from sklearn.metrics import roc_auc_score\n",
    "train_score_array = []\n",
    "test_score_array = []\n",
    "\n",
    "grid_search = GridSearchCV(KNeighborsClassifier(), param_grid, cv=5, scoring='roc_auc', n_jobs = -1)\n",
    "grid_search.fit(X_train, y_train)\n",
    "print(\"Best Parameters : {}\".format(grid_search.best_params_))\n",
    "print(\"Best cross validation score : {}\".format(grid_search.best_score_))\n",
    "\n",
    "knn_best_params=str(grid_search.best_params_)\n",
    "knn_acc_train = grid_search.best_estimator_.score(X_train, y_train)\n",
    "knn_acc_test = grid_search.best_estimator_.score(X_test, y_test)\n",
    "knn_auc_train = roc_auc_score(y_train,grid_search.predict(X_train))\n",
    "knn_auc_test = roc_auc_score(y_test,grid_search.predict(X_test))\n",
    "\n",
    "print('KNN Classifier: Train Accuracy: %.4f'%knn_acc_train)\n",
    "print('KNN Classifier: Test Accuracy: %.4f '%knn_acc_test)\n",
    "\n",
    "print('KNN Classifier: Train roc_auc_score: %.4f'%knn_auc_train)\n",
    "print('KNN Classifier: Test roc_auc_score: %.4f '%knn_auc_test)"
   ]
  },
  {
   "cell_type": "code",
   "execution_count": 0,
   "metadata": {
    "colab": {},
    "colab_type": "code",
    "id": "eUf_VqUI9woA",
    "outputId": "9f2a5027-56e5-4107-c215-02558908ec79"
   },
   "outputs": [
    {
     "data": {
      "text/html": [
       "<div>\n",
       "<style scoped>\n",
       "    .dataframe tbody tr th:only-of-type {\n",
       "        vertical-align: middle;\n",
       "    }\n",
       "\n",
       "    .dataframe tbody tr th {\n",
       "        vertical-align: top;\n",
       "    }\n",
       "\n",
       "    .dataframe thead th {\n",
       "        text-align: right;\n",
       "    }\n",
       "</style>\n",
       "<table border=\"1\" class=\"dataframe\">\n",
       "  <thead>\n",
       "    <tr style=\"text-align: right;\">\n",
       "      <th></th>\n",
       "      <th>n_neighbors</th>\n",
       "    </tr>\n",
       "  </thead>\n",
       "  <tbody>\n",
       "    <tr>\n",
       "      <th>0</th>\n",
       "      <td>1</td>\n",
       "    </tr>\n",
       "    <tr>\n",
       "      <th>1</th>\n",
       "      <td>2</td>\n",
       "    </tr>\n",
       "    <tr>\n",
       "      <th>2</th>\n",
       "      <td>3</td>\n",
       "    </tr>\n",
       "    <tr>\n",
       "      <th>3</th>\n",
       "      <td>4</td>\n",
       "    </tr>\n",
       "    <tr>\n",
       "      <th>4</th>\n",
       "      <td>5</td>\n",
       "    </tr>\n",
       "    <tr>\n",
       "      <th>5</th>\n",
       "      <td>6</td>\n",
       "    </tr>\n",
       "    <tr>\n",
       "      <th>6</th>\n",
       "      <td>7</td>\n",
       "    </tr>\n",
       "    <tr>\n",
       "      <th>7</th>\n",
       "      <td>8</td>\n",
       "    </tr>\n",
       "    <tr>\n",
       "      <th>8</th>\n",
       "      <td>9</td>\n",
       "    </tr>\n",
       "    <tr>\n",
       "      <th>9</th>\n",
       "      <td>10</td>\n",
       "    </tr>\n",
       "  </tbody>\n",
       "</table>\n",
       "</div>"
      ],
      "text/plain": [
       "   n_neighbors\n",
       "0            1\n",
       "1            2\n",
       "2            3\n",
       "3            4\n",
       "4            5\n",
       "5            6\n",
       "6            7\n",
       "7            8\n",
       "8            9\n",
       "9           10"
      ]
     },
     "execution_count": 23,
     "metadata": {
      "tags": []
     },
     "output_type": "execute_result"
    },
    {
     "data": {
      "image/png": "[encoded data removed]",
      "text/plain": [
       "<Figure size 432x288 with 1 Axes>"
      ]
     },
     "metadata": {
      "needs_background": "light",
      "tags": []
     },
     "output_type": "display_data"
    }
   ],
   "source": [
    "plt.plot(np.arange(0, len(grid_search.cv_results_['mean_test_score'])), grid_search.cv_results_['mean_test_score'], '--', label = 'Mean Train Score')\n",
    "plt.plot(np.arange(0, len(grid_search.cv_results_['mean_train_score'])), grid_search.cv_results_['mean_train_score'], '-', label = 'Mean Validation Score')\n",
    "plt.legend()\n",
    "plt.grid(True)\n",
    "plt.xlabel('k neigbors')\n",
    "plt.ylabel('Accuracy')\n",
    "plt.title('KNN CV Results')\n",
    "pd.DataFrame(grid_search.cv_results_['params'])"
   ]
  },
  {
   "cell_type": "markdown",
   "metadata": {
    "colab_type": "text",
    "id": "iEsGdtM89woH"
   },
   "source": [
    "## LOGISTIC REGRESSION\n",
    "Logistic Regression works with binary data, where either there is a BUZZ (1) or not (0).\n",
    "This model is based on the probability of an event occurring."
   ]
  },
  {
   "cell_type": "code",
   "execution_count": 0,
   "metadata": {
    "colab": {},
    "colab_type": "code",
    "id": "FMloBDd49woI",
    "outputId": "f00a14a8-3f61-4296-e855-d03f515e9e3c"
   },
   "outputs": [
    {
     "name": "stdout",
     "output_type": "stream",
     "text": [
      "Best Params : {'C': 1, 'penalty': 'l1'}\n",
      "Best cross validation score : 0.9882922365983859\n"
     ]
    }
   ],
   "source": [
    "from sklearn.linear_model import LogisticRegression\n",
    "from sklearn.metrics import roc_auc_score\n",
    "\n",
    "param_grid = {'penalty' : ['l1','l2'], 'C' : [0.001, 0.01, 0.1, 1, 10, 100]}\n",
    "grid_search = GridSearchCV(LogisticRegression(random_state = 0), param_grid, cv=5, scoring='roc_auc', n_jobs = -1)\n",
    "grid_search.fit(X_train, y_train)\n",
    "print(\"Best Params : {}\".format(grid_search.best_params_))\n",
    "print(\"Best cross validation score : {}\".format(grid_search.best_score_))"
   ]
  },
  {
   "cell_type": "code",
   "execution_count": 0,
   "metadata": {
    "colab": {},
    "colab_type": "code",
    "id": "kulJguP39woM",
    "outputId": "4b5fc452-be92-4416-84da-a9fe468ed177"
   },
   "outputs": [
    {
     "name": "stdout",
     "output_type": "stream",
     "text": [
      "Logistic Regression: Train Accuracy: 0.9529\n",
      "Logistic Regression: Test Accuracy: 0.9535 \n",
      "Logistic Regression: Train roc_auc_score: 0.9131\n",
      "Logistic Regression: Test roc_auc_score: 0.9109 \n"
     ]
    }
   ],
   "source": [
    "log_best_params=str(grid_search.best_params_)\n",
    "log_reg_acc_train = grid_search.best_estimator_.score(X_train, y_train)\n",
    "log_reg_acc_test = grid_search.best_estimator_.score(X_test, y_test)\n",
    "log_reg_auc_train = roc_auc_score(y_train,grid_search.predict(X_train))\n",
    "log_reg_auc_test = roc_auc_score(y_test,grid_search.predict(X_test))\n",
    "\n",
    "print('Logistic Regression: Train Accuracy: %.4f'%log_reg_acc_train)\n",
    "print('Logistic Regression: Test Accuracy: %.4f '%log_reg_acc_test)\n",
    "print('Logistic Regression: Train roc_auc_score: %.4f'%log_reg_auc_train)\n",
    "print('Logistic Regression: Test roc_auc_score: %.4f '%log_reg_auc_test)"
   ]
  },
  {
   "cell_type": "code",
   "execution_count": 0,
   "metadata": {
    "colab": {},
    "colab_type": "code",
    "id": "ys149zSe9woT",
    "outputId": "b530c6fd-30f0-414b-81a2-ba05417c6e98"
   },
   "outputs": [
    {
     "data": {
      "text/html": [
       "<div>\n",
       "<style scoped>\n",
       "    .dataframe tbody tr th:only-of-type {\n",
       "        vertical-align: middle;\n",
       "    }\n",
       "\n",
       "    .dataframe tbody tr th {\n",
       "        vertical-align: top;\n",
       "    }\n",
       "\n",
       "    .dataframe thead th {\n",
       "        text-align: right;\n",
       "    }\n",
       "</style>\n",
       "<table border=\"1\" class=\"dataframe\">\n",
       "  <thead>\n",
       "    <tr style=\"text-align: right;\">\n",
       "      <th></th>\n",
       "      <th>C</th>\n",
       "      <th>penalty</th>\n",
       "    </tr>\n",
       "  </thead>\n",
       "  <tbody>\n",
       "    <tr>\n",
       "      <th>0</th>\n",
       "      <td>0.001</td>\n",
       "      <td>l1</td>\n",
       "    </tr>\n",
       "    <tr>\n",
       "      <th>1</th>\n",
       "      <td>0.001</td>\n",
       "      <td>l2</td>\n",
       "    </tr>\n",
       "    <tr>\n",
       "      <th>2</th>\n",
       "      <td>0.010</td>\n",
       "      <td>l1</td>\n",
       "    </tr>\n",
       "    <tr>\n",
       "      <th>3</th>\n",
       "      <td>0.010</td>\n",
       "      <td>l2</td>\n",
       "    </tr>\n",
       "    <tr>\n",
       "      <th>4</th>\n",
       "      <td>0.100</td>\n",
       "      <td>l1</td>\n",
       "    </tr>\n",
       "    <tr>\n",
       "      <th>5</th>\n",
       "      <td>0.100</td>\n",
       "      <td>l2</td>\n",
       "    </tr>\n",
       "    <tr>\n",
       "      <th>6</th>\n",
       "      <td>1.000</td>\n",
       "      <td>l1</td>\n",
       "    </tr>\n",
       "    <tr>\n",
       "      <th>7</th>\n",
       "      <td>1.000</td>\n",
       "      <td>l2</td>\n",
       "    </tr>\n",
       "    <tr>\n",
       "      <th>8</th>\n",
       "      <td>10.000</td>\n",
       "      <td>l1</td>\n",
       "    </tr>\n",
       "    <tr>\n",
       "      <th>9</th>\n",
       "      <td>10.000</td>\n",
       "      <td>l2</td>\n",
       "    </tr>\n",
       "    <tr>\n",
       "      <th>10</th>\n",
       "      <td>100.000</td>\n",
       "      <td>l1</td>\n",
       "    </tr>\n",
       "    <tr>\n",
       "      <th>11</th>\n",
       "      <td>100.000</td>\n",
       "      <td>l2</td>\n",
       "    </tr>\n",
       "  </tbody>\n",
       "</table>\n",
       "</div>"
      ],
      "text/plain": [
       "          C penalty\n",
       "0     0.001      l1\n",
       "1     0.001      l2\n",
       "2     0.010      l1\n",
       "3     0.010      l2\n",
       "4     0.100      l1\n",
       "5     0.100      l2\n",
       "6     1.000      l1\n",
       "7     1.000      l2\n",
       "8    10.000      l1\n",
       "9    10.000      l2\n",
       "10  100.000      l1\n",
       "11  100.000      l2"
      ]
     },
     "execution_count": 26,
     "metadata": {
      "tags": []
     },
     "output_type": "execute_result"
    },
    {
     "data": {
      "image/png": "[encoded data removed]",
      "text/plain": [
       "<Figure size 432x288 with 1 Axes>"
      ]
     },
     "metadata": {
      "needs_background": "light",
      "tags": []
     },
     "output_type": "display_data"
    }
   ],
   "source": [
    "plt.plot(np.arange(0, len(grid_search.cv_results_['mean_test_score'])), grid_search.cv_results_['mean_test_score'], '--', label = 'Mean Train Score')\n",
    "plt.plot(np.arange(0, len(grid_search.cv_results_['mean_train_score'])), grid_search.cv_results_['mean_train_score'], '-', label = 'Mean Validation Score')\n",
    "plt.legend()\n",
    "plt.grid(True)\n",
    "plt.xlabel('Hyperparameter combinations')\n",
    "plt.ylabel('Accuracy')\n",
    "plt.title('Logistic Regression CV Results')\n",
    "pd.DataFrame(grid_search.cv_results_['params'])"
   ]
  },
  {
   "cell_type": "markdown",
   "metadata": {
    "colab_type": "text",
    "id": "MPu2E_VW9woY"
   },
   "source": [
    "## SVC (LINEAR) KERNAL\n",
    "The objective of a Linear SVC (Support Vector Classifier) is to fit to the data you provide, returning a \"best fit\" hyperplane that divides, or categorizes, your data."
   ]
  },
  {
   "cell_type": "code",
   "execution_count": 0,
   "metadata": {
    "colab": {},
    "colab_type": "code",
    "id": "RTxMmJ1O9woZ",
    "outputId": "79eeac47-bc07-4bd5-d07c-b4895b6d9c99"
   },
   "outputs": [
    {
     "name": "stdout",
     "output_type": "stream",
     "text": [
      "Parameter grid:\n",
      "{'C': [0.001, 0.01, 0.1, 1, 10, 100]}\n",
      "Best parameters: {'C': 0.001}\n",
      "Best cross validation score: 0.99\n"
     ]
    }
   ],
   "source": [
    "param_grid = {'C': [0.001, 0.01, 0.1, 1, 10, 100]}\n",
    "print(\"Parameter grid:\\n{}\".format(param_grid))\n",
    "\n",
    "grid_search = GridSearchCV(SVC(kernel='linear'), param_grid, cv=5, scoring='roc_auc', n_jobs = -1)\n",
    "grid_search.fit(X_train, y_train)\n",
    "print(\"Best parameters: {}\".format(grid_search.best_params_))\n",
    "print(\"Best cross validation score: {:.2f}\".format(grid_search.best_score_))"
   ]
  },
  {
   "cell_type": "code",
   "execution_count": 0,
   "metadata": {
    "colab": {},
    "colab_type": "code",
    "id": "LT07pcpS9woc",
    "outputId": "31ea5601-028f-45e9-c4bb-8af6ec71f65b"
   },
   "outputs": [
    {
     "name": "stdout",
     "output_type": "stream",
     "text": [
      "Linear SVC - Train Accuracy: 0.8074\n",
      "Linear SVC - Test Accuracy: 0.8096 \n",
      "Linear SVC - Train roc_auc_score: 0.5204\n",
      "Linear SVC - Test roc_auc_score: 0.5197 \n"
     ]
    }
   ],
   "source": [
    "svmlin_best_params=str(grid_search.best_params_)\n",
    "svmlin_acc_train = grid_search.best_estimator_.score(X_train, y_train)\n",
    "svmlin_acc_test = grid_search.best_estimator_.score(X_test, y_test)\n",
    "svmlin_auc_train = roc_auc_score(y_train,grid_search.predict(X_train))\n",
    "svmlin_auc_test = roc_auc_score(y_test,grid_search.predict(X_test))\n",
    "\n",
    "print('Linear SVC - Train Accuracy: %.4f'%svmlin_acc_train)\n",
    "print('Linear SVC - Test Accuracy: %.4f '%svmlin_acc_test)\n",
    "\n",
    "print('Linear SVC - Train roc_auc_score: %.4f'%svmlin_auc_train)\n",
    "print('Linear SVC - Test roc_auc_score: %.4f '%svmlin_auc_test)"
   ]
  },
  {
   "cell_type": "code",
   "execution_count": 0,
   "metadata": {
    "colab": {},
    "colab_type": "code",
    "id": "IAsSZ2pT9woi",
    "outputId": "bcdc4000-7b28-4476-f86a-208f9a411e61"
   },
   "outputs": [
    {
     "data": {
      "text/html": [
       "<div>\n",
       "<style scoped>\n",
       "    .dataframe tbody tr th:only-of-type {\n",
       "        vertical-align: middle;\n",
       "    }\n",
       "\n",
       "    .dataframe tbody tr th {\n",
       "        vertical-align: top;\n",
       "    }\n",
       "\n",
       "    .dataframe thead th {\n",
       "        text-align: right;\n",
       "    }\n",
       "</style>\n",
       "<table border=\"1\" class=\"dataframe\">\n",
       "  <thead>\n",
       "    <tr style=\"text-align: right;\">\n",
       "      <th></th>\n",
       "      <th>C</th>\n",
       "    </tr>\n",
       "  </thead>\n",
       "  <tbody>\n",
       "    <tr>\n",
       "      <th>0</th>\n",
       "      <td>0.001</td>\n",
       "    </tr>\n",
       "    <tr>\n",
       "      <th>1</th>\n",
       "      <td>0.010</td>\n",
       "    </tr>\n",
       "    <tr>\n",
       "      <th>2</th>\n",
       "      <td>0.100</td>\n",
       "    </tr>\n",
       "    <tr>\n",
       "      <th>3</th>\n",
       "      <td>1.000</td>\n",
       "    </tr>\n",
       "    <tr>\n",
       "      <th>4</th>\n",
       "      <td>10.000</td>\n",
       "    </tr>\n",
       "    <tr>\n",
       "      <th>5</th>\n",
       "      <td>100.000</td>\n",
       "    </tr>\n",
       "  </tbody>\n",
       "</table>\n",
       "</div>"
      ],
      "text/plain": [
       "         C\n",
       "0    0.001\n",
       "1    0.010\n",
       "2    0.100\n",
       "3    1.000\n",
       "4   10.000\n",
       "5  100.000"
      ]
     },
     "execution_count": 46,
     "metadata": {
      "tags": []
     },
     "output_type": "execute_result"
    },
    {
     "data": {
      "image/png": "[encoded data removed]",
      "text/plain": [
       "<Figure size 432x288 with 1 Axes>"
      ]
     },
     "metadata": {
      "needs_background": "light",
      "tags": []
     },
     "output_type": "display_data"
    }
   ],
   "source": [
    "plt.plot(np.arange(0, len(grid_search.cv_results_['mean_test_score'])), grid_search.cv_results_['mean_test_score'], '--', label = 'Mean Train Score')\n",
    "plt.plot(np.arange(0, len(grid_search.cv_results_['mean_train_score'])), grid_search.cv_results_['mean_train_score'], '-', label = 'Mean Validation Score')\n",
    "plt.legend()\n",
    "plt.grid(True)\n",
    "plt.xlabel('Hyperparameter combinations')\n",
    "plt.ylabel('Accuracy')\n",
    "plt.title(\"SVC (Linear) CV Results\")\n",
    "pd.DataFrame(grid_search.cv_results_['params'])"
   ]
  },
  {
   "cell_type": "markdown",
   "metadata": {
    "colab_type": "text",
    "id": "sFinQbvz9wom"
   },
   "source": [
    "## SVC (RADIAL BASIS FUNCTION) KERNAL"
   ]
  },
  {
   "cell_type": "code",
   "execution_count": 0,
   "metadata": {
    "colab": {},
    "colab_type": "code",
    "id": "DOH9dbqc9woo",
    "outputId": "52e7b1c4-c206-4d05-873a-d05c1f4e52b1"
   },
   "outputs": [
    {
     "name": "stdout",
     "output_type": "stream",
     "text": [
      "Parameter grid:\n",
      "{'C': [0.001, 0.01, 0.1, 1, 10, 100], 'gamma': [0.001, 0.01, 0.1, 1, 10, 100]}\n",
      "Best parameters: {'C': 0.001, 'gamma': 0.001}\n",
      "Best cross-validation score: 0.99\n"
     ]
    }
   ],
   "source": [
    "param_grid = {'C': [0.001, 0.01, 0.1, 1, 10, 100], 'gamma': [0.001, 0.01, 0.1, 1, 10, 100]}\n",
    "print(\"Parameter grid:\\n{}\".format(param_grid))\n",
    "\n",
    "grid_search = GridSearchCV(SVC(kernel='rbf'), param_grid, cv=5, scoring='roc_auc', n_jobs = -1)\n",
    "grid_search.fit(X_train, y_train)\n",
    "print(\"Best parameters: {}\".format(grid_search.best_params_))\n",
    "print(\"Best cross-validation score: {:.2f}\".format(grid_search.best_score_))"
   ]
  },
  {
   "cell_type": "code",
   "execution_count": 0,
   "metadata": {
    "colab": {},
    "colab_type": "code",
    "id": "dQdu1OPz9wos",
    "outputId": "08212f43-adf8-4695-cd1d-339fe910db72"
   },
   "outputs": [
    {
     "name": "stdout",
     "output_type": "stream",
     "text": [
      "Linear SVC - Train Accuracy: 0.7992\n",
      "Linear SVC - Test Accuracy: 0.8018 \n",
      "Linear SVC - Train roc_auc_score: 0.5000\n",
      "Linear SVC - Test roc_auc_score: 0.5000 \n"
     ]
    }
   ],
   "source": [
    "svmrbf_best_params=str(grid_search.best_params_)\n",
    "svmrbf_acc_train = grid_search.best_estimator_.score(X_train, y_train)\n",
    "svmrbf_acc_test = grid_search.best_estimator_.score(X_test, y_test)\n",
    "svmrbf_auc_train = roc_auc_score(y_train,grid_search.predict(X_train))\n",
    "svmrbf_auc_test = roc_auc_score(y_test,grid_search.predict(X_test))\n",
    "\n",
    "print('Linear SVC - Train Accuracy: %.4f'%svmrbf_acc_train)\n",
    "print('Linear SVC - Test Accuracy: %.4f '%svmrbf_acc_test)\n",
    "\n",
    "print('Linear SVC - Train roc_auc_score: %.4f'%svmrbf_auc_train)\n",
    "print('Linear SVC - Test roc_auc_score: %.4f '%svmrbf_auc_test)"
   ]
  },
  {
   "cell_type": "code",
   "execution_count": 0,
   "metadata": {
    "colab": {},
    "colab_type": "code",
    "id": "PDQhUGrk9woz",
    "outputId": "6f93fa06-80ae-49f9-f9a6-450f45f6788e"
   },
   "outputs": [
    {
     "data": {
      "text/html": [
       "<div>\n",
       "<style scoped>\n",
       "    .dataframe tbody tr th:only-of-type {\n",
       "        vertical-align: middle;\n",
       "    }\n",
       "\n",
       "    .dataframe tbody tr th {\n",
       "        vertical-align: top;\n",
       "    }\n",
       "\n",
       "    .dataframe thead th {\n",
       "        text-align: right;\n",
       "    }\n",
       "</style>\n",
       "<table border=\"1\" class=\"dataframe\">\n",
       "  <thead>\n",
       "    <tr style=\"text-align: right;\">\n",
       "      <th></th>\n",
       "      <th>C</th>\n",
       "      <th>gamma</th>\n",
       "    </tr>\n",
       "  </thead>\n",
       "  <tbody>\n",
       "    <tr>\n",
       "      <th>0</th>\n",
       "      <td>0.001</td>\n",
       "      <td>0.001</td>\n",
       "    </tr>\n",
       "    <tr>\n",
       "      <th>1</th>\n",
       "      <td>0.001</td>\n",
       "      <td>0.010</td>\n",
       "    </tr>\n",
       "    <tr>\n",
       "      <th>2</th>\n",
       "      <td>0.001</td>\n",
       "      <td>0.100</td>\n",
       "    </tr>\n",
       "    <tr>\n",
       "      <th>3</th>\n",
       "      <td>0.001</td>\n",
       "      <td>1.000</td>\n",
       "    </tr>\n",
       "    <tr>\n",
       "      <th>4</th>\n",
       "      <td>0.001</td>\n",
       "      <td>10.000</td>\n",
       "    </tr>\n",
       "    <tr>\n",
       "      <th>5</th>\n",
       "      <td>0.001</td>\n",
       "      <td>100.000</td>\n",
       "    </tr>\n",
       "    <tr>\n",
       "      <th>6</th>\n",
       "      <td>0.010</td>\n",
       "      <td>0.001</td>\n",
       "    </tr>\n",
       "    <tr>\n",
       "      <th>7</th>\n",
       "      <td>0.010</td>\n",
       "      <td>0.010</td>\n",
       "    </tr>\n",
       "    <tr>\n",
       "      <th>8</th>\n",
       "      <td>0.010</td>\n",
       "      <td>0.100</td>\n",
       "    </tr>\n",
       "    <tr>\n",
       "      <th>9</th>\n",
       "      <td>0.010</td>\n",
       "      <td>1.000</td>\n",
       "    </tr>\n",
       "    <tr>\n",
       "      <th>10</th>\n",
       "      <td>0.010</td>\n",
       "      <td>10.000</td>\n",
       "    </tr>\n",
       "    <tr>\n",
       "      <th>11</th>\n",
       "      <td>0.010</td>\n",
       "      <td>100.000</td>\n",
       "    </tr>\n",
       "    <tr>\n",
       "      <th>12</th>\n",
       "      <td>0.100</td>\n",
       "      <td>0.001</td>\n",
       "    </tr>\n",
       "    <tr>\n",
       "      <th>13</th>\n",
       "      <td>0.100</td>\n",
       "      <td>0.010</td>\n",
       "    </tr>\n",
       "    <tr>\n",
       "      <th>14</th>\n",
       "      <td>0.100</td>\n",
       "      <td>0.100</td>\n",
       "    </tr>\n",
       "    <tr>\n",
       "      <th>15</th>\n",
       "      <td>0.100</td>\n",
       "      <td>1.000</td>\n",
       "    </tr>\n",
       "    <tr>\n",
       "      <th>16</th>\n",
       "      <td>0.100</td>\n",
       "      <td>10.000</td>\n",
       "    </tr>\n",
       "    <tr>\n",
       "      <th>17</th>\n",
       "      <td>0.100</td>\n",
       "      <td>100.000</td>\n",
       "    </tr>\n",
       "    <tr>\n",
       "      <th>18</th>\n",
       "      <td>1.000</td>\n",
       "      <td>0.001</td>\n",
       "    </tr>\n",
       "    <tr>\n",
       "      <th>19</th>\n",
       "      <td>1.000</td>\n",
       "      <td>0.010</td>\n",
       "    </tr>\n",
       "    <tr>\n",
       "      <th>20</th>\n",
       "      <td>1.000</td>\n",
       "      <td>0.100</td>\n",
       "    </tr>\n",
       "    <tr>\n",
       "      <th>21</th>\n",
       "      <td>1.000</td>\n",
       "      <td>1.000</td>\n",
       "    </tr>\n",
       "    <tr>\n",
       "      <th>22</th>\n",
       "      <td>1.000</td>\n",
       "      <td>10.000</td>\n",
       "    </tr>\n",
       "    <tr>\n",
       "      <th>23</th>\n",
       "      <td>1.000</td>\n",
       "      <td>100.000</td>\n",
       "    </tr>\n",
       "    <tr>\n",
       "      <th>24</th>\n",
       "      <td>10.000</td>\n",
       "      <td>0.001</td>\n",
       "    </tr>\n",
       "    <tr>\n",
       "      <th>25</th>\n",
       "      <td>10.000</td>\n",
       "      <td>0.010</td>\n",
       "    </tr>\n",
       "    <tr>\n",
       "      <th>26</th>\n",
       "      <td>10.000</td>\n",
       "      <td>0.100</td>\n",
       "    </tr>\n",
       "    <tr>\n",
       "      <th>27</th>\n",
       "      <td>10.000</td>\n",
       "      <td>1.000</td>\n",
       "    </tr>\n",
       "    <tr>\n",
       "      <th>28</th>\n",
       "      <td>10.000</td>\n",
       "      <td>10.000</td>\n",
       "    </tr>\n",
       "    <tr>\n",
       "      <th>29</th>\n",
       "      <td>10.000</td>\n",
       "      <td>100.000</td>\n",
       "    </tr>\n",
       "    <tr>\n",
       "      <th>30</th>\n",
       "      <td>100.000</td>\n",
       "      <td>0.001</td>\n",
       "    </tr>\n",
       "    <tr>\n",
       "      <th>31</th>\n",
       "      <td>100.000</td>\n",
       "      <td>0.010</td>\n",
       "    </tr>\n",
       "    <tr>\n",
       "      <th>32</th>\n",
       "      <td>100.000</td>\n",
       "      <td>0.100</td>\n",
       "    </tr>\n",
       "    <tr>\n",
       "      <th>33</th>\n",
       "      <td>100.000</td>\n",
       "      <td>1.000</td>\n",
       "    </tr>\n",
       "    <tr>\n",
       "      <th>34</th>\n",
       "      <td>100.000</td>\n",
       "      <td>10.000</td>\n",
       "    </tr>\n",
       "    <tr>\n",
       "      <th>35</th>\n",
       "      <td>100.000</td>\n",
       "      <td>100.000</td>\n",
       "    </tr>\n",
       "  </tbody>\n",
       "</table>\n",
       "</div>"
      ],
      "text/plain": [
       "          C    gamma\n",
       "0     0.001    0.001\n",
       "1     0.001    0.010\n",
       "2     0.001    0.100\n",
       "3     0.001    1.000\n",
       "4     0.001   10.000\n",
       "5     0.001  100.000\n",
       "6     0.010    0.001\n",
       "7     0.010    0.010\n",
       "8     0.010    0.100\n",
       "9     0.010    1.000\n",
       "10    0.010   10.000\n",
       "11    0.010  100.000\n",
       "12    0.100    0.001\n",
       "13    0.100    0.010\n",
       "14    0.100    0.100\n",
       "15    0.100    1.000\n",
       "16    0.100   10.000\n",
       "17    0.100  100.000\n",
       "18    1.000    0.001\n",
       "19    1.000    0.010\n",
       "20    1.000    0.100\n",
       "21    1.000    1.000\n",
       "22    1.000   10.000\n",
       "23    1.000  100.000\n",
       "24   10.000    0.001\n",
       "25   10.000    0.010\n",
       "26   10.000    0.100\n",
       "27   10.000    1.000\n",
       "28   10.000   10.000\n",
       "29   10.000  100.000\n",
       "30  100.000    0.001\n",
       "31  100.000    0.010\n",
       "32  100.000    0.100\n",
       "33  100.000    1.000\n",
       "34  100.000   10.000\n",
       "35  100.000  100.000"
      ]
     },
     "execution_count": 32,
     "metadata": {
      "tags": []
     },
     "output_type": "execute_result"
    },
    {
     "data": {
      "image/png": "[encoded data removed]",
      "text/plain": [
       "<Figure size 432x288 with 1 Axes>"
      ]
     },
     "metadata": {
      "needs_background": "light",
      "tags": []
     },
     "output_type": "display_data"
    }
   ],
   "source": [
    "plt.plot(np.arange(0, len(grid_search.cv_results_['mean_test_score'])), grid_search.cv_results_['mean_test_score'], '--', label = 'Mean Train Score')\n",
    "plt.plot(np.arange(0, len(grid_search.cv_results_['mean_train_score'])), grid_search.cv_results_['mean_train_score'], '-', label = 'Mean Validation Score')\n",
    "plt.legend()\n",
    "plt.grid(True)\n",
    "plt.xlabel('Hyperparameter combinations')\n",
    "plt.ylabel('Accuracy')\n",
    "plt.title('SVC kernel RBF CV Results')\n",
    "pd.DataFrame(grid_search.cv_results_['params'])"
   ]
  },
  {
   "cell_type": "markdown",
   "metadata": {
    "colab_type": "text",
    "id": "PkmYQ62a9wo2"
   },
   "source": [
    "## SVC (POLYNOMIAL) KERNAL"
   ]
  },
  {
   "cell_type": "code",
   "execution_count": 0,
   "metadata": {
    "colab": {},
    "colab_type": "code",
    "id": "jHl5IfVd9wo7",
    "outputId": "2dbad97d-57f7-49c4-d960-45f6ca0d02b5"
   },
   "outputs": [
    {
     "name": "stdout",
     "output_type": "stream",
     "text": [
      "Parameter grid:\n",
      "{'C': [0.001, 0.01, 0.1, 1, 10, 100], 'degree': [1, 2, 3, 4]}\n",
      "Best parameters: {'C': 0.01, 'degree': 1}\n",
      "Best cross-validation score: 0.99\n"
     ]
    }
   ],
   "source": [
    "#POLYNOMIAL KERNAL\n",
    "param_grid = {'C': [0.001, 0.01, 0.1, 1, 10, 100], 'degree': [1,2,3,4]}\n",
    "print(\"Parameter grid:\\n{}\".format(param_grid))\n",
    "\n",
    "grid_search = GridSearchCV(SVC(kernel='poly'), param_grid, cv=5, scoring='roc_auc', n_jobs = -1)\n",
    "grid_search.fit(X_train, y_train)\n",
    "print(\"Best parameters: {}\".format(grid_search.best_params_))\n",
    "print(\"Best cross-validation score: {:.2f}\".format(grid_search.best_score_))"
   ]
  },
  {
   "cell_type": "code",
   "execution_count": 0,
   "metadata": {
    "colab": {},
    "colab_type": "code",
    "id": "vxHosydi9wo-",
    "outputId": "b57c527b-e71c-41f2-969d-cc9f059eff8a"
   },
   "outputs": [
    {
     "name": "stdout",
     "output_type": "stream",
     "text": [
      "Polynomial SVC - Train Accuracy: 0.8109\n",
      "Polynomial SVC - Test Accuracy: 0.8121 \n",
      "Polynomial SVC - Train roc_auc_score: 0.5290\n",
      "Polynomial SVC - Test roc_auc_score: 0.5260 \n"
     ]
    }
   ],
   "source": [
    "svmpoly_best_params=str(grid_search.best_params_)\n",
    "svmpoly_acc_train = grid_search.best_estimator_.score(X_train, y_train)\n",
    "svmpoly_acc_test = grid_search.best_estimator_.score(X_test, y_test)\n",
    "svmpoly_auc_train = roc_auc_score(y_train,grid_search.predict(X_train))\n",
    "svmpoly_auc_test = roc_auc_score(y_test,grid_search.predict(X_test))\n",
    "\n",
    "print('Polynomial SVC - Train Accuracy: %.4f'%svmpoly_acc_train)\n",
    "print('Polynomial SVC - Test Accuracy: %.4f '%svmpoly_acc_test)\n",
    "\n",
    "print('Polynomial SVC - Train roc_auc_score: %.4f'%svmpoly_auc_train)\n",
    "print('Polynomial SVC - Test roc_auc_score: %.4f '%svmpoly_auc_test)"
   ]
  },
  {
   "cell_type": "code",
   "execution_count": 0,
   "metadata": {
    "colab": {},
    "colab_type": "code",
    "id": "C0lwR8qk9wpA",
    "outputId": "119b9975-64da-4f97-d490-12a7ec9d5cc3"
   },
   "outputs": [
    {
     "data": {
      "text/html": [
       "<div>\n",
       "<style scoped>\n",
       "    .dataframe tbody tr th:only-of-type {\n",
       "        vertical-align: middle;\n",
       "    }\n",
       "\n",
       "    .dataframe tbody tr th {\n",
       "        vertical-align: top;\n",
       "    }\n",
       "\n",
       "    .dataframe thead th {\n",
       "        text-align: right;\n",
       "    }\n",
       "</style>\n",
       "<table border=\"1\" class=\"dataframe\">\n",
       "  <thead>\n",
       "    <tr style=\"text-align: right;\">\n",
       "      <th></th>\n",
       "      <th>C</th>\n",
       "      <th>degree</th>\n",
       "    </tr>\n",
       "  </thead>\n",
       "  <tbody>\n",
       "    <tr>\n",
       "      <th>0</th>\n",
       "      <td>0.001</td>\n",
       "      <td>1</td>\n",
       "    </tr>\n",
       "    <tr>\n",
       "      <th>1</th>\n",
       "      <td>0.001</td>\n",
       "      <td>2</td>\n",
       "    </tr>\n",
       "    <tr>\n",
       "      <th>2</th>\n",
       "      <td>0.001</td>\n",
       "      <td>3</td>\n",
       "    </tr>\n",
       "    <tr>\n",
       "      <th>3</th>\n",
       "      <td>0.001</td>\n",
       "      <td>4</td>\n",
       "    </tr>\n",
       "    <tr>\n",
       "      <th>4</th>\n",
       "      <td>0.010</td>\n",
       "      <td>1</td>\n",
       "    </tr>\n",
       "    <tr>\n",
       "      <th>5</th>\n",
       "      <td>0.010</td>\n",
       "      <td>2</td>\n",
       "    </tr>\n",
       "    <tr>\n",
       "      <th>6</th>\n",
       "      <td>0.010</td>\n",
       "      <td>3</td>\n",
       "    </tr>\n",
       "    <tr>\n",
       "      <th>7</th>\n",
       "      <td>0.010</td>\n",
       "      <td>4</td>\n",
       "    </tr>\n",
       "    <tr>\n",
       "      <th>8</th>\n",
       "      <td>0.100</td>\n",
       "      <td>1</td>\n",
       "    </tr>\n",
       "    <tr>\n",
       "      <th>9</th>\n",
       "      <td>0.100</td>\n",
       "      <td>2</td>\n",
       "    </tr>\n",
       "    <tr>\n",
       "      <th>10</th>\n",
       "      <td>0.100</td>\n",
       "      <td>3</td>\n",
       "    </tr>\n",
       "    <tr>\n",
       "      <th>11</th>\n",
       "      <td>0.100</td>\n",
       "      <td>4</td>\n",
       "    </tr>\n",
       "    <tr>\n",
       "      <th>12</th>\n",
       "      <td>1.000</td>\n",
       "      <td>1</td>\n",
       "    </tr>\n",
       "    <tr>\n",
       "      <th>13</th>\n",
       "      <td>1.000</td>\n",
       "      <td>2</td>\n",
       "    </tr>\n",
       "    <tr>\n",
       "      <th>14</th>\n",
       "      <td>1.000</td>\n",
       "      <td>3</td>\n",
       "    </tr>\n",
       "    <tr>\n",
       "      <th>15</th>\n",
       "      <td>1.000</td>\n",
       "      <td>4</td>\n",
       "    </tr>\n",
       "    <tr>\n",
       "      <th>16</th>\n",
       "      <td>10.000</td>\n",
       "      <td>1</td>\n",
       "    </tr>\n",
       "    <tr>\n",
       "      <th>17</th>\n",
       "      <td>10.000</td>\n",
       "      <td>2</td>\n",
       "    </tr>\n",
       "    <tr>\n",
       "      <th>18</th>\n",
       "      <td>10.000</td>\n",
       "      <td>3</td>\n",
       "    </tr>\n",
       "    <tr>\n",
       "      <th>19</th>\n",
       "      <td>10.000</td>\n",
       "      <td>4</td>\n",
       "    </tr>\n",
       "    <tr>\n",
       "      <th>20</th>\n",
       "      <td>100.000</td>\n",
       "      <td>1</td>\n",
       "    </tr>\n",
       "    <tr>\n",
       "      <th>21</th>\n",
       "      <td>100.000</td>\n",
       "      <td>2</td>\n",
       "    </tr>\n",
       "    <tr>\n",
       "      <th>22</th>\n",
       "      <td>100.000</td>\n",
       "      <td>3</td>\n",
       "    </tr>\n",
       "    <tr>\n",
       "      <th>23</th>\n",
       "      <td>100.000</td>\n",
       "      <td>4</td>\n",
       "    </tr>\n",
       "  </tbody>\n",
       "</table>\n",
       "</div>"
      ],
      "text/plain": [
       "          C  degree\n",
       "0     0.001       1\n",
       "1     0.001       2\n",
       "2     0.001       3\n",
       "3     0.001       4\n",
       "4     0.010       1\n",
       "5     0.010       2\n",
       "6     0.010       3\n",
       "7     0.010       4\n",
       "8     0.100       1\n",
       "9     0.100       2\n",
       "10    0.100       3\n",
       "11    0.100       4\n",
       "12    1.000       1\n",
       "13    1.000       2\n",
       "14    1.000       3\n",
       "15    1.000       4\n",
       "16   10.000       1\n",
       "17   10.000       2\n",
       "18   10.000       3\n",
       "19   10.000       4\n",
       "20  100.000       1\n",
       "21  100.000       2\n",
       "22  100.000       3\n",
       "23  100.000       4"
      ]
     },
     "execution_count": 35,
     "metadata": {
      "tags": []
     },
     "output_type": "execute_result"
    },
    {
     "data": {
      "image/png": "[encoded data removed]",
      "text/plain": [
       "<Figure size 432x288 with 1 Axes>"
      ]
     },
     "metadata": {
      "needs_background": "light",
      "tags": []
     },
     "output_type": "display_data"
    }
   ],
   "source": [
    "plt.plot(np.arange(0, len(grid_search.cv_results_['mean_test_score'])), grid_search.cv_results_['mean_test_score'], '--', label = 'Mean Train Score')\n",
    "plt.plot(np.arange(0, len(grid_search.cv_results_['mean_train_score'])), grid_search.cv_results_['mean_train_score'], '-', label = 'Mean Validation Score')\n",
    "plt.legend()\n",
    "plt.grid(True)\n",
    "plt.xlabel('Hyperparameter combinations')\n",
    "plt.ylabel('Accuracy')\n",
    "plt.title('SVC poly RBF CV Results')\n",
    "pd.DataFrame(grid_search.cv_results_['params'])"
   ]
  },
  {
   "cell_type": "markdown",
   "metadata": {
    "colab_type": "text",
    "id": "t0BkmCfJ9wpD"
   },
   "source": [
    "## DECISION TREE CLASSIFIER"
   ]
  },
  {
   "cell_type": "code",
   "execution_count": 0,
   "metadata": {
    "colab": {},
    "colab_type": "code",
    "id": "FOUOR3XW9wpE",
    "outputId": "d4465870-3b3d-4bd0-b8e2-70eeb7d38552"
   },
   "outputs": [
    {
     "name": "stdout",
     "output_type": "stream",
     "text": [
      "Best Parameters : {'max_depth': 5}\n",
      "Best cross_val score : 0.9794832197066952\n"
     ]
    }
   ],
   "source": [
    "from sklearn.tree import DecisionTreeClassifier\n",
    "\n",
    "param_grid = {'max_depth':[1,2,3,4,5,6,7,8,9,10]}\n",
    "grid_search= GridSearchCV( DecisionTreeClassifier(random_state = 0),param_grid, cv=5, scoring='roc_auc', n_jobs = -1)\n",
    "grid_search.fit(X_train, y_train)\n",
    "print(\"Best Parameters : {}\".format(grid_search.best_params_))\n",
    "print(\"Best cross_val score : {}\".format(grid_search.best_score_))"
   ]
  },
  {
   "cell_type": "code",
   "execution_count": 0,
   "metadata": {
    "colab": {},
    "colab_type": "code",
    "id": "DXr6KApy9wpH",
    "outputId": "695b1226-972a-4c66-9165-87499cc5688e"
   },
   "outputs": [
    {
     "name": "stdout",
     "output_type": "stream",
     "text": [
      "Decision Tree - Train Accuracy: 0.9575\n",
      "Decision Tree - Test Accuracy: 0.9528 \n",
      "Decision Tree - Train roc_auc_score: 0.9295\n",
      "Decision Tree - Test roc_auc_score: 0.9172 \n"
     ]
    }
   ],
   "source": [
    "tree_best_params=str(grid_search.best_params_)\n",
    "tree_acc_train = grid_search.best_estimator_.score(X_train, y_train)\n",
    "tree_acc_test = grid_search.best_estimator_.score(X_test, y_test)\n",
    "tree_auc_train = roc_auc_score(y_train,grid_search.predict(X_train))\n",
    "tree_auc_test = roc_auc_score(y_test,grid_search.predict(X_test))\n",
    "\n",
    "print('Decision Tree - Train Accuracy: %.4f'%tree_acc_train)\n",
    "print('Decision Tree - Test Accuracy: %.4f '%tree_acc_test)\n",
    "\n",
    "print('Decision Tree - Train roc_auc_score: %.4f'%tree_auc_train)\n",
    "print('Decision Tree - Test roc_auc_score: %.4f '%tree_auc_test)"
   ]
  },
  {
   "cell_type": "code",
   "execution_count": 0,
   "metadata": {
    "colab": {},
    "colab_type": "code",
    "id": "0bNeqkQv9wpJ",
    "outputId": "38b719b8-0d02-4564-b02c-fa3b6e232eec"
   },
   "outputs": [
    {
     "data": {
      "text/html": [
       "<div>\n",
       "<style scoped>\n",
       "    .dataframe tbody tr th:only-of-type {\n",
       "        vertical-align: middle;\n",
       "    }\n",
       "\n",
       "    .dataframe tbody tr th {\n",
       "        vertical-align: top;\n",
       "    }\n",
       "\n",
       "    .dataframe thead th {\n",
       "        text-align: right;\n",
       "    }\n",
       "</style>\n",
       "<table border=\"1\" class=\"dataframe\">\n",
       "  <thead>\n",
       "    <tr style=\"text-align: right;\">\n",
       "      <th></th>\n",
       "      <th>max_depth</th>\n",
       "    </tr>\n",
       "  </thead>\n",
       "  <tbody>\n",
       "    <tr>\n",
       "      <th>0</th>\n",
       "      <td>1</td>\n",
       "    </tr>\n",
       "    <tr>\n",
       "      <th>1</th>\n",
       "      <td>2</td>\n",
       "    </tr>\n",
       "    <tr>\n",
       "      <th>2</th>\n",
       "      <td>3</td>\n",
       "    </tr>\n",
       "    <tr>\n",
       "      <th>3</th>\n",
       "      <td>4</td>\n",
       "    </tr>\n",
       "    <tr>\n",
       "      <th>4</th>\n",
       "      <td>5</td>\n",
       "    </tr>\n",
       "    <tr>\n",
       "      <th>5</th>\n",
       "      <td>6</td>\n",
       "    </tr>\n",
       "    <tr>\n",
       "      <th>6</th>\n",
       "      <td>7</td>\n",
       "    </tr>\n",
       "    <tr>\n",
       "      <th>7</th>\n",
       "      <td>8</td>\n",
       "    </tr>\n",
       "    <tr>\n",
       "      <th>8</th>\n",
       "      <td>9</td>\n",
       "    </tr>\n",
       "    <tr>\n",
       "      <th>9</th>\n",
       "      <td>10</td>\n",
       "    </tr>\n",
       "  </tbody>\n",
       "</table>\n",
       "</div>"
      ],
      "text/plain": [
       "   max_depth\n",
       "0          1\n",
       "1          2\n",
       "2          3\n",
       "3          4\n",
       "4          5\n",
       "5          6\n",
       "6          7\n",
       "7          8\n",
       "8          9\n",
       "9         10"
      ]
     },
     "execution_count": 38,
     "metadata": {
      "tags": []
     },
     "output_type": "execute_result"
    },
    {
     "data": {
      "image/png": "[encoded data removed]",
      "text/plain": [
       "<Figure size 432x288 with 1 Axes>"
      ]
     },
     "metadata": {
      "needs_background": "light",
      "tags": []
     },
     "output_type": "display_data"
    }
   ],
   "source": [
    "plt.plot(np.arange(0, len(grid_search.cv_results_['mean_test_score'])), grid_search.cv_results_['mean_test_score'], '--', label = 'Mean Train Score')\n",
    "plt.plot(np.arange(0, len(grid_search.cv_results_['mean_train_score'])), grid_search.cv_results_['mean_train_score'], '-', label = 'Mean Validation Score')\n",
    "plt.legend()\n",
    "plt.grid(True)\n",
    "plt.xlabel('Hyperparameter combinations')\n",
    "plt.ylabel('Accuracy')\n",
    "plt.title('Decision Tree CV Results')\n",
    "pd.DataFrame(grid_search.cv_results_['params'])"
   ]
  },
  {
   "cell_type": "markdown",
   "metadata": {
    "colab_type": "text",
    "id": "tN3k9fes9wpM"
   },
   "source": [
    "## FINAL TABLE with Test & Train Scores"
   ]
  },
  {
   "cell_type": "code",
   "execution_count": 0,
   "metadata": {
    "colab": {},
    "colab_type": "code",
    "id": "tPq5u5fh9wpM",
    "outputId": "4988cf3e-1ef2-4ade-de0e-337e23dd694d"
   },
   "outputs": [
    {
     "data": {
      "text/html": [
       "<div>\n",
       "<style scoped>\n",
       "    .dataframe tbody tr th:only-of-type {\n",
       "        vertical-align: middle;\n",
       "    }\n",
       "\n",
       "    .dataframe tbody tr th {\n",
       "        vertical-align: top;\n",
       "    }\n",
       "\n",
       "    .dataframe thead th {\n",
       "        text-align: right;\n",
       "    }\n",
       "</style>\n",
       "<table border=\"1\" class=\"dataframe\">\n",
       "  <thead>\n",
       "    <tr style=\"text-align: right;\">\n",
       "      <th></th>\n",
       "      <th>Model</th>\n",
       "      <th>Parameters</th>\n",
       "      <th>Train_Accuracy</th>\n",
       "      <th>Test Accuracy</th>\n",
       "      <th>ROC_AUC_Train</th>\n",
       "      <th>ROC_AUC_Test</th>\n",
       "      <th>score_diff</th>\n",
       "    </tr>\n",
       "  </thead>\n",
       "  <tbody>\n",
       "    <tr>\n",
       "      <th>5</th>\n",
       "      <td>Decision Tree</td>\n",
       "      <td>{'max_depth': 5}</td>\n",
       "      <td>0.957534</td>\n",
       "      <td>0.952753</td>\n",
       "      <td>0.929533</td>\n",
       "      <td>0.917249</td>\n",
       "      <td>-0.012284</td>\n",
       "    </tr>\n",
       "    <tr>\n",
       "      <th>0</th>\n",
       "      <td>KNN</td>\n",
       "      <td>{'n_neighbors': 10}</td>\n",
       "      <td>0.959488</td>\n",
       "      <td>0.952398</td>\n",
       "      <td>0.931087</td>\n",
       "      <td>0.915004</td>\n",
       "      <td>-0.016084</td>\n",
       "    </tr>\n",
       "    <tr>\n",
       "      <th>1</th>\n",
       "      <td>Logistic</td>\n",
       "      <td>{'C': 1, 'penalty': 'l1'}</td>\n",
       "      <td>0.952914</td>\n",
       "      <td>0.953464</td>\n",
       "      <td>0.913059</td>\n",
       "      <td>0.910947</td>\n",
       "      <td>-0.002112</td>\n",
       "    </tr>\n",
       "    <tr>\n",
       "      <th>4</th>\n",
       "      <td>SVM Polynomial</td>\n",
       "      <td>{'C': 0.01, 'degree': 1}</td>\n",
       "      <td>0.810856</td>\n",
       "      <td>0.812078</td>\n",
       "      <td>0.528982</td>\n",
       "      <td>0.525986</td>\n",
       "      <td>-0.002997</td>\n",
       "    </tr>\n",
       "    <tr>\n",
       "      <th>2</th>\n",
       "      <td>SVM Linear</td>\n",
       "      <td>{'C': 0.001}</td>\n",
       "      <td>0.807392</td>\n",
       "      <td>0.809591</td>\n",
       "      <td>0.520354</td>\n",
       "      <td>0.519713</td>\n",
       "      <td>-0.000641</td>\n",
       "    </tr>\n",
       "    <tr>\n",
       "      <th>3</th>\n",
       "      <td>SVM RBF</td>\n",
       "      <td>{'C': 0.001, 'gamma': 0.001}</td>\n",
       "      <td>0.799218</td>\n",
       "      <td>0.801776</td>\n",
       "      <td>0.500000</td>\n",
       "      <td>0.500000</td>\n",
       "      <td>0.000000</td>\n",
       "    </tr>\n",
       "  </tbody>\n",
       "</table>\n",
       "</div>"
      ],
      "text/plain": [
       "            Model                    Parameters  Train_Accuracy  \\\n",
       "5   Decision Tree              {'max_depth': 5}        0.957534   \n",
       "0             KNN           {'n_neighbors': 10}        0.959488   \n",
       "1        Logistic     {'C': 1, 'penalty': 'l1'}        0.952914   \n",
       "4  SVM Polynomial      {'C': 0.01, 'degree': 1}        0.810856   \n",
       "2      SVM Linear                  {'C': 0.001}        0.807392   \n",
       "3         SVM RBF  {'C': 0.001, 'gamma': 0.001}        0.799218   \n",
       "\n",
       "   Test Accuracy  ROC_AUC_Train  ROC_AUC_Test  score_diff  \n",
       "5       0.952753       0.929533      0.917249   -0.012284  \n",
       "0       0.952398       0.931087      0.915004   -0.016084  \n",
       "1       0.953464       0.913059      0.910947   -0.002112  \n",
       "4       0.812078       0.528982      0.525986   -0.002997  \n",
       "2       0.809591       0.520354      0.519713   -0.000641  \n",
       "3       0.801776       0.500000      0.500000    0.000000  "
      ]
     },
     "execution_count": 39,
     "metadata": {
      "tags": []
     },
     "output_type": "execute_result"
    }
   ],
   "source": [
    "final_table=pd.DataFrame(\n",
    "    {'Model':['KNN','Logistic','SVM Linear','SVM RBF','SVM Polynomial','Decision Tree'],\n",
    "     'Parameters':[knn_best_params,log_best_params,svmlin_best_params,svmrbf_best_params,svmpoly_best_params,tree_best_params],\n",
    "     'Train_Accuracy':[knn_acc_train,log_reg_acc_train,svmlin_acc_train,svmrbf_acc_train,svmpoly_acc_train,tree_acc_train],\n",
    "     'Test Accuracy':[knn_acc_test,log_reg_acc_test,svmlin_acc_test,svmrbf_acc_test,svmpoly_acc_test,tree_acc_test],\n",
    "     'ROC_AUC_Train':[knn_auc_train,log_reg_auc_train,svmlin_auc_train,svmrbf_auc_train,svmpoly_auc_train,tree_auc_train],\n",
    "     'ROC_AUC_Test':[knn_auc_test,log_reg_auc_test,svmlin_auc_test,svmrbf_auc_test,svmpoly_auc_test,tree_auc_test]\n",
    "                        })\n",
    "\n",
    "final_table['score_diff']=final_table['ROC_AUC_Test']-final_table['ROC_AUC_Train']\n",
    "final_table.sort_values(['ROC_AUC_Test'], ascending = False)"
   ]
  },
  {
   "cell_type": "code",
   "execution_count": 0,
   "metadata": {
    "colab": {},
    "colab_type": "code",
    "id": "8HVlIaId9wpO",
    "outputId": "ed5840ba-0e4e-4dd0-9b27-2b073f4fb722"
   },
   "outputs": [
    {
     "data": {
      "text/html": [
       "<div>\n",
       "<style scoped>\n",
       "    .dataframe tbody tr th:only-of-type {\n",
       "        vertical-align: middle;\n",
       "    }\n",
       "\n",
       "    .dataframe tbody tr th {\n",
       "        vertical-align: top;\n",
       "    }\n",
       "\n",
       "    .dataframe thead th {\n",
       "        text-align: right;\n",
       "    }\n",
       "</style>\n",
       "<table border=\"1\" class=\"dataframe\">\n",
       "  <thead>\n",
       "    <tr style=\"text-align: right;\">\n",
       "      <th></th>\n",
       "      <th>Model</th>\n",
       "      <th>ROC_AUC_Test</th>\n",
       "      <th>ROC_AUC_Train</th>\n",
       "      <th>Test_Accuracy</th>\n",
       "      <th>Train_Accuracy</th>\n",
       "      <th>Parameters</th>\n",
       "      <th>score_diff</th>\n",
       "    </tr>\n",
       "  </thead>\n",
       "  <tbody>\n",
       "    <tr>\n",
       "      <th>5</th>\n",
       "      <td>Decision Tree</td>\n",
       "      <td>0.942063</td>\n",
       "      <td>0.950697</td>\n",
       "      <td>0.964121</td>\n",
       "      <td>0.970238</td>\n",
       "      <td>{'max_depth': 4}</td>\n",
       "      <td>-0.012284</td>\n",
       "    </tr>\n",
       "    <tr>\n",
       "      <th>1</th>\n",
       "      <td>Logistic</td>\n",
       "      <td>0.934122</td>\n",
       "      <td>0.935813</td>\n",
       "      <td>0.963766</td>\n",
       "      <td>0.966596</td>\n",
       "      <td>{'C': 10, 'penalty': 'l1'}</td>\n",
       "      <td>-0.002112</td>\n",
       "    </tr>\n",
       "    <tr>\n",
       "      <th>2</th>\n",
       "      <td>SVM Linear</td>\n",
       "      <td>0.932808</td>\n",
       "      <td>0.936604</td>\n",
       "      <td>0.962700</td>\n",
       "      <td>0.967306</td>\n",
       "      <td>{'C': 100}</td>\n",
       "      <td>-0.000641</td>\n",
       "    </tr>\n",
       "    <tr>\n",
       "      <th>3</th>\n",
       "      <td>SVM RBF</td>\n",
       "      <td>0.930209</td>\n",
       "      <td>0.934751</td>\n",
       "      <td>0.961634</td>\n",
       "      <td>0.966862</td>\n",
       "      <td>{'C': 100, 'gamma': 0.1}</td>\n",
       "      <td>0.000000</td>\n",
       "    </tr>\n",
       "    <tr>\n",
       "      <th>0</th>\n",
       "      <td>KNN</td>\n",
       "      <td>0.923026</td>\n",
       "      <td>0.936309</td>\n",
       "      <td>0.957371</td>\n",
       "      <td>0.967395</td>\n",
       "      <td>{'n_neighbors': 10}</td>\n",
       "      <td>-0.016084</td>\n",
       "    </tr>\n",
       "    <tr>\n",
       "      <th>4</th>\n",
       "      <td>SVM Polynomial</td>\n",
       "      <td>0.912234</td>\n",
       "      <td>0.907070</td>\n",
       "      <td>0.954529</td>\n",
       "      <td>0.957001</td>\n",
       "      <td>{'C': 100, 'degree': 1}</td>\n",
       "      <td>-0.002997</td>\n",
       "    </tr>\n",
       "  </tbody>\n",
       "</table>\n",
       "</div>"
      ],
      "text/plain": [
       "            Model  ROC_AUC_Test  ROC_AUC_Train  Test_Accuracy  Train_Accuracy  \\\n",
       "5   Decision Tree      0.942063       0.950697       0.964121        0.970238   \n",
       "1        Logistic      0.934122       0.935813       0.963766        0.966596   \n",
       "2      SVM Linear      0.932808       0.936604       0.962700        0.967306   \n",
       "3         SVM RBF      0.930209       0.934751       0.961634        0.966862   \n",
       "0             KNN      0.923026       0.936309       0.957371        0.967395   \n",
       "4  SVM Polynomial      0.912234       0.907070       0.954529        0.957001   \n",
       "\n",
       "                   Parameters  score_diff  \n",
       "5            {'max_depth': 4}   -0.012284  \n",
       "1  {'C': 10, 'penalty': 'l1'}   -0.002112  \n",
       "2                  {'C': 100}   -0.000641  \n",
       "3    {'C': 100, 'gamma': 0.1}    0.000000  \n",
       "0         {'n_neighbors': 10}   -0.016084  \n",
       "4     {'C': 100, 'degree': 1}   -0.002997  "
      ]
     },
     "execution_count": 40,
     "metadata": {
      "tags": []
     },
     "output_type": "execute_result"
    }
   ],
   "source": [
    "old_table=pd.DataFrame({'Model':['KNN','Logistic','SVM Linear','SVM RBF','SVM Polynomial','Decision Tree'],'ROC_AUC_Test':[0.923026,0.934122,0.932808,0.930209,0.912234,0.942063],'ROC_AUC_Train':[0.936309,0.935813,0.936604,0.934751,0.90707,0.950697],'Test_Accuracy':[0.957371,0.963766,0.9627,0.961634,0.954529,0.964121],'Train_Accuracy':[0.967395,0.966596,0.967306,0.966862,0.957001,0.970238],'Parameters':[\"{'n_neighbors': 10}\",\"{'C': 10, 'penalty': 'l1'}\",\"{'C': 100}\",\"{'C': 100, 'gamma': 0.1}\",\"{'C': 100, 'degree': 1}\",\"{'max_depth': 4}\"]})\n",
    "old_table['score_diff']=final_table['ROC_AUC_Test']-final_table['ROC_AUC_Train']\n",
    "old_table.sort_values(['ROC_AUC_Test'], ascending = False)"
   ]
  },
  {
   "cell_type": "code",
   "execution_count": 0,
   "metadata": {
    "colab": {},
    "colab_type": "code",
    "id": "wBbA68x29wpQ",
    "outputId": "cad6d088-c184-48e1-c631-fdd0bca8d426"
   },
   "outputs": [
    {
     "data": {
      "image/png": "[encoded data removed]",
      "text/plain": [
       "<Figure size 1512x288 with 2 Axes>"
      ]
     },
     "metadata": {
      "needs_background": "light",
      "tags": []
     },
     "output_type": "display_data"
    }
   ],
   "source": [
    "plt.figure(1,figsize= (21, 4))\n",
    "plt.subplot(121)\n",
    "plt.title('TRAIN SCORES')\n",
    "plt.plot(np.arange(0, len(final_table['Model'])), final_table['ROC_AUC_Train'], '--',c='blue', label = 'With PCA')\n",
    "plt.plot(np.arange(0, len(old_table['Model'])), old_table['ROC_AUC_Train'], '--',c='brown', label = 'Without PCA')\n",
    "plt.legend()\n",
    "plt.grid(True)\n",
    "plt.subplot(122)\n",
    "plt.title('TEST SCORES')\n",
    "plt.plot(np.arange(0, len(final_table['Model'])), final_table['ROC_AUC_Test'], '-', c='blue', label = 'With PCA')\n",
    "plt.plot(np.arange(0, len(old_table['Model'])), old_table['ROC_AUC_Test'], '-', c='brown', label = 'Without PCA')\n",
    "plt.legend()\n",
    "plt.grid(True)"
   ]
  },
  {
   "cell_type": "code",
   "execution_count": 0,
   "metadata": {
    "colab": {},
    "colab_type": "code",
    "id": "3504VMSQ9wpT",
    "outputId": "5b988819-1555-427d-837c-300c7b256cf2"
   },
   "outputs": [
    {
     "data": {
      "image/png": "[encoded data removed]",
      "text/plain": [
       "<Figure size 432x288 with 1 Axes>"
      ]
     },
     "metadata": {
      "needs_background": "light",
      "tags": []
     },
     "output_type": "display_data"
    }
   ],
   "source": [
    "plt.title('Models with PCA')\n",
    "plt.plot(np.arange(0, len(final_table['Model'])), final_table['ROC_AUC_Train'], '--',c='blue', label = 'ROC_AUC_Train')\n",
    "plt.plot(np.arange(0, len(final_table['Model'])), final_table['ROC_AUC_Test'], '-', c='green', label = 'ROC_AUC_Test')\n",
    "plt.legend()\n",
    "\n",
    "plt.grid(True)"
   ]
  },
  {
   "cell_type": "markdown",
   "metadata": {},
   "source": [
    "### After PCA, the overall model performances are worse.\n",
    "###### We could see that the best overall model before and after PCA is Decision Tree"
   ]
  },
  {
   "cell_type": "markdown",
   "metadata": {
    "colab_type": "text",
    "id": "ThkBrFnU9wpV"
   },
   "source": [
    "# Deep Learning Model"
   ]
  },
  {
   "cell_type": "code",
   "execution_count": 0,
   "metadata": {
    "colab": {},
    "colab_type": "code",
    "id": "r-wMfwDz-EQB"
   },
   "outputs": [],
   "source": [
    "\n",
    "# This is formatted as code\n",
    "\n",
    "from keras.models import Sequential\n",
    "from keras.layers import Dense\n",
    "import numpy\n",
    "\n",
    "# fix random seed for reproducibility\n",
    "numpy.random.seed(0)"
   ]
  },
  {
   "cell_type": "code",
   "execution_count": 0,
   "metadata": {
    "colab": {},
    "colab_type": "code",
    "id": "f-agyKcS-JOn"
   },
   "outputs": [],
   "source": [
    "# create model\n",
    "nn_model_class = Sequential()\n",
    "nn_model_class.add(Dense(12, input_dim=d, activation='relu'))\n",
    "nn_model_class.add(Dense(8, activation='relu'))\n",
    "nn_model_class.add(Dense(1, activation='sigmoid'))"
   ]
  },
  {
   "cell_type": "code",
   "execution_count": 0,
   "metadata": {
    "colab": {},
    "colab_type": "code",
    "id": "NJjtUFQN-NKK"
   },
   "outputs": [],
   "source": [
    "# Compile model\n",
    "nn_model_class.compile(loss='binary_crossentropy', optimizer='adam', metrics=['accuracy'])"
   ]
  },
  {
   "cell_type": "code",
   "execution_count": 14,
   "metadata": {
    "colab": {
     "base_uri": "https://localhost:8080/",
     "height": 5235
    },
    "colab_type": "code",
    "id": "Mau6DnkU-Qfh",
    "outputId": "bad74fa2-a185-46d1-afa3-d46302704536"
   },
   "outputs": [
    {
     "name": "stdout",
     "output_type": "stream",
     "text": [
      "Epoch 1/150\n",
      "11256/11256 [==============================] - 2s 162us/step - loss: 0.2488 - acc: 0.9068\n",
      "Epoch 2/150\n",
      "11256/11256 [==============================] - 1s 103us/step - loss: 0.1223 - acc: 0.9516\n",
      "Epoch 3/150\n",
      "11256/11256 [==============================] - 1s 100us/step - loss: 0.1175 - acc: 0.9532\n",
      "Epoch 4/150\n",
      "11256/11256 [==============================] - 1s 99us/step - loss: 0.1159 - acc: 0.9549\n",
      "Epoch 5/150\n",
      "11256/11256 [==============================] - 1s 100us/step - loss: 0.1147 - acc: 0.9556\n",
      "Epoch 6/150\n",
      "11256/11256 [==============================] - 1s 98us/step - loss: 0.1134 - acc: 0.9556\n",
      "Epoch 7/150\n",
      "11256/11256 [==============================] - 1s 100us/step - loss: 0.1132 - acc: 0.9569\n",
      "Epoch 8/150\n",
      "11256/11256 [==============================] - 1s 98us/step - loss: 0.1120 - acc: 0.9557\n",
      "Epoch 9/150\n",
      "11256/11256 [==============================] - 1s 101us/step - loss: 0.1122 - acc: 0.9561\n",
      "Epoch 10/150\n",
      "11256/11256 [==============================] - 1s 100us/step - loss: 0.1117 - acc: 0.9567\n",
      "Epoch 11/150\n",
      "11256/11256 [==============================] - 1s 101us/step - loss: 0.1115 - acc: 0.9561\n",
      "Epoch 12/150\n",
      "11256/11256 [==============================] - 1s 98us/step - loss: 0.1117 - acc: 0.9554\n",
      "Epoch 13/150\n",
      "11256/11256 [==============================] - 1s 98us/step - loss: 0.1112 - acc: 0.9556\n",
      "Epoch 14/150\n",
      "11256/11256 [==============================] - 1s 100us/step - loss: 0.1110 - acc: 0.9567\n",
      "Epoch 15/150\n",
      "11256/11256 [==============================] - 1s 100us/step - loss: 0.1109 - acc: 0.9562\n",
      "Epoch 16/150\n",
      "11256/11256 [==============================] - 1s 100us/step - loss: 0.1109 - acc: 0.9569\n",
      "Epoch 17/150\n",
      "11256/11256 [==============================] - 1s 100us/step - loss: 0.1107 - acc: 0.9562\n",
      "Epoch 18/150\n",
      "11256/11256 [==============================] - 1s 97us/step - loss: 0.1106 - acc: 0.9561\n",
      "Epoch 19/150\n",
      "11256/11256 [==============================] - 1s 99us/step - loss: 0.1111 - acc: 0.9554\n",
      "Epoch 20/150\n",
      "11256/11256 [==============================] - 1s 97us/step - loss: 0.1105 - acc: 0.9562\n",
      "Epoch 21/150\n",
      "11256/11256 [==============================] - 1s 98us/step - loss: 0.1105 - acc: 0.9566\n",
      "Epoch 22/150\n",
      "11256/11256 [==============================] - 1s 100us/step - loss: 0.1103 - acc: 0.9560\n",
      "Epoch 23/150\n",
      "11256/11256 [==============================] - 1s 98us/step - loss: 0.1108 - acc: 0.9566\n",
      "Epoch 24/150\n",
      "11256/11256 [==============================] - 1s 98us/step - loss: 0.1107 - acc: 0.9565\n",
      "Epoch 25/150\n",
      "11256/11256 [==============================] - 1s 99us/step - loss: 0.1103 - acc: 0.9563\n",
      "Epoch 26/150\n",
      "11256/11256 [==============================] - 1s 105us/step - loss: 0.1103 - acc: 0.9560\n",
      "Epoch 27/150\n",
      "11256/11256 [==============================] - 1s 108us/step - loss: 0.1103 - acc: 0.9571\n",
      "Epoch 28/150\n",
      "11256/11256 [==============================] - 1s 110us/step - loss: 0.1104 - acc: 0.9564\n",
      "Epoch 29/150\n",
      "11256/11256 [==============================] - 1s 109us/step - loss: 0.1102 - acc: 0.9564\n",
      "Epoch 30/150\n",
      "11256/11256 [==============================] - 1s 109us/step - loss: 0.1102 - acc: 0.9567\n",
      "Epoch 31/150\n",
      "11256/11256 [==============================] - 1s 100us/step - loss: 0.1098 - acc: 0.9562\n",
      "Epoch 32/150\n",
      "11256/11256 [==============================] - 1s 99us/step - loss: 0.1103 - acc: 0.9562\n",
      "Epoch 33/150\n",
      "11256/11256 [==============================] - 1s 101us/step - loss: 0.1101 - acc: 0.9566\n",
      "Epoch 34/150\n",
      "11256/11256 [==============================] - 1s 101us/step - loss: 0.1099 - acc: 0.9570\n",
      "Epoch 35/150\n",
      "11256/11256 [==============================] - 1s 101us/step - loss: 0.1102 - acc: 0.9561\n",
      "Epoch 36/150\n",
      "11256/11256 [==============================] - 1s 99us/step - loss: 0.1098 - acc: 0.9558\n",
      "Epoch 37/150\n",
      "11256/11256 [==============================] - 1s 102us/step - loss: 0.1101 - acc: 0.9566\n",
      "Epoch 38/150\n",
      "11256/11256 [==============================] - 1s 101us/step - loss: 0.1099 - acc: 0.9557\n",
      "Epoch 39/150\n",
      "11256/11256 [==============================] - 1s 100us/step - loss: 0.1097 - acc: 0.9566\n",
      "Epoch 40/150\n",
      "11256/11256 [==============================] - 1s 98us/step - loss: 0.1098 - acc: 0.9568\n",
      "Epoch 41/150\n",
      "11256/11256 [==============================] - 1s 100us/step - loss: 0.1099 - acc: 0.9561\n",
      "Epoch 42/150\n",
      "11256/11256 [==============================] - 1s 98us/step - loss: 0.1097 - acc: 0.9577\n",
      "Epoch 43/150\n",
      "11256/11256 [==============================] - 1s 98us/step - loss: 0.1092 - acc: 0.9570\n",
      "Epoch 44/150\n",
      "11256/11256 [==============================] - 1s 101us/step - loss: 0.1101 - acc: 0.9559\n",
      "Epoch 45/150\n",
      "11256/11256 [==============================] - 1s 98us/step - loss: 0.1100 - acc: 0.9565\n",
      "Epoch 46/150\n",
      "11256/11256 [==============================] - 1s 100us/step - loss: 0.1102 - acc: 0.9566\n",
      "Epoch 47/150\n",
      "11256/11256 [==============================] - 1s 98us/step - loss: 0.1098 - acc: 0.9562\n",
      "Epoch 48/150\n",
      "11256/11256 [==============================] - 1s 98us/step - loss: 0.1095 - acc: 0.9568\n",
      "Epoch 49/150\n",
      "11256/11256 [==============================] - 1s 99us/step - loss: 0.1094 - acc: 0.9567\n",
      "Epoch 50/150\n",
      "11256/11256 [==============================] - 1s 100us/step - loss: 0.1091 - acc: 0.9566\n",
      "Epoch 51/150\n",
      "11256/11256 [==============================] - 1s 100us/step - loss: 0.1095 - acc: 0.9571\n",
      "Epoch 52/150\n",
      "11256/11256 [==============================] - 1s 98us/step - loss: 0.1093 - acc: 0.9570\n",
      "Epoch 53/150\n",
      "11256/11256 [==============================] - 1s 98us/step - loss: 0.1097 - acc: 0.9560\n",
      "Epoch 54/150\n",
      "11256/11256 [==============================] - 1s 99us/step - loss: 0.1093 - acc: 0.9569\n",
      "Epoch 55/150\n",
      "11256/11256 [==============================] - 1s 100us/step - loss: 0.1093 - acc: 0.9570\n",
      "Epoch 56/150\n",
      "11256/11256 [==============================] - 1s 97us/step - loss: 0.1095 - acc: 0.9564\n",
      "Epoch 57/150\n",
      "11256/11256 [==============================] - 1s 98us/step - loss: 0.1096 - acc: 0.9567\n",
      "Epoch 58/150\n",
      "11256/11256 [==============================] - 1s 99us/step - loss: 0.1095 - acc: 0.9559\n",
      "Epoch 59/150\n",
      "11256/11256 [==============================] - 1s 100us/step - loss: 0.1093 - acc: 0.9562\n",
      "Epoch 60/150\n",
      "11256/11256 [==============================] - 1s 100us/step - loss: 0.1096 - acc: 0.9570\n",
      "Epoch 61/150\n",
      "11256/11256 [==============================] - 1s 98us/step - loss: 0.1095 - acc: 0.9571\n",
      "Epoch 62/150\n",
      "11256/11256 [==============================] - 1s 101us/step - loss: 0.1093 - acc: 0.9569\n",
      "Epoch 63/150\n",
      "11256/11256 [==============================] - 1s 97us/step - loss: 0.1095 - acc: 0.9560\n",
      "Epoch 64/150\n",
      "11256/11256 [==============================] - 1s 99us/step - loss: 0.1090 - acc: 0.9573\n",
      "Epoch 65/150\n",
      "11256/11256 [==============================] - 1s 99us/step - loss: 0.1093 - acc: 0.9563\n",
      "Epoch 66/150\n",
      "11256/11256 [==============================] - 1s 99us/step - loss: 0.1093 - acc: 0.9556\n",
      "Epoch 67/150\n",
      "11256/11256 [==============================] - 1s 99us/step - loss: 0.1090 - acc: 0.9563\n",
      "Epoch 68/150\n",
      "11256/11256 [==============================] - 1s 100us/step - loss: 0.1094 - acc: 0.9566\n",
      "Epoch 69/150\n",
      "11256/11256 [==============================] - 1s 100us/step - loss: 0.1089 - acc: 0.9561\n",
      "Epoch 70/150\n",
      "11256/11256 [==============================] - 1s 98us/step - loss: 0.1097 - acc: 0.9561\n",
      "Epoch 71/150\n",
      "11256/11256 [==============================] - 1s 99us/step - loss: 0.1093 - acc: 0.9575\n",
      "Epoch 72/150\n",
      "11256/11256 [==============================] - 1s 99us/step - loss: 0.1090 - acc: 0.9574\n",
      "Epoch 73/150\n",
      "11256/11256 [==============================] - 1s 97us/step - loss: 0.1096 - acc: 0.9563\n",
      "Epoch 74/150\n",
      "11256/11256 [==============================] - 1s 98us/step - loss: 0.1091 - acc: 0.9567\n",
      "Epoch 75/150\n",
      "11256/11256 [==============================] - 1s 99us/step - loss: 0.1096 - acc: 0.9566\n",
      "Epoch 76/150\n",
      "11256/11256 [==============================] - 1s 98us/step - loss: 0.1092 - acc: 0.9576\n",
      "Epoch 77/150\n",
      "11256/11256 [==============================] - 1s 101us/step - loss: 0.1091 - acc: 0.9563\n",
      "Epoch 78/150\n",
      "11256/11256 [==============================] - 1s 100us/step - loss: 0.1090 - acc: 0.9560\n",
      "Epoch 79/150\n",
      "11256/11256 [==============================] - 1s 99us/step - loss: 0.1093 - acc: 0.9571\n",
      "Epoch 80/150\n",
      "11256/11256 [==============================] - 1s 101us/step - loss: 0.1092 - acc: 0.9566\n",
      "Epoch 81/150\n",
      "11256/11256 [==============================] - 1s 100us/step - loss: 0.1091 - acc: 0.9571\n",
      "Epoch 82/150\n",
      "11256/11256 [==============================] - 1s 100us/step - loss: 0.1086 - acc: 0.9566\n",
      "Epoch 83/150\n",
      "11256/11256 [==============================] - 1s 98us/step - loss: 0.1094 - acc: 0.9574\n",
      "Epoch 84/150\n",
      "11256/11256 [==============================] - 1s 98us/step - loss: 0.1090 - acc: 0.9568\n",
      "Epoch 85/150\n",
      "11256/11256 [==============================] - 1s 100us/step - loss: 0.1092 - acc: 0.9567\n",
      "Epoch 86/150\n",
      "11256/11256 [==============================] - 1s 99us/step - loss: 0.1089 - acc: 0.9570\n",
      "Epoch 87/150\n",
      "11256/11256 [==============================] - 1s 98us/step - loss: 0.1091 - acc: 0.9562\n",
      "Epoch 88/150\n",
      "11256/11256 [==============================] - 1s 100us/step - loss: 0.1092 - acc: 0.9565\n",
      "Epoch 89/150\n",
      "11256/11256 [==============================] - 1s 99us/step - loss: 0.1092 - acc: 0.9570\n",
      "Epoch 90/150\n",
      "11256/11256 [==============================] - 1s 101us/step - loss: 0.1090 - acc: 0.9566\n",
      "Epoch 91/150\n",
      "11256/11256 [==============================] - 1s 100us/step - loss: 0.1091 - acc: 0.9561\n",
      "Epoch 92/150\n",
      "11256/11256 [==============================] - 1s 97us/step - loss: 0.1092 - acc: 0.9565\n",
      "Epoch 93/150\n",
      "11256/11256 [==============================] - 1s 98us/step - loss: 0.1091 - acc: 0.9573\n",
      "Epoch 94/150\n",
      "11256/11256 [==============================] - 1s 101us/step - loss: 0.1085 - acc: 0.9563\n",
      "Epoch 95/150\n",
      "11256/11256 [==============================] - 1s 99us/step - loss: 0.1086 - acc: 0.9567\n",
      "Epoch 96/150\n",
      "11256/11256 [==============================] - 1s 100us/step - loss: 0.1091 - acc: 0.9566\n",
      "Epoch 97/150\n",
      "11256/11256 [==============================] - 1s 98us/step - loss: 0.1090 - acc: 0.9560\n",
      "Epoch 98/150\n",
      "11256/11256 [==============================] - 1s 99us/step - loss: 0.1088 - acc: 0.9571\n",
      "Epoch 99/150\n",
      "11256/11256 [==============================] - 1s 99us/step - loss: 0.1091 - acc: 0.9566\n",
      "Epoch 100/150\n",
      "11256/11256 [==============================] - 1s 97us/step - loss: 0.1088 - acc: 0.9567\n",
      "Epoch 101/150\n",
      "11256/11256 [==============================] - 1s 100us/step - loss: 0.1091 - acc: 0.9566\n",
      "Epoch 102/150\n",
      "11256/11256 [==============================] - 1s 100us/step - loss: 0.1086 - acc: 0.9569\n",
      "Epoch 103/150\n",
      "11256/11256 [==============================] - 1s 98us/step - loss: 0.1090 - acc: 0.9566\n",
      "Epoch 104/150\n",
      "11256/11256 [==============================] - 1s 100us/step - loss: 0.1091 - acc: 0.9564\n",
      "Epoch 105/150\n",
      "11256/11256 [==============================] - 1s 100us/step - loss: 0.1092 - acc: 0.9572\n",
      "Epoch 106/150\n",
      "11256/11256 [==============================] - 1s 99us/step - loss: 0.1089 - acc: 0.9569\n",
      "Epoch 107/150\n",
      "11256/11256 [==============================] - 1s 98us/step - loss: 0.1089 - acc: 0.9567\n",
      "Epoch 108/150\n",
      "11256/11256 [==============================] - 1s 97us/step - loss: 0.1089 - acc: 0.9566\n",
      "Epoch 109/150\n",
      "11256/11256 [==============================] - 1s 98us/step - loss: 0.1091 - acc: 0.9565\n",
      "Epoch 110/150\n",
      "11256/11256 [==============================] - 1s 99us/step - loss: 0.1088 - acc: 0.9568\n",
      "Epoch 111/150\n",
      "11256/11256 [==============================] - 1s 98us/step - loss: 0.1080 - acc: 0.9574\n",
      "Epoch 112/150\n",
      "11256/11256 [==============================] - 1s 98us/step - loss: 0.1092 - acc: 0.9560\n",
      "Epoch 113/150\n",
      "11256/11256 [==============================] - 1s 98us/step - loss: 0.1090 - acc: 0.9570\n",
      "Epoch 114/150\n",
      "11256/11256 [==============================] - 1s 101us/step - loss: 0.1087 - acc: 0.9578\n",
      "Epoch 115/150\n",
      "11256/11256 [==============================] - 1s 99us/step - loss: 0.1091 - acc: 0.9569\n",
      "Epoch 116/150\n",
      "11256/11256 [==============================] - 1s 102us/step - loss: 0.1087 - acc: 0.9561\n",
      "Epoch 117/150\n",
      "11256/11256 [==============================] - 1s 100us/step - loss: 0.1089 - acc: 0.9564\n",
      "Epoch 118/150\n",
      "11256/11256 [==============================] - 1s 99us/step - loss: 0.1082 - acc: 0.9564\n",
      "Epoch 119/150\n",
      "11256/11256 [==============================] - 1s 101us/step - loss: 0.1084 - acc: 0.9570\n",
      "Epoch 120/150\n",
      "11256/11256 [==============================] - 1s 98us/step - loss: 0.1088 - acc: 0.9576\n",
      "Epoch 121/150\n",
      "11256/11256 [==============================] - 1s 102us/step - loss: 0.1087 - acc: 0.9568\n",
      "Epoch 122/150\n",
      "11256/11256 [==============================] - 1s 101us/step - loss: 0.1089 - acc: 0.9566\n",
      "Epoch 123/150\n",
      "11256/11256 [==============================] - 1s 101us/step - loss: 0.1091 - acc: 0.9558\n",
      "Epoch 124/150\n",
      "11256/11256 [==============================] - 1s 100us/step - loss: 0.1090 - acc: 0.9557\n",
      "Epoch 125/150\n",
      "11256/11256 [==============================] - 1s 100us/step - loss: 0.1088 - acc: 0.9567\n",
      "Epoch 126/150\n",
      "11256/11256 [==============================] - 1s 102us/step - loss: 0.1087 - acc: 0.9561\n",
      "Epoch 127/150\n",
      "11256/11256 [==============================] - 1s 98us/step - loss: 0.1089 - acc: 0.9567\n",
      "Epoch 128/150\n",
      "11256/11256 [==============================] - 1s 99us/step - loss: 0.1090 - acc: 0.9563\n",
      "Epoch 129/150\n",
      "11256/11256 [==============================] - 1s 100us/step - loss: 0.1086 - acc: 0.9574\n",
      "Epoch 130/150\n",
      "11256/11256 [==============================] - 1s 98us/step - loss: 0.1089 - acc: 0.9564\n",
      "Epoch 131/150\n",
      "11256/11256 [==============================] - 1s 98us/step - loss: 0.1088 - acc: 0.9556\n",
      "Epoch 132/150\n",
      "11256/11256 [==============================] - 1s 100us/step - loss: 0.1088 - acc: 0.9569\n",
      "Epoch 133/150\n",
      "11256/11256 [==============================] - 1s 100us/step - loss: 0.1087 - acc: 0.9576\n",
      "Epoch 134/150\n",
      "11256/11256 [==============================] - 1s 99us/step - loss: 0.1089 - acc: 0.9571\n",
      "Epoch 135/150\n",
      "11256/11256 [==============================] - 1s 99us/step - loss: 0.1089 - acc: 0.9567\n",
      "Epoch 136/150\n",
      "11256/11256 [==============================] - 1s 101us/step - loss: 0.1088 - acc: 0.9574\n",
      "Epoch 137/150\n",
      "11256/11256 [==============================] - 1s 98us/step - loss: 0.1087 - acc: 0.9565\n",
      "Epoch 138/150\n",
      "11256/11256 [==============================] - 1s 100us/step - loss: 0.1089 - acc: 0.9566\n",
      "Epoch 139/150\n",
      "11256/11256 [==============================] - 1s 99us/step - loss: 0.1089 - acc: 0.9565\n",
      "Epoch 140/150\n",
      "11256/11256 [==============================] - 1s 101us/step - loss: 0.1087 - acc: 0.9566\n",
      "Epoch 141/150\n",
      "11256/11256 [==============================] - 1s 102us/step - loss: 0.1086 - acc: 0.9574\n",
      "Epoch 142/150\n",
      "11256/11256 [==============================] - 1s 102us/step - loss: 0.1090 - acc: 0.9572\n",
      "Epoch 143/150\n",
      "11256/11256 [==============================] - 1s 99us/step - loss: 0.1089 - acc: 0.9563\n",
      "Epoch 144/150\n",
      "11256/11256 [==============================] - 1s 100us/step - loss: 0.1086 - acc: 0.9567\n",
      "Epoch 145/150\n",
      "11256/11256 [==============================] - 1s 101us/step - loss: 0.1090 - acc: 0.9552\n",
      "Epoch 146/150\n",
      "11256/11256 [==============================] - 1s 98us/step - loss: 0.1087 - acc: 0.9561\n",
      "Epoch 147/150\n",
      "11256/11256 [==============================] - 1s 99us/step - loss: 0.1086 - acc: 0.9564\n",
      "Epoch 148/150\n",
      "11256/11256 [==============================] - 1s 98us/step - loss: 0.1089 - acc: 0.9567\n",
      "Epoch 149/150\n",
      "11256/11256 [==============================] - 1s 98us/step - loss: 0.1087 - acc: 0.9573\n",
      "Epoch 150/150\n",
      "11256/11256 [==============================] - 1s 98us/step - loss: 0.1088 - acc: 0.9566\n"
     ]
    },
    {
     "data": {
      "text/plain": [
       "<keras.callbacks.History at 0x7f7232df5f28>"
      ]
     },
     "execution_count": 14,
     "metadata": {
      "tags": []
     },
     "output_type": "execute_result"
    }
   ],
   "source": [
    "# Fit the model\n",
    "nn_model_class.fit(X_train, y_train, epochs=150, batch_size=10)"
   ]
  },
  {
   "cell_type": "code",
   "execution_count": 15,
   "metadata": {
    "colab": {
     "base_uri": "https://localhost:8080/",
     "height": 69
    },
    "colab_type": "code",
    "id": "iZ3hAFtw-U7Z",
    "outputId": "6c930916-270b-4142-cdeb-1fad3d6090bb"
   },
   "outputs": [
    {
     "name": "stdout",
     "output_type": "stream",
     "text": [
      "2815/2815 [==============================] - 0s 55us/step\n",
      "Test score: 0.11047134376211641\n",
      "Test accuracy: 0.9559502597388747\n"
     ]
    }
   ],
   "source": [
    "# Evaluate\n",
    "score, acc = nn_model_class.evaluate(X_test, y_test,\n",
    "                            batch_size=10)\n",
    "print('Test score:', score)\n",
    "print('Test accuracy:', acc)"
   ]
  },
  {
   "cell_type": "code",
   "execution_count": 16,
   "metadata": {
    "colab": {
     "base_uri": "https://localhost:8080/",
     "height": 139
    },
    "colab_type": "code",
    "id": "R_WHi2Cd-YAO",
    "outputId": "bee0a774-93d8-4120-c7b7-967aa4cc0fdc"
   },
   "outputs": [
    {
     "data": {
      "text/plain": [
       "array([[8.6380540e-05],\n",
       "       [3.1042069e-01],\n",
       "       [6.6980702e-04],\n",
       "       ...,\n",
       "       [1.5880278e-03],\n",
       "       [1.4243339e-03],\n",
       "       [4.1648874e-04]], dtype=float32)"
      ]
     },
     "execution_count": 16,
     "metadata": {
      "tags": []
     },
     "output_type": "execute_result"
    }
   ],
   "source": [
    "# Predict\n",
    "y_predict = nn_model_class.predict(X_test)\n",
    "y_predict"
   ]
  },
  {
   "cell_type": "markdown",
   "metadata": {
    "colab": {},
    "colab_type": "code",
    "id": "oOxbCLElAL8o"
   },
   "source": [
    "### END"
   ]
  }
 ],
 "metadata": {
  "colab": {
   "name": "Project3_Classification_Final.ipynb",
   "provenance": [],
   "version": "0.3.2"
  },
  "kernelspec": {
   "display_name": "Python 3",
   "language": "python",
   "name": "python3"
  },
  "language_info": {
   "codemirror_mode": {
    "name": "ipython",
    "version": 3
   },
   "file_extension": ".py",
   "mimetype": "text/x-python",
   "name": "python",
   "nbconvert_exporter": "python",
   "pygments_lexer": "ipython3",
   "version": "3.7.0"
  }
 },
 "nbformat": 4,
 "nbformat_minor": 1
}
