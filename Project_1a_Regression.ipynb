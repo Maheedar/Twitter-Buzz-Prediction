{
 "cells": [
  {
   "cell_type": "markdown",
   "metadata": {},
   "source": [
    "### <font color='red'> Project 2 : Buzz Prediction on Twitter\n",
    "\n",
    "Project Description:\n",
    "- There are two different datasets for Regression and Classification tasks. Right-most column in both the datasets is a dependent variable i.e. buzz.\n",
    "- Data description files are also provided for both the datasets.\n",
    "- Deciding which dataset is for which task is part of the project.\n",
    "- Read data into Jupyter notebook, use pandas to import data into a data frame.\n",
    "- Preprocess data: Explore data, check for missing data and apply data scaling. Justify the type of scaling used.\n",
    "\n",
    "Regression Task:\n",
    "- Apply all the regression models you've learned so far. If your model has a scaling parameter(s) use Grid Search to find the best scaling parameter. Use plots and graphs to help you get a better glimpse of the results. \n",
    "- Then use cross-validation to find average training and testing score. \n",
    "- Your submission should have at least the following regression models: KNN regressor, linear regression, Ridge, Lasso, polynomial regression, SVM both simple and with kernels. \n",
    "- Finally, find the best regressor for this dataset and train your model on the entire dataset using the best parameters and predict buzz for the test_set.\n",
    "\n",
    "Classification Task:\n",
    "- Decide about a good evaluation strategy and justify your choice.\n",
    "- Find best parameters for the following classification models: KNN classification, Logistic Regression, Linear Support Vector Machine, Kernelized Support Vector Machine, Decision Tree. \n",
    "- Which model gives the best results?\n"
   ]
  },
  {
   "cell_type": "code",
   "execution_count": 1,
   "metadata": {
    "collapsed": true
   },
   "outputs": [],
   "source": [
    "#import required packages\n",
    "import numpy as np\n",
    "import pandas as pd\n",
    "from scipy import stats\n",
    "import matplotlib.pyplot as plt\n",
    "from matplotlib.cm import register_cmap\n",
    "import seaborn as sns\n",
    "%matplotlib inline\n",
    "import warnings\n",
    "warnings.filterwarnings('ignore')\n",
    "from sklearn.model_selection import GridSearchCV"
   ]
  },
  {
   "cell_type": "code",
   "execution_count": 2,
   "metadata": {
    "collapsed": true
   },
   "outputs": [],
   "source": [
    "#read data in dataframe\n",
    "cols = ['NCD_0','NCD_1','NCD_2','NCD_3','NCD_4','NCD_5','NCD_6','AI_0','AI_1','AI_2','AI_3','AI_4','AI_5','AI_6','AS(NA)_0','AS(NA)_1','AS(NA)_2','AS(NA)_3','AS(NA)_4','AS(NA)_5','AS(NA)_6','BL_0','BL_1','BL_2','BL_3','BL_4','BL_5','BL_6','NAC_0','NAC_1','NAC_2','NAC_3','NAC_4','NAC_5','NAC_6','AS(NAC)_0','AS(NAC)_1','AS(NAC)_2','AS(NAC)_3','AS(NAC)_4','AS(NAC)_5','AS(NAC)_6','CS_0','CS_1','CS_2','CS_3','CS_4','CS_5','CS_6','AT_0','AT_1','AT_2','AT_3','AT_4','AT_5','AT_6','NA_0','NA_1','NA_2','NA_3','NA_4','NA_5','NA_6','ADL_0','ADL_1','ADL_2','ADL_3','ADL_4','ADL_5','ADL_6','NAD_0','NAD_1','NAD_2','NAD_3','NAD_4','NAD_5','NAD_6','Anotation']\n",
    "df = pd.read_csv('Twitter.data', header = None)\n",
    "df.columns = cols"
   ]
  },
  {
   "cell_type": "code",
   "execution_count": 3,
   "metadata": {},
   "outputs": [
    {
     "name": "stdout",
     "output_type": "stream",
     "text": [
      "missing values:  0\n"
     ]
    }
   ],
   "source": [
    "#check missing values\n",
    "null_data = df[df.isnull().any(axis=1)]\n",
    "print(\"missing values: \", len(null_data))"
   ]
  },
  {
   "cell_type": "code",
   "execution_count": 23,
   "metadata": {},
   "outputs": [
    {
     "data": {
      "text/html": [
       "<div>\n",
       "<style>\n",
       "    .dataframe thead tr:only-child th {\n",
       "        text-align: right;\n",
       "    }\n",
       "\n",
       "    .dataframe thead th {\n",
       "        text-align: left;\n",
       "    }\n",
       "\n",
       "    .dataframe tbody tr th {\n",
       "        vertical-align: top;\n",
       "    }\n",
       "</style>\n",
       "<table border=\"1\" class=\"dataframe\">\n",
       "  <thead>\n",
       "    <tr style=\"text-align: right;\">\n",
       "      <th></th>\n",
       "      <th>NCD_0</th>\n",
       "      <th>NCD_1</th>\n",
       "      <th>NCD_2</th>\n",
       "      <th>NCD_3</th>\n",
       "      <th>NCD_4</th>\n",
       "      <th>NCD_5</th>\n",
       "      <th>NCD_6</th>\n",
       "      <th>AI_0</th>\n",
       "      <th>AI_1</th>\n",
       "      <th>AI_2</th>\n",
       "      <th>...</th>\n",
       "      <th>ADL_5</th>\n",
       "      <th>ADL_6</th>\n",
       "      <th>NAD_0</th>\n",
       "      <th>NAD_1</th>\n",
       "      <th>NAD_2</th>\n",
       "      <th>NAD_3</th>\n",
       "      <th>NAD_4</th>\n",
       "      <th>NAD_5</th>\n",
       "      <th>NAD_6</th>\n",
       "      <th>Anotation</th>\n",
       "    </tr>\n",
       "  </thead>\n",
       "  <tbody>\n",
       "    <tr>\n",
       "      <th>0</th>\n",
       "      <td>0</td>\n",
       "      <td>2</td>\n",
       "      <td>0</td>\n",
       "      <td>0</td>\n",
       "      <td>1</td>\n",
       "      <td>1</td>\n",
       "      <td>1</td>\n",
       "      <td>0</td>\n",
       "      <td>1</td>\n",
       "      <td>0</td>\n",
       "      <td>...</td>\n",
       "      <td>1.0</td>\n",
       "      <td>1.0</td>\n",
       "      <td>0</td>\n",
       "      <td>2</td>\n",
       "      <td>0</td>\n",
       "      <td>0</td>\n",
       "      <td>1</td>\n",
       "      <td>1</td>\n",
       "      <td>1</td>\n",
       "      <td>0.0</td>\n",
       "    </tr>\n",
       "    <tr>\n",
       "      <th>1</th>\n",
       "      <td>2</td>\n",
       "      <td>1</td>\n",
       "      <td>0</td>\n",
       "      <td>0</td>\n",
       "      <td>0</td>\n",
       "      <td>0</td>\n",
       "      <td>4</td>\n",
       "      <td>2</td>\n",
       "      <td>1</td>\n",
       "      <td>0</td>\n",
       "      <td>...</td>\n",
       "      <td>0.0</td>\n",
       "      <td>1.0</td>\n",
       "      <td>2</td>\n",
       "      <td>1</td>\n",
       "      <td>0</td>\n",
       "      <td>0</td>\n",
       "      <td>0</td>\n",
       "      <td>0</td>\n",
       "      <td>4</td>\n",
       "      <td>0.5</td>\n",
       "    </tr>\n",
       "    <tr>\n",
       "      <th>2</th>\n",
       "      <td>1</td>\n",
       "      <td>0</td>\n",
       "      <td>0</td>\n",
       "      <td>0</td>\n",
       "      <td>0</td>\n",
       "      <td>4</td>\n",
       "      <td>1</td>\n",
       "      <td>1</td>\n",
       "      <td>0</td>\n",
       "      <td>0</td>\n",
       "      <td>...</td>\n",
       "      <td>1.0</td>\n",
       "      <td>1.0</td>\n",
       "      <td>1</td>\n",
       "      <td>0</td>\n",
       "      <td>0</td>\n",
       "      <td>0</td>\n",
       "      <td>0</td>\n",
       "      <td>4</td>\n",
       "      <td>1</td>\n",
       "      <td>0.0</td>\n",
       "    </tr>\n",
       "    <tr>\n",
       "      <th>3</th>\n",
       "      <td>1</td>\n",
       "      <td>0</td>\n",
       "      <td>0</td>\n",
       "      <td>1</td>\n",
       "      <td>0</td>\n",
       "      <td>0</td>\n",
       "      <td>1</td>\n",
       "      <td>1</td>\n",
       "      <td>0</td>\n",
       "      <td>0</td>\n",
       "      <td>...</td>\n",
       "      <td>0.0</td>\n",
       "      <td>1.0</td>\n",
       "      <td>1</td>\n",
       "      <td>0</td>\n",
       "      <td>0</td>\n",
       "      <td>1</td>\n",
       "      <td>0</td>\n",
       "      <td>0</td>\n",
       "      <td>1</td>\n",
       "      <td>2.5</td>\n",
       "    </tr>\n",
       "    <tr>\n",
       "      <th>4</th>\n",
       "      <td>0</td>\n",
       "      <td>1</td>\n",
       "      <td>0</td>\n",
       "      <td>0</td>\n",
       "      <td>1</td>\n",
       "      <td>2</td>\n",
       "      <td>3</td>\n",
       "      <td>0</td>\n",
       "      <td>1</td>\n",
       "      <td>0</td>\n",
       "      <td>...</td>\n",
       "      <td>1.0</td>\n",
       "      <td>1.0</td>\n",
       "      <td>0</td>\n",
       "      <td>1</td>\n",
       "      <td>0</td>\n",
       "      <td>0</td>\n",
       "      <td>1</td>\n",
       "      <td>2</td>\n",
       "      <td>3</td>\n",
       "      <td>0.5</td>\n",
       "    </tr>\n",
       "  </tbody>\n",
       "</table>\n",
       "<p>5 rows × 78 columns</p>\n",
       "</div>"
      ],
      "text/plain": [
       "   NCD_0  NCD_1  NCD_2  NCD_3  NCD_4  NCD_5  NCD_6  AI_0  AI_1  AI_2  \\\n",
       "0  0      2      0      0      1      1      1      0     1     0      \n",
       "1  2      1      0      0      0      0      4      2     1     0      \n",
       "2  1      0      0      0      0      4      1      1     0     0      \n",
       "3  1      0      0      1      0      0      1      1     0     0      \n",
       "4  0      1      0      0      1      2      3      0     1     0      \n",
       "\n",
       "     ...      ADL_5  ADL_6  NAD_0  NAD_1  NAD_2  NAD_3  NAD_4  NAD_5  NAD_6  \\\n",
       "0    ...      1.0    1.0    0      2      0      0      1      1      1       \n",
       "1    ...      0.0    1.0    2      1      0      0      0      0      4       \n",
       "2    ...      1.0    1.0    1      0      0      0      0      4      1       \n",
       "3    ...      0.0    1.0    1      0      0      1      0      0      1       \n",
       "4    ...      1.0    1.0    0      1      0      0      1      2      3       \n",
       "\n",
       "   Anotation  \n",
       "0  0.0        \n",
       "1  0.5        \n",
       "2  0.0        \n",
       "3  2.5        \n",
       "4  0.5        \n",
       "\n",
       "[5 rows x 78 columns]"
      ]
     },
     "execution_count": 23,
     "metadata": {},
     "output_type": "execute_result"
    }
   ],
   "source": [
    "df.head()"
   ]
  },
  {
   "cell_type": "code",
   "execution_count": 50,
   "metadata": {},
   "outputs": [
    {
     "data": {
      "text/html": [
       "<div>\n",
       "<style>\n",
       "    .dataframe thead tr:only-child th {\n",
       "        text-align: right;\n",
       "    }\n",
       "\n",
       "    .dataframe thead th {\n",
       "        text-align: left;\n",
       "    }\n",
       "\n",
       "    .dataframe tbody tr th {\n",
       "        vertical-align: top;\n",
       "    }\n",
       "</style>\n",
       "<table border=\"1\" class=\"dataframe\">\n",
       "  <thead>\n",
       "    <tr style=\"text-align: right;\">\n",
       "      <th></th>\n",
       "      <th>NCD_0</th>\n",
       "      <th>NCD_1</th>\n",
       "      <th>NCD_2</th>\n",
       "      <th>NCD_3</th>\n",
       "      <th>NCD_4</th>\n",
       "      <th>NCD_5</th>\n",
       "      <th>NCD_6</th>\n",
       "      <th>AI_0</th>\n",
       "      <th>AI_1</th>\n",
       "      <th>AI_2</th>\n",
       "      <th>...</th>\n",
       "      <th>ADL_5</th>\n",
       "      <th>ADL_6</th>\n",
       "      <th>NAD_0</th>\n",
       "      <th>NAD_1</th>\n",
       "      <th>NAD_2</th>\n",
       "      <th>NAD_3</th>\n",
       "      <th>NAD_4</th>\n",
       "      <th>NAD_5</th>\n",
       "      <th>NAD_6</th>\n",
       "      <th>Anotation</th>\n",
       "    </tr>\n",
       "  </thead>\n",
       "  <tbody>\n",
       "    <tr>\n",
       "      <th>count</th>\n",
       "      <td>583250.000000</td>\n",
       "      <td>583250.000000</td>\n",
       "      <td>583250.000000</td>\n",
       "      <td>583250.000000</td>\n",
       "      <td>583250.000000</td>\n",
       "      <td>583250.000000</td>\n",
       "      <td>583250.000000</td>\n",
       "      <td>583250.000000</td>\n",
       "      <td>583250.000000</td>\n",
       "      <td>583250.000000</td>\n",
       "      <td>...</td>\n",
       "      <td>583250.000000</td>\n",
       "      <td>583250.000000</td>\n",
       "      <td>583250.000000</td>\n",
       "      <td>583250.000000</td>\n",
       "      <td>583250.000000</td>\n",
       "      <td>583250.000000</td>\n",
       "      <td>583250.000000</td>\n",
       "      <td>583250.000000</td>\n",
       "      <td>583250.000000</td>\n",
       "      <td>583250.000000</td>\n",
       "    </tr>\n",
       "    <tr>\n",
       "      <th>mean</th>\n",
       "      <td>140.339640</td>\n",
       "      <td>136.770147</td>\n",
       "      <td>159.679271</td>\n",
       "      <td>181.592091</td>\n",
       "      <td>201.097445</td>\n",
       "      <td>220.175371</td>\n",
       "      <td>219.388214</td>\n",
       "      <td>71.038051</td>\n",
       "      <td>69.829631</td>\n",
       "      <td>82.198203</td>\n",
       "      <td>...</td>\n",
       "      <td>1.136688</td>\n",
       "      <td>1.140372</td>\n",
       "      <td>140.789860</td>\n",
       "      <td>137.181270</td>\n",
       "      <td>160.105922</td>\n",
       "      <td>182.057440</td>\n",
       "      <td>201.596482</td>\n",
       "      <td>220.705900</td>\n",
       "      <td>219.936864</td>\n",
       "      <td>191.279493</td>\n",
       "    </tr>\n",
       "    <tr>\n",
       "      <th>std</th>\n",
       "      <td>431.772639</td>\n",
       "      <td>432.305129</td>\n",
       "      <td>502.057428</td>\n",
       "      <td>574.883713</td>\n",
       "      <td>630.448432</td>\n",
       "      <td>669.205930</td>\n",
       "      <td>672.182204</td>\n",
       "      <td>196.876718</td>\n",
       "      <td>202.199758</td>\n",
       "      <td>239.523042</td>\n",
       "      <td>...</td>\n",
       "      <td>1.432327</td>\n",
       "      <td>1.552313</td>\n",
       "      <td>432.624954</td>\n",
       "      <td>433.026611</td>\n",
       "      <td>502.774408</td>\n",
       "      <td>575.658022</td>\n",
       "      <td>631.258318</td>\n",
       "      <td>670.050977</td>\n",
       "      <td>673.032541</td>\n",
       "      <td>612.352354</td>\n",
       "    </tr>\n",
       "    <tr>\n",
       "      <th>min</th>\n",
       "      <td>0.000000</td>\n",
       "      <td>0.000000</td>\n",
       "      <td>0.000000</td>\n",
       "      <td>0.000000</td>\n",
       "      <td>0.000000</td>\n",
       "      <td>0.000000</td>\n",
       "      <td>0.000000</td>\n",
       "      <td>0.000000</td>\n",
       "      <td>0.000000</td>\n",
       "      <td>0.000000</td>\n",
       "      <td>...</td>\n",
       "      <td>0.000000</td>\n",
       "      <td>0.000000</td>\n",
       "      <td>0.000000</td>\n",
       "      <td>0.000000</td>\n",
       "      <td>0.000000</td>\n",
       "      <td>0.000000</td>\n",
       "      <td>0.000000</td>\n",
       "      <td>0.000000</td>\n",
       "      <td>0.000000</td>\n",
       "      <td>0.000000</td>\n",
       "    </tr>\n",
       "    <tr>\n",
       "      <th>25%</th>\n",
       "      <td>3.000000</td>\n",
       "      <td>3.000000</td>\n",
       "      <td>4.000000</td>\n",
       "      <td>4.000000</td>\n",
       "      <td>5.000000</td>\n",
       "      <td>6.000000</td>\n",
       "      <td>6.000000</td>\n",
       "      <td>2.000000</td>\n",
       "      <td>2.000000</td>\n",
       "      <td>2.000000</td>\n",
       "      <td>...</td>\n",
       "      <td>1.000000</td>\n",
       "      <td>1.000000</td>\n",
       "      <td>3.000000</td>\n",
       "      <td>3.000000</td>\n",
       "      <td>4.000000</td>\n",
       "      <td>4.000000</td>\n",
       "      <td>5.000000</td>\n",
       "      <td>6.000000</td>\n",
       "      <td>6.000000</td>\n",
       "      <td>4.500000</td>\n",
       "    </tr>\n",
       "    <tr>\n",
       "      <th>50%</th>\n",
       "      <td>18.000000</td>\n",
       "      <td>17.000000</td>\n",
       "      <td>21.000000</td>\n",
       "      <td>24.000000</td>\n",
       "      <td>27.000000</td>\n",
       "      <td>31.000000</td>\n",
       "      <td>30.000000</td>\n",
       "      <td>11.000000</td>\n",
       "      <td>11.000000</td>\n",
       "      <td>13.000000</td>\n",
       "      <td>...</td>\n",
       "      <td>1.000000</td>\n",
       "      <td>1.000000</td>\n",
       "      <td>18.000000</td>\n",
       "      <td>17.000000</td>\n",
       "      <td>21.000000</td>\n",
       "      <td>24.000000</td>\n",
       "      <td>27.000000</td>\n",
       "      <td>31.000000</td>\n",
       "      <td>31.000000</td>\n",
       "      <td>25.500000</td>\n",
       "    </tr>\n",
       "    <tr>\n",
       "      <th>75%</th>\n",
       "      <td>104.000000</td>\n",
       "      <td>100.000000</td>\n",
       "      <td>115.000000</td>\n",
       "      <td>131.000000</td>\n",
       "      <td>147.000000</td>\n",
       "      <td>166.000000</td>\n",
       "      <td>164.000000</td>\n",
       "      <td>59.000000</td>\n",
       "      <td>57.000000</td>\n",
       "      <td>65.000000</td>\n",
       "      <td>...</td>\n",
       "      <td>1.090909</td>\n",
       "      <td>1.091296</td>\n",
       "      <td>104.000000</td>\n",
       "      <td>101.000000</td>\n",
       "      <td>115.000000</td>\n",
       "      <td>131.000000</td>\n",
       "      <td>148.000000</td>\n",
       "      <td>167.000000</td>\n",
       "      <td>165.000000</td>\n",
       "      <td>139.000000</td>\n",
       "    </tr>\n",
       "    <tr>\n",
       "      <th>max</th>\n",
       "      <td>24210.000000</td>\n",
       "      <td>29574.000000</td>\n",
       "      <td>37505.000000</td>\n",
       "      <td>72366.000000</td>\n",
       "      <td>79079.000000</td>\n",
       "      <td>79079.000000</td>\n",
       "      <td>79079.000000</td>\n",
       "      <td>18654.000000</td>\n",
       "      <td>22035.000000</td>\n",
       "      <td>29402.000000</td>\n",
       "      <td>...</td>\n",
       "      <td>262.000000</td>\n",
       "      <td>295.000000</td>\n",
       "      <td>24301.000000</td>\n",
       "      <td>29574.000000</td>\n",
       "      <td>37505.000000</td>\n",
       "      <td>72366.000000</td>\n",
       "      <td>79083.000000</td>\n",
       "      <td>79083.000000</td>\n",
       "      <td>79083.000000</td>\n",
       "      <td>75724.500000</td>\n",
       "    </tr>\n",
       "  </tbody>\n",
       "</table>\n",
       "<p>8 rows × 78 columns</p>\n",
       "</div>"
      ],
      "text/plain": [
       "               NCD_0          NCD_1          NCD_2          NCD_3  \\\n",
       "count  583250.000000  583250.000000  583250.000000  583250.000000   \n",
       "mean   140.339640     136.770147     159.679271     181.592091      \n",
       "std    431.772639     432.305129     502.057428     574.883713      \n",
       "min    0.000000       0.000000       0.000000       0.000000        \n",
       "25%    3.000000       3.000000       4.000000       4.000000        \n",
       "50%    18.000000      17.000000      21.000000      24.000000       \n",
       "75%    104.000000     100.000000     115.000000     131.000000      \n",
       "max    24210.000000   29574.000000   37505.000000   72366.000000    \n",
       "\n",
       "               NCD_4          NCD_5          NCD_6           AI_0  \\\n",
       "count  583250.000000  583250.000000  583250.000000  583250.000000   \n",
       "mean   201.097445     220.175371     219.388214     71.038051       \n",
       "std    630.448432     669.205930     672.182204     196.876718      \n",
       "min    0.000000       0.000000       0.000000       0.000000        \n",
       "25%    5.000000       6.000000       6.000000       2.000000        \n",
       "50%    27.000000      31.000000      30.000000      11.000000       \n",
       "75%    147.000000     166.000000     164.000000     59.000000       \n",
       "max    79079.000000   79079.000000   79079.000000   18654.000000    \n",
       "\n",
       "                AI_1           AI_2      ...                ADL_5  \\\n",
       "count  583250.000000  583250.000000      ...        583250.000000   \n",
       "mean   69.829631      82.198203          ...        1.136688        \n",
       "std    202.199758     239.523042         ...        1.432327        \n",
       "min    0.000000       0.000000           ...        0.000000        \n",
       "25%    2.000000       2.000000           ...        1.000000        \n",
       "50%    11.000000      13.000000          ...        1.000000        \n",
       "75%    57.000000      65.000000          ...        1.090909        \n",
       "max    22035.000000   29402.000000       ...        262.000000      \n",
       "\n",
       "               ADL_6          NAD_0          NAD_1          NAD_2  \\\n",
       "count  583250.000000  583250.000000  583250.000000  583250.000000   \n",
       "mean   1.140372       140.789860     137.181270     160.105922      \n",
       "std    1.552313       432.624954     433.026611     502.774408      \n",
       "min    0.000000       0.000000       0.000000       0.000000        \n",
       "25%    1.000000       3.000000       3.000000       4.000000        \n",
       "50%    1.000000       18.000000      17.000000      21.000000       \n",
       "75%    1.091296       104.000000     101.000000     115.000000      \n",
       "max    295.000000     24301.000000   29574.000000   37505.000000    \n",
       "\n",
       "               NAD_3          NAD_4          NAD_5          NAD_6  \\\n",
       "count  583250.000000  583250.000000  583250.000000  583250.000000   \n",
       "mean   182.057440     201.596482     220.705900     219.936864      \n",
       "std    575.658022     631.258318     670.050977     673.032541      \n",
       "min    0.000000       0.000000       0.000000       0.000000        \n",
       "25%    4.000000       5.000000       6.000000       6.000000        \n",
       "50%    24.000000      27.000000      31.000000      31.000000       \n",
       "75%    131.000000     148.000000     167.000000     165.000000      \n",
       "max    72366.000000   79083.000000   79083.000000   79083.000000    \n",
       "\n",
       "           Anotation  \n",
       "count  583250.000000  \n",
       "mean   191.279493     \n",
       "std    612.352354     \n",
       "min    0.000000       \n",
       "25%    4.500000       \n",
       "50%    25.500000      \n",
       "75%    139.000000     \n",
       "max    75724.500000   \n",
       "\n",
       "[8 rows x 78 columns]"
      ]
     },
     "execution_count": 50,
     "metadata": {},
     "output_type": "execute_result"
    }
   ],
   "source": [
    "df.describe()"
   ]
  },
  {
   "cell_type": "code",
   "execution_count": 16,
   "metadata": {},
   "outputs": [
    {
     "data": {
      "text/plain": [
       "<matplotlib.axes._subplots.AxesSubplot at 0x7f30a9c58978>"
      ]
     },
     "execution_count": 16,
     "metadata": {},
     "output_type": "execute_result"
    },
    {
     "data": {
      "image/png": "[encoded data removed]",
      "text/plain": [
       "<matplotlib.figure.Figure at 0x7f30a9c5e588>"
      ]
     },
     "metadata": {},
     "output_type": "display_data"
    }
   ],
   "source": [
    "#exploring the data to check statistical dispersion\n",
    "df.boxplot(column = cols[0:14], rot = 70, figsize= (21, 4))"
   ]
  },
  {
   "cell_type": "code",
   "execution_count": 17,
   "metadata": {},
   "outputs": [
    {
     "data": {
      "text/plain": [
       "<matplotlib.axes._subplots.AxesSubplot at 0x7f30a9b7f470>"
      ]
     },
     "execution_count": 17,
     "metadata": {},
     "output_type": "execute_result"
    },
    {
     "data": {
      "image/png": "[encoded data removed]",
      "text/plain": [
       "<matplotlib.figure.Figure at 0x7f30a9b1c198>"
      ]
     },
     "metadata": {},
     "output_type": "display_data"
    }
   ],
   "source": [
    "df.boxplot(column = cols[14:28], rot = 70, figsize= (21, 4))"
   ]
  },
  {
   "cell_type": "code",
   "execution_count": 18,
   "metadata": {},
   "outputs": [
    {
     "data": {
      "text/plain": [
       "<matplotlib.axes._subplots.AxesSubplot at 0x7f30a99e0c18>"
      ]
     },
     "execution_count": 18,
     "metadata": {},
     "output_type": "execute_result"
    },
    {
     "data": {
      "image/png": "[encoded data removed]",
      "text/plain": [
       "<matplotlib.figure.Figure at 0x7f30a99ecbe0>"
      ]
     },
     "metadata": {},
     "output_type": "display_data"
    }
   ],
   "source": [
    "df.boxplot(column = cols[28:35], rot = 70, figsize= (21, 4))"
   ]
  },
  {
   "cell_type": "code",
   "execution_count": 19,
   "metadata": {
    "scrolled": true
   },
   "outputs": [
    {
     "data": {
      "text/plain": [
       "<matplotlib.axes._subplots.AxesSubplot at 0x7f30a98f99e8>"
      ]
     },
     "execution_count": 19,
     "metadata": {},
     "output_type": "execute_result"
    },
    {
     "data": {
      "image/png": "[encoded data removed]",
      "text/plain": [
       "<matplotlib.figure.Figure at 0x7f30a99057f0>"
      ]
     },
     "metadata": {},
     "output_type": "display_data"
    }
   ],
   "source": [
    "df.boxplot(column = cols[35:49], rot = 70, figsize= (21, 4))"
   ]
  },
  {
   "cell_type": "code",
   "execution_count": 20,
   "metadata": {},
   "outputs": [
    {
     "data": {
      "text/plain": [
       "<matplotlib.axes._subplots.AxesSubplot at 0x7f30a97bd550>"
      ]
     },
     "execution_count": 20,
     "metadata": {},
     "output_type": "execute_result"
    },
    {
     "data": {
      "image/png": "[encoded data removed]",
      "text/plain": [
       "<matplotlib.figure.Figure at 0x7f30a97ca518>"
      ]
     },
     "metadata": {},
     "output_type": "display_data"
    }
   ],
   "source": [
    "df.boxplot(column = cols[56:63], rot = 70, figsize= (21, 4))"
   ]
  },
  {
   "cell_type": "code",
   "execution_count": 21,
   "metadata": {},
   "outputs": [
    {
     "data": {
      "text/plain": [
       "<matplotlib.axes._subplots.AxesSubplot at 0x7f30a96c4b38>"
      ]
     },
     "execution_count": 21,
     "metadata": {},
     "output_type": "execute_result"
    },
    {
     "data": {
      "image/png": "[encoded data removed]",
      "text/plain": [
       "<matplotlib.figure.Figure at 0x7f30a965c0f0>"
      ]
     },
     "metadata": {},
     "output_type": "display_data"
    }
   ],
   "source": [
    "df.boxplot(column = cols[63:70], rot = 70, figsize= (21, 4))"
   ]
  },
  {
   "cell_type": "code",
   "execution_count": 22,
   "metadata": {},
   "outputs": [
    {
     "data": {
      "text/plain": [
       "<matplotlib.axes._subplots.AxesSubplot at 0x7f30a9663da0>"
      ]
     },
     "execution_count": 22,
     "metadata": {},
     "output_type": "execute_result"
    },
    {
     "data": {
      "image/png": "[encoded data removed]",
      "text/plain": [
       "<matplotlib.figure.Figure at 0x7f30a95bbd30>"
      ]
     },
     "metadata": {},
     "output_type": "display_data"
    }
   ],
   "source": [
    "df.boxplot(column = cols[70:77], rot = 70, figsize= (21, 4))"
   ]
  },
  {
   "cell_type": "markdown",
   "metadata": {},
   "source": [
    "#creating a small dataset for computing ease\n",
    "sample_data = df.iloc[1000:2000, 0:77]\n",
    "sample_target = df.iloc[1000:2000, -1]"
   ]
  },
  {
   "cell_type": "code",
   "execution_count": 24,
   "metadata": {
    "collapsed": true
   },
   "outputs": [],
   "source": [
    "# markdow previous cell, then convert and execute this cell to code to flip dataset\n",
    "from sklearn.model_selection import train_test_split\n",
    "_, sample_data, _, sample_target = train_test_split(df.iloc[:, 0:77], df.iloc[:, -1], random_state = 0, test_size = 0.1)"
   ]
  },
  {
   "cell_type": "markdown",
   "metadata": {},
   "source": [
    "SCALING & SPLITTING TRAIN TEST SPLIT for reducing computational complexity\n",
    "\n",
    "After splitting the data for train and test, we transformed the feature set using 4 different methods (MinMax Scaler, Standard Scaler, Normalizer (l1), Normalizer (l2)).\n",
    "\n",
    "We finalized MinMax Scaler to transform the training and testing feature set for both computation ease and superior accuracy compared to other transformations. This method scales and translates each feature individually such that it is in the given range on the training set, i.e. between zero and one.\n",
    "\n",
    "For SVR (kernal = RBF), we have used Standard Scaler as it many elements used in the objective function of a learning algorithm assume that all features are centered around 0 and have variance in the same order."
   ]
  },
  {
   "cell_type": "code",
   "execution_count": 25,
   "metadata": {
    "collapsed": true
   },
   "outputs": [],
   "source": [
    "from sklearn.model_selection import train_test_split\n",
    "from sklearn.preprocessing import MinMaxScaler  # b/w 0 & 1\n",
    "from sklearn.preprocessing import StandardScaler # scaled using unit variance\n",
    "from sklearn.preprocessing import Normalizer # b/w -1 & +1 (l2)\n",
    "\n",
    "X_train_1, X_test_1, y_train, y_test = train_test_split(sample_data, sample_target, random_state = 0, test_size = 0.2)\n",
    "\n",
    "scaler = MinMaxScaler()\n",
    "X_train_mm = pd.DataFrame(scaler.fit_transform(X_train_1))\n",
    "X_test_mm = pd.DataFrame(scaler.transform(X_test_1))\n",
    "\n",
    "scaler = StandardScaler()\n",
    "X_train_ss = pd.DataFrame(scaler.fit_transform(X_train_1))\n",
    "X_test_ss = pd.DataFrame(scaler.fit_transform(X_test_1))\n",
    "\n",
    "scaler = Normalizer(norm='l1')\n",
    "X_train_nl1 = pd.DataFrame(scaler.fit_transform(X_train_1))\n",
    "X_test_nl1 = pd.DataFrame(scaler.fit_transform(X_test_1))\n",
    "\n",
    "scaler = Normalizer(norm='l2')\n",
    "X_train_nl2 = pd.DataFrame(scaler.fit_transform(X_train_1))\n",
    "X_test_nl2 = pd.DataFrame(scaler.fit_transform(X_test_1))\n",
    "\n",
    "X_train = X_train_mm\n",
    "X_test = X_test_mm"
   ]
  },
  {
   "cell_type": "markdown",
   "metadata": {},
   "source": [
    "# Linear Regression (using normal equation)\n",
    "Linear model that minimizes ordinary least square as the cost function. Produces high accuracy when predicting dependent variable in this dataset."
   ]
  },
  {
   "cell_type": "code",
   "execution_count": 6,
   "metadata": {
    "scrolled": false
   },
   "outputs": [
    {
     "name": "stdout",
     "output_type": "stream",
     "text": [
      "Best Parameters : {}\n",
      "Best CV score   : 0.955\n"
     ]
    }
   ],
   "source": [
    "#LINEAR REGRESSION with the normal equation\n",
    "from sklearn.model_selection import GridSearchCV\n",
    "from sklearn.linear_model import LinearRegression\n",
    "\n",
    "lreg = LinearRegression()\n",
    "param_grid = {}\n",
    "grid_lreg = GridSearchCV(LinearRegression(), param_grid, cv=5, n_jobs= -1)\n",
    "grid_lreg.fit(X_train, y_train)\n",
    "\n",
    "print(\"Best Parameters : {}\".format(grid_lreg.best_params_))\n",
    "print(\"Best CV score   : {}\".format('%.3f'% grid_lreg.best_score_))"
   ]
  },
  {
   "cell_type": "code",
   "execution_count": 7,
   "metadata": {},
   "outputs": [
    {
     "name": "stdout",
     "output_type": "stream",
     "text": [
      "Linear Regression Normal Eqn - Train Accuracy: 0.960\n",
      "Linear Regression Normal Eqn - Test Accuracy : 0.954 \n"
     ]
    }
   ],
   "source": [
    "lreg_train_accuracy = grid_lreg.best_estimator_.score(X_train, y_train)\n",
    "lreg_test_accuracy  = grid_lreg.best_estimator_.score(X_test, y_test)\n",
    "\n",
    "print('Linear Regression Normal Eqn - Train Accuracy: {}'.format('%.3f'%lreg_train_accuracy))\n",
    "print('Linear Regression Normal Eqn - Test Accuracy : {}'.format('%.3f '%lreg_test_accuracy))\n",
    "\n",
    "table = []\n",
    "table.append(['Linear Regression', grid_lreg.best_params_, lreg_train_accuracy, lreg_test_accuracy] )"
   ]
  },
  {
   "cell_type": "markdown",
   "metadata": {},
   "source": [
    "# KNN REGRESSION\n",
    "\n",
    "Regression based on k-nearest neighbors. The target is predicted by local interpolation of the targets associated of the nearest neighbors in the training set. When predicting the dependent variable for this dataset, KNN Regressor produces a score of greater than 0.9 in test accuracy, however there are other models with superior scores."
   ]
  },
  {
   "cell_type": "code",
   "execution_count": 8,
   "metadata": {},
   "outputs": [
    {
     "name": "stdout",
     "output_type": "stream",
     "text": [
      "Best Parameters : {'n_neighbors': 3}\n",
      "Best CV score   : 0.912\n"
     ]
    }
   ],
   "source": [
    "# KNN REGRESSION\n",
    "from sklearn.neighbors import KNeighborsRegressor\n",
    "\n",
    "kn_reg = KNeighborsRegressor()\n",
    "param_grid = {'n_neighbors': range(1,11)}\n",
    "grid_kn = GridSearchCV(kn_reg, param_grid=param_grid, cv = 5, n_jobs= -1, return_train_score= True)\n",
    "grid_kn.fit(X_train, y_train)\n",
    "\n",
    "print(\"Best Parameters : {}\".format(grid_kn.best_params_))\n",
    "print(\"Best CV score   : {}\".format('%.3f'% grid_kn.best_score_))"
   ]
  },
  {
   "cell_type": "code",
   "execution_count": 9,
   "metadata": {},
   "outputs": [
    {
     "data": {
      "text/plain": [
       "Text(0.5,1,'kn regressor scores')"
      ]
     },
     "execution_count": 9,
     "metadata": {},
     "output_type": "execute_result"
    },
    {
     "data": {
      "image/png": "[encoded data removed]",
      "text/plain": [
       "<matplotlib.figure.Figure at 0x7fd4e07e6ba8>"
      ]
     },
     "metadata": {},
     "output_type": "display_data"
    }
   ],
   "source": [
    "x_axis = range(1,11)\n",
    "plt.plot(x_axis, grid_kn.cv_results_['mean_train_score'], '-o', label = 'Mean Train Score')\n",
    "plt.plot(x_axis, grid_kn.cv_results_['mean_test_score'], '-o', label = 'Mean Validation Score')\n",
    "plt.legend()\n",
    "plt.grid(True)\n",
    "plt.xlabel('k')\n",
    "plt.ylabel('Accuracy')\n",
    "plt.title('kn regressor scores')"
   ]
  },
  {
   "cell_type": "code",
   "execution_count": 10,
   "metadata": {},
   "outputs": [
    {
     "name": "stdout",
     "output_type": "stream",
     "text": [
      "KN Regression - Train Accuracy: 0.958\n",
      "KN Regression - Test Accuracy : 0.928 \n"
     ]
    }
   ],
   "source": [
    "kn_train_accuracy = grid_kn.best_estimator_.score(X_train, y_train)\n",
    "kn_test_accuracy  = grid_kn.best_estimator_.score(X_test, y_test)\n",
    "\n",
    "print('KN Regression - Train Accuracy: {}'.format('%.3f'%kn_train_accuracy))\n",
    "print('KN Regression - Test Accuracy : {}'.format('%.3f '%kn_test_accuracy))\n",
    "\n",
    "table.append(['KN Regression', grid_kn.best_params_, kn_train_accuracy, kn_test_accuracy])"
   ]
  },
  {
   "cell_type": "markdown",
   "metadata": {},
   "source": [
    "# RIDGE\n",
    "\n",
    "Ridge Regression (also called Tikhonov regularization) solves a regression model where the loss function is the linear least squares function  (with l2 regularization) as opposed to ordinary least squares. \n",
    "This model minimizes the objective function: ||y - Xw||^2_2 + alpha * ||w||^2_2\n",
    "\n",
    "Ridge Regression produced the second-best test score when prediciting the dependent variable in this dataset."
   ]
  },
  {
   "cell_type": "code",
   "execution_count": 11,
   "metadata": {},
   "outputs": [
    {
     "name": "stdout",
     "output_type": "stream",
     "text": [
      "Best Parameters : {'alpha': 0.001, 'fit_intercept': True, 'normalize': True}\n",
      "Best CV score   : 0.955\n"
     ]
    }
   ],
   "source": [
    "# RIDGE\n",
    "from  sklearn.linear_model import Ridge\n",
    "\n",
    "powers = range(-3, 3)\n",
    "x_range = []\n",
    "for power in powers:\n",
    "    x_range.append(10 ** power)\n",
    "\n",
    "ridge = Ridge()\n",
    "param_grid = {'alpha': x_range, 'fit_intercept': [True, False], 'normalize': [True, False]}\n",
    "grid_ridge = GridSearchCV(ridge, param_grid, cv=5, n_jobs= -1)\n",
    "grid_ridge.fit(X_train, y_train)\n",
    "\n",
    "print(\"Best Parameters : {}\".format(grid_ridge.best_params_))\n",
    "print(\"Best CV score   : {}\".format('%.3f'% grid_ridge.best_score_))"
   ]
  },
  {
   "cell_type": "code",
   "execution_count": 12,
   "metadata": {},
   "outputs": [
    {
     "name": "stdout",
     "output_type": "stream",
     "text": [
      "Ridge - Train Accuracy: 0.960\n",
      "Ridge - Test Accuracy : 0.954 \n"
     ]
    }
   ],
   "source": [
    "ridge_train_accuracy = grid_ridge.best_estimator_.score(X_train, y_train)\n",
    "ridge_test_accuracy  = grid_ridge.best_estimator_.score(X_test, y_test)\n",
    "\n",
    "print('Ridge - Train Accuracy: {}'.format('%.3f'%ridge_train_accuracy))\n",
    "print('Ridge - Test Accuracy : {}'.format('%.3f '%ridge_test_accuracy))\n",
    "\n",
    "table.append(['Ridge', grid_ridge.best_params_, ridge_train_accuracy, ridge_test_accuracy])"
   ]
  },
  {
   "cell_type": "code",
   "execution_count": 13,
   "metadata": {},
   "outputs": [
    {
     "data": {
      "text/html": [
       "<div>\n",
       "<style>\n",
       "    .dataframe thead tr:only-child th {\n",
       "        text-align: right;\n",
       "    }\n",
       "\n",
       "    .dataframe thead th {\n",
       "        text-align: left;\n",
       "    }\n",
       "\n",
       "    .dataframe tbody tr th {\n",
       "        vertical-align: top;\n",
       "    }\n",
       "</style>\n",
       "<table border=\"1\" class=\"dataframe\">\n",
       "  <thead>\n",
       "    <tr style=\"text-align: right;\">\n",
       "      <th></th>\n",
       "      <th>alpha</th>\n",
       "      <th>fit_intercept</th>\n",
       "      <th>normalize</th>\n",
       "    </tr>\n",
       "  </thead>\n",
       "  <tbody>\n",
       "    <tr>\n",
       "      <th>0</th>\n",
       "      <td>0.001</td>\n",
       "      <td>True</td>\n",
       "      <td>True</td>\n",
       "    </tr>\n",
       "    <tr>\n",
       "      <th>1</th>\n",
       "      <td>0.001</td>\n",
       "      <td>True</td>\n",
       "      <td>False</td>\n",
       "    </tr>\n",
       "    <tr>\n",
       "      <th>2</th>\n",
       "      <td>0.001</td>\n",
       "      <td>False</td>\n",
       "      <td>True</td>\n",
       "    </tr>\n",
       "    <tr>\n",
       "      <th>3</th>\n",
       "      <td>0.001</td>\n",
       "      <td>False</td>\n",
       "      <td>False</td>\n",
       "    </tr>\n",
       "    <tr>\n",
       "      <th>4</th>\n",
       "      <td>0.010</td>\n",
       "      <td>True</td>\n",
       "      <td>True</td>\n",
       "    </tr>\n",
       "    <tr>\n",
       "      <th>5</th>\n",
       "      <td>0.010</td>\n",
       "      <td>True</td>\n",
       "      <td>False</td>\n",
       "    </tr>\n",
       "    <tr>\n",
       "      <th>6</th>\n",
       "      <td>0.010</td>\n",
       "      <td>False</td>\n",
       "      <td>True</td>\n",
       "    </tr>\n",
       "    <tr>\n",
       "      <th>7</th>\n",
       "      <td>0.010</td>\n",
       "      <td>False</td>\n",
       "      <td>False</td>\n",
       "    </tr>\n",
       "    <tr>\n",
       "      <th>8</th>\n",
       "      <td>0.100</td>\n",
       "      <td>True</td>\n",
       "      <td>True</td>\n",
       "    </tr>\n",
       "    <tr>\n",
       "      <th>9</th>\n",
       "      <td>0.100</td>\n",
       "      <td>True</td>\n",
       "      <td>False</td>\n",
       "    </tr>\n",
       "    <tr>\n",
       "      <th>10</th>\n",
       "      <td>0.100</td>\n",
       "      <td>False</td>\n",
       "      <td>True</td>\n",
       "    </tr>\n",
       "    <tr>\n",
       "      <th>11</th>\n",
       "      <td>0.100</td>\n",
       "      <td>False</td>\n",
       "      <td>False</td>\n",
       "    </tr>\n",
       "    <tr>\n",
       "      <th>12</th>\n",
       "      <td>1.000</td>\n",
       "      <td>True</td>\n",
       "      <td>True</td>\n",
       "    </tr>\n",
       "    <tr>\n",
       "      <th>13</th>\n",
       "      <td>1.000</td>\n",
       "      <td>True</td>\n",
       "      <td>False</td>\n",
       "    </tr>\n",
       "    <tr>\n",
       "      <th>14</th>\n",
       "      <td>1.000</td>\n",
       "      <td>False</td>\n",
       "      <td>True</td>\n",
       "    </tr>\n",
       "    <tr>\n",
       "      <th>15</th>\n",
       "      <td>1.000</td>\n",
       "      <td>False</td>\n",
       "      <td>False</td>\n",
       "    </tr>\n",
       "    <tr>\n",
       "      <th>16</th>\n",
       "      <td>10.000</td>\n",
       "      <td>True</td>\n",
       "      <td>True</td>\n",
       "    </tr>\n",
       "    <tr>\n",
       "      <th>17</th>\n",
       "      <td>10.000</td>\n",
       "      <td>True</td>\n",
       "      <td>False</td>\n",
       "    </tr>\n",
       "    <tr>\n",
       "      <th>18</th>\n",
       "      <td>10.000</td>\n",
       "      <td>False</td>\n",
       "      <td>True</td>\n",
       "    </tr>\n",
       "    <tr>\n",
       "      <th>19</th>\n",
       "      <td>10.000</td>\n",
       "      <td>False</td>\n",
       "      <td>False</td>\n",
       "    </tr>\n",
       "    <tr>\n",
       "      <th>20</th>\n",
       "      <td>100.000</td>\n",
       "      <td>True</td>\n",
       "      <td>True</td>\n",
       "    </tr>\n",
       "    <tr>\n",
       "      <th>21</th>\n",
       "      <td>100.000</td>\n",
       "      <td>True</td>\n",
       "      <td>False</td>\n",
       "    </tr>\n",
       "    <tr>\n",
       "      <th>22</th>\n",
       "      <td>100.000</td>\n",
       "      <td>False</td>\n",
       "      <td>True</td>\n",
       "    </tr>\n",
       "    <tr>\n",
       "      <th>23</th>\n",
       "      <td>100.000</td>\n",
       "      <td>False</td>\n",
       "      <td>False</td>\n",
       "    </tr>\n",
       "  </tbody>\n",
       "</table>\n",
       "</div>"
      ],
      "text/plain": [
       "      alpha  fit_intercept  normalize\n",
       "0     0.001           True       True\n",
       "1     0.001           True      False\n",
       "2     0.001          False       True\n",
       "3     0.001          False      False\n",
       "4     0.010           True       True\n",
       "5     0.010           True      False\n",
       "6     0.010          False       True\n",
       "7     0.010          False      False\n",
       "8     0.100           True       True\n",
       "9     0.100           True      False\n",
       "10    0.100          False       True\n",
       "11    0.100          False      False\n",
       "12    1.000           True       True\n",
       "13    1.000           True      False\n",
       "14    1.000          False       True\n",
       "15    1.000          False      False\n",
       "16   10.000           True       True\n",
       "17   10.000           True      False\n",
       "18   10.000          False       True\n",
       "19   10.000          False      False\n",
       "20  100.000           True       True\n",
       "21  100.000           True      False\n",
       "22  100.000          False       True\n",
       "23  100.000          False      False"
      ]
     },
     "execution_count": 13,
     "metadata": {},
     "output_type": "execute_result"
    },
    {
     "data": {
      "image/png": "[encoded data removed]",
      "text/plain": [
       "<matplotlib.figure.Figure at 0x7fd4dc100128>"
      ]
     },
     "metadata": {},
     "output_type": "display_data"
    }
   ],
   "source": [
    "plt.plot(np.arange(0, len(grid_ridge.cv_results_['mean_test_score'])), grid_ridge.cv_results_['mean_test_score'], '--', label = 'Mean Train Score')\n",
    "plt.plot(np.arange(0, len(grid_ridge.cv_results_['mean_train_score'])), grid_ridge.cv_results_['mean_train_score'], '-', label = 'Mean Validation Score')\n",
    "plt.legend()\n",
    "plt.grid(True)\n",
    "plt.xlabel('Hyperparameter combination')\n",
    "plt.ylabel('Accuracy')\n",
    "plt.title('Ridge CV Results')\n",
    "pd.DataFrame(grid_ridge.cv_results_['params'])"
   ]
  },
  {
   "cell_type": "markdown",
   "metadata": {},
   "source": [
    "# LASSO\n",
    "\n",
    "LASSO or Least Absolute Shrinkage and Selection Operator is a Linear Model trained with L1 prior as regularizer.\n",
    "The optimization objective for Lasso is:\n",
    "(1 / (2 * n_samples)) * ||y - Xw||^2_2 + alpha * ||w||_1\n",
    "\n",
    "Compared to Ridge regression that can't zero out coefficients, the LASSO does both parameter shrinkage and variable selection automatically. (In Ridge, we either end up including all the coefficients in the model, or none of them at all)\n",
    "\n",
    "LASSO produces the best prections for the dependent variable in this dataset."
   ]
  },
  {
   "cell_type": "code",
   "execution_count": 14,
   "metadata": {},
   "outputs": [
    {
     "name": "stdout",
     "output_type": "stream",
     "text": [
      "Best Parameters : {'alpha': 0.001, 'max_iter': 1000, 'selection': 'cyclic'}\n",
      "Best CV score   : 0.955\n"
     ]
    }
   ],
   "source": [
    "# LASSO\n",
    "\n",
    "from sklearn.linear_model import Lasso\n",
    "\n",
    "lasso = Lasso()\n",
    "param_grid = {'alpha': x_range, 'max_iter': [1000, 10000], 'selection': ['cyclic', 'random']}\n",
    "grid_lasso = GridSearchCV(lasso, param_grid, cv=5, n_jobs= -1)\n",
    "grid_lasso.fit(X_train_mm, y_train)\n",
    "\n",
    "print(\"Best Parameters : {}\".format(grid_lasso.best_params_))\n",
    "print(\"Best CV score   : {}\".format('%.3f'% grid_lasso.best_score_))"
   ]
  },
  {
   "cell_type": "code",
   "execution_count": 15,
   "metadata": {},
   "outputs": [
    {
     "name": "stdout",
     "output_type": "stream",
     "text": [
      "LASSO - Train Accuracy: 0.960\n",
      "LASSO - Test Accuracy : 0.954 \n"
     ]
    }
   ],
   "source": [
    "lasso_train_accuracy = grid_lasso.best_estimator_.score(X_train_mm, y_train)\n",
    "lasso_test_accuracy  = grid_lasso.best_estimator_.score(X_test_mm, y_test)\n",
    "\n",
    "print('LASSO - Train Accuracy: {}'.format('%.3f'%lasso_train_accuracy))\n",
    "print('LASSO - Test Accuracy : {}'.format('%.3f '%lasso_test_accuracy))\n",
    "\n",
    "table.append(['LASSO', grid_lasso.best_params_, lasso_train_accuracy, lasso_test_accuracy])"
   ]
  },
  {
   "cell_type": "code",
   "execution_count": 16,
   "metadata": {},
   "outputs": [
    {
     "data": {
      "text/html": [
       "<div>\n",
       "<style>\n",
       "    .dataframe thead tr:only-child th {\n",
       "        text-align: right;\n",
       "    }\n",
       "\n",
       "    .dataframe thead th {\n",
       "        text-align: left;\n",
       "    }\n",
       "\n",
       "    .dataframe tbody tr th {\n",
       "        vertical-align: top;\n",
       "    }\n",
       "</style>\n",
       "<table border=\"1\" class=\"dataframe\">\n",
       "  <thead>\n",
       "    <tr style=\"text-align: right;\">\n",
       "      <th></th>\n",
       "      <th>alpha</th>\n",
       "      <th>max_iter</th>\n",
       "      <th>selection</th>\n",
       "    </tr>\n",
       "  </thead>\n",
       "  <tbody>\n",
       "    <tr>\n",
       "      <th>0</th>\n",
       "      <td>0.001</td>\n",
       "      <td>1000</td>\n",
       "      <td>cyclic</td>\n",
       "    </tr>\n",
       "    <tr>\n",
       "      <th>1</th>\n",
       "      <td>0.001</td>\n",
       "      <td>1000</td>\n",
       "      <td>random</td>\n",
       "    </tr>\n",
       "    <tr>\n",
       "      <th>2</th>\n",
       "      <td>0.001</td>\n",
       "      <td>10000</td>\n",
       "      <td>cyclic</td>\n",
       "    </tr>\n",
       "    <tr>\n",
       "      <th>3</th>\n",
       "      <td>0.001</td>\n",
       "      <td>10000</td>\n",
       "      <td>random</td>\n",
       "    </tr>\n",
       "    <tr>\n",
       "      <th>4</th>\n",
       "      <td>0.010</td>\n",
       "      <td>1000</td>\n",
       "      <td>cyclic</td>\n",
       "    </tr>\n",
       "    <tr>\n",
       "      <th>5</th>\n",
       "      <td>0.010</td>\n",
       "      <td>1000</td>\n",
       "      <td>random</td>\n",
       "    </tr>\n",
       "    <tr>\n",
       "      <th>6</th>\n",
       "      <td>0.010</td>\n",
       "      <td>10000</td>\n",
       "      <td>cyclic</td>\n",
       "    </tr>\n",
       "    <tr>\n",
       "      <th>7</th>\n",
       "      <td>0.010</td>\n",
       "      <td>10000</td>\n",
       "      <td>random</td>\n",
       "    </tr>\n",
       "    <tr>\n",
       "      <th>8</th>\n",
       "      <td>0.100</td>\n",
       "      <td>1000</td>\n",
       "      <td>cyclic</td>\n",
       "    </tr>\n",
       "    <tr>\n",
       "      <th>9</th>\n",
       "      <td>0.100</td>\n",
       "      <td>1000</td>\n",
       "      <td>random</td>\n",
       "    </tr>\n",
       "    <tr>\n",
       "      <th>10</th>\n",
       "      <td>0.100</td>\n",
       "      <td>10000</td>\n",
       "      <td>cyclic</td>\n",
       "    </tr>\n",
       "    <tr>\n",
       "      <th>11</th>\n",
       "      <td>0.100</td>\n",
       "      <td>10000</td>\n",
       "      <td>random</td>\n",
       "    </tr>\n",
       "    <tr>\n",
       "      <th>12</th>\n",
       "      <td>1.000</td>\n",
       "      <td>1000</td>\n",
       "      <td>cyclic</td>\n",
       "    </tr>\n",
       "    <tr>\n",
       "      <th>13</th>\n",
       "      <td>1.000</td>\n",
       "      <td>1000</td>\n",
       "      <td>random</td>\n",
       "    </tr>\n",
       "    <tr>\n",
       "      <th>14</th>\n",
       "      <td>1.000</td>\n",
       "      <td>10000</td>\n",
       "      <td>cyclic</td>\n",
       "    </tr>\n",
       "    <tr>\n",
       "      <th>15</th>\n",
       "      <td>1.000</td>\n",
       "      <td>10000</td>\n",
       "      <td>random</td>\n",
       "    </tr>\n",
       "    <tr>\n",
       "      <th>16</th>\n",
       "      <td>10.000</td>\n",
       "      <td>1000</td>\n",
       "      <td>cyclic</td>\n",
       "    </tr>\n",
       "    <tr>\n",
       "      <th>17</th>\n",
       "      <td>10.000</td>\n",
       "      <td>1000</td>\n",
       "      <td>random</td>\n",
       "    </tr>\n",
       "    <tr>\n",
       "      <th>18</th>\n",
       "      <td>10.000</td>\n",
       "      <td>10000</td>\n",
       "      <td>cyclic</td>\n",
       "    </tr>\n",
       "    <tr>\n",
       "      <th>19</th>\n",
       "      <td>10.000</td>\n",
       "      <td>10000</td>\n",
       "      <td>random</td>\n",
       "    </tr>\n",
       "    <tr>\n",
       "      <th>20</th>\n",
       "      <td>100.000</td>\n",
       "      <td>1000</td>\n",
       "      <td>cyclic</td>\n",
       "    </tr>\n",
       "    <tr>\n",
       "      <th>21</th>\n",
       "      <td>100.000</td>\n",
       "      <td>1000</td>\n",
       "      <td>random</td>\n",
       "    </tr>\n",
       "    <tr>\n",
       "      <th>22</th>\n",
       "      <td>100.000</td>\n",
       "      <td>10000</td>\n",
       "      <td>cyclic</td>\n",
       "    </tr>\n",
       "    <tr>\n",
       "      <th>23</th>\n",
       "      <td>100.000</td>\n",
       "      <td>10000</td>\n",
       "      <td>random</td>\n",
       "    </tr>\n",
       "  </tbody>\n",
       "</table>\n",
       "</div>"
      ],
      "text/plain": [
       "      alpha  max_iter selection\n",
       "0     0.001      1000    cyclic\n",
       "1     0.001      1000    random\n",
       "2     0.001     10000    cyclic\n",
       "3     0.001     10000    random\n",
       "4     0.010      1000    cyclic\n",
       "5     0.010      1000    random\n",
       "6     0.010     10000    cyclic\n",
       "7     0.010     10000    random\n",
       "8     0.100      1000    cyclic\n",
       "9     0.100      1000    random\n",
       "10    0.100     10000    cyclic\n",
       "11    0.100     10000    random\n",
       "12    1.000      1000    cyclic\n",
       "13    1.000      1000    random\n",
       "14    1.000     10000    cyclic\n",
       "15    1.000     10000    random\n",
       "16   10.000      1000    cyclic\n",
       "17   10.000      1000    random\n",
       "18   10.000     10000    cyclic\n",
       "19   10.000     10000    random\n",
       "20  100.000      1000    cyclic\n",
       "21  100.000      1000    random\n",
       "22  100.000     10000    cyclic\n",
       "23  100.000     10000    random"
      ]
     },
     "execution_count": 16,
     "metadata": {},
     "output_type": "execute_result"
    },
    {
     "data": {
      "image/png": "[encoded data removed]",
      "text/plain": [
       "<matplotlib.figure.Figure at 0x7fd4dc062978>"
      ]
     },
     "metadata": {},
     "output_type": "display_data"
    }
   ],
   "source": [
    "plt.plot(np.arange(0, len(grid_lasso.cv_results_['mean_test_score'])), grid_lasso.cv_results_['mean_test_score'], '--', label = 'Mean Train Score')\n",
    "plt.plot(np.arange(0, len(grid_lasso.cv_results_['mean_train_score'])), grid_lasso.cv_results_['mean_train_score'], '-', label = 'Mean Validation Score')\n",
    "plt.legend()\n",
    "plt.grid(True)\n",
    "plt.xlabel('Hyperparameter combination')\n",
    "plt.ylabel('Accuracy')\n",
    "plt.title('LASSO CV Results')\n",
    "pd.DataFrame(grid_lasso.cv_results_['params'])"
   ]
  },
  {
   "cell_type": "code",
   "execution_count": 52,
   "metadata": {},
   "outputs": [
    {
     "data": {
      "text/html": [
       "<div>\n",
       "<style>\n",
       "    .dataframe thead tr:only-child th {\n",
       "        text-align: right;\n",
       "    }\n",
       "\n",
       "    .dataframe thead th {\n",
       "        text-align: left;\n",
       "    }\n",
       "\n",
       "    .dataframe tbody tr th {\n",
       "        vertical-align: top;\n",
       "    }\n",
       "</style>\n",
       "<table border=\"1\" class=\"dataframe\">\n",
       "  <thead>\n",
       "    <tr style=\"text-align: right;\">\n",
       "      <th></th>\n",
       "      <th>C</th>\n",
       "      <th>epsilon</th>\n",
       "    </tr>\n",
       "  </thead>\n",
       "  <tbody>\n",
       "    <tr>\n",
       "      <th>0</th>\n",
       "      <td>0.01</td>\n",
       "      <td>0.00</td>\n",
       "    </tr>\n",
       "    <tr>\n",
       "      <th>1</th>\n",
       "      <td>0.01</td>\n",
       "      <td>0.01</td>\n",
       "    </tr>\n",
       "    <tr>\n",
       "      <th>2</th>\n",
       "      <td>0.01</td>\n",
       "      <td>0.10</td>\n",
       "    </tr>\n",
       "    <tr>\n",
       "      <th>3</th>\n",
       "      <td>0.01</td>\n",
       "      <td>1.00</td>\n",
       "    </tr>\n",
       "    <tr>\n",
       "      <th>4</th>\n",
       "      <td>0.10</td>\n",
       "      <td>0.00</td>\n",
       "    </tr>\n",
       "    <tr>\n",
       "      <th>5</th>\n",
       "      <td>0.10</td>\n",
       "      <td>0.01</td>\n",
       "    </tr>\n",
       "    <tr>\n",
       "      <th>6</th>\n",
       "      <td>0.10</td>\n",
       "      <td>0.10</td>\n",
       "    </tr>\n",
       "    <tr>\n",
       "      <th>7</th>\n",
       "      <td>0.10</td>\n",
       "      <td>1.00</td>\n",
       "    </tr>\n",
       "    <tr>\n",
       "      <th>8</th>\n",
       "      <td>1.00</td>\n",
       "      <td>0.00</td>\n",
       "    </tr>\n",
       "    <tr>\n",
       "      <th>9</th>\n",
       "      <td>1.00</td>\n",
       "      <td>0.01</td>\n",
       "    </tr>\n",
       "    <tr>\n",
       "      <th>10</th>\n",
       "      <td>1.00</td>\n",
       "      <td>0.10</td>\n",
       "    </tr>\n",
       "    <tr>\n",
       "      <th>11</th>\n",
       "      <td>1.00</td>\n",
       "      <td>1.00</td>\n",
       "    </tr>\n",
       "  </tbody>\n",
       "</table>\n",
       "</div>"
      ],
      "text/plain": [
       "       C  epsilon\n",
       "0   0.01  0.00   \n",
       "1   0.01  0.01   \n",
       "2   0.01  0.10   \n",
       "3   0.01  1.00   \n",
       "4   0.10  0.00   \n",
       "5   0.10  0.01   \n",
       "6   0.10  0.10   \n",
       "7   0.10  1.00   \n",
       "8   1.00  0.00   \n",
       "9   1.00  0.01   \n",
       "10  1.00  0.10   \n",
       "11  1.00  1.00   "
      ]
     },
     "execution_count": 52,
     "metadata": {},
     "output_type": "execute_result"
    },
    {
     "data": {
      "image/png": "[encoded data removed]",
      "text/plain": [
       "<matplotlib.figure.Figure at 0x7fd4dc095b70>"
      ]
     },
     "metadata": {},
     "output_type": "display_data"
    }
   ],
   "source": [
    "temp = pd.DataFrame(grid_lasso.cv_results_['params'])\n",
    "temp = temp.assign(mean_test_score = pd.DataFrame(grid_lasso.cv_results_['mean_test_score']))\n",
    "temp = temp.assign(mean_train_score = pd.DataFrame(grid_lasso.cv_results_['mean_train_score']))\n",
    "temp_1000 = temp.groupby('alpha')['mean_test_score', 'mean_train_score'].mean().reset_index()\n",
    "temp_1000\n",
    "plt.plot(temp_1000['alpha'], temp_1000['mean_train_score'], '--', label = 'Mean Train Score')\n",
    "plt.plot(temp_1000['alpha'], temp_1000['mean_test_score'], '-', label = 'Mean Validation Score')\n",
    "plt.legend()\n",
    "plt.grid(True)\n",
    "plt.xlabel('α')\n",
    "plt.xscale('log')\n",
    "plt.ylabel('Accuracy')\n",
    "plt.title('CV scores at different α')\n",
    "pd.DataFrame(grid_lasso.cv_results_['params'])"
   ]
  },
  {
   "cell_type": "markdown",
   "metadata": {},
   "source": [
    "# Stochastic Gradient Descent (SGD)\n",
    "\n",
    "SGD is an iterative method which minimizes the cost function with random individual samples. The gradient of the loss is estimated one sample at a time and the model is updated along the way with a decreasing  learning rate.\n",
    "\n",
    "When predicting the dependent variable for this dataset, SGD Regressor produces a score of greater than 0.9 in test accuracy, however there are other models with superior scores. The model performance improves with increased iterations and prediction scores are optimal when penalizing with l1 regularizer over l2."
   ]
  },
  {
   "cell_type": "code",
   "execution_count": 26,
   "metadata": {},
   "outputs": [
    {
     "name": "stdout",
     "output_type": "stream",
     "text": [
      "Best Parameters : {'max_iter': 100000, 'penalty': 'l2'}\n",
      "Best CV score   : 0.903\n"
     ]
    }
   ],
   "source": [
    "from sklearn.linear_model import SGDRegressor\n",
    "\n",
    "sgd = SGDRegressor()\n",
    "param_grid = {'penalty': ['l1', 'l2'], 'max_iter': [1000, 10000, 100000]}\n",
    "grid_sgd = GridSearchCV(sgd, param_grid, cv=5, n_jobs= -1)\n",
    "grid_sgd.fit(X_train, y_train)\n",
    "\n",
    "print(\"Best Parameters : {}\".format(grid_sgd.best_params_))\n",
    "print(\"Best CV score   : {}\".format('%.3f'% grid_sgd.best_score_))"
   ]
  },
  {
   "cell_type": "code",
   "execution_count": 27,
   "metadata": {},
   "outputs": [
    {
     "name": "stdout",
     "output_type": "stream",
     "text": [
      "SGD - Train Accuracy: 0.948\n",
      "SGD - Test Accuracy: 0.916 \n"
     ]
    }
   ],
   "source": [
    "sgd_train_accuracy = grid_sgd.best_estimator_.score(X_train, y_train)\n",
    "sgd_test_accuracy  = grid_sgd.best_estimator_.score(X_test, y_test)\n",
    "\n",
    "print('SGD - Train Accuracy: %.3f'%sgd_train_accuracy)\n",
    "print('SGD - Test Accuracy: %.3f '%sgd_test_accuracy)\n",
    "\n",
    "table.append(['Stochastic Gradient Discent', grid_sgd.best_params_, sgd_train_accuracy, sgd_test_accuracy])"
   ]
  },
  {
   "cell_type": "code",
   "execution_count": 28,
   "metadata": {},
   "outputs": [
    {
     "name": "stderr",
     "output_type": "stream",
     "text": [
      "C:\\ProgramData\\Anaconda3\\lib\\site-packages\\sklearn\\utils\\deprecation.py:122: FutureWarning: You are accessing a training score ('mean_train_score'), which will not be available by default any more in 0.21. If you need training scores, please set return_train_score=True\n",
      "  warnings.warn(*warn_args, **warn_kwargs)\n"
     ]
    },
    {
     "data": {
      "text/html": [
       "<div>\n",
       "<style scoped>\n",
       "    .dataframe tbody tr th:only-of-type {\n",
       "        vertical-align: middle;\n",
       "    }\n",
       "\n",
       "    .dataframe tbody tr th {\n",
       "        vertical-align: top;\n",
       "    }\n",
       "\n",
       "    .dataframe thead th {\n",
       "        text-align: right;\n",
       "    }\n",
       "</style>\n",
       "<table border=\"1\" class=\"dataframe\">\n",
       "  <thead>\n",
       "    <tr style=\"text-align: right;\">\n",
       "      <th></th>\n",
       "      <th>max_iter</th>\n",
       "      <th>penalty</th>\n",
       "    </tr>\n",
       "  </thead>\n",
       "  <tbody>\n",
       "    <tr>\n",
       "      <th>0</th>\n",
       "      <td>1000</td>\n",
       "      <td>l1</td>\n",
       "    </tr>\n",
       "    <tr>\n",
       "      <th>1</th>\n",
       "      <td>1000</td>\n",
       "      <td>l2</td>\n",
       "    </tr>\n",
       "    <tr>\n",
       "      <th>2</th>\n",
       "      <td>10000</td>\n",
       "      <td>l1</td>\n",
       "    </tr>\n",
       "    <tr>\n",
       "      <th>3</th>\n",
       "      <td>10000</td>\n",
       "      <td>l2</td>\n",
       "    </tr>\n",
       "    <tr>\n",
       "      <th>4</th>\n",
       "      <td>100000</td>\n",
       "      <td>l1</td>\n",
       "    </tr>\n",
       "    <tr>\n",
       "      <th>5</th>\n",
       "      <td>100000</td>\n",
       "      <td>l2</td>\n",
       "    </tr>\n",
       "  </tbody>\n",
       "</table>\n",
       "</div>"
      ],
      "text/plain": [
       "   max_iter penalty\n",
       "0      1000      l1\n",
       "1      1000      l2\n",
       "2     10000      l1\n",
       "3     10000      l2\n",
       "4    100000      l1\n",
       "5    100000      l2"
      ]
     },
     "execution_count": 28,
     "metadata": {},
     "output_type": "execute_result"
    },
    {
     "data": {
      "image/png": "[encoded data removed]",
      "text/plain": [
       "<Figure size 432x288 with 1 Axes>"
      ]
     },
     "metadata": {},
     "output_type": "display_data"
    }
   ],
   "source": [
    "plt.plot(np.arange(0, len(grid_sgd.cv_results_['mean_test_score'])), grid_sgd.cv_results_['mean_test_score'], '--', label = 'Mean Train Score')\n",
    "plt.plot(np.arange(0, len(grid_sgd.cv_results_['mean_train_score'])), grid_sgd.cv_results_['mean_train_score'], '-', label = 'Mean Validation Score')\n",
    "plt.legend()\n",
    "plt.grid(True)\n",
    "plt.xlabel('Hyperparameter combination')\n",
    "plt.ylabel('Accuracy')\n",
    "plt.title('SGD CV Results')\n",
    "pd.DataFrame(grid_sgd.cv_results_['params'])"
   ]
  },
  {
   "cell_type": "markdown",
   "metadata": {},
   "source": [
    "# Simple SVR\n",
    "\n",
    "Simple SVR is Linear Support Vector Regression (without kernels). This method tries to form a hyper-plane which accomodates as many points along its edges.\n",
    "\n",
    "According to sklearn, SVR with parameter kernel=’linear’, but implemented in terms of liblinear rather than libsvm, so it has more flexibility in the choice of penalties and loss functions and should scale better to large numbers of samples. This class supports both dense and sparse input.\n",
    "\n",
    "The model performed optimally when gamma = 1, epsilon =  0.1 and loss function set to \"squared_epsilon_insensitive\" (l2)"
   ]
  },
  {
   "cell_type": "code",
   "execution_count": 17,
   "metadata": {},
   "outputs": [
    {
     "name": "stdout",
     "output_type": "stream",
     "text": [
      "Best Parameters : {'C': 1, 'epsilon': 0, 'loss': 'squared_epsilon_insensitive', 'max_iter': 10000}\n",
      "Best CV score   : 0.953\n"
     ]
    }
   ],
   "source": [
    "from sklearn.svm import LinearSVR\n",
    "\n",
    "powers = range(-2, 1)\n",
    "e_range = [0]\n",
    "c_range = []\n",
    "for power in powers:\n",
    "    e_range.append(10 ** power)\n",
    "    c_range.append(10 ** power)\n",
    "\n",
    "linear_svr = LinearSVR()\n",
    "param_grid = {'C': c_range, 'epsilon': e_range, 'loss': ['epsilon_insensitive', 'squared_epsilon_insensitive'], 'max_iter': [1000, 10000]}\n",
    "grid_linear_svr = GridSearchCV(linear_svr, param_grid, cv=5, n_jobs= -1)\n",
    "grid_linear_svr.fit(X_train, y_train)\n",
    "\n",
    "print(\"Best Parameters : {}\".format(grid_linear_svr.best_params_))\n",
    "print(\"Best CV score   : {}\".format('%.3f'% grid_linear_svr.best_score_))"
   ]
  },
  {
   "cell_type": "code",
   "execution_count": 18,
   "metadata": {},
   "outputs": [
    {
     "name": "stdout",
     "output_type": "stream",
     "text": [
      "SVR_simple - Train Accuracy: 0.958\n",
      "SVR_simple - Test Accuracy: 0.952 \n"
     ]
    }
   ],
   "source": [
    "linear_svr_train_accuracy = grid_linear_svr.best_estimator_.score(X_train, y_train)\n",
    "linear_svr_test_accuracy  = grid_linear_svr.best_estimator_.score(X_test, y_test)\n",
    "\n",
    "print('SVR_simple - Train Accuracy: %.3f'%linear_svr_train_accuracy)\n",
    "print('SVR_simple - Test Accuracy: %.3f '%linear_svr_test_accuracy)\n",
    "\n",
    "table.append(['SVR Simple', grid_linear_svr.best_params_, linear_svr_train_accuracy, linear_svr_test_accuracy])"
   ]
  },
  {
   "cell_type": "code",
   "execution_count": 19,
   "metadata": {},
   "outputs": [
    {
     "data": {
      "text/html": [
       "<div>\n",
       "<style>\n",
       "    .dataframe thead tr:only-child th {\n",
       "        text-align: right;\n",
       "    }\n",
       "\n",
       "    .dataframe thead th {\n",
       "        text-align: left;\n",
       "    }\n",
       "\n",
       "    .dataframe tbody tr th {\n",
       "        vertical-align: top;\n",
       "    }\n",
       "</style>\n",
       "<table border=\"1\" class=\"dataframe\">\n",
       "  <thead>\n",
       "    <tr style=\"text-align: right;\">\n",
       "      <th></th>\n",
       "      <th>C</th>\n",
       "      <th>epsilon</th>\n",
       "      <th>loss</th>\n",
       "      <th>max_iter</th>\n",
       "    </tr>\n",
       "  </thead>\n",
       "  <tbody>\n",
       "    <tr>\n",
       "      <th>0</th>\n",
       "      <td>0.01</td>\n",
       "      <td>0.00</td>\n",
       "      <td>epsilon_insensitive</td>\n",
       "      <td>1000</td>\n",
       "    </tr>\n",
       "    <tr>\n",
       "      <th>1</th>\n",
       "      <td>0.01</td>\n",
       "      <td>0.00</td>\n",
       "      <td>epsilon_insensitive</td>\n",
       "      <td>10000</td>\n",
       "    </tr>\n",
       "    <tr>\n",
       "      <th>2</th>\n",
       "      <td>0.01</td>\n",
       "      <td>0.00</td>\n",
       "      <td>squared_epsilon_insensitive</td>\n",
       "      <td>1000</td>\n",
       "    </tr>\n",
       "    <tr>\n",
       "      <th>3</th>\n",
       "      <td>0.01</td>\n",
       "      <td>0.00</td>\n",
       "      <td>squared_epsilon_insensitive</td>\n",
       "      <td>10000</td>\n",
       "    </tr>\n",
       "    <tr>\n",
       "      <th>4</th>\n",
       "      <td>0.01</td>\n",
       "      <td>0.01</td>\n",
       "      <td>epsilon_insensitive</td>\n",
       "      <td>1000</td>\n",
       "    </tr>\n",
       "    <tr>\n",
       "      <th>5</th>\n",
       "      <td>0.01</td>\n",
       "      <td>0.01</td>\n",
       "      <td>epsilon_insensitive</td>\n",
       "      <td>10000</td>\n",
       "    </tr>\n",
       "    <tr>\n",
       "      <th>6</th>\n",
       "      <td>0.01</td>\n",
       "      <td>0.01</td>\n",
       "      <td>squared_epsilon_insensitive</td>\n",
       "      <td>1000</td>\n",
       "    </tr>\n",
       "    <tr>\n",
       "      <th>7</th>\n",
       "      <td>0.01</td>\n",
       "      <td>0.01</td>\n",
       "      <td>squared_epsilon_insensitive</td>\n",
       "      <td>10000</td>\n",
       "    </tr>\n",
       "    <tr>\n",
       "      <th>8</th>\n",
       "      <td>0.01</td>\n",
       "      <td>0.10</td>\n",
       "      <td>epsilon_insensitive</td>\n",
       "      <td>1000</td>\n",
       "    </tr>\n",
       "    <tr>\n",
       "      <th>9</th>\n",
       "      <td>0.01</td>\n",
       "      <td>0.10</td>\n",
       "      <td>epsilon_insensitive</td>\n",
       "      <td>10000</td>\n",
       "    </tr>\n",
       "    <tr>\n",
       "      <th>10</th>\n",
       "      <td>0.01</td>\n",
       "      <td>0.10</td>\n",
       "      <td>squared_epsilon_insensitive</td>\n",
       "      <td>1000</td>\n",
       "    </tr>\n",
       "    <tr>\n",
       "      <th>11</th>\n",
       "      <td>0.01</td>\n",
       "      <td>0.10</td>\n",
       "      <td>squared_epsilon_insensitive</td>\n",
       "      <td>10000</td>\n",
       "    </tr>\n",
       "    <tr>\n",
       "      <th>12</th>\n",
       "      <td>0.01</td>\n",
       "      <td>1.00</td>\n",
       "      <td>epsilon_insensitive</td>\n",
       "      <td>1000</td>\n",
       "    </tr>\n",
       "    <tr>\n",
       "      <th>13</th>\n",
       "      <td>0.01</td>\n",
       "      <td>1.00</td>\n",
       "      <td>epsilon_insensitive</td>\n",
       "      <td>10000</td>\n",
       "    </tr>\n",
       "    <tr>\n",
       "      <th>14</th>\n",
       "      <td>0.01</td>\n",
       "      <td>1.00</td>\n",
       "      <td>squared_epsilon_insensitive</td>\n",
       "      <td>1000</td>\n",
       "    </tr>\n",
       "    <tr>\n",
       "      <th>15</th>\n",
       "      <td>0.01</td>\n",
       "      <td>1.00</td>\n",
       "      <td>squared_epsilon_insensitive</td>\n",
       "      <td>10000</td>\n",
       "    </tr>\n",
       "    <tr>\n",
       "      <th>16</th>\n",
       "      <td>0.10</td>\n",
       "      <td>0.00</td>\n",
       "      <td>epsilon_insensitive</td>\n",
       "      <td>1000</td>\n",
       "    </tr>\n",
       "    <tr>\n",
       "      <th>17</th>\n",
       "      <td>0.10</td>\n",
       "      <td>0.00</td>\n",
       "      <td>epsilon_insensitive</td>\n",
       "      <td>10000</td>\n",
       "    </tr>\n",
       "    <tr>\n",
       "      <th>18</th>\n",
       "      <td>0.10</td>\n",
       "      <td>0.00</td>\n",
       "      <td>squared_epsilon_insensitive</td>\n",
       "      <td>1000</td>\n",
       "    </tr>\n",
       "    <tr>\n",
       "      <th>19</th>\n",
       "      <td>0.10</td>\n",
       "      <td>0.00</td>\n",
       "      <td>squared_epsilon_insensitive</td>\n",
       "      <td>10000</td>\n",
       "    </tr>\n",
       "    <tr>\n",
       "      <th>20</th>\n",
       "      <td>0.10</td>\n",
       "      <td>0.01</td>\n",
       "      <td>epsilon_insensitive</td>\n",
       "      <td>1000</td>\n",
       "    </tr>\n",
       "    <tr>\n",
       "      <th>21</th>\n",
       "      <td>0.10</td>\n",
       "      <td>0.01</td>\n",
       "      <td>epsilon_insensitive</td>\n",
       "      <td>10000</td>\n",
       "    </tr>\n",
       "    <tr>\n",
       "      <th>22</th>\n",
       "      <td>0.10</td>\n",
       "      <td>0.01</td>\n",
       "      <td>squared_epsilon_insensitive</td>\n",
       "      <td>1000</td>\n",
       "    </tr>\n",
       "    <tr>\n",
       "      <th>23</th>\n",
       "      <td>0.10</td>\n",
       "      <td>0.01</td>\n",
       "      <td>squared_epsilon_insensitive</td>\n",
       "      <td>10000</td>\n",
       "    </tr>\n",
       "    <tr>\n",
       "      <th>24</th>\n",
       "      <td>0.10</td>\n",
       "      <td>0.10</td>\n",
       "      <td>epsilon_insensitive</td>\n",
       "      <td>1000</td>\n",
       "    </tr>\n",
       "    <tr>\n",
       "      <th>25</th>\n",
       "      <td>0.10</td>\n",
       "      <td>0.10</td>\n",
       "      <td>epsilon_insensitive</td>\n",
       "      <td>10000</td>\n",
       "    </tr>\n",
       "    <tr>\n",
       "      <th>26</th>\n",
       "      <td>0.10</td>\n",
       "      <td>0.10</td>\n",
       "      <td>squared_epsilon_insensitive</td>\n",
       "      <td>1000</td>\n",
       "    </tr>\n",
       "    <tr>\n",
       "      <th>27</th>\n",
       "      <td>0.10</td>\n",
       "      <td>0.10</td>\n",
       "      <td>squared_epsilon_insensitive</td>\n",
       "      <td>10000</td>\n",
       "    </tr>\n",
       "    <tr>\n",
       "      <th>28</th>\n",
       "      <td>0.10</td>\n",
       "      <td>1.00</td>\n",
       "      <td>epsilon_insensitive</td>\n",
       "      <td>1000</td>\n",
       "    </tr>\n",
       "    <tr>\n",
       "      <th>29</th>\n",
       "      <td>0.10</td>\n",
       "      <td>1.00</td>\n",
       "      <td>epsilon_insensitive</td>\n",
       "      <td>10000</td>\n",
       "    </tr>\n",
       "    <tr>\n",
       "      <th>30</th>\n",
       "      <td>0.10</td>\n",
       "      <td>1.00</td>\n",
       "      <td>squared_epsilon_insensitive</td>\n",
       "      <td>1000</td>\n",
       "    </tr>\n",
       "    <tr>\n",
       "      <th>31</th>\n",
       "      <td>0.10</td>\n",
       "      <td>1.00</td>\n",
       "      <td>squared_epsilon_insensitive</td>\n",
       "      <td>10000</td>\n",
       "    </tr>\n",
       "    <tr>\n",
       "      <th>32</th>\n",
       "      <td>1.00</td>\n",
       "      <td>0.00</td>\n",
       "      <td>epsilon_insensitive</td>\n",
       "      <td>1000</td>\n",
       "    </tr>\n",
       "    <tr>\n",
       "      <th>33</th>\n",
       "      <td>1.00</td>\n",
       "      <td>0.00</td>\n",
       "      <td>epsilon_insensitive</td>\n",
       "      <td>10000</td>\n",
       "    </tr>\n",
       "    <tr>\n",
       "      <th>34</th>\n",
       "      <td>1.00</td>\n",
       "      <td>0.00</td>\n",
       "      <td>squared_epsilon_insensitive</td>\n",
       "      <td>1000</td>\n",
       "    </tr>\n",
       "    <tr>\n",
       "      <th>35</th>\n",
       "      <td>1.00</td>\n",
       "      <td>0.00</td>\n",
       "      <td>squared_epsilon_insensitive</td>\n",
       "      <td>10000</td>\n",
       "    </tr>\n",
       "    <tr>\n",
       "      <th>36</th>\n",
       "      <td>1.00</td>\n",
       "      <td>0.01</td>\n",
       "      <td>epsilon_insensitive</td>\n",
       "      <td>1000</td>\n",
       "    </tr>\n",
       "    <tr>\n",
       "      <th>37</th>\n",
       "      <td>1.00</td>\n",
       "      <td>0.01</td>\n",
       "      <td>epsilon_insensitive</td>\n",
       "      <td>10000</td>\n",
       "    </tr>\n",
       "    <tr>\n",
       "      <th>38</th>\n",
       "      <td>1.00</td>\n",
       "      <td>0.01</td>\n",
       "      <td>squared_epsilon_insensitive</td>\n",
       "      <td>1000</td>\n",
       "    </tr>\n",
       "    <tr>\n",
       "      <th>39</th>\n",
       "      <td>1.00</td>\n",
       "      <td>0.01</td>\n",
       "      <td>squared_epsilon_insensitive</td>\n",
       "      <td>10000</td>\n",
       "    </tr>\n",
       "    <tr>\n",
       "      <th>40</th>\n",
       "      <td>1.00</td>\n",
       "      <td>0.10</td>\n",
       "      <td>epsilon_insensitive</td>\n",
       "      <td>1000</td>\n",
       "    </tr>\n",
       "    <tr>\n",
       "      <th>41</th>\n",
       "      <td>1.00</td>\n",
       "      <td>0.10</td>\n",
       "      <td>epsilon_insensitive</td>\n",
       "      <td>10000</td>\n",
       "    </tr>\n",
       "    <tr>\n",
       "      <th>42</th>\n",
       "      <td>1.00</td>\n",
       "      <td>0.10</td>\n",
       "      <td>squared_epsilon_insensitive</td>\n",
       "      <td>1000</td>\n",
       "    </tr>\n",
       "    <tr>\n",
       "      <th>43</th>\n",
       "      <td>1.00</td>\n",
       "      <td>0.10</td>\n",
       "      <td>squared_epsilon_insensitive</td>\n",
       "      <td>10000</td>\n",
       "    </tr>\n",
       "    <tr>\n",
       "      <th>44</th>\n",
       "      <td>1.00</td>\n",
       "      <td>1.00</td>\n",
       "      <td>epsilon_insensitive</td>\n",
       "      <td>1000</td>\n",
       "    </tr>\n",
       "    <tr>\n",
       "      <th>45</th>\n",
       "      <td>1.00</td>\n",
       "      <td>1.00</td>\n",
       "      <td>epsilon_insensitive</td>\n",
       "      <td>10000</td>\n",
       "    </tr>\n",
       "    <tr>\n",
       "      <th>46</th>\n",
       "      <td>1.00</td>\n",
       "      <td>1.00</td>\n",
       "      <td>squared_epsilon_insensitive</td>\n",
       "      <td>1000</td>\n",
       "    </tr>\n",
       "    <tr>\n",
       "      <th>47</th>\n",
       "      <td>1.00</td>\n",
       "      <td>1.00</td>\n",
       "      <td>squared_epsilon_insensitive</td>\n",
       "      <td>10000</td>\n",
       "    </tr>\n",
       "  </tbody>\n",
       "</table>\n",
       "</div>"
      ],
      "text/plain": [
       "       C  epsilon                         loss  max_iter\n",
       "0   0.01     0.00          epsilon_insensitive      1000\n",
       "1   0.01     0.00          epsilon_insensitive     10000\n",
       "2   0.01     0.00  squared_epsilon_insensitive      1000\n",
       "3   0.01     0.00  squared_epsilon_insensitive     10000\n",
       "4   0.01     0.01          epsilon_insensitive      1000\n",
       "5   0.01     0.01          epsilon_insensitive     10000\n",
       "6   0.01     0.01  squared_epsilon_insensitive      1000\n",
       "7   0.01     0.01  squared_epsilon_insensitive     10000\n",
       "8   0.01     0.10          epsilon_insensitive      1000\n",
       "9   0.01     0.10          epsilon_insensitive     10000\n",
       "10  0.01     0.10  squared_epsilon_insensitive      1000\n",
       "11  0.01     0.10  squared_epsilon_insensitive     10000\n",
       "12  0.01     1.00          epsilon_insensitive      1000\n",
       "13  0.01     1.00          epsilon_insensitive     10000\n",
       "14  0.01     1.00  squared_epsilon_insensitive      1000\n",
       "15  0.01     1.00  squared_epsilon_insensitive     10000\n",
       "16  0.10     0.00          epsilon_insensitive      1000\n",
       "17  0.10     0.00          epsilon_insensitive     10000\n",
       "18  0.10     0.00  squared_epsilon_insensitive      1000\n",
       "19  0.10     0.00  squared_epsilon_insensitive     10000\n",
       "20  0.10     0.01          epsilon_insensitive      1000\n",
       "21  0.10     0.01          epsilon_insensitive     10000\n",
       "22  0.10     0.01  squared_epsilon_insensitive      1000\n",
       "23  0.10     0.01  squared_epsilon_insensitive     10000\n",
       "24  0.10     0.10          epsilon_insensitive      1000\n",
       "25  0.10     0.10          epsilon_insensitive     10000\n",
       "26  0.10     0.10  squared_epsilon_insensitive      1000\n",
       "27  0.10     0.10  squared_epsilon_insensitive     10000\n",
       "28  0.10     1.00          epsilon_insensitive      1000\n",
       "29  0.10     1.00          epsilon_insensitive     10000\n",
       "30  0.10     1.00  squared_epsilon_insensitive      1000\n",
       "31  0.10     1.00  squared_epsilon_insensitive     10000\n",
       "32  1.00     0.00          epsilon_insensitive      1000\n",
       "33  1.00     0.00          epsilon_insensitive     10000\n",
       "34  1.00     0.00  squared_epsilon_insensitive      1000\n",
       "35  1.00     0.00  squared_epsilon_insensitive     10000\n",
       "36  1.00     0.01          epsilon_insensitive      1000\n",
       "37  1.00     0.01          epsilon_insensitive     10000\n",
       "38  1.00     0.01  squared_epsilon_insensitive      1000\n",
       "39  1.00     0.01  squared_epsilon_insensitive     10000\n",
       "40  1.00     0.10          epsilon_insensitive      1000\n",
       "41  1.00     0.10          epsilon_insensitive     10000\n",
       "42  1.00     0.10  squared_epsilon_insensitive      1000\n",
       "43  1.00     0.10  squared_epsilon_insensitive     10000\n",
       "44  1.00     1.00          epsilon_insensitive      1000\n",
       "45  1.00     1.00          epsilon_insensitive     10000\n",
       "46  1.00     1.00  squared_epsilon_insensitive      1000\n",
       "47  1.00     1.00  squared_epsilon_insensitive     10000"
      ]
     },
     "execution_count": 19,
     "metadata": {},
     "output_type": "execute_result"
    },
    {
     "data": {
      "image/png": "[encoded data removed]",
      "text/plain": [
       "<matplotlib.figure.Figure at 0x7fd4dc093160>"
      ]
     },
     "metadata": {},
     "output_type": "display_data"
    }
   ],
   "source": [
    "plt.plot(np.arange(0, len(grid_linear_svr.cv_results_['mean_test_score'])), grid_linear_svr.cv_results_['mean_test_score'], '--', label = 'Mean Train Score')\n",
    "plt.plot(np.arange(0, len(grid_linear_svr.cv_results_['mean_train_score'])), grid_linear_svr.cv_results_['mean_train_score'], '-', label = 'Mean Validation Score')\n",
    "plt.legend()\n",
    "plt.grid(True)\n",
    "plt.xlabel('Hyperparameter combination')\n",
    "plt.ylabel('Accuracy')\n",
    "plt.title('SVR Simple CV Results')\n",
    "pd.DataFrame(grid_linear_svr.cv_results_['params'])"
   ]
  },
  {
   "cell_type": "markdown",
   "metadata": {},
   "source": [
    "# SVR kernel= 'linear'"
   ]
  },
  {
   "cell_type": "code",
   "execution_count": 29,
   "metadata": {},
   "outputs": [
    {
     "name": "stdout",
     "output_type": "stream",
     "text": [
      "Best Parameters : {'C': 1, 'epsilon': 0}\n",
      "Best CV score   : 0.259\n"
     ]
    }
   ],
   "source": [
    "from sklearn.svm import SVR\n",
    "\n",
    "model1 = (SVR(kernel='linear'))\n",
    "\n",
    "param_grid = {'C': c_range, 'epsilon': e_range}\n",
    "grid_svr_l = GridSearchCV(model1, param_grid, cv=5, n_jobs= -1)\n",
    "grid_svr_l.fit(X_train, y_train)\n",
    "\n",
    "print(\"Best Parameters : {}\".format(grid_svr_l.best_params_))\n",
    "print(\"Best CV score   : {}\".format('%.3f'% grid_svr_l.best_score_))"
   ]
  },
  {
   "cell_type": "code",
   "execution_count": 30,
   "metadata": {},
   "outputs": [
    {
     "name": "stdout",
     "output_type": "stream",
     "text": [
      "SVR_kernel_linear - Train Accuracy: 0.287\n",
      "SVR_kernel_linear - Test Accuracy: 0.314 \n"
     ]
    }
   ],
   "source": [
    "svr_l_train_accuracy = grid_svr_l.best_estimator_.score(X_train, y_train)\n",
    "svr_l_test_accuracy  = grid_svr_l.best_estimator_.score(X_test, y_test)\n",
    "\n",
    "print('SVR_kernel_linear - Train Accuracy: %.3f'%svr_l_train_accuracy)\n",
    "print('SVR_kernel_linear - Test Accuracy: %.3f '%svr_l_test_accuracy)\n",
    "\n",
    "table.append(['SVR kernel = Linear', grid_svr_l.best_params_, svr_l_train_accuracy, svr_l_test_accuracy])"
   ]
  },
  {
   "cell_type": "code",
   "execution_count": 31,
   "metadata": {},
   "outputs": [
    {
     "data": {
      "text/html": [
       "<div>\n",
       "<style>\n",
       "    .dataframe thead tr:only-child th {\n",
       "        text-align: right;\n",
       "    }\n",
       "\n",
       "    .dataframe thead th {\n",
       "        text-align: left;\n",
       "    }\n",
       "\n",
       "    .dataframe tbody tr th {\n",
       "        vertical-align: top;\n",
       "    }\n",
       "</style>\n",
       "<table border=\"1\" class=\"dataframe\">\n",
       "  <thead>\n",
       "    <tr style=\"text-align: right;\">\n",
       "      <th></th>\n",
       "      <th>C</th>\n",
       "      <th>epsilon</th>\n",
       "    </tr>\n",
       "  </thead>\n",
       "  <tbody>\n",
       "    <tr>\n",
       "      <th>0</th>\n",
       "      <td>0.01</td>\n",
       "      <td>0.00</td>\n",
       "    </tr>\n",
       "    <tr>\n",
       "      <th>1</th>\n",
       "      <td>0.01</td>\n",
       "      <td>0.01</td>\n",
       "    </tr>\n",
       "    <tr>\n",
       "      <th>2</th>\n",
       "      <td>0.01</td>\n",
       "      <td>0.10</td>\n",
       "    </tr>\n",
       "    <tr>\n",
       "      <th>3</th>\n",
       "      <td>0.01</td>\n",
       "      <td>1.00</td>\n",
       "    </tr>\n",
       "    <tr>\n",
       "      <th>4</th>\n",
       "      <td>0.10</td>\n",
       "      <td>0.00</td>\n",
       "    </tr>\n",
       "    <tr>\n",
       "      <th>5</th>\n",
       "      <td>0.10</td>\n",
       "      <td>0.01</td>\n",
       "    </tr>\n",
       "    <tr>\n",
       "      <th>6</th>\n",
       "      <td>0.10</td>\n",
       "      <td>0.10</td>\n",
       "    </tr>\n",
       "    <tr>\n",
       "      <th>7</th>\n",
       "      <td>0.10</td>\n",
       "      <td>1.00</td>\n",
       "    </tr>\n",
       "    <tr>\n",
       "      <th>8</th>\n",
       "      <td>1.00</td>\n",
       "      <td>0.00</td>\n",
       "    </tr>\n",
       "    <tr>\n",
       "      <th>9</th>\n",
       "      <td>1.00</td>\n",
       "      <td>0.01</td>\n",
       "    </tr>\n",
       "    <tr>\n",
       "      <th>10</th>\n",
       "      <td>1.00</td>\n",
       "      <td>0.10</td>\n",
       "    </tr>\n",
       "    <tr>\n",
       "      <th>11</th>\n",
       "      <td>1.00</td>\n",
       "      <td>1.00</td>\n",
       "    </tr>\n",
       "  </tbody>\n",
       "</table>\n",
       "</div>"
      ],
      "text/plain": [
       "       C  epsilon\n",
       "0   0.01  0.00   \n",
       "1   0.01  0.01   \n",
       "2   0.01  0.10   \n",
       "3   0.01  1.00   \n",
       "4   0.10  0.00   \n",
       "5   0.10  0.01   \n",
       "6   0.10  0.10   \n",
       "7   0.10  1.00   \n",
       "8   1.00  0.00   \n",
       "9   1.00  0.01   \n",
       "10  1.00  0.10   \n",
       "11  1.00  1.00   "
      ]
     },
     "execution_count": 31,
     "metadata": {},
     "output_type": "execute_result"
    },
    {
     "data": {
      "image/png": "[encoded data removed]",
      "text/plain": [
       "<matplotlib.figure.Figure at 0x7fd4e27ddac8>"
      ]
     },
     "metadata": {},
     "output_type": "display_data"
    }
   ],
   "source": [
    "plt.plot(np.arange(0, len(grid_svr_l.cv_results_['mean_test_score'])), grid_svr_l.cv_results_['mean_test_score'], '--', label = 'Mean Train Score')\n",
    "plt.plot(np.arange(0, len(grid_svr_l.cv_results_['mean_train_score'])), grid_svr_l.cv_results_['mean_train_score'], '-', label = 'Mean Validation Score')\n",
    "plt.legend()\n",
    "plt.grid(True)\n",
    "plt.xlabel('Hyperparameter combination')\n",
    "plt.ylabel('Accuracy')\n",
    "plt.title('SVR Kernel Linear CV Results')\n",
    "pd.DataFrame(grid_svr_l.cv_results_['params'])"
   ]
  },
  {
   "cell_type": "markdown",
   "metadata": {},
   "source": [
    "# SVR kernel = 'rbf'"
   ]
  },
  {
   "cell_type": "code",
   "execution_count": 32,
   "metadata": {},
   "outputs": [
    {
     "name": "stdout",
     "output_type": "stream",
     "text": [
      "Best Parameters : {'C': 1, 'epsilon': 1, 'gamma': 0.01, 'shrinking': False}\n",
      "Best CV score   : 0.070\n"
     ]
    }
   ],
   "source": [
    "model2 = (SVR(kernel='rbf'))\n",
    "\n",
    "param_grid = {'C': c_range, 'epsilon': e_range, 'gamma': [10**-2, 10**-3], 'shrinking': [True, False] }\n",
    "grid_svr_rbf = GridSearchCV(model2, param_grid, cv=5, n_jobs= -1)\n",
    "grid_svr_rbf.fit(X_train_ss, y_train)\n",
    "\n",
    "print(\"Best Parameters : {}\".format(grid_svr_rbf.best_params_))\n",
    "print(\"Best CV score   : {}\".format('%.3f'% grid_svr_rbf.best_score_))"
   ]
  },
  {
   "cell_type": "code",
   "execution_count": 33,
   "metadata": {},
   "outputs": [
    {
     "name": "stdout",
     "output_type": "stream",
     "text": [
      "SVR_RBF - Train Accuracy: 0.063\n",
      "SVR_RBF - Test Accuracy: 0.071 \n"
     ]
    }
   ],
   "source": [
    "svr_rbf_train_accuracy = grid_svr_rbf.best_estimator_.score(X_train_ss, y_train)\n",
    "svr_rbf_test_accuracy  = grid_svr_rbf.best_estimator_.score(X_test_ss, y_test)\n",
    "\n",
    "print('SVR_RBF - Train Accuracy: %.3f'%svr_rbf_train_accuracy)\n",
    "print('SVR_RBF - Test Accuracy: %.3f '%svr_rbf_test_accuracy)\n",
    "\n",
    "table.append(['SVR kernel = rbf', grid_svr_rbf.best_params_, svr_rbf_train_accuracy, svr_rbf_test_accuracy])"
   ]
  },
  {
   "cell_type": "markdown",
   "metadata": {},
   "source": [
    "# SVR kernel = 'poly'"
   ]
  },
  {
   "cell_type": "code",
   "execution_count": 34,
   "metadata": {},
   "outputs": [
    {
     "name": "stdout",
     "output_type": "stream",
     "text": [
      "Best Parameters : {'C': 1, 'degree': 1, 'epsilon': 0.01}\n",
      "Best CV score   : -0.077\n"
     ]
    }
   ],
   "source": [
    "model3 = (SVR(kernel='poly'))\n",
    "\n",
    "param_grid = {'C': c_range, 'epsilon': e_range, 'degree': [1, 2, 3]}\n",
    "grid_svr_poly = GridSearchCV(model3, param_grid, cv=5, n_jobs= -1)\n",
    "grid_svr_poly.fit(X_train, y_train)\n",
    "\n",
    "print(\"Best Parameters : {}\".format(grid_svr_poly.best_params_))\n",
    "print(\"Best CV score   : {}\".format('%.3f'% grid_svr_poly.best_score_))"
   ]
  },
  {
   "cell_type": "code",
   "execution_count": 35,
   "metadata": {},
   "outputs": [
    {
     "name": "stdout",
     "output_type": "stream",
     "text": [
      "SVR_poly - Train Accuracy: -0.056\n",
      "SVR_poly - Test Accuracy: -0.082 \n"
     ]
    }
   ],
   "source": [
    "svr_poly_train_accuracy = grid_svr_poly.best_estimator_.score(X_train, y_train)\n",
    "svr_poly_test_accuracy  = grid_svr_poly.best_estimator_.score(X_test, y_test)\n",
    "\n",
    "print('SVR_poly - Train Accuracy: %.3f'%svr_poly_train_accuracy)\n",
    "print('SVR_poly - Test Accuracy: %.3f '%svr_poly_test_accuracy)\n",
    "\n",
    "table.append(['SVR kernel = poly', grid_svr_poly.best_params_, svr_poly_train_accuracy, svr_poly_test_accuracy])"
   ]
  },
  {
   "cell_type": "markdown",
   "metadata": {},
   "source": [
    "# Polynomial Regression\n",
    "We run a linear model after exponentially transforming the feature set. However this model performed poorly when using the 2nd and 3rd degree transformations of the feature set and was computationally demanding (impossible with available memory) to check higher degrees."
   ]
  },
  {
   "cell_type": "code",
   "execution_count": 21,
   "metadata": {},
   "outputs": [
    {
     "name": "stdout",
     "output_type": "stream",
     "text": [
      "Best parameters: {'polynomialfeatures__degree': 2}\n",
      "Best cross-validation score: -0.08\n"
     ]
    }
   ],
   "source": [
    "from sklearn.pipeline import make_pipeline\n",
    "from sklearn.preprocessing  import PolynomialFeatures\n",
    "def PolynomialRegression(degree=2, **kwargs):\n",
    "    return make_pipeline(PolynomialFeatures(degree),\n",
    "                         LinearRegression(**kwargs))\n",
    "\n",
    "param_grid = {'polynomialfeatures__degree': np.arange(2,3)}\n",
    "\n",
    "grid_polyreg = GridSearchCV(PolynomialRegression(), param_grid, cv=5, n_jobs = -1)\n",
    "\n",
    "grid_polyreg.fit(X_train, y_train)\n",
    "print(\"Best parameters: {}\".format(grid_polyreg.best_params_))\n",
    "print(\"Best cross-validation score: {:.2f}\".format(grid_polyreg.best_score_))"
   ]
  },
  {
   "cell_type": "code",
   "execution_count": 22,
   "metadata": {},
   "outputs": [
    {
     "name": "stdout",
     "output_type": "stream",
     "text": [
      "Polynomial Regression - Train Accuracy: 0.982\n",
      "Polynomial Regression - Test Accuracy: 0.096 \n"
     ]
    }
   ],
   "source": [
    "polyreg_train_accuracy = grid_polyreg.best_estimator_.score(X_train, y_train)\n",
    "polyreg_test_accuracy = grid_polyreg.best_estimator_.score(X_test, y_test)\n",
    "\n",
    "print('Polynomial Regression - Train Accuracy: %.3f'%polyreg_train_accuracy)\n",
    "print('Polynomial Regression - Test Accuracy: %.3f '%polyreg_test_accuracy)\n",
    "table.append(['Polynomial Regression', grid_polyreg.best_params_, polyreg_train_accuracy, polyreg_test_accuracy])"
   ]
  },
  {
   "cell_type": "markdown",
   "metadata": {},
   "source": [
    "# Train Test Score Comparison (10% stratified data)"
   ]
  },
  {
   "cell_type": "code",
   "execution_count": 36,
   "metadata": {},
   "outputs": [
    {
     "data": {
      "text/html": [
       "<div>\n",
       "<style>\n",
       "    .dataframe thead tr:only-child th {\n",
       "        text-align: right;\n",
       "    }\n",
       "\n",
       "    .dataframe thead th {\n",
       "        text-align: left;\n",
       "    }\n",
       "\n",
       "    .dataframe tbody tr th {\n",
       "        vertical-align: top;\n",
       "    }\n",
       "</style>\n",
       "<table border=\"1\" class=\"dataframe\">\n",
       "  <thead>\n",
       "    <tr style=\"text-align: right;\">\n",
       "      <th></th>\n",
       "      <th>Model</th>\n",
       "      <th>Parameters</th>\n",
       "      <th>Training_Accuracy</th>\n",
       "      <th>Test_Accuracy</th>\n",
       "    </tr>\n",
       "  </thead>\n",
       "  <tbody>\n",
       "    <tr>\n",
       "      <th>2</th>\n",
       "      <td>Ridge</td>\n",
       "      <td>{'alpha': 0.001, 'fit_intercept': True, 'normalize': True}</td>\n",
       "      <td>0.959970</td>\n",
       "      <td>0.954431</td>\n",
       "    </tr>\n",
       "    <tr>\n",
       "      <th>0</th>\n",
       "      <td>Linear Regression</td>\n",
       "      <td>{}</td>\n",
       "      <td>0.960391</td>\n",
       "      <td>0.954325</td>\n",
       "    </tr>\n",
       "    <tr>\n",
       "      <th>3</th>\n",
       "      <td>LASSO</td>\n",
       "      <td>{'alpha': 0.001, 'max_iter': 1000, 'selection': 'cyclic'}</td>\n",
       "      <td>0.959941</td>\n",
       "      <td>0.954053</td>\n",
       "    </tr>\n",
       "    <tr>\n",
       "      <th>4</th>\n",
       "      <td>SVR Simple</td>\n",
       "      <td>{'C': 1, 'epsilon': 0, 'loss': 'squared_epsilon_insensitive', 'max_iter': 10000}</td>\n",
       "      <td>0.958311</td>\n",
       "      <td>0.952182</td>\n",
       "    </tr>\n",
       "    <tr>\n",
       "      <th>1</th>\n",
       "      <td>KN Regression</td>\n",
       "      <td>{'n_neighbors': 3}</td>\n",
       "      <td>0.958155</td>\n",
       "      <td>0.927733</td>\n",
       "    </tr>\n",
       "    <tr>\n",
       "    <tr>\n",
       "      <th>9</th>\n",
       "      <td>SGD</td>\n",
       "      <td>{'max_iter': 100000,'penalty': 'l2}</td>\n",
       "      <td>0.947808</td>\n",
       "      <td>0.916282</td>\n",
       "     </tr>\n",
       "      <th>6</th>\n",
       "      <td>SVR kernel = Linear</td>\n",
       "      <td>{'C': 1, 'epsilon': 0}</td>\n",
       "      <td>0.287069</td>\n",
       "      <td>0.313899</td>\n",
       "    </tr>\n",
       "    <tr>\n",
       "      <th>5</th>\n",
       "      <td>Polynomial Regression</td>\n",
       "      <td>{'polynomialfeatures__degree': 2}</td>\n",
       "      <td>0.982402</td>\n",
       "      <td>0.096465</td>\n",
       "    </tr>\n",
       "    <tr>\n",
       "      <th>7</th>\n",
       "      <td>SVR kernel = rbf</td>\n",
       "      <td>{'C': 1, 'epsilon': 1, 'gamma': 0.01, 'shrinking': False}</td>\n",
       "      <td>0.062719</td>\n",
       "      <td>0.070505</td>\n",
       "    </tr>\n",
       "    <tr>\n",
       "      <th>8</th>\n",
       "      <td>SVR kernel = poly</td>\n",
       "      <td>{'C': 1, 'degree': 1, 'epsilon': 0.01}</td>\n",
       "      <td>-0.056494</td>\n",
       "      <td>-0.082018</td>\n",
       "    </tr>\n",
       "  </tbody>\n",
       "</table>\n",
       "</div>"
      ],
      "text/plain": [
       "                   Model  \\\n",
       "2  Ridge                   \n",
       "0  Linear Regression       \n",
       "3  LASSO                   \n",
       "4  SVR Simple              \n",
       "1  KN Regression           \n",
       "9  SGD                     \n",
       "6  SVR kernel = Linear     \n",
       "5  Polynomial Regression   \n",
       "7  SVR kernel = rbf        \n",
       "8  SVR kernel = poly       \n",
       "\n",
       "                                                                         Parameters  \\\n",
       "2  {'alpha': 0.001, 'fit_intercept': True, 'normalize': True}                         \n",
       "0  {}                                                                                 \n",
       "3  {'alpha': 0.001, 'max_iter': 1000, 'selection': 'cyclic'}                          \n",
       "4  {'C': 1, 'epsilon': 0, 'loss': 'squared_epsilon_insensitive', 'max_iter': 10000}   \n",
       "1  {'n_neighbors': 3}                                                                 \n",
       "9  {'max_iter': 100000,'penalty': 'l2}                                                \n",
       "6  {'C': 1, 'epsilon': 0}                                                             \n",
       "5  {'polynomialfeatures__degree': 2}                                                  \n",
       "7  {'C': 1, 'epsilon': 1, 'gamma': 0.01, 'shrinking': False}                          \n",
       "8  {'C': 1, 'degree': 1, 'epsilon': 0.01}                                             \n",
       "\n",
       "   Training_Accuracy  Test_Accuracy  \n",
       "2  0.959970           0.954431       \n",
       "0  0.960391           0.954325       \n",
       "3  0.959941           0.954053       \n",
       "4  0.958311           0.952182       \n",
       "1  0.958155           0.927733       \n",
       "9  0.947808           0.916282       \n",
       "6  0.287069           0.313899       \n",
       "5  0.982402           0.096465       \n",
       "7  0.062719           0.070505       \n",
       "8 -0.056494          -0.082018       "
      ]
     },
     "execution_count": 36,
     "metadata": {},
     "output_type": "execute_result"
    }
   ],
   "source": [
    "pd.set_option('display.max_colwidth', 0)\n",
    "final_table = pd.DataFrame(table, columns= ['Model', 'Parameters', 'Training_Accuracy', 'Test_Accuracy'])\n",
    "final_table.sort_values('Test_Accuracy', ascending = False)"
   ]
  },
  {
   "cell_type": "markdown",
   "metadata": {},
   "source": [
    "# Applying best regressors on complete dataset\n",
    "### Ridge, LASSO & Linear"
   ]
  },
  {
   "cell_type": "code",
   "execution_count": 37,
   "metadata": {
    "collapsed": true
   },
   "outputs": [],
   "source": [
    "X_train_2, X_test_2, y_train_f, y_test_f = train_test_split(df.iloc[:, 0:77], df.iloc[:, -1], random_state = 0, test_size = 0.2)"
   ]
  },
  {
   "cell_type": "code",
   "execution_count": 38,
   "metadata": {
    "collapsed": true
   },
   "outputs": [],
   "source": [
    "scaler = MinMaxScaler()\n",
    "X_train_f = pd.DataFrame(scaler.fit_transform(X_train_2))\n",
    "X_test_f = pd.DataFrame(scaler.transform(X_test_2))"
   ]
  },
  {
   "cell_type": "code",
   "execution_count": 41,
   "metadata": {},
   "outputs": [],
   "source": [
    "ridge_final = Ridge(alpha= 0.001, fit_intercept= True, normalize= True)\n",
    "ridge_final.fit(X_train_f, y_train_f)\n",
    "ridge_final_train_score = ridge_final.score(X_train_f, y_train_f)\n",
    "ridge_final_test_score = ridge_final.score(X_test_f, y_test_f)"
   ]
  },
  {
   "cell_type": "code",
   "execution_count": 55,
   "metadata": {},
   "outputs": [
    {
     "name": "stdout",
     "output_type": "stream",
     "text": [
      "Ridge Final : Train Accuracy: 0.932\n",
      "Ridge Final : Test Accuracy: 0.948 \n"
     ]
    }
   ],
   "source": [
    "print('Ridge Final : Train Accuracy: %.3f'%ridge_final_train_score)\n",
    "print('Ridge Final : Test Accuracy: %.3f '%ridge_final_test_score)"
   ]
  },
  {
   "cell_type": "code",
   "execution_count": 47,
   "metadata": {
    "collapsed": true
   },
   "outputs": [],
   "source": [
    "lasso_final = Lasso(alpha= 0.01, max_iter= 1000, selection= 'cyclic')\n",
    "lasso_final.fit(X_train_f, y_train_f)\n",
    "lasso_final_train_score = lasso_final.score(X_train_f, y_train_f)\n",
    "lasso_final_test_score = lasso_final.score(X_test_f, y_test_f)"
   ]
  },
  {
   "cell_type": "code",
   "execution_count": 56,
   "metadata": {},
   "outputs": [
    {
     "name": "stdout",
     "output_type": "stream",
     "text": [
      "SVR_poly - Train Accuracy: 0.931\n",
      "SVR_poly - Test Accuracy: 0.946 \n"
     ]
    }
   ],
   "source": [
    "print('Lasso Final : Train Accuracy: %.3f'%lasso_final_train_score)\n",
    "print('Lasso Final : Test Accuracy: %.3f '%lasso_final_test_score)"
   ]
  },
  {
   "cell_type": "code",
   "execution_count": 53,
   "metadata": {
    "collapsed": true
   },
   "outputs": [],
   "source": [
    "lreg_final = LinearRegression()\n",
    "lreg_final.fit(X_train_f, y_train_f)\n",
    "lreg_final_train_score = lreg_final.score(X_train_f, y_train_f)\n",
    "lreg_final_test_score = lreg_final.score(X_test_f, y_test_f)"
   ]
  },
  {
   "cell_type": "code",
   "execution_count": 58,
   "metadata": {},
   "outputs": [
    {
     "name": "stdout",
     "output_type": "stream",
     "text": [
      "Linear Regression Final : Train Accuracy: 0.931\n",
      "Linear Regression Final : Test Accuracy: 0.946 \n"
     ]
    }
   ],
   "source": [
    "print('Linear Regression Final : Train Accuracy: %.3f'%lasso_final_train_score)\n",
    "print('Linear Regression Final : Test Accuracy: %.3f '%lasso_final_test_score)"
   ]
  },
  {
   "cell_type": "markdown",
   "metadata": {},
   "source": [
    "In our analysis Linear regression, Ridge and LASSO have produced the highest accuracy to predict the dependent variable (Annotation).\n",
    "The scores of these three models are very close. In the current run, Linear Regression has the highest score on full dataset. However since Random state is not mentioned, consecutive runs may provide different results."
   ]
  }
 ],
 "metadata": {
  "kernelspec": {
   "display_name": "Python 3",
   "language": "python",
   "name": "python3"
  },
  "language_info": {
   "codemirror_mode": {
    "name": "ipython",
    "version": 3
   },
   "file_extension": ".py",
   "mimetype": "text/x-python",
   "name": "python",
   "nbconvert_exporter": "python",
   "pygments_lexer": "ipython3",
   "version": "3.7.0"
  }
 },
 "nbformat": 4,
 "nbformat_minor": 2
}
